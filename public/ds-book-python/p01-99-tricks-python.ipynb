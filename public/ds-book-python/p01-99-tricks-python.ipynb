{
 "cells": [
  {
   "cell_type": "markdown",
   "metadata": {},
   "source": [
    "# Các mẹo trong Python"
   ]
  },
  {
   "cell_type": "markdown",
   "metadata": {},
   "source": [
    "## Câu lệnh trong điều kiện\n",
    "\n",
    "Trong python, các câu lệnh điều kiện if...else có thể viết ngắn gọn và đơn giản như sau:"
   ]
  },
  {
   "cell_type": "markdown",
   "metadata": {},
   "source": [
    "```python\n",
    "# Don't\n",
    "def factorial(n):\n",
    "  if n == 0:\n",
    "    return 1\n",
    "  else:\n",
    "    return n * factorial(n-1)\n",
    "\n",
    "# Do\n",
    "def factorial(n):\n",
    "  return 1 if n == 0 else n * factorial(n-1)\n",
    "```"
   ]
  },
  {
   "cell_type": "markdown",
   "metadata": {},
   "source": [
    "Ví dụ 2"
   ]
  },
  {
   "cell_type": "markdown",
   "metadata": {},
   "source": [
    "```python\n",
    "# Dont\n",
    "def __init__(self, name, contents=None):\n",
    "  self.name = name\n",
    "  if contents == None:\n",
    "    contents = []\n",
    "  self.pouch_contents = contents\n",
    "# Do\n",
    "def __init__(self, name, contents = None):\n",
    "  self.name = name\n",
    "  self.pouch_contents = [] if contents = None else contents\n",
    "```"
   ]
  },
  {
   "cell_type": "markdown",
   "metadata": {},
   "source": [
    "## Any vs All\n",
    "\n",
    "Hàm `any` trong trong python cho phép trả ra kết quả nếu 1 trong các điều kiện là `TRUE`"
   ]
  },
  {
   "cell_type": "code",
   "execution_count": 1,
   "metadata": {},
   "outputs": [
    {
     "data": {
      "text/plain": [
       "True"
      ]
     },
     "execution_count": 1,
     "metadata": {},
     "output_type": "execute_result"
    }
   ],
   "source": [
    "any(x > 2 for x in [1, 2, 4])"
   ]
  },
  {
   "cell_type": "markdown",
   "metadata": {},
   "source": [
    "Khác với `any`, `all` sẽ kiểm tra tất cả điều kiện"
   ]
  },
  {
   "cell_type": "code",
   "execution_count": 2,
   "metadata": {},
   "outputs": [
    {
     "data": {
      "text/plain": [
       "False"
      ]
     },
     "execution_count": 2,
     "metadata": {},
     "output_type": "execute_result"
    }
   ],
   "source": [
    "all(x > 2 for x in [1, 2, 4])"
   ]
  },
  {
   "cell_type": "markdown",
   "metadata": {},
   "source": [
    "## Debug \n",
    "\n",
    "Sử dụng `%xmode` hoặc `%debug` để tìm lỗi. Xem ví dụ dưới đây"
   ]
  },
  {
   "cell_type": "code",
   "execution_count": 3,
   "metadata": {},
   "outputs": [],
   "source": [
    "def func_1(a,b):\n",
    "    return(a/b)"
   ]
  },
  {
   "cell_type": "code",
   "execution_count": 4,
   "metadata": {},
   "outputs": [
    {
     "data": {
      "text/plain": [
       "2.6666666666666665"
      ]
     },
     "execution_count": 4,
     "metadata": {},
     "output_type": "execute_result"
    }
   ],
   "source": [
    "func_1(8,3)"
   ]
  },
  {
   "cell_type": "code",
   "execution_count": 5,
   "metadata": {
    "tags": [
     "raises-exception"
    ]
   },
   "outputs": [
    {
     "ename": "ZeroDivisionError",
     "evalue": "division by zero",
     "output_type": "error",
     "traceback": [
      "\u001b[1;31m---------------------------------------------------------------------------\u001b[0m",
      "\u001b[1;31mZeroDivisionError\u001b[0m                         Traceback (most recent call last)",
      "Cell \u001b[1;32mIn[5], line 1\u001b[0m\n\u001b[1;32m----> 1\u001b[0m \u001b[43mfunc_1\u001b[49m\u001b[43m(\u001b[49m\u001b[38;5;241;43m7\u001b[39;49m\u001b[43m,\u001b[49m\u001b[38;5;241;43m0\u001b[39;49m\u001b[43m)\u001b[49m\n",
      "Cell \u001b[1;32mIn[3], line 2\u001b[0m, in \u001b[0;36mfunc_1\u001b[1;34m(a, b)\u001b[0m\n\u001b[0;32m      1\u001b[0m \u001b[38;5;28;01mdef\u001b[39;00m \u001b[38;5;21mfunc_1\u001b[39m(a,b):\n\u001b[1;32m----> 2\u001b[0m     \u001b[38;5;28;01mreturn\u001b[39;00m(\u001b[43ma\u001b[49m\u001b[38;5;241;43m/\u001b[39;49m\u001b[43mb\u001b[49m)\n",
      "\u001b[1;31mZeroDivisionError\u001b[0m: division by zero"
     ]
    }
   ],
   "source": [
    "func_1(7,0)"
   ]
  },
  {
   "cell_type": "markdown",
   "metadata": {},
   "source": [
    "Sử dụng `%xmode` cho phép hiển thị thêm các thông tin lỗi trong `jupyter notebook`"
   ]
  },
  {
   "cell_type": "code",
   "execution_count": 6,
   "metadata": {},
   "outputs": [
    {
     "name": "stdout",
     "output_type": "stream",
     "text": [
      "Exception reporting mode: Verbose\n"
     ]
    }
   ],
   "source": [
    "%xmode Verbose"
   ]
  },
  {
   "cell_type": "code",
   "execution_count": 7,
   "metadata": {
    "tags": [
     "raises-exception"
    ]
   },
   "outputs": [
    {
     "ename": "ZeroDivisionError",
     "evalue": "division by zero",
     "output_type": "error",
     "traceback": [
      "\u001b[1;31m---------------------------------------------------------------------------\u001b[0m",
      "\u001b[1;31mZeroDivisionError\u001b[0m                         Traceback (most recent call last)",
      "Cell \u001b[1;32mIn[7], line 1\u001b[0m\n\u001b[1;32m----> 1\u001b[0m \u001b[43mfunc_1\u001b[49m\u001b[43m(\u001b[49m\u001b[38;5;241;43m8\u001b[39;49m\u001b[43m,\u001b[49m\u001b[38;5;241;43m0\u001b[39;49m\u001b[43m)\u001b[49m\n",
      "Cell \u001b[1;32mIn[3], line 2\u001b[0m, in \u001b[0;36mfunc_1\u001b[1;34m(a=8, b=0)\u001b[0m\n\u001b[0;32m      1\u001b[0m \u001b[38;5;28;01mdef\u001b[39;00m \u001b[38;5;21mfunc_1\u001b[39m(a,b):\n\u001b[1;32m----> 2\u001b[0m     \u001b[38;5;28;01mreturn\u001b[39;00m(\u001b[43ma\u001b[49m\u001b[38;5;241;43m/\u001b[39;49m\u001b[43mb\u001b[49m)\n        a \u001b[1;34m= 8\u001b[0m\u001b[1;34m\n        \u001b[0mb \u001b[1;34m= 0\u001b[0m\n",
      "\u001b[1;31mZeroDivisionError\u001b[0m: division by zero"
     ]
    }
   ],
   "source": [
    "func_1(8,0)"
   ]
  },
  {
   "cell_type": "markdown",
   "metadata": {},
   "source": [
    "## Kiểm tra thời gian chạy code\n",
    "\n",
    "Python cho phép sử dụng profiling. Hai `magic command` hay dùng nhất là `%time` & `%timeit`.\n",
    "`%timeit` cho phép hiển thị thông tin chính xác với nhiều thông số hơn."
   ]
  },
  {
   "cell_type": "code",
   "execution_count": 8,
   "metadata": {},
   "outputs": [
    {
     "name": "stdout",
     "output_type": "stream",
     "text": [
      "CPU times: total: 0 ns\n",
      "Wall time: 0 ns\n"
     ]
    },
    {
     "data": {
      "text/plain": [
       "4950"
      ]
     },
     "execution_count": 8,
     "metadata": {},
     "output_type": "execute_result"
    }
   ],
   "source": [
    "%time sum(range(100))"
   ]
  },
  {
   "cell_type": "code",
   "execution_count": 9,
   "metadata": {},
   "outputs": [
    {
     "name": "stdout",
     "output_type": "stream",
     "text": [
      "711 ns ± 18.5 ns per loop (mean ± std. dev. of 7 runs, 1,000,000 loops each)\n"
     ]
    }
   ],
   "source": [
    "%timeit sum(range(100))"
   ]
  },
  {
   "cell_type": "markdown",
   "metadata": {},
   "source": [
    "## Profiling với memory \n",
    "\n",
    "cài đặt `memory_profiler` trên với `anaconda prompt`\n",
    "\n",
    "`pip install memory_profiler`"
   ]
  },
  {
   "cell_type": "code",
   "execution_count": 10,
   "metadata": {},
   "outputs": [],
   "source": [
    "%load_ext memory_profiler"
   ]
  },
  {
   "cell_type": "code",
   "execution_count": 11,
   "metadata": {},
   "outputs": [],
   "source": [
    "def sum_of_lists(N):\n",
    "           total = 0\n",
    "           for i in range(5):\n",
    "               L = [j ^ (j >> i) for j in range(N)]\n",
    "               total += sum(L)\n",
    "           return total"
   ]
  },
  {
   "cell_type": "code",
   "execution_count": 12,
   "metadata": {},
   "outputs": [
    {
     "name": "stdout",
     "output_type": "stream",
     "text": [
      "peak memory: 85.32 MiB, increment: 1.11 MiB\n"
     ]
    }
   ],
   "source": [
    "%memit sum_of_lists(10000)"
   ]
  },
  {
   "cell_type": "code",
   "execution_count": 13,
   "metadata": {},
   "outputs": [
    {
     "data": {
      "text/plain": [
       "211713248"
      ]
     },
     "execution_count": 13,
     "metadata": {},
     "output_type": "execute_result"
    }
   ],
   "source": [
    "sum_of_lists(10000)"
   ]
  },
  {
   "cell_type": "markdown",
   "metadata": {},
   "source": [
    "## Phân biệt các dấu gạch dưới trong Python"
   ]
  },
  {
   "cell_type": "markdown",
   "metadata": {},
   "source": [
    "Dâu gạch dưới `_` có nhiều ý nghĩa khác nhau trong Python và có nhiều cách sử dụng. Ta cần phải nắm vững để có thể hiểu cách sử dụng của python"
   ]
  },
  {
   "cell_type": "markdown",
   "metadata": {},
   "source": [
    "### Lưu giá trị từ trước\n",
    "\n",
    "Cách này chỉ sử dụng với Ipython - dấu `-` cho phép hiển thị lại giá trị gần nhất trên Python REPL"
   ]
  },
  {
   "cell_type": "code",
   "execution_count": 14,
   "metadata": {},
   "outputs": [],
   "source": [
    "x = 10"
   ]
  },
  {
   "cell_type": "code",
   "execution_count": 15,
   "metadata": {},
   "outputs": [
    {
     "data": {
      "text/plain": [
       "211713248"
      ]
     },
     "execution_count": 15,
     "metadata": {},
     "output_type": "execute_result"
    }
   ],
   "source": [
    "_"
   ]
  },
  {
   "cell_type": "markdown",
   "metadata": {},
   "source": [
    "### Bỏ qua giá trị không cần thiết\n",
    "\n",
    "Ta có thể dùng `_` để bỏ qua các giá trị không muốn gán"
   ]
  },
  {
   "cell_type": "code",
   "execution_count": 16,
   "metadata": {},
   "outputs": [],
   "source": [
    "a,_, c = (1, 2, 3)"
   ]
  },
  {
   "cell_type": "code",
   "execution_count": 17,
   "metadata": {},
   "outputs": [
    {
     "data": {
      "text/plain": [
       "(1, 3)"
      ]
     },
     "execution_count": 17,
     "metadata": {},
     "output_type": "execute_result"
    }
   ],
   "source": [
    "a, c"
   ]
  },
  {
   "cell_type": "code",
   "execution_count": 18,
   "metadata": {},
   "outputs": [
    {
     "name": "stdout",
     "output_type": "stream",
     "text": [
      "1\n",
      "7\n"
     ]
    }
   ],
   "source": [
    "# Bor qua cùng lúc nhiều giá trị\n",
    "a, *_, b = (1,2,3,4,5,6,7)\n",
    "print(a); print(b)"
   ]
  },
  {
   "cell_type": "markdown",
   "metadata": {},
   "source": [
    "### Sử dụng trong loop\n",
    "\n",
    "Sử dụng như một biến tạm"
   ]
  },
  {
   "cell_type": "code",
   "execution_count": 19,
   "metadata": {},
   "outputs": [
    {
     "name": "stdout",
     "output_type": "stream",
     "text": [
      "0\n",
      "1\n",
      "2\n",
      "3\n",
      "4\n"
     ]
    }
   ],
   "source": [
    "for _ in range(5):\n",
    "    print(_)"
   ]
  },
  {
   "cell_type": "code",
   "execution_count": 20,
   "metadata": {},
   "outputs": [
    {
     "name": "stdout",
     "output_type": "stream",
     "text": [
      "R\n",
      "Python\n",
      "Scala\n"
     ]
    }
   ],
   "source": [
    "languages = ['R', 'Python', 'Scala']\n",
    "for _ in languages:\n",
    "    print(_)"
   ]
  },
  {
   "cell_type": "markdown",
   "metadata": {},
   "source": [
    "### Phân cách hàng nghìn"
   ]
  },
  {
   "cell_type": "code",
   "execution_count": 21,
   "metadata": {},
   "outputs": [
    {
     "name": "stdout",
     "output_type": "stream",
     "text": [
      "1000000\n"
     ]
    }
   ],
   "source": [
    "x = 1_000_000\n",
    "print(x)"
   ]
  },
  {
   "cell_type": "markdown",
   "metadata": {},
   "source": [
    "### Đặt tên có chứa `_`\n",
    "\n",
    "Trong Python, có 4 cách đặt tên chứa `_`:\n",
    "- Một dấu đằng trước: `_name`\n",
    "- Một dấu đằng sau: `name_`\n",
    "- Hai dấu đằng trước: `__name`\n",
    "- Hai dấu ở hai bên: `__name__`\n",
    "\n",
    "#### Một dấu đằng trước\n",
    "\n",
    "Cho phép bỏ qua hàm khi import"
   ]
  },
  {
   "cell_type": "code",
   "execution_count": 22,
   "metadata": {},
   "outputs": [],
   "source": [
    "# Tạo file my_functions.py "
   ]
  },
  {
   "cell_type": "markdown",
   "metadata": {},
   "source": [
    "```python\n",
    "## filename: my_functions.py\n",
    "## Ví dụ để hiểu rõ chức năng của dấu gạch dưới trong python\n",
    "\n",
    "def func():\n",
    "    return \"Anh Hoang Duc\"\n",
    "\n",
    "def _private_func():\n",
    "    return 7\n",
    "```"
   ]
  },
  {
   "cell_type": "code",
   "execution_count": 23,
   "metadata": {},
   "outputs": [],
   "source": [
    "#| eval: false\n",
    "from my_functions import *"
   ]
  },
  {
   "cell_type": "code",
   "execution_count": 24,
   "metadata": {},
   "outputs": [
    {
     "data": {
      "text/plain": [
       "'Anh Hoang Duc'"
      ]
     },
     "execution_count": 24,
     "metadata": {},
     "output_type": "execute_result"
    }
   ],
   "source": [
    "#| eval: false\n",
    "func()"
   ]
  },
  {
   "cell_type": "code",
   "execution_count": 25,
   "metadata": {
    "tags": [
     "raises-exception"
    ]
   },
   "outputs": [
    {
     "ename": "NameError",
     "evalue": "name '_private_func' is not defined",
     "output_type": "error",
     "traceback": [
      "\u001b[1;31m---------------------------------------------------------------------------\u001b[0m",
      "\u001b[1;31mNameError\u001b[0m                                 Traceback (most recent call last)",
      "Cell \u001b[1;32mIn[25], line 1\u001b[0m\n\u001b[1;32m----> 1\u001b[0m \u001b[43m_private_func\u001b[49m()\n",
      "\u001b[1;31mNameError\u001b[0m: name '_private_func' is not defined"
     ]
    }
   ],
   "source": [
    "_private_func()"
   ]
  },
  {
   "cell_type": "markdown",
   "metadata": {},
   "source": [
    "Trong cách import trên, hàm `_private_func` đã không được import vào trong môi trường làm việc. Ta có thể import vào môi trường làm việc như sau"
   ]
  },
  {
   "cell_type": "code",
   "execution_count": 26,
   "metadata": {},
   "outputs": [
    {
     "data": {
      "text/plain": [
       "7"
      ]
     },
     "execution_count": 26,
     "metadata": {},
     "output_type": "execute_result"
    }
   ],
   "source": [
    "import my_functions\n",
    "\n",
    "my_functions.func()\n",
    "\n",
    "my_functions._private_func()"
   ]
  },
  {
   "cell_type": "markdown",
   "metadata": {},
   "source": [
    "#### Gạch dưới cuối tên\n",
    "\n",
    "Với cách dùng này, ta sử dụng `_` khi dùng làm keyword"
   ]
  },
  {
   "cell_type": "markdown",
   "metadata": {},
   "source": [
    "Câu lệnh dưới đây sẽ hiển thị tên lỗi"
   ]
  },
  {
   "cell_type": "code",
   "execution_count": 27,
   "metadata": {
    "tags": [
     "raises-exception"
    ]
   },
   "outputs": [
    {
     "ename": "SyntaxError",
     "evalue": "invalid syntax (1633269547.py, line 1)",
     "output_type": "error",
     "traceback": [
      "\u001b[1;36m  Cell \u001b[1;32mIn[27], line 1\u001b[1;36m\u001b[0m\n\u001b[1;33m    def function(class):\u001b[0m\n\u001b[1;37m                 ^\u001b[0m\n\u001b[1;31mSyntaxError\u001b[0m\u001b[1;31m:\u001b[0m invalid syntax\n"
     ]
    }
   ],
   "source": [
    "def function(class):\n",
    "    return print(class)"
   ]
  },
  {
   "cell_type": "code",
   "execution_count": 28,
   "metadata": {},
   "outputs": [],
   "source": [
    "def function(class_):\n",
    "    return print(class_)"
   ]
  },
  {
   "cell_type": "code",
   "execution_count": 29,
   "metadata": {},
   "outputs": [
    {
     "name": "stdout",
     "output_type": "stream",
     "text": [
      "9\n"
     ]
    }
   ],
   "source": [
    "function(9)"
   ]
  },
  {
   "cell_type": "markdown",
   "metadata": {},
   "source": [
    "#### Hai dấu gạch trước và sau"
   ]
  },
  {
   "cell_type": "markdown",
   "metadata": {},
   "source": [
    "Python sử dụng 2 dấu gạch dưới trước và sau với các hàm đặc biệt khi khai báo class như `__init__`.\n",
    "Trong trường hợp sử dụng 2 dấu gạch dưới, sẽ khai báo các `method` hoặc `attribute` sẽ mang tính cá nhân và bảo mật hơn"
   ]
  },
  {
   "cell_type": "code",
   "execution_count": 30,
   "metadata": {},
   "outputs": [],
   "source": [
    "class MyClass:\n",
    "    def __init__(self):\n",
    "        self.__private_variable = 42\n",
    "\n",
    "    def __init__(self):\n",
    "        self._not_private = 15\n",
    "\n",
    "    def __private_method(self):\n",
    "        print(\"This is a private method\")\n",
    "    \n",
    "    def not_private(self):\n",
    "        print(\"This is not private\")"
   ]
  },
  {
   "cell_type": "code",
   "execution_count": 31,
   "metadata": {},
   "outputs": [
    {
     "name": "stdout",
     "output_type": "stream",
     "text": [
      "<__main__.MyClass object at 0x000002B98A81DF50>\n"
     ]
    }
   ],
   "source": [
    "\n",
    "# Thử truy cập biến hoặc phương thức từ bên ngoài lớp\n",
    "obj = MyClass()\n",
    "print(obj)"
   ]
  },
  {
   "cell_type": "code",
   "execution_count": 32,
   "metadata": {},
   "outputs": [
    {
     "data": {
      "text/plain": [
       "15"
      ]
     },
     "execution_count": 32,
     "metadata": {},
     "output_type": "execute_result"
    }
   ],
   "source": [
    "# Attribute\n",
    "obj._not_private"
   ]
  },
  {
   "cell_type": "code",
   "execution_count": 33,
   "metadata": {},
   "outputs": [
    {
     "name": "stdout",
     "output_type": "stream",
     "text": [
      "This is not private\n"
     ]
    }
   ],
   "source": [
    "# Method\n",
    "obj.not_private()"
   ]
  },
  {
   "cell_type": "markdown",
   "metadata": {},
   "source": [
    "Khi dùng 2 dấu gạch dưới trước tên của `method` hoặc `attribute` sẽ khiến không thể truy cập được vào các thuộc tính và method sẵn có này"
   ]
  },
  {
   "cell_type": "code",
   "execution_count": 34,
   "metadata": {
    "tags": [
     "raises-exception"
    ]
   },
   "outputs": [
    {
     "ename": "AttributeError",
     "evalue": "'MyClass' object has no attribute '__private_variable'",
     "output_type": "error",
     "traceback": [
      "\u001b[1;31m---------------------------------------------------------------------------\u001b[0m",
      "\u001b[1;31mAttributeError\u001b[0m                            Traceback (most recent call last)",
      "Cell \u001b[1;32mIn[34], line 1\u001b[0m\n\u001b[1;32m----> 1\u001b[0m \u001b[38;5;28mprint\u001b[39m(\u001b[43mobj\u001b[49m\u001b[38;5;241;43m.\u001b[39;49m\u001b[43m__private_variable\u001b[49m)  \u001b[38;5;66;03m# Sẽ gây lỗi AttributeError\u001b[39;00m\n        obj \u001b[1;34m= <__main__.MyClass object at 0x000002B98A81DF50>\u001b[0m\n\u001b[0;32m      2\u001b[0m obj\u001b[38;5;241m.\u001b[39m__private_method()  \u001b[38;5;66;03m# Sẽ gây lỗi AttributeError\u001b[39;00m\n",
      "\u001b[1;31mAttributeError\u001b[0m: 'MyClass' object has no attribute '__private_variable'"
     ]
    }
   ],
   "source": [
    "print(obj.__private_variable)  # Sẽ gây lỗi AttributeError\n",
    "obj.__private_method()  # Sẽ gây lỗi AttributeError"
   ]
  },
  {
   "cell_type": "markdown",
   "metadata": {},
   "source": [
    ":::warning\n",
    "\n",
    "**Lưu ý**: Việc hiểu chính xác cách sử dụng của các dấu `_` sẽ cho phép chúng ta hiểu và sử dụng python nhanh chóng hơn"
   ]
  },
  {
   "cell_type": "markdown",
   "metadata": {},
   "source": [
    "\n",
    "## List object trong môi trường làm việc \n",
    "\n",
    "Hiển thị tất cả các biến trong môi trường: sử dụng `%whos`"
   ]
  },
  {
   "cell_type": "code",
   "execution_count": 35,
   "metadata": {},
   "outputs": [],
   "source": [
    "x, y = 7, 'test' "
   ]
  },
  {
   "cell_type": "code",
   "execution_count": 36,
   "metadata": {},
   "outputs": [
    {
     "name": "stdout",
     "output_type": "stream",
     "text": [
      "Variable       Type        Data/Info\n",
      "------------------------------------\n",
      "MyClass        type        <class '__main__.MyClass'>\n",
      "a              int         1\n",
      "b              int         7\n",
      "c              int         3\n",
      "func           function    <function func at 0x000002B989985BC0>\n",
      "func_1         function    <function func_1 at 0x000002B989985DA0>\n",
      "function       function    <function function at 0x000002B98A82F380>\n",
      "languages      list        n=3\n",
      "my_functions   module      <module 'my_functions' fr<...>source\\\\my_functions.py'>\n",
      "obj            MyClass     <__main__.MyClass object at 0x000002B98A81DF50>\n",
      "sum_of_lists   function    <function sum_of_lists at 0x000002B98A01A200>\n",
      "x              int         7\n",
      "y              str         test\n"
     ]
    }
   ],
   "source": [
    "%whos"
   ]
  },
  {
   "cell_type": "markdown",
   "metadata": {},
   "source": [
    "Sử dụng `%who_ls data_type`"
   ]
  },
  {
   "cell_type": "code",
   "execution_count": 37,
   "metadata": {},
   "outputs": [
    {
     "data": {
      "text/plain": [
       "['df']"
      ]
     },
     "execution_count": 37,
     "metadata": {},
     "output_type": "execute_result"
    }
   ],
   "source": [
    "import pandas as pd\n",
    "df = pd.DataFrame({'x' : [1,2,3]})\n",
    "x = [1,2,3]\n",
    "\n",
    "%who_ls DataFrame"
   ]
  },
  {
   "cell_type": "code",
   "execution_count": 38,
   "metadata": {},
   "outputs": [
    {
     "data": {
      "text/plain": [
       "['languages', 'x']"
      ]
     },
     "execution_count": 38,
     "metadata": {},
     "output_type": "execute_result"
    }
   ],
   "source": [
    "#| eval: false\n",
    "%who_ls list"
   ]
  },
  {
   "cell_type": "code",
   "execution_count": 39,
   "metadata": {},
   "outputs": [
    {
     "data": {
      "text/plain": [
       "['df', 'languages', 'x']"
      ]
     },
     "execution_count": 39,
     "metadata": {},
     "output_type": "execute_result"
    }
   ],
   "source": [
    "#| eval: false\n",
    "%who_ls DataFrame list"
   ]
  },
  {
   "cell_type": "markdown",
   "metadata": {},
   "source": [
    "## Hiển thị nhiều kết quả trong 1 cell\n",
    "\n",
    "Trong jupyter notebook, kết quả trong 1 cell chỉ được hiển thị 1 lần. ta có thể khắc phục như sau"
   ]
  },
  {
   "cell_type": "code",
   "execution_count": 40,
   "metadata": {},
   "outputs": [],
   "source": [
    "from IPython.core.interactiveshell import InteractiveShell\n",
    "InteractiveShell.ast_node_interactivity = \"all\""
   ]
  },
  {
   "cell_type": "code",
   "execution_count": 41,
   "metadata": {},
   "outputs": [],
   "source": [
    "x, y = 7, 8"
   ]
  },
  {
   "cell_type": "code",
   "execution_count": 42,
   "metadata": {},
   "outputs": [
    {
     "data": {
      "text/plain": [
       "7"
      ]
     },
     "execution_count": 42,
     "metadata": {},
     "output_type": "execute_result"
    },
    {
     "data": {
      "text/plain": [
       "8"
      ]
     },
     "execution_count": 42,
     "metadata": {},
     "output_type": "execute_result"
    },
    {
     "data": {
      "text/plain": [
       "56"
      ]
     },
     "execution_count": 42,
     "metadata": {},
     "output_type": "execute_result"
    }
   ],
   "source": [
    "x\n",
    "y\n",
    "x * y"
   ]
  },
  {
   "cell_type": "markdown",
   "metadata": {},
   "source": [
    "## Assign string thành object\n",
    "\n",
    "**Problem**: Tạo cùng lúc nhiều object, gán mỗi object với 1 giá trị"
   ]
  },
  {
   "cell_type": "code",
   "execution_count": 43,
   "metadata": {},
   "outputs": [],
   "source": [
    "import numpy as np\n",
    "df_name = [\"df1\", \"df2\", \"df3\"]"
   ]
  },
  {
   "cell_type": "code",
   "execution_count": 44,
   "metadata": {},
   "outputs": [
    {
     "name": "stdout",
     "output_type": "stream",
     "text": [
      "df1\n",
      "[0.97386133]\n",
      "df2\n",
      "[0.53453316]\n",
      "df3\n",
      "[0.46273654]\n"
     ]
    }
   ],
   "source": [
    "for i in df_name:\n",
    "    globals()[i] = np.random.random(1)\n",
    "    print(i)\n",
    "    print(eval(i))"
   ]
  },
  {
   "cell_type": "code",
   "execution_count": 45,
   "metadata": {},
   "outputs": [],
   "source": [
    "for i in df_name:\n",
    "    del globals()[i]"
   ]
  },
  {
   "cell_type": "markdown",
   "metadata": {},
   "source": [
    "## Evaluation\n",
    "\n",
    "Tương tự như R, Python có thể sử dụng evaluation để thực hiện lập trình đơn giản"
   ]
  },
  {
   "cell_type": "code",
   "execution_count": 46,
   "metadata": {},
   "outputs": [],
   "source": [
    "my_df = 7"
   ]
  },
  {
   "cell_type": "code",
   "execution_count": 47,
   "metadata": {},
   "outputs": [
    {
     "data": {
      "text/plain": [
       "7"
      ]
     },
     "execution_count": 47,
     "metadata": {},
     "output_type": "execute_result"
    }
   ],
   "source": [
    "eval('my_df')"
   ]
  },
  {
   "cell_type": "markdown",
   "metadata": {},
   "source": [
    "## Xóa toàn bộ environment"
   ]
  },
  {
   "cell_type": "code",
   "execution_count": 48,
   "metadata": {},
   "outputs": [],
   "source": [
    "# Xóa dataframe\n",
    "all_var = %who_ls DataFrame"
   ]
  },
  {
   "cell_type": "code",
   "execution_count": 49,
   "metadata": {},
   "outputs": [
    {
     "name": "stdout",
     "output_type": "stream",
     "text": [
      "   x\n",
      "0  1\n",
      "1  2\n",
      "2  3\n"
     ]
    }
   ],
   "source": [
    "for i in all_var:\n",
    "    print(globals()[i])"
   ]
  },
  {
   "cell_type": "code",
   "execution_count": 50,
   "metadata": {},
   "outputs": [],
   "source": [
    "for _ in all_var:\n",
    "    del globals()[_]"
   ]
  },
  {
   "cell_type": "code",
   "execution_count": 51,
   "metadata": {},
   "outputs": [
    {
     "data": {
      "text/plain": [
       "['InteractiveShell',\n",
       " 'MyClass',\n",
       " 'a',\n",
       " 'all_var',\n",
       " 'b',\n",
       " 'c',\n",
       " 'df_name',\n",
       " 'func',\n",
       " 'func_1',\n",
       " 'function',\n",
       " 'i',\n",
       " 'languages',\n",
       " 'my_df',\n",
       " 'my_functions',\n",
       " 'np',\n",
       " 'obj',\n",
       " 'pd',\n",
       " 'sum_of_lists',\n",
       " 'x',\n",
       " 'y']"
      ]
     },
     "execution_count": 51,
     "metadata": {},
     "output_type": "execute_result"
    }
   ],
   "source": [
    "%who_ls"
   ]
  },
  {
   "cell_type": "code",
   "execution_count": 52,
   "metadata": {},
   "outputs": [],
   "source": [
    "#| eval: false\n",
    "# Delete all\n",
    "%reset -f"
   ]
  },
  {
   "cell_type": "markdown",
   "metadata": {},
   "source": [
    "## Lưu code từ cell thành file\n",
    "\n",
    "Sử dụng magic command %%writefile"
   ]
  },
  {
   "cell_type": "markdown",
   "metadata": {},
   "source": [
    "\n",
    "```python\n",
    "%%writefile 09.test_script/03_test_script.py\n",
    "def joke():\n",
    "    print('My job')\n",
    "```\n",
    "\n",
    "## Mở một loạt file text và sửa nội dung"
   ]
  },
  {
   "cell_type": "markdown",
   "metadata": {},
   "source": [
    "```python\n",
    "def replace_md(file, find, replace):\n",
    "    with open(file, encoding=\"utf8\") as f:\n",
    "        s = f.read()\n",
    "        s = s.replace(find, replace)\n",
    "    with open(file,'w', encoding=\"utf8\") as f:\n",
    "        f.write(s)\n",
    "\n",
    "import glob, os\n",
    "os.chdir(\"../_book\")\n",
    "for file in glob.glob(\"*.md\"):\n",
    "    replace_md(file = file, find = '<img src=\"', replace = '![](')\n",
    "    replace_md(file = file, find = '\" width=\"672\" />', replace = ')\\n\\n')\n",
    "```"
   ]
  },
  {
   "cell_type": "markdown",
   "metadata": {},
   "source": [
    "## Chạy file python từ bat"
   ]
  },
  {
   "cell_type": "markdown",
   "metadata": {},
   "source": [
    "```python\n",
    "python script.py\n",
    "```"
   ]
  },
  {
   "cell_type": "markdown",
   "metadata": {},
   "source": [
    "## Auto format\n",
    "\n",
    "Ta có thể sử dụng package `black` để auto format lại các file trong python.\n",
    "\n",
    "- Tất cả string để lại dưới dạng ngoặc kép (double quoted)\n",
    "- Loại các khoảng trắng không cần thiết\n",
    "- Chuẩn hóa các đoạn code dài"
   ]
  },
  {
   "cell_type": "markdown",
   "metadata": {},
   "source": [
    "```python\n",
    "black script.py\n",
    "```"
   ]
  },
  {
   "cell_type": "markdown",
   "metadata": {},
   "source": [
    "## Làm việc với các file trong máy tính"
   ]
  },
  {
   "cell_type": "markdown",
   "metadata": {},
   "source": [
    "`Python` rất mạnh trong việc xử lý các vấn đề liên quan đến các file trong máy tính. Hai thư viện được dùng nhiều khi xử lý các file trong máy tính là `glob` và `os`"
   ]
  },
  {
   "cell_type": "code",
   "execution_count": 53,
   "metadata": {},
   "outputs": [],
   "source": [
    "import os, glob"
   ]
  },
  {
   "cell_type": "markdown",
   "metadata": {},
   "source": [
    "### Liệt kê các file theo định dạng"
   ]
  },
  {
   "cell_type": "code",
   "execution_count": 54,
   "metadata": {},
   "outputs": [
    {
     "data": {
      "text/plain": [
       "['boxplot.png',\n",
       " 'chart.png',\n",
       " 'my_figure.png',\n",
       " 'seaborn_chart.png',\n",
       " 'conf.py',\n",
       " 'flask-api.py',\n",
       " 'my_functions.py',\n",
       " 'untitled.py']"
      ]
     },
     "execution_count": 54,
     "metadata": {},
     "output_type": "execute_result"
    }
   ],
   "source": [
    "file_name = []\n",
    "for extension in ['*.png', '*.py']:\n",
    "    file_name = file_name + glob.glob(extension)\n",
    "file_name"
   ]
  },
  {
   "cell_type": "markdown",
   "metadata": {},
   "source": [
    "### Chèn thêm prefix vào tất cả file_name"
   ]
  },
  {
   "cell_type": "code",
   "execution_count": 55,
   "metadata": {},
   "outputs": [],
   "source": [
    "def change_name(file_extension=['*.PNG', '*.JPG', '*.JPEG'], prefix='test'):\n",
    "    \"\"\"\n",
    "    Function to add a prefix in name of files within a folder. It will help organizing files better, \n",
    "    especially Images for markdown files without changing much in source code.\n",
    "    \"\"\"\n",
    "    import re, glob, os\n",
    "    import numpy as np\n",
    "    file_name_full = []\n",
    "    for ext in file_extension:\n",
    "        file_name_full = file_name_full + glob.glob(ext)\n",
    "    file_name = []\n",
    "    extension = []\n",
    "    for file in file_name_full:\n",
    "        file_name = file_name + [os.path.splitext(file)[0]]\n",
    "        extension = extension + [os.path.splitext(file)[1]]\n",
    "    extension = np.array(extension)\n",
    "    file_name = np.array(file_name)\n",
    "    # New name, adding prefix\n",
    "    new_name = [prefix + str(file) + str(ext) for file, ext in zip(file_name, extension)]\n",
    "    print(new_name)\n",
    "    # Rename\n",
    "#    [os.rename(old_name, new_name) for old_name, new_name in zip(file_name_full, new_name)]"
   ]
  },
  {
   "cell_type": "code",
   "execution_count": 56,
   "metadata": {},
   "outputs": [
    {
     "name": "stdout",
     "output_type": "stream",
     "text": [
      "['hello-boxplot.png', 'hello-chart.png', 'hello-my_figure.png', 'hello-seaborn_chart.png']\n"
     ]
    }
   ],
   "source": [
    "change_name(prefix = \"hello-\")"
   ]
  },
  {
   "cell_type": "markdown",
   "metadata": {},
   "source": [
    "### Rename 1 file"
   ]
  },
  {
   "cell_type": "markdown",
   "metadata": {},
   "source": [
    "\n",
    "```python\n",
    "[os.rename(old_name, new_name) for old_name, new_name in zip(file_name_full, new_name)]\n",
    "```"
   ]
  },
  {
   "cell_type": "markdown",
   "metadata": {},
   "source": [
    "### Mở 1 file text, thay đổi và save"
   ]
  },
  {
   "cell_type": "markdown",
   "metadata": {},
   "source": [
    "\n",
    "```python\n",
    "file = \"my_file.txt\"\n",
    "import re\n",
    "with open(file, encoding=\"utf8\") as f:\n",
    "    s = f.read() # Read content của file f, lưu thành s\n",
    "    s = s.strip() # Remove khoảng trắng đầu và cuối\n",
    "with open(file,'w', encoding=\"utf8\") as f:\n",
    "    f.write(s)  # Ghi nội dung của file f dưới dạng s\n",
    "```\n"
   ]
  },
  {
   "cell_type": "markdown",
   "metadata": {},
   "source": [
    "## Giả lập dữ liệu"
   ]
  },
  {
   "cell_type": "markdown",
   "metadata": {},
   "source": [
    "Trong quá trình phân tích, ta có thể tạo thêm các dữ liệu giả lập nhanh chóng từ package `faker`"
   ]
  },
  {
   "cell_type": "markdown",
   "metadata": {},
   "source": [
    "```python\n",
    "pip install faker\n",
    "```"
   ]
  },
  {
   "cell_type": "code",
   "execution_count": 57,
   "metadata": {},
   "outputs": [
    {
     "data": {
      "text/plain": [
       "'Jessica Collins'"
      ]
     },
     "execution_count": 57,
     "metadata": {},
     "output_type": "execute_result"
    }
   ],
   "source": [
    "# Tạo fake name\n",
    "from faker import Faker\n",
    "fake = Faker()\n",
    "# fake name\n",
    "fake.name()"
   ]
  },
  {
   "cell_type": "code",
   "execution_count": 58,
   "metadata": {},
   "outputs": [
    {
     "data": {
      "text/plain": [
       "'213.41.0.188'"
      ]
     },
     "execution_count": 58,
     "metadata": {},
     "output_type": "execute_result"
    }
   ],
   "source": [
    "# fake ip4\n",
    "fake.ipv4()"
   ]
  },
  {
   "cell_type": "code",
   "execution_count": 59,
   "metadata": {},
   "outputs": [
    {
     "data": {
      "text/plain": [
       "'vincent71@example.org'"
      ]
     },
     "execution_count": 59,
     "metadata": {},
     "output_type": "execute_result"
    }
   ],
   "source": [
    "# fake email\n",
    "fake.email()"
   ]
  },
  {
   "cell_type": "markdown",
   "metadata": {},
   "source": [
    "Ta có thể tạo các dữ liệu giả lập như sau"
   ]
  },
  {
   "cell_type": "code",
   "execution_count": 60,
   "metadata": {},
   "outputs": [],
   "source": [
    "from faker import Faker\n",
    "\n",
    "# Generate synthetic client data \n",
    "def generate_client_data(num_clients=100):\n",
    "    clients = []\n",
    "    fake = Faker()\n",
    "    for client_num in range(1, num_clients + 1):\n",
    "        client = {\n",
    "            \"client_number\": client_num,\n",
    "            \"name\": fake.name(),\n",
    "            \"email\": fake.email(),\n",
    "            \"phone_number\": fake.phone_number(),\n",
    "            \"bulding_number\": fake.building_number(),\n",
    "            \"street_name\": fake.street_name(),\n",
    "            \"postcode\": fake.postcode(),\n",
    "            \"city\": fake.city(),\n",
    "            \"state\": fake.state(),\n",
    "            \"birth_date\": fake.date_of_birth(minimum_age=18, maximum_age=90).strftime('%Y-%m-%d'),\n",
    "            \"credit_card_number\" : fake.credit_card_number(card_type='mastercard'),\n",
    "        }\n",
    "        clients.append(client)\n",
    "    return clients"
   ]
  },
  {
   "cell_type": "code",
   "execution_count": 61,
   "metadata": {},
   "outputs": [
    {
     "data": {
      "text/html": [
       "<div>\n",
       "<style scoped>\n",
       "    .dataframe tbody tr th:only-of-type {\n",
       "        vertical-align: middle;\n",
       "    }\n",
       "\n",
       "    .dataframe tbody tr th {\n",
       "        vertical-align: top;\n",
       "    }\n",
       "\n",
       "    .dataframe thead th {\n",
       "        text-align: right;\n",
       "    }\n",
       "</style>\n",
       "<table border=\"1\" class=\"dataframe\">\n",
       "  <thead>\n",
       "    <tr style=\"text-align: right;\">\n",
       "      <th></th>\n",
       "      <th>client_number</th>\n",
       "      <th>name</th>\n",
       "      <th>email</th>\n",
       "      <th>phone_number</th>\n",
       "      <th>bulding_number</th>\n",
       "      <th>street_name</th>\n",
       "      <th>postcode</th>\n",
       "      <th>city</th>\n",
       "      <th>state</th>\n",
       "      <th>birth_date</th>\n",
       "      <th>credit_card_number</th>\n",
       "    </tr>\n",
       "  </thead>\n",
       "  <tbody>\n",
       "    <tr>\n",
       "      <th>0</th>\n",
       "      <td>1</td>\n",
       "      <td>Amy Chan</td>\n",
       "      <td>susan47@example.net</td>\n",
       "      <td>+1-763-855-2246x872</td>\n",
       "      <td>394</td>\n",
       "      <td>Gomez Viaduct</td>\n",
       "      <td>41300</td>\n",
       "      <td>Jacobstad</td>\n",
       "      <td>Ohio</td>\n",
       "      <td>1948-09-10</td>\n",
       "      <td>2575924653854473</td>\n",
       "    </tr>\n",
       "    <tr>\n",
       "      <th>1</th>\n",
       "      <td>2</td>\n",
       "      <td>Sherry Ellis</td>\n",
       "      <td>sydney92@example.org</td>\n",
       "      <td>+1-287-305-9269</td>\n",
       "      <td>06080</td>\n",
       "      <td>Allen Lodge</td>\n",
       "      <td>69113</td>\n",
       "      <td>Hammondhaven</td>\n",
       "      <td>South Carolina</td>\n",
       "      <td>1996-03-15</td>\n",
       "      <td>2686768991015313</td>\n",
       "    </tr>\n",
       "    <tr>\n",
       "      <th>2</th>\n",
       "      <td>3</td>\n",
       "      <td>Mary Fox</td>\n",
       "      <td>emilycook@example.net</td>\n",
       "      <td>798-681-6666</td>\n",
       "      <td>51986</td>\n",
       "      <td>Wright Point</td>\n",
       "      <td>07059</td>\n",
       "      <td>Lake Gary</td>\n",
       "      <td>Colorado</td>\n",
       "      <td>1984-02-18</td>\n",
       "      <td>2660393172684470</td>\n",
       "    </tr>\n",
       "    <tr>\n",
       "      <th>3</th>\n",
       "      <td>4</td>\n",
       "      <td>John Adams</td>\n",
       "      <td>hernandezlinda@example.org</td>\n",
       "      <td>248.417.5017x67199</td>\n",
       "      <td>4008</td>\n",
       "      <td>Erin Light</td>\n",
       "      <td>44205</td>\n",
       "      <td>Marieton</td>\n",
       "      <td>Florida</td>\n",
       "      <td>1934-09-04</td>\n",
       "      <td>5104961183620977</td>\n",
       "    </tr>\n",
       "    <tr>\n",
       "      <th>4</th>\n",
       "      <td>5</td>\n",
       "      <td>Dr. Cassandra Johns</td>\n",
       "      <td>jennifer36@example.net</td>\n",
       "      <td>8654081012</td>\n",
       "      <td>598</td>\n",
       "      <td>Randolph Passage</td>\n",
       "      <td>26622</td>\n",
       "      <td>Tranport</td>\n",
       "      <td>Tennessee</td>\n",
       "      <td>1967-01-02</td>\n",
       "      <td>2702132279100042</td>\n",
       "    </tr>\n",
       "  </tbody>\n",
       "</table>\n",
       "</div>"
      ],
      "text/plain": [
       "   client_number                 name                       email  \\\n",
       "0              1             Amy Chan         susan47@example.net   \n",
       "1              2         Sherry Ellis        sydney92@example.org   \n",
       "2              3             Mary Fox       emilycook@example.net   \n",
       "3              4           John Adams  hernandezlinda@example.org   \n",
       "4              5  Dr. Cassandra Johns      jennifer36@example.net   \n",
       "\n",
       "          phone_number bulding_number       street_name postcode  \\\n",
       "0  +1-763-855-2246x872            394     Gomez Viaduct    41300   \n",
       "1      +1-287-305-9269          06080       Allen Lodge    69113   \n",
       "2         798-681-6666          51986      Wright Point    07059   \n",
       "3   248.417.5017x67199           4008        Erin Light    44205   \n",
       "4           8654081012            598  Randolph Passage    26622   \n",
       "\n",
       "           city           state  birth_date credit_card_number  \n",
       "0     Jacobstad            Ohio  1948-09-10   2575924653854473  \n",
       "1  Hammondhaven  South Carolina  1996-03-15   2686768991015313  \n",
       "2     Lake Gary        Colorado  1984-02-18   2660393172684470  \n",
       "3      Marieton         Florida  1934-09-04   5104961183620977  \n",
       "4      Tranport       Tennessee  1967-01-02   2702132279100042  "
      ]
     },
     "execution_count": 61,
     "metadata": {},
     "output_type": "execute_result"
    }
   ],
   "source": [
    "import pandas as pd\n",
    "df1 = pd.DataFrame(generate_client_data(num_clients=100))\n",
    "df1.head()"
   ]
  },
  {
   "cell_type": "markdown",
   "metadata": {},
   "source": [
    "## Enumerate"
   ]
  },
  {
   "cell_type": "markdown",
   "metadata": {},
   "source": [
    "Trong `python`, ta có thể sử dụng hàm `enumerate` để liệt kê thay vì dùng vòng lặp và trả về các `counter`"
   ]
  },
  {
   "cell_type": "code",
   "execution_count": 62,
   "metadata": {},
   "outputs": [
    {
     "name": "stdout",
     "output_type": "stream",
     "text": [
      "Index: 0  Value: a\n",
      "Index: 1  Value: b\n",
      "Index: 2  Value: c\n",
      "Index: 3  Value: d\n",
      "Index: 4  Value: e\n"
     ]
    }
   ],
   "source": [
    "lista = ['a','b','c','d','e']\n",
    "count = 0\n",
    "for l in lista:\n",
    "    print('Index:', count,' Value:', l)\n",
    "    count+=1"
   ]
  },
  {
   "cell_type": "code",
   "execution_count": 64,
   "metadata": {},
   "outputs": [
    {
     "name": "stdout",
     "output_type": "stream",
     "text": [
      "Index: 0  Value: a\n",
      "Index: 1  Value: b\n",
      "Index: 2  Value: c\n",
      "Index: 3  Value: d\n",
      "Index: 4  Value: e\n"
     ]
    }
   ],
   "source": [
    "# Khi sử dụng enumerate\n",
    "lista = ['a','b','c','d','e']\n",
    "for count, l in enumerate(lista):\n",
    "    print('Index:', count,' Value:', l)"
   ]
  },
  {
   "cell_type": "markdown",
   "metadata": {},
   "source": [
    "## Chạy tất cả các cells trong notebook, bỏ qua lỗi"
   ]
  },
  {
   "cell_type": "markdown",
   "metadata": {},
   "source": [
    "Khi chạy lại code trong notebook, ta sẽ gặp trường hợp có 1 cell bị lỗi (có thể do cố tình để lỗi), thì các cell ở dưới sẽ không chạy tiếp được\n",
    "\n",
    "Để giải quyết, ta có thể add thêm tags: `raises-exception` vào trong cell. Khi đó, `kernel` sẽ tiếp tuc thực hiện câu lệnh dù có lỗi tại 1 cells"
   ]
  },
  {
   "cell_type": "markdown",
   "metadata": {},
   "source": [
    "![](Image/exception.gif){width=\"80%\"}"
   ]
  }
 ],
 "metadata": {
  "kernelspec": {
   "display_name": "Python 3 (ipykernel)",
   "language": "python",
   "name": "python3"
  },
  "language_info": {
   "codemirror_mode": {
    "name": "ipython",
    "version": 3
   },
   "file_extension": ".py",
   "mimetype": "text/x-python",
   "name": "python",
   "nbconvert_exporter": "python",
   "pygments_lexer": "ipython3",
   "version": "3.11.5"
  }
 },
 "nbformat": 4,
 "nbformat_minor": 4
}
