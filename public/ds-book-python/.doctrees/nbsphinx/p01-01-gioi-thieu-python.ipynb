{
 "cells": [
  {
   "cell_type": "markdown",
   "metadata": {},
   "source": [
    "# Giới thiệu về Python"
   ]
  },
  {
   "cell_type": "markdown",
   "metadata": {},
   "source": [
    "## Giới thiệu\n",
    "\n",
    "Python là ngôn ngữ phổ biến nhất cho Machine Learning nói chung và Data Science nói riêng bởi tính đơn giản gọn nhẹ. Python cũng đồng thời được coi là ngôn ngữ tốt thứ 2 trong rất nhiều lĩnh vực. \n",
    "\n",
    "Do độ phổ cập rộng rãi của Python cũng như tính hữu dụng khi làm việc, tương tác với mô trường điện toán đám mấy (cloud) và thiết kế API/deployment cho lĩnh vực AI, bên cạnh các ngôn ngữ phân tích thống kê, khám phá như R, Stata,..., ta cần làm quen và sử dụng Python để có thể mở rộng phạm vi làm việc cũng như tương tác cho các lĩnh vực khác nhau.\n",
    "\n",
    "Tài liệu này được viết riêng dành cho nhóm phân tích dữ liệu từ R dịch chuyển sang Python để có thể dễ dàng tiếp cận, đơn giản hóa quá trình học và sử dụng một ngôn ngữ phân tích mới."
   ]
  },
  {
   "cell_type": "markdown",
   "metadata": {},
   "source": [
    ":::warning\n",
    "**Lưu ý**: Đối với các bạn sử dụng Python từ các ngôn ngữ lập trình thống kê khác như R hoặc Stata, sẽ có 1 chút khó khăn trong giai đoạn mới sử dụng ở 2 điểm\n",
    "\n",
    "- Python cài đặt và sử dụng thư viện chủ yếu trên `terminal` hoặc `cmd`, khiến cho việc cài đặt và quản lý package có chút khó khăn\n",
    "- Các đối tượng trong Python có `methods` đi kèm - đây là điều hơi khó hiểu với những người sử dụng các ngôn ngữ phân tích khác - đặc biệt từ R, do chủ yếu chỉ có hàm (`function`) mà không có `method`\n",
    "\n",
    "Nội dung giải thích về `method` sẽ được nói kỹ hơn trong các phần tiếp theo"
   ]
  },
  {
   "cell_type": "markdown",
   "metadata": {},
   "source": [
    "## Anaconda & Pip"
   ]
  },
  {
   "cell_type": "markdown",
   "metadata": {},
   "source": [
    "Có nhiều cách để cài đặt và sử dụng Python.\n",
    "\n",
    "**Cách 1**: Đi tới trực tiếp trang [https://www.python.org/downloads/]() để download cho Windows (hoặc Mac). Sau khi download xong, ta có thể dùng trực tiếp python cũng như cài đặt các thư viện đi kèm qua cmd\n",
    "\n",
    "**Cách 2**: Sử dụng **Anaconda**, đây là 1 Platform khá nổi tiếng trong Data Science, khi cài **Anaconda** ta sẽ có:\n",
    "\n",
    "- Python core\n",
    "- Các libraries phổ biến nhất (VD: pandas, numpy, matplotlib...) mà không cần phải cài mới mỗi khi cần sử dụng\n",
    "- Các IDE phổ biến nhất để sử dụng Python (Jupyter Notebook, Spyder) và R (Rstudio)\n",
    "\n",
    "Để cài đặt Anacoda, đi đến trang https://www.anaconda.com/distribution/, chọn phiên bản Windows, download và install\n",
    "\n",
    "<img src=\"Image/anaconda.png\" alt=\"Alt text that describes the graphic\" title=\"\" />"
   ]
  },
  {
   "cell_type": "markdown",
   "metadata": {},
   "source": [
    "## Thư viện trong Python\n",
    "\n",
    "Tương tự như `R`, các library trong Python rất đa dạng và hỗ trợ giải quyết nhiều vấn đề khác nhau.\n",
    "\n",
    "Các thư viện thường dùng trong Python khi phân tích dữ liệu:\n",
    "\n",
    "- `numpy`: Tính toán đại số\n",
    "- `scipy`: Tính toán các chỉ số khoa học\n",
    "- `matplotlib`, `seaborn`, `plotnine`: Vẽ biểu đồ\n",
    "- `pandas`: Biến đổi, tính toán và tổng hợp số liệu\n",
    "- `scikit Learn`: Machine learning\n",
    "\n",
    "### Cài đặt library trong Python\n",
    "\n",
    "Phần lớn các library đều đã được cài đặt cùng với Anaconda, các library khác khi cần chúng ta có thể cài bằng `pip`.\n",
    "\n",
    "VD, sử dụng Jupyter Notebook console\n",
    "\n",
    "`!pip install seaborn`\n",
    "\n",
    "Hoặc sử dụng terminal"
   ]
  },
  {
   "cell_type": "markdown",
   "metadata": {},
   "source": [
    "```python\n",
    "#cài bằng pip\n",
    "`pip install seaborn`\n",
    "# cài bằng anaconda\n",
    "`conda install seaborn`\n",
    "```"
   ]
  },
  {
   "cell_type": "markdown",
   "metadata": {},
   "source": [
    "---\n",
    "\n",
    "**Phân biệt function/modules/packages/library:** Khi làm việc với các thư viện trong python, ta sẽ thấy có 4 nhóm thuật ngữ sau mà có thể gây nhầm lẫn là hàm, module, package & library. Phân biệt 4 nhóm như sau\n",
    "\n",
    "- `Function`: Hàm - một câu lệnh để giải quyết một hoặc 1 số vấn đề\n",
    "- `Module`: đơn giản là 1 file `.py` chứa 1 hoặc nhiều `function/class` nhằm mục đích tái sử dụng sau này, một module có thể chứa nhiều hàm\n",
    "- `Package`: Là một thư mục chứa:\n",
    "    - Nhiều Python module. \n",
    "    - 1 file đặc biệt là `__init.py__`\n",
    "      \n",
    "VD: Python package trong windows thường được chứa tại `C:\\Users\\user\\AppData\\Local\\Continuum\\anaconda3\\Lib\\site-packages`\n",
    "- `library`: Tương tự như package. Tuy nhiên, khi nói về library, ta nói về package đã được download và cài đặt xong"
   ]
  },
  {
   "cell_type": "markdown",
   "metadata": {},
   "source": [
    "**Import Modules/packages**"
   ]
  },
  {
   "cell_type": "code",
   "execution_count": 10,
   "metadata": {},
   "outputs": [
    {
     "data": {
      "text/plain": [
       "3.0"
      ]
     },
     "execution_count": 10,
     "metadata": {},
     "output_type": "execute_result"
    }
   ],
   "source": [
    "# Import cả package, khi cần sử dụng function, gọi tên package trước\n",
    "import numpy as np\n",
    "np.sqrt(9)"
   ]
  },
  {
   "cell_type": "code",
   "execution_count": 11,
   "metadata": {},
   "outputs": [
    {
     "data": {
      "text/plain": [
       "3.0"
      ]
     },
     "execution_count": 11,
     "metadata": {},
     "output_type": "execute_result"
    }
   ],
   "source": [
    "# Chỉ import function trong packages\n",
    "from numpy import sqrt\n",
    "sqrt(9)"
   ]
  },
  {
   "cell_type": "markdown",
   "metadata": {},
   "source": [
    "### Cài đặt packages offline\n",
    "\n",
    "**Cài đặt với conda**\n",
    "\n",
    "- Download package từ trang web: https://anaconda.org\n",
    "- Cài đặt với câu lệnh sau\n",
    "\n",
    "`conda install --offline jupyter_contrib_core-0.3.3-py36_1.tar.bz2`\n",
    "\n",
    "**Cài đặt với pip**\n",
    "\n",
    "- Clone folder từ github\n",
    "- Mở terminal/cmd trong thư mục chưa project\n",
    "- Thực hiện câu lệnh sau:\n",
    "\n",
    "`pip install -e nbextensions`\n",
    "\n",
    "### Kiểm tra thư viện Python"
   ]
  },
  {
   "cell_type": "code",
   "execution_count": 12,
   "metadata": {},
   "outputs": [
    {
     "data": {
      "text/plain": [
       "['c:\\\\Users\\\\Hoang Duc Anh\\\\AppData\\\\Local\\\\Programs\\\\Python\\\\Python311',\n",
       " 'c:\\\\Users\\\\Hoang Duc Anh\\\\AppData\\\\Local\\\\Programs\\\\Python\\\\Python311\\\\Lib\\\\site-packages']"
      ]
     },
     "execution_count": 12,
     "metadata": {},
     "output_type": "execute_result"
    }
   ],
   "source": [
    "import site\n",
    "site.getsitepackages()"
   ]
  },
  {
   "cell_type": "markdown",
   "metadata": {},
   "source": [
    "- Ta có thể copy thư viện Python như làm việc với R"
   ]
  },
  {
   "cell_type": "markdown",
   "metadata": {},
   "source": [
    "## Một số câu lệnh cơ bản"
   ]
  },
  {
   "cell_type": "markdown",
   "metadata": {},
   "source": [
    "### Thư mục đang làm việc"
   ]
  },
  {
   "cell_type": "markdown",
   "metadata": {},
   "source": [
    "- Kiểm tra thư mục đang làm việc"
   ]
  },
  {
   "cell_type": "code",
   "execution_count": 13,
   "metadata": {},
   "outputs": [
    {
     "name": "stdout",
     "output_type": "stream",
     "text": [
      "d:\\01-github\\ds-book-python\\_source\n"
     ]
    }
   ],
   "source": [
    "cwd = %pwd\n",
    "print(cwd)"
   ]
  },
  {
   "cell_type": "code",
   "execution_count": 14,
   "metadata": {},
   "outputs": [
    {
     "name": "stdout",
     "output_type": "stream",
     "text": [
      "d:\\01-github\\ds-book-python\\_source\n"
     ]
    }
   ],
   "source": [
    "# hoặc\n",
    "import os\n",
    "cwd = os.getcwd()\n",
    "print(cwd)"
   ]
  },
  {
   "cell_type": "code",
   "execution_count": 15,
   "metadata": {},
   "outputs": [
    {
     "data": {
      "text/plain": [
       "['.ipynb_checkpoints',\n",
       " '99_dataset',\n",
       " 'boxplot.png',\n",
       " 'chart.png',\n",
       " 'conf.py',\n",
       " 'debug.log',\n",
       " 'final_model.sav',\n",
       " 'flask-api.py',\n",
       " 'Image',\n",
       " 'index.rst']"
      ]
     },
     "execution_count": 15,
     "metadata": {},
     "output_type": "execute_result"
    }
   ],
   "source": [
    "# List các file trong thư mục hiện hành trong jupyter notebook %ls\n",
    "os.listdir()[0:10]"
   ]
  },
  {
   "cell_type": "markdown",
   "metadata": {},
   "source": [
    "### Cách xuống dòng\n",
    "\n",
    "Ta có thể xuống dòng với dấu `\\` và **không có dấu cách** đằng sau"
   ]
  },
  {
   "cell_type": "code",
   "execution_count": 16,
   "metadata": {},
   "outputs": [
    {
     "data": {
      "text/plain": [
       "15"
      ]
     },
     "execution_count": 16,
     "metadata": {},
     "output_type": "execute_result"
    }
   ],
   "source": [
    "7 + \\\n",
    "    8"
   ]
  },
  {
   "cell_type": "markdown",
   "metadata": {},
   "source": [
    "- Comment với dâu `#`"
   ]
  },
  {
   "cell_type": "code",
   "execution_count": 17,
   "metadata": {},
   "outputs": [
    {
     "data": {
      "text/plain": [
       "72"
      ]
     },
     "execution_count": 17,
     "metadata": {},
     "output_type": "execute_result"
    }
   ],
   "source": [
    "8 * 9 #comment here"
   ]
  },
  {
   "cell_type": "markdown",
   "metadata": {},
   "source": [
    "### Help trong python"
   ]
  },
  {
   "cell_type": "markdown",
   "metadata": {},
   "source": [
    "Tương tự như R, ta có thể truy cập và tìm kiếm các tài liệu sẵn có trong một hàm. Các tài liệu đó được viết dưới dạng đặc biệt được gọi là `docs string`, viết trong `\"\"\"...\"\"\"`"
   ]
  },
  {
   "cell_type": "markdown",
   "metadata": {},
   "source": [
    "Ta có thể đọc tài liệu với cấu trúc câu lệnh `function??`"
   ]
  },
  {
   "cell_type": "code",
   "execution_count": 18,
   "metadata": {},
   "outputs": [
    {
     "name": "stdout",
     "output_type": "stream",
     "text": [
      "\u001b[1;31mCall signature:\u001b[0m  \u001b[0mnp\u001b[0m\u001b[1;33m.\u001b[0m\u001b[0msquare\u001b[0m\u001b[1;33m(\u001b[0m\u001b[1;33m*\u001b[0m\u001b[0margs\u001b[0m\u001b[1;33m,\u001b[0m \u001b[1;33m**\u001b[0m\u001b[0mkwargs\u001b[0m\u001b[1;33m)\u001b[0m\u001b[1;33m\u001b[0m\u001b[1;33m\u001b[0m\u001b[0m\n",
      "\u001b[1;31mType:\u001b[0m            ufunc\n",
      "\u001b[1;31mString form:\u001b[0m     <ufunc 'square'>\n",
      "\u001b[1;31mFile:\u001b[0m            c:\\users\\hoang duc anh\\appdata\\local\\programs\\python\\python311\\lib\\site-packages\\numpy\\__init__.py\n",
      "\u001b[1;31mDocstring:\u001b[0m      \n",
      "square(x, /, out=None, *, where=True, casting='same_kind', order='K', dtype=None, subok=True[, signature, extobj])\n",
      "\n",
      "Return the element-wise square of the input.\n",
      "\n",
      "Parameters\n",
      "----------\n",
      "x : array_like\n",
      "    Input data.\n",
      "out : ndarray, None, or tuple of ndarray and None, optional\n",
      "    A location into which the result is stored. If provided, it must have\n",
      "    a shape that the inputs broadcast to. If not provided or None,\n",
      "    a freshly-allocated array is returned. A tuple (possible only as a\n",
      "    keyword argument) must have length equal to the number of outputs.\n",
      "where : array_like, optional\n",
      "    This condition is broadcast over the input. At locations where the\n",
      "    condition is True, the `out` array will be set to the ufunc result.\n",
      "    Elsewhere, the `out` array will retain its original value.\n",
      "    Note that if an uninitialized `out` array is created via the default\n",
      "    ``out=None``, locations within it where the condition is False will\n",
      "    remain uninitialized.\n",
      "**kwargs\n",
      "    For other keyword-only arguments, see the\n",
      "    :ref:`ufunc docs <ufuncs.kwargs>`.\n",
      "\n",
      "Returns\n",
      "-------\n",
      "out : ndarray or scalar\n",
      "    Element-wise `x*x`, of the same shape and dtype as `x`.\n",
      "    This is a scalar if `x` is a scalar.\n",
      "\n",
      "See Also\n",
      "--------\n",
      "numpy.linalg.matrix_power\n",
      "sqrt\n",
      "power\n",
      "\n",
      "Examples\n",
      "--------\n",
      ">>> np.square([-1j, 1])\n",
      "array([-1.-0.j,  1.+0.j])\n",
      "\u001b[1;31mClass docstring:\u001b[0m\n",
      "Functions that operate element by element on whole arrays.\n",
      "\n",
      "To see the documentation for a specific ufunc, use `info`.  For\n",
      "example, ``np.info(np.sin)``.  Because ufuncs are written in C\n",
      "(for speed) and linked into Python with NumPy's ufunc facility,\n",
      "Python's help() function finds this page whenever help() is called\n",
      "on a ufunc.\n",
      "\n",
      "A detailed explanation of ufuncs can be found in the docs for :ref:`ufuncs`.\n",
      "\n",
      "**Calling ufuncs:** ``op(*x[, out], where=True, **kwargs)``\n",
      "\n",
      "Apply `op` to the arguments `*x` elementwise, broadcasting the arguments.\n",
      "\n",
      "The broadcasting rules are:\n",
      "\n",
      "* Dimensions of length 1 may be prepended to either array.\n",
      "* Arrays may be repeated along dimensions of length 1.\n",
      "\n",
      "Parameters\n",
      "----------\n",
      "*x : array_like\n",
      "    Input arrays.\n",
      "out : ndarray, None, or tuple of ndarray and None, optional\n",
      "    Alternate array object(s) in which to put the result; if provided, it\n",
      "    must have a shape that the inputs broadcast to. A tuple of arrays\n",
      "    (possible only as a keyword argument) must have length equal to the\n",
      "    number of outputs; use None for uninitialized outputs to be\n",
      "    allocated by the ufunc.\n",
      "where : array_like, optional\n",
      "    This condition is broadcast over the input. At locations where the\n",
      "    condition is True, the `out` array will be set to the ufunc result.\n",
      "    Elsewhere, the `out` array will retain its original value.\n",
      "    Note that if an uninitialized `out` array is created via the default\n",
      "    ``out=None``, locations within it where the condition is False will\n",
      "    remain uninitialized.\n",
      "**kwargs\n",
      "    For other keyword-only arguments, see the :ref:`ufunc docs <ufuncs.kwargs>`.\n",
      "\n",
      "Returns\n",
      "-------\n",
      "r : ndarray or tuple of ndarray\n",
      "    `r` will have the shape that the arrays in `x` broadcast to; if `out` is\n",
      "    provided, it will be returned. If not, `r` will be allocated and\n",
      "    may contain uninitialized values. If the function has more than one\n",
      "    output, then the result will be a tuple of arrays."
     ]
    }
   ],
   "source": [
    "import numpy as np\n",
    "np.square??"
   ]
  },
  {
   "cell_type": "markdown",
   "metadata": {},
   "source": [
    "- Sử dụng tab để tự động điền các hàm hoặc khi import thư viện\n",
    "\n",
    "Ví dụ: `np.TAB`\n",
    "\n",
    "`from sklearn import da<TAB>`\n",
    "\n",
    "### Chạy external code trên notebook\n"
   ]
  },
  {
   "cell_type": "markdown",
   "metadata": {},
   "source": [
    "- Chạy file .py\n",
    "  \n",
    "```python\n",
    "%run script.py\n",
    "```\n",
    "\n",
    "- Chạy file .ipynb\n",
    "\n",
    "```python\n",
    "%run file.ipynb\n",
    "```"
   ]
  },
  {
   "cell_type": "markdown",
   "metadata": {},
   "source": [
    "### Hiển thị code đã chạy\n",
    "\n",
    "Jupyter notebook cho phép hiển thị các đoạn cell đã chạy trong cùng notebook"
   ]
  },
  {
   "cell_type": "code",
   "execution_count": 1,
   "metadata": {},
   "outputs": [
    {
     "ename": "IndexError",
     "evalue": "list index out of range",
     "output_type": "error",
     "traceback": [
      "\u001b[1;31m---------------------------------------------------------------------------\u001b[0m",
      "\u001b[1;31mIndexError\u001b[0m                                Traceback (most recent call last)",
      "Cell \u001b[1;32mIn[1], line 1\u001b[0m\n\u001b[1;32m----> 1\u001b[0m \u001b[38;5;28mprint\u001b[39m(\u001b[43mIn\u001b[49m\u001b[43m[\u001b[49m\u001b[38;5;241;43m8\u001b[39;49m\u001b[43m]\u001b[49m)\n",
      "\u001b[1;31mIndexError\u001b[0m: list index out of range"
     ]
    }
   ],
   "source": [
    "print(In[8])"
   ]
  },
  {
   "cell_type": "markdown",
   "metadata": {},
   "source": [
    "### Làm việc với shell\n",
    "\n",
    "Python cho phép làm việc với shell trong Python\n",
    "\n",
    "```\n",
    "ls\n",
    "```\n",
    "\n",
    "Để gán kết quả từ shell, sử dụng toán tử `!`\n",
    "\n",
    "```\n",
    "my_content = !ls\n",
    "len(my_content)\n",
    "```\n",
    "\n",
    "### Kiểm tra thời gian chạy code"
   ]
  },
  {
   "cell_type": "code",
   "execution_count": 20,
   "metadata": {},
   "outputs": [
    {
     "name": "stdout",
     "output_type": "stream",
     "text": [
      "CPU times: total: 0 ns\n",
      "Wall time: 0 ns\n"
     ]
    },
    {
     "data": {
      "text/plain": [
       "4950"
      ]
     },
     "execution_count": 20,
     "metadata": {},
     "output_type": "execute_result"
    }
   ],
   "source": [
    "%time sum(range(100))"
   ]
  },
  {
   "cell_type": "markdown",
   "metadata": {},
   "source": [
    "## Tài liệu tham khảo\n",
    "\n",
    "- https://www.dataquest.io/blog/jupyter-notebook-tips-tricks-shortcuts/\n",
    "- https://jupyterlab.readthedocs.io/en/stable/getting_started/installation.html\n",
    "- https://nbsphinx.readthedocs.io/en/0.4.2/installation.html\n",
    "- https://sphinx-rtd-theme.readthedocs.io/en/stable/installing.html\n"
   ]
  }
 ],
 "metadata": {
  "kernelspec": {
   "display_name": "Python 3 (ipykernel)",
   "language": "python",
   "name": "python3"
  },
  "language_info": {
   "codemirror_mode": {
    "name": "ipython",
    "version": 3
   },
   "file_extension": ".py",
   "mimetype": "text/x-python",
   "name": "python",
   "nbconvert_exporter": "python",
   "pygments_lexer": "ipython3",
   "version": "3.11.5"
  }
 },
 "nbformat": 4,
 "nbformat_minor": 4
}
