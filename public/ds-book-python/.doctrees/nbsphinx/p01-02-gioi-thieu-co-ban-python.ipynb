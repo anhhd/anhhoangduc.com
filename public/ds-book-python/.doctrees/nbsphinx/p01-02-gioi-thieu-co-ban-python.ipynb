{
 "cells": [
  {
   "cell_type": "markdown",
   "metadata": {},
   "source": [
    "# Các cấu trúc cơ bản trong Python"
   ]
  },
  {
   "cell_type": "markdown",
   "metadata": {},
   "source": [
    "## Variables - biến\n",
    "\n",
    "Để gán biến trong Python, chúng ta sử dụng `=`, mỗi biến được gán sẽ chiếm 1 lượng bộ nhớ nhất định. Biến trong Python sẽ tương tự như object trong R"
   ]
  },
  {
   "cell_type": "code",
   "execution_count": 1,
   "metadata": {},
   "outputs": [
    {
     "data": {
      "text/plain": [
       "20"
      ]
     },
     "execution_count": 1,
     "metadata": {},
     "output_type": "execute_result"
    }
   ],
   "source": [
    "x = 20\n",
    "x"
   ]
  },
  {
   "cell_type": "markdown",
   "metadata": {},
   "source": [
    "Đặt tên biến phải follow 1 số rule cơ bản sau:\n",
    "- Sử dụng chữ, số, `_` và ko được sử dụng `'`, `-`, khoảng trắng\n",
    "- Bắt đầu bằng chữ\n",
    "\n",
    "## Cấu trúc dữ liệu\n",
    "\n",
    "- Các kiểu dữ liệu thông dụng nhất trong Python\n",
    "    * Booleans\n",
    "    * Numbers\n",
    "    * Strings\n",
    "    * Printing\n",
    "    * Lists\n",
    "    * Dictionaries    \n",
    "    * Tuples \n",
    "    * Sets\n",
    "\n",
    "### Boolean\n",
    "\n",
    "bao gồm 2 giá trị `True` và `False`"
   ]
  },
  {
   "cell_type": "code",
   "execution_count": 2,
   "metadata": {},
   "outputs": [
    {
     "data": {
      "text/plain": [
       "True"
      ]
     },
     "execution_count": 2,
     "metadata": {},
     "output_type": "execute_result"
    }
   ],
   "source": [
    "x = True\n",
    "x"
   ]
  },
  {
   "cell_type": "code",
   "execution_count": 3,
   "metadata": {},
   "outputs": [
    {
     "data": {
      "text/plain": [
       "False"
      ]
     },
     "execution_count": 3,
     "metadata": {},
     "output_type": "execute_result"
    }
   ],
   "source": [
    "x = 100 < 2\n",
    "x"
   ]
  },
  {
   "cell_type": "markdown",
   "metadata": {},
   "source": [
    "Hàm type là hàm trả về kiểu dữ liệu của đối tượng"
   ]
  },
  {
   "cell_type": "code",
   "execution_count": 4,
   "metadata": {},
   "outputs": [
    {
     "data": {
      "text/plain": [
       "bool"
      ]
     },
     "execution_count": 4,
     "metadata": {},
     "output_type": "execute_result"
    }
   ],
   "source": [
    "type(x)"
   ]
  },
  {
   "cell_type": "markdown",
   "metadata": {},
   "source": [
    "Khi tính toán số học `True` được tính là 1, `False` là 0"
   ]
  },
  {
   "cell_type": "code",
   "execution_count": 8,
   "metadata": {},
   "outputs": [
    {
     "data": {
      "text/plain": [
       "1"
      ]
     },
     "execution_count": 8,
     "metadata": {},
     "output_type": "execute_result"
    }
   ],
   "source": [
    "True + False"
   ]
  },
  {
   "cell_type": "code",
   "execution_count": 9,
   "metadata": {},
   "outputs": [
    {
     "data": {
      "text/plain": [
       "2"
      ]
     },
     "execution_count": 9,
     "metadata": {},
     "output_type": "execute_result"
    }
   ],
   "source": [
    "y = [False, False, True, True] # List boolean value\n",
    "sum(y)"
   ]
  },
  {
   "cell_type": "markdown",
   "metadata": {},
   "source": [
    "### Numbers\n",
    "\n",
    "giống như các ngôn ngữ khác, 2 kiểu dữ liệu số phổ biến là `integer` và `float` "
   ]
  },
  {
   "cell_type": "code",
   "execution_count": 10,
   "metadata": {},
   "outputs": [
    {
     "data": {
      "text/plain": [
       "int"
      ]
     },
     "execution_count": 10,
     "metadata": {},
     "output_type": "execute_result"
    }
   ],
   "source": [
    "a, b = 1, 2\n",
    "c, d = 2.5, 10.0\n",
    "type(a)"
   ]
  },
  {
   "cell_type": "code",
   "execution_count": 11,
   "metadata": {},
   "outputs": [
    {
     "data": {
      "text/plain": [
       "float"
      ]
     },
     "execution_count": 11,
     "metadata": {},
     "output_type": "execute_result"
    }
   ],
   "source": [
    "type(d)"
   ]
  },
  {
   "cell_type": "markdown",
   "metadata": {},
   "source": [
    "Integer & float là kiểu dữ liệu bất biến (immutable). Khi thực hiện các phép toán trên dạng biến này, một ô nhớ khác được tạo ra và chứa kết quả, giá trị biến ban đầu được bảo toàn.VD:"
   ]
  },
  {
   "cell_type": "code",
   "execution_count": 12,
   "metadata": {},
   "outputs": [
    {
     "data": {
      "text/plain": [
       "4"
      ]
     },
     "execution_count": 12,
     "metadata": {},
     "output_type": "execute_result"
    }
   ],
   "source": [
    "x = 2\n",
    "x * 2"
   ]
  },
  {
   "cell_type": "code",
   "execution_count": 13,
   "metadata": {},
   "outputs": [
    {
     "data": {
      "text/plain": [
       "2"
      ]
     },
     "execution_count": 13,
     "metadata": {},
     "output_type": "execute_result"
    }
   ],
   "source": [
    "x"
   ]
  },
  {
   "cell_type": "code",
   "execution_count": 14,
   "metadata": {},
   "outputs": [
    {
     "data": {
      "text/plain": [
       "4"
      ]
     },
     "execution_count": 14,
     "metadata": {},
     "output_type": "execute_result"
    }
   ],
   "source": [
    "# Gtri chỉ thay đổi khi gán vào 1 biến mới\n",
    "x = x * 2\n",
    "x"
   ]
  },
  {
   "cell_type": "markdown",
   "metadata": {},
   "source": [
    "### String\n",
    "\n",
    "trong Python, **string** cũng là kiểu dữ liệu immutable\n",
    "\n",
    "![](https://lh3.googleusercontent.com/-WNOOzlAbmB4fdFdactyzZ0rd4eiw3fbQHjopYenkSVW-Nqt3QvjYHIW2SI04yn9tkXclQ8iia_Loi6H7gyP7iIROHAlppc-QT_9XPyPzUVJgxH3RWvxgixZQsh_n6g7AF5JxxnXt3zn83M5YbwFGbPodlWuuaOI-A5NW8YHl4UGxb0MrbNC_E2t40bhEl80BlKWZmPcL-oFHimsHZl8TnPhAxdfYYu8gahhtEkZotJSdmQRTcqj0QMf5-SHzAwp7fGnhhKEEDD2SKxg4nFhtgNSV_rVdXo8rxb9vj2u5g6O3eZXxnGtDrY5wsBTJgpDwnzHY4KGwnkxTWBRoYKH9sLjnBQgfgULUu9LiJHr90tmS1Mw4z4m_KzvVCB70q3jDLNoE370NJghhbWXhDUM4Abcq2J-pYAQvbaOyyUZJS6PLOp-58mRl6GTFOjMx7so6SSr_xHqeJJYxfYqDfnZ_gUe_AuokO8C52MJ5hQkMDWDiZ_VUahww7pmocku4fW-Hs2U6BL5qNeynb4h2jg7WXRl7dIEfG0qCLVPzCJwQY_lYka9t8mzJ8oLaOg25tPKdn03QyZA5cFaHqfpjNpVvbmWt3Kl2k3Sgvtm5YrjVVVBcG82Hqk2zBZmeW5dJ25-uV-774Fs3Sr0kR7aPQESSDYPIct79SXRqg=w269-h150-no)"
   ]
  },
  {
   "cell_type": "code",
   "execution_count": 15,
   "metadata": {},
   "outputs": [
    {
     "data": {
      "text/plain": [
       "True"
      ]
     },
     "execution_count": 15,
     "metadata": {},
     "output_type": "execute_result"
    }
   ],
   "source": [
    "# Có thể nhập bằng single quote hoặc double quote\n",
    "a = 'single quotes'\n",
    "b = \"single quotes\"\n",
    "a == b"
   ]
  },
  {
   "cell_type": "code",
   "execution_count": 16,
   "metadata": {},
   "outputs": [
    {
     "data": {
      "text/plain": [
       "\"i'm a man\""
      ]
     },
     "execution_count": 16,
     "metadata": {},
     "output_type": "execute_result"
    }
   ],
   "source": [
    "#hoặc cả 2\n",
    "c = \"i'm a man\"\n",
    "c"
   ]
  },
  {
   "cell_type": "code",
   "execution_count": 17,
   "metadata": {},
   "outputs": [
    {
     "data": {
      "text/plain": [
       "'h'"
      ]
     },
     "execution_count": 17,
     "metadata": {},
     "output_type": "execute_result"
    }
   ],
   "source": [
    "word = \"hello\"\n",
    "word[0]"
   ]
  },
  {
   "cell_type": "markdown",
   "metadata": {},
   "source": [
    "Chuỗi bao gồm một tập hợp các ký tự sắp xếp tuần tự, mỗi ký tự đều có một **chỉ mục(index)** riêng. \n",
    "\n",
    "Chỉ mục được đánh 2 chiều từ trái qua phải và từ phải qua trái. Bên dưới là cách truy cập vào từng ký tự của chuỗi thông qua chỉ mục: **word[index]** "
   ]
  },
  {
   "cell_type": "code",
   "execution_count": 18,
   "metadata": {},
   "outputs": [
    {
     "data": {
      "text/plain": [
       "'l'"
      ]
     },
     "execution_count": 18,
     "metadata": {},
     "output_type": "execute_result"
    }
   ],
   "source": [
    "word = \"hello\"\n",
    "# Chiều từ trái qua phải\n",
    "word[2]"
   ]
  },
  {
   "cell_type": "code",
   "execution_count": 19,
   "metadata": {},
   "outputs": [
    {
     "data": {
      "text/plain": [
       "'o'"
      ]
     },
     "execution_count": 19,
     "metadata": {},
     "output_type": "execute_result"
    }
   ],
   "source": [
    "# Chiều từ phải qua trái, sd khi ko biết chính xác độ dài chuỗi\n",
    "word[-1]"
   ]
  },
  {
   "cell_type": "markdown",
   "metadata": {},
   "source": [
    "**String Slicing**\n",
    "\n",
    "> Cú pháp: **string[begin:end:step]** - cắt chuỗi từ phần tử **begin** cho đến phần tử **trước** phần tử **end**, khoảng cách giữa các ký tự là **step**"
   ]
  },
  {
   "cell_type": "code",
   "execution_count": 20,
   "metadata": {},
   "outputs": [
    {
     "data": {
      "text/plain": [
       "'el'"
      ]
     },
     "execution_count": 20,
     "metadata": {},
     "output_type": "execute_result"
    }
   ],
   "source": [
    "word[1:3]"
   ]
  },
  {
   "cell_type": "code",
   "execution_count": 21,
   "metadata": {},
   "outputs": [
    {
     "data": {
      "text/plain": [
       "'llo'"
      ]
     },
     "execution_count": 21,
     "metadata": {},
     "output_type": "execute_result"
    }
   ],
   "source": [
    "word[2:]"
   ]
  },
  {
   "cell_type": "code",
   "execution_count": 22,
   "metadata": {},
   "outputs": [
    {
     "data": {
      "text/plain": [
       "'hlo'"
      ]
     },
     "execution_count": 22,
     "metadata": {},
     "output_type": "execute_result"
    }
   ],
   "source": [
    "# Lấy cả chuỗi, cách 2 đơn vị\n",
    "word[::2]"
   ]
  },
  {
   "cell_type": "markdown",
   "metadata": {},
   "source": [
    "**String methods**"
   ]
  },
  {
   "cell_type": "code",
   "execution_count": 23,
   "metadata": {},
   "outputs": [],
   "source": [
    "dept = 'Phòng Phân tích kinh doanh'"
   ]
  },
  {
   "cell_type": "code",
   "execution_count": 24,
   "metadata": {},
   "outputs": [
    {
     "data": {
      "text/plain": [
       "'phòng phân tích kinh doanh'"
      ]
     },
     "execution_count": 24,
     "metadata": {},
     "output_type": "execute_result"
    }
   ],
   "source": [
    "# trả về dạng chữ thường\n",
    "dept.lower()"
   ]
  },
  {
   "cell_type": "markdown",
   "metadata": {},
   "source": [
    "`lower` ở đây là 1 `method` - tức là 1 function được attached vào object - ở đây là object `dept`, chúng ta sẽ tìm hiểu thêm về `method` trong các phần sau, có thể hiểu đơn giản:\n",
    "\n",
    "- Python objects như list, string, .... đều có các method mặc định được sử dụng để manipulate dữ liệu trong các object đó\n",
    "- `String` object có string method, `list` có list method"
   ]
  },
  {
   "cell_type": "code",
   "execution_count": 25,
   "metadata": {},
   "outputs": [
    {
     "data": {
      "text/plain": [
       "'PHÒNG PHÂN TÍCH KINH DOANH'"
      ]
     },
     "execution_count": 25,
     "metadata": {},
     "output_type": "execute_result"
    }
   ],
   "source": [
    "# trả về dạng chữ hoa\n",
    "dept.upper()"
   ]
  },
  {
   "cell_type": "code",
   "execution_count": 26,
   "metadata": {},
   "outputs": [
    {
     "data": {
      "text/plain": [
       "['Phòng', 'Phân', 'tích', 'kinh', 'doanh']"
      ]
     },
     "execution_count": 26,
     "metadata": {},
     "output_type": "execute_result"
    }
   ],
   "source": [
    "# Trả về một list các phần tử được tách bởi một dấu phân cách(delimiter) cho trước\n",
    "dept.split()"
   ]
  },
  {
   "cell_type": "code",
   "execution_count": 27,
   "metadata": {},
   "outputs": [
    {
     "data": {
      "text/plain": [
       "'axxbxxc'"
      ]
     },
     "execution_count": 27,
     "metadata": {},
     "output_type": "execute_result"
    }
   ],
   "source": [
    "# Trả về một chuỗi được ghép bởi các phần tử từ một list, theo một dấu phân cách cho trước\n",
    "'xx'.join(['a', 'b', 'c'])"
   ]
  },
  {
   "cell_type": "code",
   "execution_count": 28,
   "metadata": {},
   "outputs": [
    {
     "data": {
      "text/plain": [
       "-1"
      ]
     },
     "execution_count": 28,
     "metadata": {},
     "output_type": "execute_result"
    }
   ],
   "source": [
    "#tìm kiếm ký tự - trả về vị trí của ký tự đầu tiên tìm được trong chuỗi\n",
    "# trả ra -1 nếu k tìm thấy\n",
    "dept.find('phòng')"
   ]
  },
  {
   "cell_type": "code",
   "execution_count": 29,
   "metadata": {},
   "outputs": [
    {
     "data": {
      "text/plain": [
       "False"
      ]
     },
     "execution_count": 29,
     "metadata": {},
     "output_type": "execute_result"
    }
   ],
   "source": [
    "# Check xem chuỗi có bắt đầu bằng ký tự cho trước không\n",
    "dept.startswith('w')"
   ]
  },
  {
   "cell_type": "code",
   "execution_count": 30,
   "metadata": {},
   "outputs": [
    {
     "data": {
      "text/plain": [
       "True"
      ]
     },
     "execution_count": 30,
     "metadata": {},
     "output_type": "execute_result"
    }
   ],
   "source": [
    "# tương tự là endwith\n",
    "dept.endswith('doanh')"
   ]
  },
  {
   "cell_type": "markdown",
   "metadata": {},
   "source": [
    "### List\n",
    "\n",
    "Là kiểu dữ liệu linh hoạt nhất trong Python, là 1 tập hợp các phần tử - có thể cùng kiểu dữ liệu hoặc không, trong list các phần từ được **sắp xếp** và **có thể thay đổi (mutable)**. \n",
    "\n",
    "**Khởi tạo list**\n",
    "\n",
    "Để khởi tạo list, chúng ta dùng `[]`"
   ]
  },
  {
   "cell_type": "code",
   "execution_count": 31,
   "metadata": {},
   "outputs": [
    {
     "data": {
      "text/plain": [
       "list"
      ]
     },
     "execution_count": 31,
     "metadata": {},
     "output_type": "execute_result"
    }
   ],
   "source": [
    "x = [10, 'foo', False, 2.5] #các phần tử có kiểu dữ liệu không đồng nhất\n",
    "type(x)"
   ]
  },
  {
   "cell_type": "markdown",
   "metadata": {},
   "source": [
    "hoặc hàm list():"
   ]
  },
  {
   "cell_type": "code",
   "execution_count": 32,
   "metadata": {},
   "outputs": [
    {
     "data": {
      "text/plain": [
       "['xanh', 'đỏ', 'vàng']"
      ]
     },
     "execution_count": 32,
     "metadata": {},
     "output_type": "execute_result"
    }
   ],
   "source": [
    "color = list(['xanh', 'đỏ', 'vàng'])\n",
    "color"
   ]
  },
  {
   "cell_type": "markdown",
   "metadata": {},
   "source": [
    "Index của `list` được đánh theo nguyên tắc tương tự như `string` đã nêu ở trên"
   ]
  },
  {
   "cell_type": "code",
   "execution_count": 33,
   "metadata": {},
   "outputs": [
    {
     "data": {
      "text/plain": [
       "'foo'"
      ]
     },
     "execution_count": 33,
     "metadata": {},
     "output_type": "execute_result"
    }
   ],
   "source": [
    "x[1]"
   ]
  },
  {
   "cell_type": "code",
   "execution_count": 34,
   "metadata": {},
   "outputs": [
    {
     "data": {
      "text/plain": [
       "False"
      ]
     },
     "execution_count": 34,
     "metadata": {},
     "output_type": "execute_result"
    }
   ],
   "source": [
    "x[-2]"
   ]
  },
  {
   "cell_type": "markdown",
   "metadata": {},
   "source": [
    "**List slicing**\n",
    "\n",
    "> Cú pháp: **list[begin:end:step]**\n",
    "\n",
    "- begin: Chỉ mục của phần tử đầu tiên\n",
    "- end: Chỉ mục của phần tử **sau** phần tử cuối cùng\n",
    "- step: Khoảng cách chỉ mục của các phần tử sẽ được lấy ra"
   ]
  },
  {
   "cell_type": "code",
   "execution_count": 35,
   "metadata": {},
   "outputs": [
    {
     "data": {
      "text/plain": [
       "['foo', False]"
      ]
     },
     "execution_count": 35,
     "metadata": {},
     "output_type": "execute_result"
    }
   ],
   "source": [
    "x[1:3]"
   ]
  },
  {
   "cell_type": "code",
   "execution_count": 36,
   "metadata": {},
   "outputs": [],
   "source": [
    "numbers = [0, 1, 2, 3, 4, 5, 6, 7, 8, 9]"
   ]
  },
  {
   "cell_type": "code",
   "execution_count": 37,
   "metadata": {},
   "outputs": [
    {
     "data": {
      "text/plain": [
       "[1, 4, 7]"
      ]
     },
     "execution_count": 37,
     "metadata": {},
     "output_type": "execute_result"
    }
   ],
   "source": [
    "numbers[1:9:3] # cắt từ 1 đến trước 9, khoảng khách là 3"
   ]
  },
  {
   "cell_type": "code",
   "execution_count": 38,
   "metadata": {},
   "outputs": [
    {
     "data": {
      "text/plain": [
       "[0, 2, 4, 6, 8]"
      ]
     },
     "execution_count": 38,
     "metadata": {},
     "output_type": "execute_result"
    }
   ],
   "source": [
    "numbers[::2] # lấy từ đầu đến cuối, khoảng cách là 2"
   ]
  },
  {
   "cell_type": "code",
   "execution_count": 39,
   "metadata": {},
   "outputs": [
    {
     "data": {
      "text/plain": [
       "[0, 1]"
      ]
     },
     "execution_count": 39,
     "metadata": {},
     "output_type": "execute_result"
    }
   ],
   "source": [
    "numbers[:2] # lấy 2 giá trị đầu"
   ]
  },
  {
   "cell_type": "code",
   "execution_count": 40,
   "metadata": {},
   "outputs": [
    {
     "data": {
      "text/plain": [
       "[7, 8, 9]"
      ]
     },
     "execution_count": 40,
     "metadata": {},
     "output_type": "execute_result"
    }
   ],
   "source": [
    "numbers[-3:] # lấy 3 giá trị cuối"
   ]
  },
  {
   "cell_type": "code",
   "execution_count": 41,
   "metadata": {},
   "outputs": [
    {
     "data": {
      "text/plain": [
       "[9, 8, 7, 6, 5, 4, 3, 2, 1, 0]"
      ]
     },
     "execution_count": 41,
     "metadata": {},
     "output_type": "execute_result"
    }
   ],
   "source": [
    "numbers[::-1] # đảo ngược giá trị của list"
   ]
  },
  {
   "cell_type": "markdown",
   "metadata": {},
   "source": [
    "**Thay đổi phần tử trong list**"
   ]
  },
  {
   "cell_type": "code",
   "execution_count": 42,
   "metadata": {},
   "outputs": [],
   "source": [
    "skill_sets = ['sql', 'r', 'excel', 'python']"
   ]
  },
  {
   "cell_type": "code",
   "execution_count": 43,
   "metadata": {},
   "outputs": [
    {
     "data": {
      "text/plain": [
       "['sql', 'r', 'spss']"
      ]
     },
     "execution_count": 43,
     "metadata": {},
     "output_type": "execute_result"
    }
   ],
   "source": [
    "# Thay đổi từ chỉ mục 2 đến hết\n",
    "skill_sets[2:] = ['spss']\n",
    "skill_sets"
   ]
  },
  {
   "cell_type": "code",
   "execution_count": 44,
   "metadata": {},
   "outputs": [
    {
     "data": {
      "text/plain": [
       "['sql', 'vba', 'spss']"
      ]
     },
     "execution_count": 44,
     "metadata": {},
     "output_type": "execute_result"
    }
   ],
   "source": [
    "# chỉ mục 1 thay bằng 'vba'\n",
    "skill_sets[1] = 'vba'\n",
    "skill_sets"
   ]
  },
  {
   "cell_type": "markdown",
   "metadata": {},
   "source": [
    "**List methods**\n",
    "\n",
    "`append()`: Thêm một phần tử vào list"
   ]
  },
  {
   "cell_type": "code",
   "execution_count": 45,
   "metadata": {},
   "outputs": [
    {
     "data": {
      "text/plain": [
       "[0, 1, 2, 3, 4, 5, 6, 7, 8, 9, 15]"
      ]
     },
     "execution_count": 45,
     "metadata": {},
     "output_type": "execute_result"
    }
   ],
   "source": [
    "numbers.append(15)\n",
    "numbers"
   ]
  },
  {
   "cell_type": "markdown",
   "metadata": {},
   "source": [
    "`pop`: xóa phần tử trong list"
   ]
  },
  {
   "cell_type": "code",
   "execution_count": 46,
   "metadata": {},
   "outputs": [
    {
     "data": {
      "text/plain": [
       "[0, 1, 2, 4, 5, 6, 7, 8, 9, 15]"
      ]
     },
     "execution_count": 46,
     "metadata": {},
     "output_type": "execute_result"
    }
   ],
   "source": [
    "numbers.pop(3) #xóa phần từ thứ 3\n",
    "numbers"
   ]
  },
  {
   "cell_type": "markdown",
   "metadata": {},
   "source": [
    "`extend(list2)`: Ghép một list mới vào list hiện tại"
   ]
  },
  {
   "cell_type": "code",
   "execution_count": 47,
   "metadata": {},
   "outputs": [
    {
     "data": {
      "text/plain": [
       "[0, 1, 2, 4, 5, 6, 7, 8, 9, 15, 'a', 'b', 'c']"
      ]
     },
     "execution_count": 47,
     "metadata": {},
     "output_type": "execute_result"
    }
   ],
   "source": [
    "numbers.extend(['a', 'b', 'c'])\n",
    "numbers"
   ]
  },
  {
   "cell_type": "markdown",
   "metadata": {},
   "source": [
    "`sort`: sắp xếp các phần tử theo thứ tự, reverse = True nếu muốn sort kiểu descending"
   ]
  },
  {
   "cell_type": "code",
   "execution_count": 48,
   "metadata": {},
   "outputs": [
    {
     "data": {
      "text/plain": [
       "[9, 8, 7, 6, 5, 4, 3, 2, 1, 0]"
      ]
     },
     "execution_count": 48,
     "metadata": {},
     "output_type": "execute_result"
    }
   ],
   "source": [
    "numbers2 = [0, 1, 2, 3, 4, 5, 6, 7, 8, 9]\n",
    "numbers2.sort(reverse=True)\n",
    "numbers2"
   ]
  },
  {
   "cell_type": "markdown",
   "metadata": {},
   "source": [
    "Chi tiết hơn về `method` của list, chúng ta có thể xem [tại đây](https://docs.python.org/3/tutorial/datastructures.html#more-on-lists)\n",
    "\n",
    "### Tuple\n",
    "\n",
    "Hoàn toàn tương tự list, nhưng khác ở điểm Tuple là đối tượng **bất biến (immutable)**<br>\n",
    "Để khởi tạo tuple, chúng ta dùng () thay vì []"
   ]
  },
  {
   "cell_type": "code",
   "execution_count": 49,
   "metadata": {},
   "outputs": [
    {
     "data": {
      "text/plain": [
       "tuple"
      ]
     },
     "execution_count": 49,
     "metadata": {},
     "output_type": "execute_result"
    }
   ],
   "source": [
    "tuple1 = (\"Hanoi\", \"Hai Phong\", \"Tay Ninh\", \"Lam Dong\")\n",
    "type(tuple1)"
   ]
  },
  {
   "cell_type": "code",
   "execution_count": 50,
   "metadata": {},
   "outputs": [
    {
     "data": {
      "text/plain": [
       "tuple"
      ]
     },
     "execution_count": 50,
     "metadata": {},
     "output_type": "execute_result"
    }
   ],
   "source": [
    "tuple2 = \"Hanoi\", \"Hai Phong\", \"Tay Ninh\", \"Lam Dong\"\n",
    "type(tuple2)"
   ]
  },
  {
   "cell_type": "code",
   "execution_count": 51,
   "metadata": {},
   "outputs": [
    {
     "name": "stdout",
     "output_type": "stream",
     "text": [
      "<class 'tuple'> <class 'tuple'>\n"
     ]
    }
   ],
   "source": [
    "# Khời tạo tuple rỗng\n",
    "tpl = ()\n",
    "#hoặc\n",
    "tpl2 = tuple()\n",
    "print(type(tpl), type(tpl2))"
   ]
  },
  {
   "cell_type": "markdown",
   "metadata": {},
   "source": [
    "Vì Tuple là bất biến nên chúng ta sẽ không có những hàm thay đổi cấu trúc như append(), pop(),.. như của List"
   ]
  },
  {
   "cell_type": "code",
   "execution_count": 52,
   "metadata": {},
   "outputs": [],
   "source": [
    "list1 = [1, 2, 3]\n",
    "tuple1 = ('a', 'b', 'c')"
   ]
  },
  {
   "cell_type": "code",
   "execution_count": 53,
   "metadata": {},
   "outputs": [
    {
     "data": {
      "text/plain": [
       "[1, 2, 'a']"
      ]
     },
     "execution_count": 53,
     "metadata": {},
     "output_type": "execute_result"
    }
   ],
   "source": [
    "list1[2] = \"a\"\n",
    "list1"
   ]
  },
  {
   "cell_type": "markdown",
   "metadata": {},
   "source": [
    "Câu lệnh dưới đây sẽ báo lỗi vì tuple ko cho phép thay đổi 1 phần tử trong nó"
   ]
  },
  {
   "cell_type": "code",
   "execution_count": 55,
   "metadata": {},
   "outputs": [
    {
     "ename": "TypeError",
     "evalue": "'tuple' object does not support item assignment",
     "output_type": "error",
     "traceback": [
      "\u001b[1;31m---------------------------------------------------------------------------\u001b[0m",
      "\u001b[1;31mTypeError\u001b[0m                                 Traceback (most recent call last)",
      "Cell \u001b[1;32mIn[55], line 1\u001b[0m\n\u001b[1;32m----> 1\u001b[0m \u001b[43mtuple1\u001b[49m\u001b[43m[\u001b[49m\u001b[38;5;241;43m1\u001b[39;49m\u001b[43m]\u001b[49m \u001b[38;5;241m=\u001b[39m \u001b[38;5;241m1\u001b[39m\n\u001b[0;32m      2\u001b[0m tuple1\n",
      "\u001b[1;31mTypeError\u001b[0m: 'tuple' object does not support item assignment"
     ]
    }
   ],
   "source": [
    "tuple1[1] = 1\n",
    "tuple1"
   ]
  },
  {
   "cell_type": "markdown",
   "metadata": {},
   "source": [
    "Cả `tuple` và `list` đều có thể *unpacked* như ở dưới:"
   ]
  },
  {
   "cell_type": "code",
   "execution_count": 56,
   "metadata": {},
   "outputs": [
    {
     "data": {
      "text/plain": [
       "'b'"
      ]
     },
     "execution_count": 56,
     "metadata": {},
     "output_type": "execute_result"
    }
   ],
   "source": [
    "x, y, z = tuple1\n",
    "y"
   ]
  },
  {
   "cell_type": "markdown",
   "metadata": {},
   "source": [
    "Thao tác này khá tiện lợi và có tính ứng dụng cao sau này\n",
    "\n",
    "### Sets & Dictionaries\n",
    "\n",
    "**Dictionary** trong Python tương tự với từ điển ngoài đời thực, cũng bao gồm các cặp key - value (từ vựng - ý nghĩa). Key và Value được phân cách nhau bởi dấu hai chấm (:), các cặp key-value được phân cách nhau bởi dấu phẩy (,). Nhìn một cách tổng quát thì nó giống với Json<br>\n",
    "\n",
    "**Dictionary** là kiểu dữ liệu khả biến (mutable)"
   ]
  },
  {
   "cell_type": "code",
   "execution_count": 58,
   "metadata": {},
   "outputs": [
    {
     "data": {
      "text/plain": [
       "dict"
      ]
     },
     "execution_count": 58,
     "metadata": {},
     "output_type": "execute_result"
    }
   ],
   "source": [
    "d = {\n",
    "    'one':'một',\n",
    "    'two':'hai',\n",
    "    'three':'ba'}\n",
    "type(d)"
   ]
  },
  {
   "cell_type": "markdown",
   "metadata": {},
   "source": [
    "`one`, `two`, `three` là *key* còn `một`, `hai`, `ba` là *value*\n",
    "\n",
    "`value` trong dictionary có thể là bất kỳ kiểu dữ liệu nào: string, numbers, list..., tuy nhiên `key` thì phải là kiểu dữ liệu **bất biến(immutable)**"
   ]
  },
  {
   "cell_type": "code",
   "execution_count": 59,
   "metadata": {},
   "outputs": [
    {
     "data": {
      "text/plain": [
       "dict"
      ]
     },
     "execution_count": 59,
     "metadata": {},
     "output_type": "execute_result"
    }
   ],
   "source": [
    "d2 = {\n",
    "    'one': 0.5,\n",
    "    'two': [1, 2, 3],\n",
    "    'three': False}\n",
    "type(d2)"
   ]
  },
  {
   "cell_type": "markdown",
   "metadata": {},
   "source": [
    "Truy vấn 1 phần tử trong dictionary"
   ]
  },
  {
   "cell_type": "code",
   "execution_count": 60,
   "metadata": {},
   "outputs": [
    {
     "data": {
      "text/plain": [
       "[1, 2, 3]"
      ]
     },
     "execution_count": 60,
     "metadata": {},
     "output_type": "execute_result"
    }
   ],
   "source": [
    "d2['two']"
   ]
  },
  {
   "cell_type": "markdown",
   "metadata": {},
   "source": [
    "Thay đổi 1 phần tử trong dictionary"
   ]
  },
  {
   "cell_type": "code",
   "execution_count": 61,
   "metadata": {},
   "outputs": [
    {
     "data": {
      "text/plain": [
       "{'one': 0.5, 'two': [1, 2, 3], 'three': 3}"
      ]
     },
     "execution_count": 61,
     "metadata": {},
     "output_type": "execute_result"
    }
   ],
   "source": [
    "d2['three'] = 3\n",
    "d2"
   ]
  },
  {
   "cell_type": "markdown",
   "metadata": {},
   "source": [
    "Thêm một phần tử"
   ]
  },
  {
   "cell_type": "code",
   "execution_count": 62,
   "metadata": {},
   "outputs": [
    {
     "data": {
      "text/plain": [
       "{'one': 0.5, 'two': [1, 2, 3], 'three': 3, 'four': 4}"
      ]
     },
     "execution_count": 62,
     "metadata": {},
     "output_type": "execute_result"
    }
   ],
   "source": [
    "d2['four'] = 4\n",
    "d2"
   ]
  },
  {
   "cell_type": "markdown",
   "metadata": {},
   "source": [
    "Xóa 1 phần tử "
   ]
  },
  {
   "cell_type": "code",
   "execution_count": 63,
   "metadata": {},
   "outputs": [
    {
     "data": {
      "text/plain": [
       "{'one': 0.5, 'three': 3, 'four': 4}"
      ]
     },
     "execution_count": 63,
     "metadata": {},
     "output_type": "execute_result"
    }
   ],
   "source": [
    "del d2['two']\n",
    "d2"
   ]
  },
  {
   "cell_type": "markdown",
   "metadata": {},
   "source": [
    "**dictionary methods:**"
   ]
  },
  {
   "cell_type": "code",
   "execution_count": 64,
   "metadata": {},
   "outputs": [
    {
     "data": {
      "text/plain": [
       "dict_items([('one', 'một'), ('two', 'hai'), ('three', 'ba')])"
      ]
     },
     "execution_count": 64,
     "metadata": {},
     "output_type": "execute_result"
    }
   ],
   "source": [
    "d.items()"
   ]
  },
  {
   "cell_type": "code",
   "execution_count": 65,
   "metadata": {},
   "outputs": [
    {
     "data": {
      "text/plain": [
       "dict_values(['một', 'hai', 'ba'])"
      ]
     },
     "execution_count": 65,
     "metadata": {},
     "output_type": "execute_result"
    }
   ],
   "source": [
    "d.values()"
   ]
  },
  {
   "cell_type": "markdown",
   "metadata": {},
   "source": [
    "**Set** là 1 tập hợp các phần tử không duplicate"
   ]
  },
  {
   "cell_type": "code",
   "execution_count": 66,
   "metadata": {},
   "outputs": [
    {
     "data": {
      "text/plain": [
       "set"
      ]
     },
     "execution_count": 66,
     "metadata": {},
     "output_type": "execute_result"
    }
   ],
   "source": [
    "s1 = {'a', 'b', 3}\n",
    "type(s1)"
   ]
  },
  {
   "cell_type": "code",
   "execution_count": 67,
   "metadata": {},
   "outputs": [
    {
     "data": {
      "text/plain": [
       "{1, 2, 3}"
      ]
     },
     "execution_count": 67,
     "metadata": {},
     "output_type": "execute_result"
    }
   ],
   "source": [
    "s2 = {1, 1, 2, 2, 2, 3, 3, 3}\n",
    "s2"
   ]
  },
  {
   "cell_type": "markdown",
   "metadata": {},
   "source": [
    "Set có thể hứa nhiều kiểu dữ liệu khác nhau tuy nhiên các kiểu dữ liệu này phải immutable như Integer, Float, Boolean hay Tuple"
   ]
  },
  {
   "cell_type": "code",
   "execution_count": 68,
   "metadata": {},
   "outputs": [],
   "source": [
    "mix_set = { \"dbs_aad\", 34, (4, 5, 6) }"
   ]
  },
  {
   "cell_type": "markdown",
   "metadata": {},
   "source": [
    "Python sẽ báo lỗi nếu bạn đặt một biến khả biến trong Set, vd list"
   ]
  },
  {
   "cell_type": "code",
   "execution_count": 69,
   "metadata": {},
   "outputs": [
    {
     "ename": "TypeError",
     "evalue": "unhashable type: 'list'",
     "output_type": "error",
     "traceback": [
      "\u001b[1;31m---------------------------------------------------------------------------\u001b[0m",
      "\u001b[1;31mTypeError\u001b[0m                                 Traceback (most recent call last)",
      "Cell \u001b[1;32mIn[69], line 2\u001b[0m\n\u001b[0;32m      1\u001b[0m \u001b[38;5;66;03m#| error: true\u001b[39;00m\n\u001b[1;32m----> 2\u001b[0m mix_mutable_set \u001b[38;5;241m=\u001b[39m { \u001b[38;5;124m\"\u001b[39m\u001b[38;5;124mHải Phòng\u001b[39m\u001b[38;5;124m\"\u001b[39m, \u001b[38;5;124m\"\u001b[39m\u001b[38;5;124mHà Nội\u001b[39m\u001b[38;5;124m\"\u001b[39m, [ \u001b[38;5;241m2\u001b[39m, \u001b[38;5;241m4\u001b[39m ] }\n",
      "\u001b[1;31mTypeError\u001b[0m: unhashable type: 'list'"
     ]
    }
   ],
   "source": [
    "#| error: true\n",
    "mix_mutable_set = { \"Hải Phòng\", \"Hà Nội\", [ 2, 4 ] }"
   ]
  },
  {
   "cell_type": "markdown",
   "metadata": {},
   "source": [
    "**set methods**\n",
    "\n",
    "`add()` Thêm mới phần tử vào set"
   ]
  },
  {
   "cell_type": "code",
   "execution_count": 70,
   "metadata": {},
   "outputs": [
    {
     "data": {
      "text/plain": [
       "{3, '4', 'a', 'b'}"
      ]
     },
     "execution_count": 70,
     "metadata": {},
     "output_type": "execute_result"
    }
   ],
   "source": [
    "s1.add('4')\n",
    "s1"
   ]
  },
  {
   "cell_type": "markdown",
   "metadata": {},
   "source": [
    "`remove`: Xóa 1 phần tử"
   ]
  },
  {
   "cell_type": "code",
   "execution_count": 71,
   "metadata": {},
   "outputs": [
    {
     "data": {
      "text/plain": [
       "{3, 'a', 'b'}"
      ]
     },
     "execution_count": 71,
     "metadata": {},
     "output_type": "execute_result"
    }
   ],
   "source": [
    "s1.remove('4')\n",
    "s1"
   ]
  },
  {
   "cell_type": "code",
   "execution_count": 72,
   "metadata": {},
   "outputs": [
    {
     "data": {
      "text/plain": [
       "False"
      ]
     },
     "execution_count": 72,
     "metadata": {},
     "output_type": "execute_result"
    }
   ],
   "source": [
    "# Kiểm tra s1 có phải tập con của s2 ko \n",
    "s1.issubset(s2)"
   ]
  },
  {
   "cell_type": "code",
   "execution_count": 73,
   "metadata": {},
   "outputs": [
    {
     "data": {
      "text/plain": [
       "{3}"
      ]
     },
     "execution_count": 73,
     "metadata": {},
     "output_type": "execute_result"
    }
   ],
   "source": [
    "# Kiểm tra tập giao giữa 2 tập con\n",
    "s1.intersection(s2)"
   ]
  },
  {
   "cell_type": "markdown",
   "metadata": {},
   "source": [
    "## Toán tử - Operators\n",
    "\n",
    "Các toán tử liên quan đến số học như `+` `-` `*` `/` khá đơn giản nên chúng ta sẽ ko nhắc tới ở đây\n",
    "\n",
    "### Toán tử so sánh - Comparison operators"
   ]
  },
  {
   "cell_type": "code",
   "execution_count": 74,
   "metadata": {},
   "outputs": [
    {
     "data": {
      "text/plain": [
       "True"
      ]
     },
     "execution_count": 74,
     "metadata": {},
     "output_type": "execute_result"
    }
   ],
   "source": [
    "x, y = 1, 2\n",
    "x < y"
   ]
  },
  {
   "cell_type": "code",
   "execution_count": 75,
   "metadata": {},
   "outputs": [
    {
     "data": {
      "text/plain": [
       "False"
      ]
     },
     "execution_count": 75,
     "metadata": {},
     "output_type": "execute_result"
    }
   ],
   "source": [
    "x > y"
   ]
  },
  {
   "cell_type": "markdown",
   "metadata": {},
   "source": [
    "Chúng ta có thể so sánh 1 chuỗi các giá trị"
   ]
  },
  {
   "cell_type": "code",
   "execution_count": 76,
   "metadata": {},
   "outputs": [
    {
     "data": {
      "text/plain": [
       "True"
      ]
     },
     "execution_count": 76,
     "metadata": {},
     "output_type": "execute_result"
    }
   ],
   "source": [
    "1 < 2 < 3"
   ]
  },
  {
   "cell_type": "code",
   "execution_count": 77,
   "metadata": {},
   "outputs": [
    {
     "data": {
      "text/plain": [
       "True"
      ]
     },
     "execution_count": 77,
     "metadata": {},
     "output_type": "execute_result"
    }
   ],
   "source": [
    "# hoặc \n",
    "1 <= 2 <= 3"
   ]
  },
  {
   "cell_type": "markdown",
   "metadata": {},
   "source": [
    "Gán biến bằng `=` và so sánh 2 giá trị bằng `==`"
   ]
  },
  {
   "cell_type": "code",
   "execution_count": 78,
   "metadata": {},
   "outputs": [
    {
     "data": {
      "text/plain": [
       "False"
      ]
     },
     "execution_count": 78,
     "metadata": {},
     "output_type": "execute_result"
    }
   ],
   "source": [
    "x = 1  #assignment\n",
    "x == 2 #comparison"
   ]
  },
  {
   "cell_type": "markdown",
   "metadata": {},
   "source": [
    "So sánh không bằng"
   ]
  },
  {
   "cell_type": "code",
   "execution_count": 79,
   "metadata": {},
   "outputs": [
    {
     "data": {
      "text/plain": [
       "True"
      ]
     },
     "execution_count": 79,
     "metadata": {},
     "output_type": "execute_result"
    }
   ],
   "source": [
    "x != 2"
   ]
  },
  {
   "cell_type": "markdown",
   "metadata": {},
   "source": [
    "### Toán tử xác định - Identity operators"
   ]
  },
  {
   "cell_type": "code",
   "execution_count": 80,
   "metadata": {},
   "outputs": [
    {
     "data": {
      "text/plain": [
       "True"
      ]
     },
     "execution_count": 80,
     "metadata": {},
     "output_type": "execute_result"
    }
   ],
   "source": [
    "ta = \"Nguyen Tuan Anh\"\n",
    "ha = ta\n",
    "ta is ha"
   ]
  },
  {
   "cell_type": "code",
   "execution_count": 81,
   "metadata": {},
   "outputs": [
    {
     "data": {
      "text/plain": [
       "False"
      ]
     },
     "execution_count": 81,
     "metadata": {},
     "output_type": "execute_result"
    }
   ],
   "source": [
    "ta is not ha"
   ]
  },
  {
   "cell_type": "markdown",
   "metadata": {},
   "source": [
    "**Lưu ý**: sự khác nhau giữa `==` và `is`, 2 toán tử này lần lượt kiểm tra độ `equality` và `identical` và cơ bản là ko giống nhau, check ví dụ dưới"
   ]
  },
  {
   "cell_type": "code",
   "execution_count": 82,
   "metadata": {},
   "outputs": [
    {
     "data": {
      "text/plain": [
       "True"
      ]
     },
     "execution_count": 82,
     "metadata": {},
     "output_type": "execute_result"
    }
   ],
   "source": [
    "x = [1, 2, 3]\n",
    "y = [1, 2, 3]\n",
    "x == y # toán tử == kiểm tra tính ngang bằng - equality"
   ]
  },
  {
   "cell_type": "code",
   "execution_count": 83,
   "metadata": {},
   "outputs": [
    {
     "data": {
      "text/plain": [
       "False"
      ]
     },
     "execution_count": 83,
     "metadata": {},
     "output_type": "execute_result"
    }
   ],
   "source": [
    "x is y # toán tử is kiểm tra tính đồng nhất - identical"
   ]
  },
  {
   "cell_type": "markdown",
   "metadata": {},
   "source": [
    "Toán tử `is` sẽ trả ra True nếu một biến được gán từ 1 biến khác, ví dụ"
   ]
  },
  {
   "cell_type": "code",
   "execution_count": 84,
   "metadata": {},
   "outputs": [
    {
     "data": {
      "text/plain": [
       "True"
      ]
     },
     "execution_count": 84,
     "metadata": {},
     "output_type": "execute_result"
    }
   ],
   "source": [
    "z = x\n",
    "z is x"
   ]
  },
  {
   "cell_type": "markdown",
   "metadata": {},
   "source": [
    "### Toán tử logic - Logical operators\n",
    "\n",
    "Bao gồm 3 loại `and`, `or`, `not`"
   ]
  },
  {
   "cell_type": "code",
   "execution_count": 85,
   "metadata": {},
   "outputs": [
    {
     "data": {
      "text/plain": [
       "False"
      ]
     },
     "execution_count": 85,
     "metadata": {},
     "output_type": "execute_result"
    }
   ],
   "source": [
    "True and False"
   ]
  },
  {
   "cell_type": "code",
   "execution_count": 86,
   "metadata": {},
   "outputs": [
    {
     "data": {
      "text/plain": [
       "True"
      ]
     },
     "execution_count": 86,
     "metadata": {},
     "output_type": "execute_result"
    }
   ],
   "source": [
    "not False and True"
   ]
  },
  {
   "cell_type": "code",
   "execution_count": 87,
   "metadata": {},
   "outputs": [
    {
     "data": {
      "text/plain": [
       "False"
      ]
     },
     "execution_count": 87,
     "metadata": {},
     "output_type": "execute_result"
    }
   ],
   "source": [
    "1 > 2 and 3 == 3"
   ]
  },
  {
   "cell_type": "markdown",
   "metadata": {},
   "source": [
    "### Toán tử thành viên - Membership operators\n",
    "\n",
    "**in**"
   ]
  },
  {
   "cell_type": "code",
   "execution_count": 88,
   "metadata": {},
   "outputs": [
    {
     "data": {
      "text/plain": [
       "False"
      ]
     },
     "execution_count": 88,
     "metadata": {},
     "output_type": "execute_result"
    }
   ],
   "source": [
    "'x' in 'hanoi'"
   ]
  },
  {
   "cell_type": "markdown",
   "metadata": {},
   "source": [
    "**not in**"
   ]
  },
  {
   "cell_type": "code",
   "execution_count": 89,
   "metadata": {},
   "outputs": [
    {
     "data": {
      "text/plain": [
       "True"
      ]
     },
     "execution_count": 89,
     "metadata": {},
     "output_type": "execute_result"
    }
   ],
   "source": [
    "'x' not in 'hanoi'"
   ]
  },
  {
   "cell_type": "markdown",
   "metadata": {},
   "source": [
    "## Điều kiện\n",
    "\n",
    "**if**"
   ]
  },
  {
   "cell_type": "code",
   "execution_count": 90,
   "metadata": {},
   "outputs": [
    {
     "name": "stdout",
     "output_type": "stream",
     "text": [
      "Yep!\n"
     ]
    }
   ],
   "source": [
    "if 1 < 2:\n",
    "    print('Yep!')"
   ]
  },
  {
   "cell_type": "markdown",
   "metadata": {},
   "source": [
    "**If else**"
   ]
  },
  {
   "cell_type": "code",
   "execution_count": 91,
   "metadata": {},
   "outputs": [
    {
     "name": "stdout",
     "output_type": "stream",
     "text": [
      "last\n"
     ]
    }
   ],
   "source": [
    "if 1 > 2:\n",
    "    print('first')\n",
    "else:\n",
    "    print('last')"
   ]
  },
  {
   "cell_type": "markdown",
   "metadata": {},
   "source": [
    "**if else elif**"
   ]
  },
  {
   "cell_type": "code",
   "execution_count": 92,
   "metadata": {},
   "outputs": [
    {
     "name": "stdout",
     "output_type": "stream",
     "text": [
      "middle\n"
     ]
    }
   ],
   "source": [
    "if 1 == 2:\n",
    "    print('first')\n",
    "elif 3 == 3:\n",
    "    print('middle')\n",
    "else:\n",
    "    print('Last')"
   ]
  },
  {
   "cell_type": "markdown",
   "metadata": {},
   "source": [
    "**Lưu ý về code block & Indentation trong python**\n",
    "\n",
    "Trong Python, tất cả code block (đoạn code nằm trong câu lệnh if, vòng lặp, hàm...) đều được lùi vào 1 khoảng, dòng trước code block sẽ được kết thúc bằng dấu `:` <br>\n",
    "VD câu lệnh dưới sẽ báo lỗi"
   ]
  },
  {
   "cell_type": "code",
   "execution_count": 93,
   "metadata": {},
   "outputs": [
    {
     "ename": "IndentationError",
     "evalue": "expected an indented block after 'if' statement on line 2 (2925735079.py, line 3)",
     "output_type": "error",
     "traceback": [
      "\u001b[1;36m  Cell \u001b[1;32mIn[93], line 3\u001b[1;36m\u001b[0m\n\u001b[1;33m    print('x')\u001b[0m\n\u001b[1;37m    ^\u001b[0m\n\u001b[1;31mIndentationError\u001b[0m\u001b[1;31m:\u001b[0m expected an indented block after 'if' statement on line 2\n"
     ]
    }
   ],
   "source": [
    "#| error: true\n",
    "if 1 < 2:\n",
    "print('x')"
   ]
  },
  {
   "cell_type": "markdown",
   "metadata": {},
   "source": [
    "* Các câu lệnh trong cùng 1 block phải có cùng indentation\n",
    "* Indentation theo chuẩn của Python là 4 dấu cách - hoặc tương đương 1 dấu Tab\n",
    "\n",
    "Follow rule này sẽ khiến code của chúng ta clean và rành mạch hơn nhất nhiều :) \n",
    "\n",
    "## Vòng lặp\n",
    "\n",
    "![Loop](https://lh3.googleusercontent.com/Gsy3gvhT5OUjqobdPrCDaNL7B7G8I57KfjTD-cvwZNKjhm0dcHQ1VTZESRnyR3SrbOHhJUrX8UBZ_EO1uJxq3Ddlnxkn6W7F6Nxe7xjqgcqOLfuSN50PSm2vWVIiXxc9z-f_950-cI-NSp5Jd7j592c1yJ9qJySifchPwTPmdzbW2pcQfq5ZE-y3b30pmK1sZGd1U_hh9CjiiFowARUopdY7cz9xkhFg5TGusIxYChZHRmiFqf8eOgZpEDLH-aPNTygyQnArbE61YmUPjzj5-XA2yiXfqfbtS7lzPkMnQOuE5HImeaXnOzEKuJnGGBLi66k22PslajI-_RjyCh_YKsohjThxT-ocK6cw4v6mdDb3qq4etGdRePkhB3a1rlI-7NT62yWphsmbi4OHP2WSOJjpGfblOB-Ezi5irhofUIQJbUHSBDiMQ-fCzZGeJt_6xCXlg-AulJD51CuTHDd4F-sf9QCigiTfFKy0bYriXIhwq_l1MwhUGqWZ5UAamrf1H_HsVVK3UTUfwJN41s40gaH8vMI9fFr2cDlcivRFk43WaK9Ik9Nri1vYr7OeB8_tIMjp6Br2AP_2xbkCXRlyrR_5vsjgkAjuc3dgbiLYLJ37rneo2FTs1R5V48mi85oQjTN3x_Gc_mjExIGoq3tjmMI1hHLRaBWehEb-1QlGsMYo9qa1hQr9LcHcqg=w450-h300-no)\n",
    "\n",
    "Ảnh từ [PenJee](https://blog.penjee.com/top-5-animated-gifs-explain-loops-python/)\n",
    "\n",
    "### while Loops\n",
    "\n",
    "**while + print**"
   ]
  },
  {
   "cell_type": "code",
   "execution_count": 94,
   "metadata": {},
   "outputs": [
    {
     "name": "stdout",
     "output_type": "stream",
     "text": [
      "1\n",
      "3\n",
      "5\n",
      "7\n",
      "9\n"
     ]
    }
   ],
   "source": [
    "a = 1\n",
    "while a < 10:\n",
    "    print(a)\n",
    "    a += 2 # += tương đương với a = a + 2"
   ]
  },
  {
   "cell_type": "markdown",
   "metadata": {},
   "source": [
    "**while + if**"
   ]
  },
  {
   "cell_type": "code",
   "execution_count": 95,
   "metadata": {},
   "outputs": [
    {
     "name": "stdout",
     "output_type": "stream",
     "text": [
      "0 chia hết cho 5\n",
      "5 chia hết cho 5\n",
      "10 chia hết cho 5\n",
      "15 chia hết cho 5\n"
     ]
    }
   ],
   "source": [
    "a = 0\n",
    "while a < 20:\n",
    "    if a % 5 == 0:\n",
    "        print('{x} chia hết cho 5'.format(x=a))\n",
    "    a += 1"
   ]
  },
  {
   "cell_type": "markdown",
   "metadata": {},
   "source": [
    "**while + break**\n",
    "\n",
    "VD: print số từ 1 - 9 cho đến khi gặp số chia hết cho 5"
   ]
  },
  {
   "cell_type": "code",
   "execution_count": 96,
   "metadata": {},
   "outputs": [
    {
     "name": "stdout",
     "output_type": "stream",
     "text": [
      "1\n",
      "2\n",
      "3\n",
      "4\n",
      "5\n"
     ]
    }
   ],
   "source": [
    "a = list(range(1, 10))\n",
    "i = 1\n",
    "while i < max(a):\n",
    "    print(i)\n",
    "    if i % 5 == 0:\n",
    "        break\n",
    "    i += 1"
   ]
  },
  {
   "cell_type": "markdown",
   "metadata": {},
   "source": [
    "**while + else**\n",
    "\n",
    "Hàm else sẽ được thực hiện khi a không còn nhỏ hơn 10"
   ]
  },
  {
   "cell_type": "code",
   "execution_count": 97,
   "metadata": {},
   "outputs": [
    {
     "name": "stdout",
     "output_type": "stream",
     "text": [
      "1\n",
      "3\n",
      "5\n",
      "7\n",
      "9\n",
      "End while\n"
     ]
    }
   ],
   "source": [
    "a = 1\n",
    "while a < 10:\n",
    "    print(a)\n",
    "    a += 2\n",
    "else:\n",
    "    print ('End while')"
   ]
  },
  {
   "cell_type": "markdown",
   "metadata": {},
   "source": [
    "### for Loops"
   ]
  },
  {
   "cell_type": "code",
   "execution_count": 98,
   "metadata": {},
   "outputs": [
    {
     "name": "stdout",
     "output_type": "stream",
     "text": [
      "The plural of dog is dogs\n",
      "The plural of cat is cats\n",
      "The plural of bird is birds\n"
     ]
    }
   ],
   "source": [
    "animals = ['dog', 'cat', 'bird']\n",
    "for animal in animals:\n",
    "    print(\"The plural of \" + animal + \" is \" + animal + \"s\")"
   ]
  },
  {
   "cell_type": "markdown",
   "metadata": {},
   "source": [
    "**for + else**"
   ]
  },
  {
   "cell_type": "code",
   "execution_count": 99,
   "metadata": {},
   "outputs": [
    {
     "name": "stdout",
     "output_type": "stream",
     "text": [
      "The plural of dog is dogs\n",
      "The plural of cat is cats\n",
      "The plural of bird is birds\n",
      "End for loop\n"
     ]
    }
   ],
   "source": [
    "animals = ['dog', 'cat', 'bird']\n",
    "for animal in animals:\n",
    "    print('The plural of ' + animal + ' is ' + animal + 's')\n",
    "else:\n",
    "    print('End for loop')"
   ]
  },
  {
   "cell_type": "markdown",
   "metadata": {},
   "source": [
    "### List comprehension\n",
    "\n",
    "`List comprehension` là cách tạo list đơn giản và nhẹ nhàng hơn sử dụng vòng lặp thông thường rất nhiều.\n",
    "\n",
    "Cú pháp:\n",
    ">**[ expression for item in list if conditional ]**\n",
    "\n",
    "Ví dụ:"
   ]
  },
  {
   "cell_type": "code",
   "execution_count": 100,
   "metadata": {},
   "outputs": [
    {
     "data": {
      "text/plain": [
       "[0, 1, 2, 3, 4, 5, 6, 7, 8, 9]"
      ]
     },
     "execution_count": 100,
     "metadata": {},
     "output_type": "execute_result"
    }
   ],
   "source": [
    "x = list(range(10))\n",
    "x"
   ]
  },
  {
   "cell_type": "markdown",
   "metadata": {},
   "source": [
    "Chúng ta đang cần tạo 1 list y bằng cách lấy mỗi phần tử của list x nhân với 2\n",
    "\n",
    "Cách làm thông thường - sử dụng vòng lặp:"
   ]
  },
  {
   "cell_type": "code",
   "execution_count": 101,
   "metadata": {},
   "outputs": [
    {
     "data": {
      "text/plain": [
       "[0, 2, 4, 6, 8, 10, 12, 14, 16, 18]"
      ]
     },
     "execution_count": 101,
     "metadata": {},
     "output_type": "execute_result"
    }
   ],
   "source": [
    "y = []\n",
    "for i in x:    \n",
    "    y.append(i * 2)\n",
    "y    "
   ]
  },
  {
   "cell_type": "markdown",
   "metadata": {},
   "source": [
    "Thay vì sử dụng vòng lặp như trên có thể dùng 1 câu lệnh"
   ]
  },
  {
   "cell_type": "code",
   "execution_count": 102,
   "metadata": {},
   "outputs": [
    {
     "data": {
      "text/plain": [
       "[0, 2, 4, 6, 8, 10, 12, 14, 16, 18]"
      ]
     },
     "execution_count": 102,
     "metadata": {},
     "output_type": "execute_result"
    }
   ],
   "source": [
    "y = [i * 2 for i in x]\n",
    "y"
   ]
  },
  {
   "cell_type": "markdown",
   "metadata": {},
   "source": [
    "Để lọc thêm điều kiện chúng ta có thể sử dụng kết hợp với `if` ở cuối câu, vd như ở dưới ta chỉ lấy các phần tử của list chia hết cho 2"
   ]
  },
  {
   "cell_type": "code",
   "execution_count": 103,
   "metadata": {},
   "outputs": [
    {
     "data": {
      "text/plain": [
       "[0, 4, 8, 12, 16]"
      ]
     },
     "execution_count": 103,
     "metadata": {},
     "output_type": "execute_result"
    }
   ],
   "source": [
    "y = [i * 2 for i in x if i % 2 == 0]\n",
    "y"
   ]
  },
  {
   "cell_type": "markdown",
   "metadata": {},
   "source": [
    "Tương tự với `set comprehension`, `dictionary comprehension`\n",
    "\n",
    "## Hàm trong Python\n",
    "\n",
    "### Built-in function\n",
    "\n",
    "Python cung cấp 1 số hàm cơ bản mà không cần phải `import` từ library nào, chúng ta sẽ tìm hiểu 1 số hàm cơ bản và thường xuyên sử dụng\n",
    "\n",
    "**print():** In 1 object ra console"
   ]
  },
  {
   "cell_type": "code",
   "execution_count": 104,
   "metadata": {},
   "outputs": [
    {
     "name": "stdout",
     "output_type": "stream",
     "text": [
      "Tôi muốn học Python trong 2 tuần\n"
     ]
    }
   ],
   "source": [
    "print (\"Tôi muốn học Python trong 2 tuần\")"
   ]
  },
  {
   "cell_type": "markdown",
   "metadata": {},
   "source": [
    "Print có tham số "
   ]
  },
  {
   "cell_type": "code",
   "execution_count": 105,
   "metadata": {},
   "outputs": [
    {
     "name": "stdout",
     "output_type": "stream",
     "text": [
      "Tên tôi là Hoàng và tôi 29 tuổi\n"
     ]
    }
   ],
   "source": [
    "# Cách 1 \n",
    "print ('Tên tôi là %s và tôi %d tuổi' % ('Hoàng', 29)) # %s là để nhập string, #d để nhập decimal"
   ]
  },
  {
   "cell_type": "code",
   "execution_count": 106,
   "metadata": {},
   "outputs": [
    {
     "name": "stdout",
     "output_type": "stream",
     "text": [
      "Tên tôi là Hoàng và tôi 29 tuổi\n"
     ]
    }
   ],
   "source": [
    "# Cách 2\n",
    "print ('Tên tôi là {x} và tôi {y} tuổi'.format(x = 'Hoàng', y = 29))"
   ]
  },
  {
   "cell_type": "markdown",
   "metadata": {},
   "source": [
    "**Lưu ý:** `format` là 1 *string method* để insert dữ liệu vào variables trong string\n",
    "\n",
    "**type()**: trả về kiểu dữ liệu của 1 object"
   ]
  },
  {
   "cell_type": "code",
   "execution_count": 107,
   "metadata": {},
   "outputs": [
    {
     "data": {
      "text/plain": [
       "int"
      ]
     },
     "execution_count": 107,
     "metadata": {},
     "output_type": "execute_result"
    }
   ],
   "source": [
    "x = 3\n",
    "type(x)"
   ]
  },
  {
   "cell_type": "code",
   "execution_count": 108,
   "metadata": {},
   "outputs": [
    {
     "data": {
      "text/plain": [
       "dict"
      ]
     },
     "execution_count": 108,
     "metadata": {},
     "output_type": "execute_result"
    }
   ],
   "source": [
    "person = {\"name\": \"Nguyen Tuan Anh\", \"title\": \"Xam King\"}\n",
    "type(person)"
   ]
  },
  {
   "cell_type": "markdown",
   "metadata": {},
   "source": [
    "**len()**: trả về chiều dài hoặc số lượng phần tử của một đối tượng."
   ]
  },
  {
   "cell_type": "code",
   "execution_count": 109,
   "metadata": {},
   "outputs": [
    {
     "data": {
      "text/plain": [
       "7"
      ]
     },
     "execution_count": 109,
     "metadata": {},
     "output_type": "execute_result"
    }
   ],
   "source": [
    "# Trả về chiều dài của chuỗi\n",
    "dept = \"dbs_aad\"\n",
    "len(dept)"
   ]
  },
  {
   "cell_type": "code",
   "execution_count": 110,
   "metadata": {},
   "outputs": [
    {
     "data": {
      "text/plain": [
       "2"
      ]
     },
     "execution_count": 110,
     "metadata": {},
     "output_type": "execute_result"
    }
   ],
   "source": [
    "# Trả về số phần tử trong một List\n",
    "languages = [\"Vietnamese\", \"English\"]\n",
    "len(languages)"
   ]
  },
  {
   "cell_type": "markdown",
   "metadata": {},
   "source": [
    "**max()**: trả về giá trị lớn nhất, tương tự là **min()**"
   ]
  },
  {
   "cell_type": "code",
   "execution_count": 111,
   "metadata": {},
   "outputs": [
    {
     "data": {
      "text/plain": [
       "4"
      ]
     },
     "execution_count": 111,
     "metadata": {},
     "output_type": "execute_result"
    }
   ],
   "source": [
    "# Trả về giá trị lớn nhất của một dãy số\n",
    "max(1,2,4)"
   ]
  },
  {
   "cell_type": "code",
   "execution_count": 112,
   "metadata": {},
   "outputs": [
    {
     "data": {
      "text/plain": [
       "20"
      ]
     },
     "execution_count": 112,
     "metadata": {},
     "output_type": "execute_result"
    }
   ],
   "source": [
    "# Trả về giá trị của phần tử lớn nhất trong một List\n",
    "max([1, 20, 18])"
   ]
  },
  {
   "cell_type": "markdown",
   "metadata": {},
   "source": [
    "**sum():** hàm tính tổng"
   ]
  },
  {
   "cell_type": "code",
   "execution_count": 113,
   "metadata": {},
   "outputs": [
    {
     "data": {
      "text/plain": [
       "6"
      ]
     },
     "execution_count": 113,
     "metadata": {},
     "output_type": "execute_result"
    }
   ],
   "source": [
    "sum([1, 2, 3])"
   ]
  },
  {
   "cell_type": "markdown",
   "metadata": {},
   "source": [
    "**range()**: kết hợp với list hoặc tuple để tạo dãy số"
   ]
  },
  {
   "cell_type": "code",
   "execution_count": 114,
   "metadata": {},
   "outputs": [
    {
     "data": {
      "text/plain": [
       "[0, 1, 2, 3, 4, 5, 6, 7, 8, 9]"
      ]
     },
     "execution_count": 114,
     "metadata": {},
     "output_type": "execute_result"
    }
   ],
   "source": [
    "list(range(0, 10))"
   ]
  },
  {
   "cell_type": "markdown",
   "metadata": {},
   "source": [
    "**zip():** combine từng item của 2 đối tượng theo thứ tự và trả ra kiểu dữ liệu là `zip object`, sau đó gọi lại kết quả bằng hàm `list`"
   ]
  },
  {
   "cell_type": "code",
   "execution_count": 115,
   "metadata": {},
   "outputs": [
    {
     "data": {
      "text/plain": [
       "[('a', 'd'), ('b', 'e'), ('c', 'f')]"
      ]
     },
     "execution_count": 115,
     "metadata": {},
     "output_type": "execute_result"
    }
   ],
   "source": [
    "x = 'abc'\n",
    "y = 'def'\n",
    "z = zip(x,y)\n",
    "list(z)"
   ]
  },
  {
   "cell_type": "code",
   "execution_count": 116,
   "metadata": {},
   "outputs": [
    {
     "name": "stdout",
     "output_type": "stream",
     "text": [
      "The capital of Japan is Tokyo\n",
      "The capital of Korea is Seoul\n",
      "The capital of China is Beijing\n"
     ]
    }
   ],
   "source": [
    "countries = ('Japan', 'Korea', 'China')\n",
    "cities = ('Tokyo', 'Seoul', 'Beijing')\n",
    "for country, city in zip(countries, cities):\n",
    "    print(f'The capital of {country} is {city}')"
   ]
  },
  {
   "cell_type": "markdown",
   "metadata": {},
   "source": [
    "Có thể sử dụng `zip` để tạo dictionary"
   ]
  },
  {
   "cell_type": "code",
   "execution_count": 117,
   "metadata": {},
   "outputs": [
    {
     "data": {
      "text/plain": [
       "{'Tom': 'E', 'John': 'F'}"
      ]
     },
     "execution_count": 117,
     "metadata": {},
     "output_type": "execute_result"
    }
   ],
   "source": [
    "names = ['Tom', 'John']\n",
    "marks = ['E', 'F']\n",
    "dict(zip(names, marks))"
   ]
  },
  {
   "cell_type": "markdown",
   "metadata": {},
   "source": [
    "Hai hàm khác cũng thường xuyên sử dụng: `any` và `all`:\n",
    "\n",
    "- `any` kiểm tra nếu có 1 phần tử là TRUE\n",
    "- `all` kiểm tra nếu tất cả các phần tử đều là TRUE"
   ]
  },
  {
   "cell_type": "code",
   "execution_count": 118,
   "metadata": {},
   "outputs": [
    {
     "data": {
      "text/plain": [
       "True"
      ]
     },
     "execution_count": 118,
     "metadata": {},
     "output_type": "execute_result"
    }
   ],
   "source": [
    "list2 = [False, False, True]\n",
    "any(list2)"
   ]
  },
  {
   "cell_type": "code",
   "execution_count": 119,
   "metadata": {},
   "outputs": [
    {
     "data": {
      "text/plain": [
       "False"
      ]
     },
     "execution_count": 119,
     "metadata": {},
     "output_type": "execute_result"
    }
   ],
   "source": [
    "all(list2)"
   ]
  },
  {
   "cell_type": "markdown",
   "metadata": {},
   "source": [
    "Để tìm hiểu thêm các hàm hệ thống có thể tham khảo thêm [tại đây](https://docs.python.org/2.7/library/functions.html)\n",
    "\n",
    "### User-defined function\n",
    "\n",
    "Viết hàm để tái sử dụng code nhiều lần, có lẽ ai cũng nắm được mục tiêu cao cả này, để viết hàm trong Python chúng ta sử dụng cấu trúc `def`\n",
    "\n",
    "Ví dụ: viết 1 hàm check số được đưa vào là âm hay dương"
   ]
  },
  {
   "cell_type": "code",
   "execution_count": 120,
   "metadata": {},
   "outputs": [
    {
     "data": {
      "text/plain": [
       "'positive'"
      ]
     },
     "execution_count": 120,
     "metadata": {},
     "output_type": "execute_result"
    }
   ],
   "source": [
    "def check_num(x):\n",
    "    if x < 0:\n",
    "        return 'negative'\n",
    "    return 'positive'\n",
    "\n",
    "check_num(2)"
   ]
  },
  {
   "cell_type": "markdown",
   "metadata": {},
   "source": [
    "Thành phần của function trên bao gồm các phần chính: \n",
    "\n",
    "- `def`: keyword\n",
    "- Phần check_num(x) là khai báo tên function và tên của biến đầu vào sử dụng trong function, 1 function có thể có biến đầu vào hoặc không\n",
    "\n",
    "> **Lưu ý**: Tên function tự tạo ko nên trùng với các hàm mặc định nếu ko sẽ gây lỗi\n",
    "- Phần *indented* là phần function body - nội dung chính của function\n",
    "- Phần `return` - cho phép hàm trả kết quả sau khi thực hiện xong, phần này có thể có hoặc không\n",
    "\n",
    "VD hàm dưới không có `return` nên khi thực hiện xong ko trả kết quả"
   ]
  },
  {
   "cell_type": "code",
   "execution_count": 121,
   "metadata": {},
   "outputs": [],
   "source": [
    "def plus(x, y):\n",
    "    a = x + y    \n",
    "plus(3, 4)  # không có gì "
   ]
  },
  {
   "cell_type": "markdown",
   "metadata": {},
   "source": [
    "Trong quá trình chạy, khi gặp keyword return, function sẽ trả về giá trị và dừng thực hiện, dòng lệnh phía dưới return sẽ không được thực hiên"
   ]
  },
  {
   "cell_type": "code",
   "execution_count": 122,
   "metadata": {},
   "outputs": [
    {
     "name": "stdout",
     "output_type": "stream",
     "text": [
      "Dividing...\n"
     ]
    },
    {
     "data": {
      "text/plain": [
       "2.0"
      ]
     },
     "execution_count": 122,
     "metadata": {},
     "output_type": "execute_result"
    }
   ],
   "source": [
    "def divide(x, y):\n",
    "    print (\"Dividing...\")\n",
    "    return x/y\n",
    "    print (\"Done\")\n",
    "\n",
    "divide(6, 3)"
   ]
  },
  {
   "cell_type": "markdown",
   "metadata": {},
   "source": [
    "**Lưu ý:** Biến khai báo trong function là **local variable** và chỉ có thể truy cập được **bên trong** function đó\n",
    "\n",
    "**Docstring**\n",
    "\n",
    "Python cho phép chúng ta add comment vào function, module... thông qua *`docstring`*"
   ]
  },
  {
   "cell_type": "code",
   "execution_count": 123,
   "metadata": {},
   "outputs": [
    {
     "data": {
      "text/plain": [
       "1"
      ]
     },
     "execution_count": 123,
     "metadata": {},
     "output_type": "execute_result"
    }
   ],
   "source": [
    "def square(x):\n",
    "    \"\"\"\n",
    "    Tính bình phương của 1 giá trị\n",
    "    \"\"\"\n",
    "    y = x**2\n",
    "    return y\n",
    "\n",
    "square(-1)"
   ]
  },
  {
   "cell_type": "markdown",
   "metadata": {},
   "source": [
    "- Có thể gọi help trong hàm "
   ]
  },
  {
   "cell_type": "code",
   "execution_count": 124,
   "metadata": {},
   "outputs": [
    {
     "data": {
      "text/plain": [
       "\u001b[1;31mSignature:\u001b[0m \u001b[0msquare\u001b[0m\u001b[1;33m(\u001b[0m\u001b[0mx\u001b[0m\u001b[1;33m)\u001b[0m\u001b[1;33m\u001b[0m\u001b[1;33m\u001b[0m\u001b[0m\n",
       "\u001b[1;31mDocstring:\u001b[0m Tính bình phương của 1 giá trị\n",
       "\u001b[1;31mFile:\u001b[0m      c:\\users\\anhhd3\\appdata\\local\\temp\\ipykernel_1920\\1221979200.py\n",
       "\u001b[1;31mType:\u001b[0m      function"
      ]
     },
     "metadata": {},
     "output_type": "display_data"
    }
   ],
   "source": [
    "#| eval: false\n",
    "?square"
   ]
  },
  {
   "cell_type": "markdown",
   "metadata": {},
   "source": [
    "### `Lambda` expression\n",
    "\n",
    "**Lambda expression** cho phép chúng ta tạo 1 function đơn giản chỉ trong 1 dòng mà ko cần khai báo theo cấu trúc `def`. Cấu trúc này tương tự như hàm `lambda` trong R\n",
    "\n",
    "Ví dụ 2 hàm"
   ]
  },
  {
   "cell_type": "code",
   "execution_count": 125,
   "metadata": {},
   "outputs": [],
   "source": [
    "# function 1 \n",
    "def minus(x, y):\n",
    "    a = x - y\n",
    "    return a\n",
    "# func2\n",
    "minus2 = lambda x, y: x-y # Dấu : tương đương với return"
   ]
  },
  {
   "cell_type": "code",
   "execution_count": 126,
   "metadata": {},
   "outputs": [
    {
     "data": {
      "text/plain": [
       "-1"
      ]
     },
     "execution_count": 126,
     "metadata": {},
     "output_type": "execute_result"
    }
   ],
   "source": [
    "minus(3, 4)"
   ]
  },
  {
   "cell_type": "code",
   "execution_count": 127,
   "metadata": {},
   "outputs": [
    {
     "data": {
      "text/plain": [
       "-1"
      ]
     },
     "execution_count": 127,
     "metadata": {},
     "output_type": "execute_result"
    }
   ],
   "source": [
    "minus2(3, 4)"
   ]
  },
  {
   "cell_type": "markdown",
   "metadata": {},
   "source": [
    "Theo quan điểm cá nhân, Lambda chỉ nên sử dụng trong một số trường hợp chúng ta muốn viết **nhanh và tắt**, không nên dùng khi logic của bạn **phức tạp.**<br>\n",
    "Đặc biệt, `lambda` sẽ được sử dụng rất nhiều trong các câu lệnh `map`, `filter`, `reduce` như giới thiệu ở phần tiếp theo"
   ]
  },
  {
   "cell_type": "code",
   "execution_count": 128,
   "metadata": {},
   "outputs": [],
   "source": [
    "# Hàm xây dựng chuỗi n Fibonacci\n",
    "def fib_n(n):\n",
    "    if n == 1:\n",
    "        my_list = list([0])\n",
    "    elif n == 2:\n",
    "        my_list = list([0, 1])\n",
    "    else: \n",
    "        my_list = list([0])\n",
    "        f0 = 0\n",
    "        f1 = 1\n",
    "        my_range = range(n-1)\n",
    "        for i in my_range:\n",
    "            f2 = f1 + f0\n",
    "            f0 = f1\n",
    "            f1 = f2\n",
    "            my_list.append(f2)\n",
    "    return(my_list)"
   ]
  },
  {
   "cell_type": "code",
   "execution_count": 129,
   "metadata": {},
   "outputs": [
    {
     "data": {
      "text/plain": [
       "[0, 1, 2, 3, 5, 8, 13, 21, 34, 55]"
      ]
     },
     "execution_count": 129,
     "metadata": {},
     "output_type": "execute_result"
    }
   ],
   "source": [
    "fib_n(10)"
   ]
  },
  {
   "cell_type": "markdown",
   "metadata": {},
   "source": [
    "### map và filter\n",
    "\n",
    "Khi làm việc với kiểu dữ liệu mảng, vd như list, tuple...khi chúng ta cần áp dụng hàm lên cho từng phần tử của mảng này thì có thể sử dụng các hàm như `map`, `filter`. Nhóm hàm này tương tự nhự họ `apply` hoặc `map` trong R\n",
    "\n",
    "> Trong R, các hàm có concept tương tự là các hàm họ `apply`: `lapply`, `sapply`...\n",
    "\n",
    "**map()**\n",
    "\n",
    "> **map(func, seq)** map sẽ áp dụng hàm func cho mỗi phần tử của mảng và trả về kết quả."
   ]
  },
  {
   "cell_type": "code",
   "execution_count": 130,
   "metadata": {},
   "outputs": [
    {
     "ename": "TypeError",
     "evalue": "unsupported operand type(s) for ** or pow(): 'list' and 'int'",
     "output_type": "error",
     "traceback": [
      "\u001b[1;31m---------------------------------------------------------------------------\u001b[0m",
      "\u001b[1;31mTypeError\u001b[0m                                 Traceback (most recent call last)",
      "Cell \u001b[1;32mIn[130], line 4\u001b[0m\n\u001b[0;32m      2\u001b[0m seq \u001b[38;5;241m=\u001b[39m [\u001b[38;5;241m1\u001b[39m, \u001b[38;5;241m2\u001b[39m, \u001b[38;5;241m3\u001b[39m, \u001b[38;5;241m4\u001b[39m, \u001b[38;5;241m5\u001b[39m]\n\u001b[0;32m      3\u001b[0m \u001b[38;5;66;03m# sử dụng hàm square được định nghĩa ở trên \u001b[39;00m\n\u001b[1;32m----> 4\u001b[0m \u001b[43msquare\u001b[49m\u001b[43m(\u001b[49m\u001b[43mseq\u001b[49m\u001b[43m)\u001b[49m\n",
      "Cell \u001b[1;32mIn[123], line 5\u001b[0m, in \u001b[0;36msquare\u001b[1;34m(x)\u001b[0m\n\u001b[0;32m      1\u001b[0m \u001b[38;5;28;01mdef\u001b[39;00m \u001b[38;5;21msquare\u001b[39m(x):\n\u001b[0;32m      2\u001b[0m \u001b[38;5;250m    \u001b[39m\u001b[38;5;124;03m\"\"\"\u001b[39;00m\n\u001b[0;32m      3\u001b[0m \u001b[38;5;124;03m    Tính bình phương của 1 giá trị\u001b[39;00m\n\u001b[0;32m      4\u001b[0m \u001b[38;5;124;03m    \"\"\"\u001b[39;00m\n\u001b[1;32m----> 5\u001b[0m     y \u001b[38;5;241m=\u001b[39m \u001b[43mx\u001b[49m\u001b[38;5;241;43m*\u001b[39;49m\u001b[38;5;241;43m*\u001b[39;49m\u001b[38;5;241;43m2\u001b[39;49m\n\u001b[0;32m      6\u001b[0m     \u001b[38;5;28;01mreturn\u001b[39;00m y\n",
      "\u001b[1;31mTypeError\u001b[0m: unsupported operand type(s) for ** or pow(): 'list' and 'int'"
     ]
    }
   ],
   "source": [
    "#| error: true\n",
    "seq = [1, 2, 3, 4, 5]\n",
    "# sử dụng hàm square được định nghĩa ở trên \n",
    "square(seq)"
   ]
  },
  {
   "cell_type": "markdown",
   "metadata": {},
   "source": [
    "Câu lệnh trên sẽ báo lỗi vì ko thể sử dụng function 1 cách thông thường cho những object như list, tuple...Thay vì vậy ta có thể sử dụng như ở dưới"
   ]
  },
  {
   "cell_type": "code",
   "execution_count": 131,
   "metadata": {},
   "outputs": [
    {
     "data": {
      "text/plain": [
       "[1, 4, 9, 16, 25]"
      ]
     },
     "execution_count": 131,
     "metadata": {},
     "output_type": "execute_result"
    }
   ],
   "source": [
    "seq2 = map(square, seq)\n",
    "list(seq2) # hàm map sẽ trả ra map object, để trả kết quả ra list ta dùng hàm list"
   ]
  },
  {
   "cell_type": "markdown",
   "metadata": {},
   "source": [
    "Thay vì định nghĩa hàm *square* trước đó, chúng ta có thể kết hợp `lambda expression` luôn vào câu lệnh map ở trên"
   ]
  },
  {
   "cell_type": "code",
   "execution_count": 132,
   "metadata": {},
   "outputs": [
    {
     "data": {
      "text/plain": [
       "[1, 4, 9, 16, 25]"
      ]
     },
     "execution_count": 132,
     "metadata": {},
     "output_type": "execute_result"
    }
   ],
   "source": [
    "seq3 = map(lambda x: x*x, seq)\n",
    "list(seq3)"
   ]
  },
  {
   "cell_type": "markdown",
   "metadata": {},
   "source": [
    "**filter()**\n",
    "\n",
    "> - **filter(func, seq)** gọi hàm với từng phần tử của mảng và trả về danh sách các phần tử mà hàm trả về True\n",
    "> - hàm trong filter chỉ có thể trả về True hoặc False\n",
    "\n",
    "Ví dụ, ta lấy danh sách các phần tử là số chẵn trong list ở dưới"
   ]
  },
  {
   "cell_type": "code",
   "execution_count": 133,
   "metadata": {},
   "outputs": [],
   "source": [
    "def check_even(x):\n",
    "    if x % 2 == 0:\n",
    "        return True\n",
    "    else:\n",
    "        return False"
   ]
  },
  {
   "cell_type": "code",
   "execution_count": 134,
   "metadata": {},
   "outputs": [
    {
     "data": {
      "text/plain": [
       "[2, 4]"
      ]
     },
     "execution_count": 134,
     "metadata": {},
     "output_type": "execute_result"
    }
   ],
   "source": [
    "list(filter(check_even, seq))"
   ]
  },
  {
   "cell_type": "markdown",
   "metadata": {},
   "source": [
    "**map** vs **list comprehension** ?\n",
    "\n",
    "Chúng ta có thể thấy sự tương đồng rất lớn giữa `map` vừa nêu và `list comprehension` ở phần trên, vd như câu lệnh map ở trên có thể viết lại theo phong cách `list comprehension` như ở dưới"
   ]
  },
  {
   "cell_type": "code",
   "execution_count": 135,
   "metadata": {},
   "outputs": [
    {
     "data": {
      "text/plain": [
       "[1, 4, 9, 16, 25]"
      ]
     },
     "execution_count": 135,
     "metadata": {},
     "output_type": "execute_result"
    }
   ],
   "source": [
    "seq4 = [x * x for x in seq]\n",
    "seq4"
   ]
  },
  {
   "cell_type": "code",
   "execution_count": 136,
   "metadata": {},
   "outputs": [
    {
     "data": {
      "text/plain": [
       "[1, 4, 9, 16, 25]"
      ]
     },
     "execution_count": 136,
     "metadata": {},
     "output_type": "execute_result"
    }
   ],
   "source": [
    "# sử dụng map\n",
    "seq3 = map(lambda x: x*x, seq)\n",
    "list(seq3)"
   ]
  },
  {
   "cell_type": "markdown",
   "metadata": {},
   "source": [
    "Vậy khi nào thì sử dụng 1 trong 2 ? <br>\n",
    "Thực tế là ko có rule cụ thể nào cho việc này, chúng ta có thể sử dụng 1 số *rule of thumb* như sau:\n",
    "- Với những hàm đã được định nghĩa trước đó, sử dụng map thông thường sẽ nhanh hơn (và rõ ràng hơn)\n",
    "- Khi sử dụng expression, vd so sánh các phần tử với 1 giá trị, thông thường sử dụng `list comprehension` sẽ nhanh và rõ ràng hơn\n",
    "\n",
    "Test thử với hàm `%timeit` - hàm để check thời gian execution của 1 câu lệnh"
   ]
  },
  {
   "cell_type": "code",
   "execution_count": 137,
   "metadata": {},
   "outputs": [
    {
     "name": "stdout",
     "output_type": "stream",
     "text": [
      "80.4 ns ± 0.908 ns per loop (mean ± std. dev. of 7 runs, 10,000,000 loops each)\n"
     ]
    }
   ],
   "source": [
    "%timeit L = map(square, seq)"
   ]
  },
  {
   "cell_type": "code",
   "execution_count": 138,
   "metadata": {},
   "outputs": [
    {
     "name": "stdout",
     "output_type": "stream",
     "text": [
      "278 ns ± 5.22 ns per loop (mean ± std. dev. of 7 runs, 1,000,000 loops each)\n"
     ]
    }
   ],
   "source": [
    "%timeit L = [x * x for x in seq]"
   ]
  },
  {
   "cell_type": "markdown",
   "metadata": {},
   "source": [
    "## Lưu trữ file\n",
    "\n",
    "Để ghi file, ta phải tạo object và lưu trữ kết quả vào file mới được tạo."
   ]
  },
  {
   "cell_type": "code",
   "execution_count": 139,
   "metadata": {},
   "outputs": [],
   "source": [
    "my_file = open('output.txt', 'w') # w is write"
   ]
  },
  {
   "cell_type": "code",
   "execution_count": 140,
   "metadata": {},
   "outputs": [
    {
     "data": {
      "text/plain": [
       "24"
      ]
     },
     "execution_count": 140,
     "metadata": {},
     "output_type": "execute_result"
    }
   ],
   "source": [
    "lines = 'This is my first example'\n",
    "my_file.write(lines)"
   ]
  },
  {
   "cell_type": "markdown",
   "metadata": {},
   "source": [
    "Ngoài ra, Python cho phép sử dụng library `pickle` để lưu trữ bất kỳ loại file nào"
   ]
  },
  {
   "cell_type": "code",
   "execution_count": 141,
   "metadata": {},
   "outputs": [],
   "source": [
    "import pickle"
   ]
  },
  {
   "cell_type": "code",
   "execution_count": 142,
   "metadata": {},
   "outputs": [],
   "source": [
    "t = [1,2,3]\n",
    "s = pickle.dumps(t) # dumps: dump string"
   ]
  },
  {
   "cell_type": "code",
   "execution_count": 143,
   "metadata": {},
   "outputs": [],
   "source": [
    "my_load = pickle.loads(s) #loads: loads string"
   ]
  },
  {
   "cell_type": "markdown",
   "metadata": {},
   "source": [
    "## Các vấn đề khác\n",
    "\n",
    "### White space\n",
    "\n",
    "Python sử dụng `white space` - khoảng trắng, tab, để gia tăng khả năng `readability` trong lập trình. Các ngôn ngữ khác như R lại dùng dấu ngoặc nhọn `{}` để phân tách các block."
   ]
  },
  {
   "cell_type": "code",
   "execution_count": 144,
   "metadata": {},
   "outputs": [
    {
     "ename": "NameError",
     "evalue": "name 'array' is not defined",
     "output_type": "error",
     "traceback": [
      "\u001b[1;31m---------------------------------------------------------------------------\u001b[0m",
      "\u001b[1;31mNameError\u001b[0m                                 Traceback (most recent call last)",
      "Cell \u001b[1;32mIn[144], line 2\u001b[0m\n\u001b[0;32m      1\u001b[0m \u001b[38;5;66;03m#| eval: false\u001b[39;00m\n\u001b[1;32m----> 2\u001b[0m \u001b[38;5;28;01mfor\u001b[39;00m x \u001b[38;5;129;01min\u001b[39;00m \u001b[43marray\u001b[49m:\n\u001b[0;32m      3\u001b[0m   \u001b[38;5;28;01mif\u001b[39;00m x \u001b[38;5;241m<\u001b[39m pivot:\n\u001b[0;32m      4\u001b[0m     less\u001b[38;5;241m.\u001b[39mappend(x)\n",
      "\u001b[1;31mNameError\u001b[0m: name 'array' is not defined"
     ]
    }
   ],
   "source": [
    "#| eval: false\n",
    "for x in array:\n",
    "  if x < pivot:\n",
    "    less.append(x)\n",
    "  else:\n",
    "    greater.append(x)"
   ]
  },
  {
   "cell_type": "markdown",
   "metadata": {},
   "source": [
    "### Attribute & Method\n",
    "\n",
    "Bất kỳ thành phần nào trong Python cũng là 1 object. Mỗi đối tượng (object) có 2 nhóm thành phần lớn đi kèm.\n",
    "\n",
    "- `attribute`: thuộc tính - là các biến, hay object có sẵn có đi kèm đối tượng\n",
    "- `method`: hàm tính toán đi kèm cùng đối tượng sẵn có"
   ]
  },
  {
   "cell_type": "code",
   "execution_count": null,
   "metadata": {},
   "outputs": [],
   "source": [
    "x = \"Cộng hòa\"\n",
    "# Method\n",
    "x.upper()"
   ]
  },
  {
   "cell_type": "markdown",
   "metadata": {},
   "source": [
    "Ví dụ về attribute trong object"
   ]
  },
  {
   "cell_type": "code",
   "execution_count": null,
   "metadata": {},
   "outputs": [],
   "source": [
    "class Circle:\n",
    "  def __init__(self):\n",
    "    self.radius = 1\n",
    "my_circle = Circle()\n",
    "# Attribute\n",
    "my_circle.radius"
   ]
  },
  {
   "cell_type": "markdown",
   "metadata": {},
   "source": [
    "### Module & import\n",
    "\n",
    "Một module trong python đơn giản chỉ là 1 file `.py` có chứa biến hoặc các function được khai báo. Ví dụ ta có file `some_module.py` như sau:"
   ]
  },
  {
   "cell_type": "code",
   "execution_count": null,
   "metadata": {},
   "outputs": [],
   "source": [
    "#| eval: false\n",
    "# some_module.py\n",
    "PI = 3.14159\n",
    "def f(x):\n",
    "  return x + 2\n",
    "\n",
    "def g(a, b):\n",
    "  return a + b"
   ]
  },
  {
   "cell_type": "code",
   "execution_count": null,
   "metadata": {},
   "outputs": [],
   "source": [
    "#| eval: false\n",
    "import some_module\n",
    "pi = some_module.PI\n",
    "result = some_module.f(5) + pi\n",
    "\n",
    "\n",
    "from some_module import f, g, PI\n",
    "result = g(5, PI)"
   ]
  },
  {
   "cell_type": "markdown",
   "metadata": {},
   "source": [
    "### Pipe object\n",
    "\n",
    "Bất kỳ phần mềm nào có thể khởi động từ shell đều có thể khởi động từ Python sử dụng pipe object"
   ]
  },
  {
   "cell_type": "code",
   "execution_count": null,
   "metadata": {},
   "outputs": [],
   "source": [
    "import os\n",
    "cmd = 'dir'\n",
    "os.popen(cmd)"
   ]
  },
  {
   "cell_type": "markdown",
   "metadata": {},
   "source": [
    "### Các mẹo"
   ]
  },
  {
   "cell_type": "code",
   "execution_count": 145,
   "metadata": {},
   "outputs": [],
   "source": [
    "# Kiểm tra thư mục làm việc\n",
    "import os as os"
   ]
  },
  {
   "cell_type": "code",
   "execution_count": 146,
   "metadata": {},
   "outputs": [
    {
     "data": {
      "text/plain": [
       "'C:\\\\Users\\\\anhhd3\\\\Desktop\\\\01-python-book\\\\_source'"
      ]
     },
     "execution_count": 146,
     "metadata": {},
     "output_type": "execute_result"
    }
   ],
   "source": [
    "os.getcwd()"
   ]
  },
  {
   "cell_type": "code",
   "execution_count": 147,
   "metadata": {},
   "outputs": [
    {
     "data": {
      "text/plain": [
       "{'__name__': '__main__',\n",
       " '__doc__': 'Automatically created module for IPython interactive environment',\n",
       " '__package__': None,\n",
       " '__loader__': None,\n",
       " '__spec__': None,\n",
       " '__builtin__': <module 'builtins' (built-in)>,\n",
       " '__builtins__': <module 'builtins' (built-in)>,\n",
       " '_ih': ['',\n",
       "  'x = 20\\nx',\n",
       "  'x = True\\nx',\n",
       "  'x = 100 < 2\\nx',\n",
       "  'x = 20\\nx',\n",
       "  'x = True\\nx',\n",
       "  'x = 100 < 2\\nx',\n",
       "  'type(x)',\n",
       "  'True + False',\n",
       "  'y = [False, False, True, True] # List boolean value\\nsum(y)',\n",
       "  'a, b = 1, 2\\nc, d = 2.5, 10.0\\ntype(a)',\n",
       "  'type(d)',\n",
       "  'x = 2\\nx * 2',\n",
       "  'x',\n",
       "  '# Gtri chỉ thay đổi khi gán vào 1 biến mới\\nx = x * 2\\nx',\n",
       "  '# Có thể nhập bằng single quote hoặc double quote\\na = \\'single quotes\\'\\nb = \"single quotes\"\\na == b',\n",
       "  '#hoặc cả 2\\nc = \"i\\'m a man\"\\nc',\n",
       "  'word = \"hello\"\\nword[0]',\n",
       "  'word = \"hello\"\\n# Chiều từ trái qua phải\\nword[2]',\n",
       "  '# Chiều từ phải qua trái, sd khi ko biết chính xác độ dài chuỗi\\nword[-1]',\n",
       "  'word[1:3]',\n",
       "  'word[2:]',\n",
       "  '# Lấy cả chuỗi, cách 2 đơn vị\\nword[::2]',\n",
       "  \"dept = 'Phòng Phân tích kinh doanh'\",\n",
       "  '# trả về dạng chữ thường\\ndept.lower()',\n",
       "  '# trả về dạng chữ hoa\\ndept.upper()',\n",
       "  '# Trả về một list các phần tử được tách bởi một dấu phân cách(delimiter) cho trước\\ndept.split()',\n",
       "  \"# Trả về một chuỗi được ghép bởi các phần tử từ một list, theo một dấu phân cách cho trước\\n'xx'.join(['a', 'b', 'c'])\",\n",
       "  \"#tìm kiếm ký tự - trả về vị trí của ký tự đầu tiên tìm được trong chuỗi\\n# trả ra -1 nếu k tìm thấy\\ndept.find('phòng')\",\n",
       "  \"# Check xem chuỗi có bắt đầu bằng ký tự cho trước không\\ndept.startswith('w')\",\n",
       "  \"# tương tự là endwith\\ndept.endswith('doanh')\",\n",
       "  \"x = [10, 'foo', False, 2.5] #các phần tử có kiểu dữ liệu không đồng nhất\\ntype(x)\",\n",
       "  \"color = list(['xanh', 'đỏ', 'vàng'])\\ncolor\",\n",
       "  'x[1]',\n",
       "  'x[-2]',\n",
       "  'x[1:3]',\n",
       "  'numbers = [0, 1, 2, 3, 4, 5, 6, 7, 8, 9]',\n",
       "  'numbers[1:9:3] # cắt từ 1 đến trước 9, khoảng khách là 3',\n",
       "  'numbers[::2] # lấy từ đầu đến cuối, khoảng cách là 2',\n",
       "  'numbers[:2] # lấy 2 giá trị đầu',\n",
       "  'numbers[-3:] # lấy 3 giá trị cuối',\n",
       "  'numbers[::-1] # đảo ngược giá trị của list',\n",
       "  \"skill_sets = ['sql', 'r', 'excel', 'python']\",\n",
       "  \"# Thay đổi từ chỉ mục 2 đến hết\\nskill_sets[2:] = ['spss']\\nskill_sets\",\n",
       "  \"# chỉ mục 1 thay bằng 'vba'\\nskill_sets[1] = 'vba'\\nskill_sets\",\n",
       "  'numbers.append(15)\\nnumbers',\n",
       "  'numbers.pop(3) #xóa phần từ thứ 3\\nnumbers',\n",
       "  \"numbers.extend(['a', 'b', 'c'])\\nnumbers\",\n",
       "  'numbers2 = [0, 1, 2, 3, 4, 5, 6, 7, 8, 9]\\nnumbers2.sort(reverse=True)\\nnumbers2',\n",
       "  'tuple1 = (\"Hanoi\", \"Hai Phong\", \"Tay Ninh\", \"Lam Dong\")\\ntype(tuple1)',\n",
       "  'tuple2 = \"Hanoi\", \"Hai Phong\", \"Tay Ninh\", \"Lam Dong\"\\ntype(tuple2)',\n",
       "  '# Khời tạo tuple rỗng\\ntpl = ()\\n#hoặc\\ntpl2 = tuple()\\nprint(type(tpl), type(tpl2))',\n",
       "  \"list1 = [1, 2, 3]\\ntuple1 = ('a', 'b', 'c')\",\n",
       "  'list1[2] = \"a\"\\nlist1',\n",
       "  'x, y, z = tuple1\\ny',\n",
       "  'tuple1[1] = 1\\ntuple1',\n",
       "  'x, y, z = tuple1\\ny',\n",
       "  \"d = {\\n    'one':'một',\\n    'two':'hai',\\n    'three':'ba'}\\ntype(d)\",\n",
       "  \"d = {\\n    'one':'một',\\n    'two':'hai',\\n    'three':'ba'}\\ntype(d)\",\n",
       "  \"d2 = {\\n    'one': 0.5,\\n    'two': [1, 2, 3],\\n    'three': False}\\ntype(d2)\",\n",
       "  \"d2['two']\",\n",
       "  \"d2['three'] = 3\\nd2\",\n",
       "  \"d2['four'] = 4\\nd2\",\n",
       "  \"del d2['two']\\nd2\",\n",
       "  'd.items()',\n",
       "  'd.values()',\n",
       "  \"s1 = {'a', 'b', 3}\\ntype(s1)\",\n",
       "  's2 = {1, 1, 2, 2, 2, 3, 3, 3}\\ns2',\n",
       "  'mix_set = { \"dbs_aad\", 34, (4, 5, 6) }',\n",
       "  '#| error: true\\nmix_mutable_set = { \"Hải Phòng\", \"Hà Nội\", [ 2, 4 ] }',\n",
       "  \"s1.add('4')\\ns1\",\n",
       "  \"s1.remove('4')\\ns1\",\n",
       "  '# Kiểm tra s1 có phải tập con của s2 ko \\ns1.issubset(s2)',\n",
       "  '# Kiểm tra tập giao giữa 2 tập con\\ns1.intersection(s2)',\n",
       "  'x, y = 1, 2\\nx < y',\n",
       "  'x > y',\n",
       "  '1 < 2 < 3',\n",
       "  '# hoặc \\n1 <= 2 <= 3',\n",
       "  'x = 1  #assignment\\nx == 2 #comparison',\n",
       "  'x != 2',\n",
       "  'ta = \"Nguyen Tuan Anh\"\\nha = ta\\nta is ha',\n",
       "  'ta is not ha',\n",
       "  'x = [1, 2, 3]\\ny = [1, 2, 3]\\nx == y # toán tử == kiểm tra tính ngang bằng - equality',\n",
       "  'x is y # toán tử is kiểm tra tính đồng nhất - identical',\n",
       "  'z = x\\nz is x',\n",
       "  'True and False',\n",
       "  'not False and True',\n",
       "  '1 > 2 and 3 == 3',\n",
       "  \"'x' in 'hanoi'\",\n",
       "  \"'x' not in 'hanoi'\",\n",
       "  \"if 1 < 2:\\n    print('Yep!')\",\n",
       "  \"if 1 > 2:\\n    print('first')\\nelse:\\n    print('last')\",\n",
       "  \"if 1 == 2:\\n    print('first')\\nelif 3 == 3:\\n    print('middle')\\nelse:\\n    print('Last')\",\n",
       "  \"#| error: true\\nif 1 < 2:\\nprint('x')\",\n",
       "  'a = 1\\nwhile a < 10:\\n    print(a)\\n    a += 2 # += tương đương với a = a + 2',\n",
       "  \"a = 0\\nwhile a < 20:\\n    if a % 5 == 0:\\n        print('{x} chia hết cho 5'.format(x=a))\\n    a += 1\",\n",
       "  'a = list(range(1, 10))\\ni = 1\\nwhile i < max(a):\\n    print(i)\\n    if i % 5 == 0:\\n        break\\n    i += 1',\n",
       "  \"a = 1\\nwhile a < 10:\\n    print(a)\\n    a += 2\\nelse:\\n    print ('End while')\",\n",
       "  'animals = [\\'dog\\', \\'cat\\', \\'bird\\']\\nfor animal in animals:\\n    print(\"The plural of \" + animal + \" is \" + animal + \"s\")',\n",
       "  \"animals = ['dog', 'cat', 'bird']\\nfor animal in animals:\\n    print('The plural of ' + animal + ' is ' + animal + 's')\\nelse:\\n    print('End for loop')\",\n",
       "  'x = list(range(10))\\nx',\n",
       "  'y = []\\nfor i in x:    \\n    y.append(i * 2)\\ny    ',\n",
       "  'y = [i * 2 for i in x]\\ny',\n",
       "  'y = [i * 2 for i in x if i % 2 == 0]\\ny',\n",
       "  'print (\"Tôi muốn học Python trong 2 tuần\")',\n",
       "  \"# Cách 1 \\nprint ('Tên tôi là %s và tôi %d tuổi' % ('Hoàng', 29)) # %s là để nhập string, #d để nhập decimal\",\n",
       "  \"# Cách 2\\nprint ('Tên tôi là {x} và tôi {y} tuổi'.format(x = 'Hoàng', y = 29))\",\n",
       "  'x = 3\\ntype(x)',\n",
       "  'person = {\"name\": \"Nguyen Tuan Anh\", \"title\": \"Xam King\"}\\ntype(person)',\n",
       "  '# Trả về chiều dài của chuỗi\\ndept = \"dbs_aad\"\\nlen(dept)',\n",
       "  '# Trả về số phần tử trong một List\\nlanguages = [\"Vietnamese\", \"English\"]\\nlen(languages)',\n",
       "  '# Trả về giá trị lớn nhất của một dãy số\\nmax(1,2,4)',\n",
       "  '# Trả về giá trị của phần tử lớn nhất trong một List\\nmax([1, 20, 18])',\n",
       "  'sum([1, 2, 3])',\n",
       "  'list(range(0, 10))',\n",
       "  \"x = 'abc'\\ny = 'def'\\nz = zip(x,y)\\nlist(z)\",\n",
       "  \"countries = ('Japan', 'Korea', 'China')\\ncities = ('Tokyo', 'Seoul', 'Beijing')\\nfor country, city in zip(countries, cities):\\n    print(f'The capital of {country} is {city}')\",\n",
       "  \"names = ['Tom', 'John']\\nmarks = ['E', 'F']\\ndict(zip(names, marks))\",\n",
       "  'list2 = [False, False, True]\\nany(list2)',\n",
       "  'all(list2)',\n",
       "  \"def check_num(x):\\n    if x < 0:\\n        return 'negative'\\n    return 'positive'\\n\\ncheck_num(2)\",\n",
       "  'def plus(x, y):\\n    a = x + y    \\nplus(3, 4)  # không có gì ',\n",
       "  'def divide(x, y):\\n    print (\"Dividing...\")\\n    return x/y\\n    print (\"Done\")\\n\\ndivide(6, 3)',\n",
       "  'def square(x):\\n    \"\"\"\\n    Tính bình phương của 1 giá trị\\n    \"\"\"\\n    y = x**2\\n    return y\\n\\nsquare(-1)',\n",
       "  \"#| eval: false\\nget_ipython().run_line_magic('pinfo', 'square')\",\n",
       "  '# function 1 \\ndef minus(x, y):\\n    a = x - y\\n    return a\\n# func2\\nminus2 = lambda x, y: x-y # Dấu : tương đương với return',\n",
       "  'minus(3, 4)',\n",
       "  'minus2(3, 4)',\n",
       "  '# Hàm xây dựng chuỗi n Fibonacci\\ndef fib_n(n):\\n    if n == 1:\\n        my_list = list([0])\\n    elif n == 2:\\n        my_list = list([0, 1])\\n    else: \\n        my_list = list([0])\\n        f0 = 0\\n        f1 = 1\\n        my_range = range(n-1)\\n        for i in my_range:\\n            f2 = f1 + f0\\n            f0 = f1\\n            f1 = f2\\n            my_list.append(f2)\\n    return(my_list)',\n",
       "  'fib_n(10)',\n",
       "  '#| error: true\\nseq = [1, 2, 3, 4, 5]\\n# sử dụng hàm square được định nghĩa ở trên \\nsquare(seq)',\n",
       "  'seq2 = map(square, seq)\\nlist(seq2) # hàm map sẽ trả ra map object, để trả kết quả ra list ta dùng hàm list',\n",
       "  'seq3 = map(lambda x: x*x, seq)\\nlist(seq3)',\n",
       "  'def check_even(x):\\n    if x % 2 == 0:\\n        return True\\n    else:\\n        return False',\n",
       "  'list(filter(check_even, seq))',\n",
       "  'seq4 = [x * x for x in seq]\\nseq4',\n",
       "  '# sử dụng map\\nseq3 = map(lambda x: x*x, seq)\\nlist(seq3)',\n",
       "  \"get_ipython().run_line_magic('timeit', 'L = map(square, seq)')\",\n",
       "  \"get_ipython().run_line_magic('timeit', 'L = [x * x for x in seq]')\",\n",
       "  \"my_file = open('output.txt', 'w') # w is write\",\n",
       "  \"lines = 'This is my first example'\\nmy_file.write(lines)\",\n",
       "  'import pickle',\n",
       "  't = [1,2,3]\\ns = pickle.dumps(t) # dumps: dump string',\n",
       "  'my_load = pickle.loads(s) #loads: loads string',\n",
       "  '#| eval: false\\nfor x in array:\\n  if x < pivot:\\n    less.append(x)\\n  else:\\n    greater.append(x)',\n",
       "  '# Kiểm tra thư mục làm việc\\nimport os as os',\n",
       "  'os.getcwd()',\n",
       "  '# Kiểm tra các biến trong môi trường làm việc\\nglobals()'],\n",
       " '_oh': {1: 20,\n",
       "  2: True,\n",
       "  3: False,\n",
       "  4: 20,\n",
       "  5: True,\n",
       "  6: False,\n",
       "  7: bool,\n",
       "  8: 1,\n",
       "  9: 2,\n",
       "  10: int,\n",
       "  11: float,\n",
       "  12: 4,\n",
       "  13: 2,\n",
       "  14: 4,\n",
       "  15: True,\n",
       "  16: \"i'm a man\",\n",
       "  17: 'h',\n",
       "  18: 'l',\n",
       "  19: 'o',\n",
       "  20: 'el',\n",
       "  21: 'llo',\n",
       "  22: 'hlo',\n",
       "  24: 'phòng phân tích kinh doanh',\n",
       "  25: 'PHÒNG PHÂN TÍCH KINH DOANH',\n",
       "  26: ['Phòng', 'Phân', 'tích', 'kinh', 'doanh'],\n",
       "  27: 'axxbxxc',\n",
       "  28: -1,\n",
       "  29: False,\n",
       "  30: True,\n",
       "  31: list,\n",
       "  32: ['xanh', 'đỏ', 'vàng'],\n",
       "  33: 'foo',\n",
       "  34: False,\n",
       "  35: ['foo', False],\n",
       "  37: [1, 4, 7],\n",
       "  38: [0, 2, 4, 6, 8],\n",
       "  39: [0, 1],\n",
       "  40: [7, 8, 9],\n",
       "  41: [9, 8, 7, 6, 5, 4, 3, 2, 1, 0],\n",
       "  43: ['sql', 'vba', 'spss'],\n",
       "  44: ['sql', 'vba', 'spss'],\n",
       "  45: [0, 1, 2, 4, 5, 6, 7, 8, 9, 15, 'a', 'b', 'c'],\n",
       "  46: [0, 1, 2, 4, 5, 6, 7, 8, 9, 15, 'a', 'b', 'c'],\n",
       "  47: [0, 1, 2, 4, 5, 6, 7, 8, 9, 15, 'a', 'b', 'c'],\n",
       "  48: [9, 8, 7, 6, 5, 4, 3, 2, 1, 0],\n",
       "  49: tuple,\n",
       "  50: tuple,\n",
       "  53: [1, 2, 'a'],\n",
       "  54: 'b',\n",
       "  56: 'b',\n",
       "  57: dict,\n",
       "  58: dict,\n",
       "  59: dict,\n",
       "  60: [1, 2, 3],\n",
       "  61: {'one': 0.5, 'three': 3, 'four': 4},\n",
       "  62: {'one': 0.5, 'three': 3, 'four': 4},\n",
       "  63: {'one': 0.5, 'three': 3, 'four': 4},\n",
       "  64: dict_items([('one', 'một'), ('two', 'hai'), ('three', 'ba')]),\n",
       "  65: dict_values(['một', 'hai', 'ba']),\n",
       "  66: set,\n",
       "  67: {1, 2, 3},\n",
       "  70: {3, 'a', 'b'},\n",
       "  71: {3, 'a', 'b'},\n",
       "  72: False,\n",
       "  73: {3},\n",
       "  74: True,\n",
       "  75: False,\n",
       "  76: True,\n",
       "  77: True,\n",
       "  78: False,\n",
       "  79: True,\n",
       "  80: True,\n",
       "  81: False,\n",
       "  82: True,\n",
       "  83: False,\n",
       "  84: True,\n",
       "  85: False,\n",
       "  86: True,\n",
       "  87: False,\n",
       "  88: False,\n",
       "  89: True,\n",
       "  100: [0, 1, 2, 3, 4, 5, 6, 7, 8, 9],\n",
       "  101: [0, 2, 4, 6, 8, 10, 12, 14, 16, 18],\n",
       "  102: [0, 2, 4, 6, 8, 10, 12, 14, 16, 18],\n",
       "  103: [0, 4, 8, 12, 16],\n",
       "  107: int,\n",
       "  108: dict,\n",
       "  109: 7,\n",
       "  110: 2,\n",
       "  111: 4,\n",
       "  112: 20,\n",
       "  113: 6,\n",
       "  114: [0, 1, 2, 3, 4, 5, 6, 7, 8, 9],\n",
       "  115: [('a', 'd'), ('b', 'e'), ('c', 'f')],\n",
       "  117: {'Tom': 'E', 'John': 'F'},\n",
       "  118: True,\n",
       "  119: False,\n",
       "  120: 'positive',\n",
       "  122: 2.0,\n",
       "  123: 1,\n",
       "  126: -1,\n",
       "  127: -1,\n",
       "  129: [0, 1, 2, 3, 5, 8, 13, 21, 34, 55],\n",
       "  131: [1, 4, 9, 16, 25],\n",
       "  132: [1, 4, 9, 16, 25],\n",
       "  134: [2, 4],\n",
       "  135: [1, 4, 9, 16, 25],\n",
       "  136: [1, 4, 9, 16, 25],\n",
       "  140: 24,\n",
       "  146: 'C:\\\\Users\\\\anhhd3\\\\Desktop\\\\01-python-book\\\\_source'},\n",
       " '_dh': [WindowsPath('C:/Users/anhhd3/Desktop/01-python-book/_source')],\n",
       " 'In': ['',\n",
       "  'x = 20\\nx',\n",
       "  'x = True\\nx',\n",
       "  'x = 100 < 2\\nx',\n",
       "  'x = 20\\nx',\n",
       "  'x = True\\nx',\n",
       "  'x = 100 < 2\\nx',\n",
       "  'type(x)',\n",
       "  'True + False',\n",
       "  'y = [False, False, True, True] # List boolean value\\nsum(y)',\n",
       "  'a, b = 1, 2\\nc, d = 2.5, 10.0\\ntype(a)',\n",
       "  'type(d)',\n",
       "  'x = 2\\nx * 2',\n",
       "  'x',\n",
       "  '# Gtri chỉ thay đổi khi gán vào 1 biến mới\\nx = x * 2\\nx',\n",
       "  '# Có thể nhập bằng single quote hoặc double quote\\na = \\'single quotes\\'\\nb = \"single quotes\"\\na == b',\n",
       "  '#hoặc cả 2\\nc = \"i\\'m a man\"\\nc',\n",
       "  'word = \"hello\"\\nword[0]',\n",
       "  'word = \"hello\"\\n# Chiều từ trái qua phải\\nword[2]',\n",
       "  '# Chiều từ phải qua trái, sd khi ko biết chính xác độ dài chuỗi\\nword[-1]',\n",
       "  'word[1:3]',\n",
       "  'word[2:]',\n",
       "  '# Lấy cả chuỗi, cách 2 đơn vị\\nword[::2]',\n",
       "  \"dept = 'Phòng Phân tích kinh doanh'\",\n",
       "  '# trả về dạng chữ thường\\ndept.lower()',\n",
       "  '# trả về dạng chữ hoa\\ndept.upper()',\n",
       "  '# Trả về một list các phần tử được tách bởi một dấu phân cách(delimiter) cho trước\\ndept.split()',\n",
       "  \"# Trả về một chuỗi được ghép bởi các phần tử từ một list, theo một dấu phân cách cho trước\\n'xx'.join(['a', 'b', 'c'])\",\n",
       "  \"#tìm kiếm ký tự - trả về vị trí của ký tự đầu tiên tìm được trong chuỗi\\n# trả ra -1 nếu k tìm thấy\\ndept.find('phòng')\",\n",
       "  \"# Check xem chuỗi có bắt đầu bằng ký tự cho trước không\\ndept.startswith('w')\",\n",
       "  \"# tương tự là endwith\\ndept.endswith('doanh')\",\n",
       "  \"x = [10, 'foo', False, 2.5] #các phần tử có kiểu dữ liệu không đồng nhất\\ntype(x)\",\n",
       "  \"color = list(['xanh', 'đỏ', 'vàng'])\\ncolor\",\n",
       "  'x[1]',\n",
       "  'x[-2]',\n",
       "  'x[1:3]',\n",
       "  'numbers = [0, 1, 2, 3, 4, 5, 6, 7, 8, 9]',\n",
       "  'numbers[1:9:3] # cắt từ 1 đến trước 9, khoảng khách là 3',\n",
       "  'numbers[::2] # lấy từ đầu đến cuối, khoảng cách là 2',\n",
       "  'numbers[:2] # lấy 2 giá trị đầu',\n",
       "  'numbers[-3:] # lấy 3 giá trị cuối',\n",
       "  'numbers[::-1] # đảo ngược giá trị của list',\n",
       "  \"skill_sets = ['sql', 'r', 'excel', 'python']\",\n",
       "  \"# Thay đổi từ chỉ mục 2 đến hết\\nskill_sets[2:] = ['spss']\\nskill_sets\",\n",
       "  \"# chỉ mục 1 thay bằng 'vba'\\nskill_sets[1] = 'vba'\\nskill_sets\",\n",
       "  'numbers.append(15)\\nnumbers',\n",
       "  'numbers.pop(3) #xóa phần từ thứ 3\\nnumbers',\n",
       "  \"numbers.extend(['a', 'b', 'c'])\\nnumbers\",\n",
       "  'numbers2 = [0, 1, 2, 3, 4, 5, 6, 7, 8, 9]\\nnumbers2.sort(reverse=True)\\nnumbers2',\n",
       "  'tuple1 = (\"Hanoi\", \"Hai Phong\", \"Tay Ninh\", \"Lam Dong\")\\ntype(tuple1)',\n",
       "  'tuple2 = \"Hanoi\", \"Hai Phong\", \"Tay Ninh\", \"Lam Dong\"\\ntype(tuple2)',\n",
       "  '# Khời tạo tuple rỗng\\ntpl = ()\\n#hoặc\\ntpl2 = tuple()\\nprint(type(tpl), type(tpl2))',\n",
       "  \"list1 = [1, 2, 3]\\ntuple1 = ('a', 'b', 'c')\",\n",
       "  'list1[2] = \"a\"\\nlist1',\n",
       "  'x, y, z = tuple1\\ny',\n",
       "  'tuple1[1] = 1\\ntuple1',\n",
       "  'x, y, z = tuple1\\ny',\n",
       "  \"d = {\\n    'one':'một',\\n    'two':'hai',\\n    'three':'ba'}\\ntype(d)\",\n",
       "  \"d = {\\n    'one':'một',\\n    'two':'hai',\\n    'three':'ba'}\\ntype(d)\",\n",
       "  \"d2 = {\\n    'one': 0.5,\\n    'two': [1, 2, 3],\\n    'three': False}\\ntype(d2)\",\n",
       "  \"d2['two']\",\n",
       "  \"d2['three'] = 3\\nd2\",\n",
       "  \"d2['four'] = 4\\nd2\",\n",
       "  \"del d2['two']\\nd2\",\n",
       "  'd.items()',\n",
       "  'd.values()',\n",
       "  \"s1 = {'a', 'b', 3}\\ntype(s1)\",\n",
       "  's2 = {1, 1, 2, 2, 2, 3, 3, 3}\\ns2',\n",
       "  'mix_set = { \"dbs_aad\", 34, (4, 5, 6) }',\n",
       "  '#| error: true\\nmix_mutable_set = { \"Hải Phòng\", \"Hà Nội\", [ 2, 4 ] }',\n",
       "  \"s1.add('4')\\ns1\",\n",
       "  \"s1.remove('4')\\ns1\",\n",
       "  '# Kiểm tra s1 có phải tập con của s2 ko \\ns1.issubset(s2)',\n",
       "  '# Kiểm tra tập giao giữa 2 tập con\\ns1.intersection(s2)',\n",
       "  'x, y = 1, 2\\nx < y',\n",
       "  'x > y',\n",
       "  '1 < 2 < 3',\n",
       "  '# hoặc \\n1 <= 2 <= 3',\n",
       "  'x = 1  #assignment\\nx == 2 #comparison',\n",
       "  'x != 2',\n",
       "  'ta = \"Nguyen Tuan Anh\"\\nha = ta\\nta is ha',\n",
       "  'ta is not ha',\n",
       "  'x = [1, 2, 3]\\ny = [1, 2, 3]\\nx == y # toán tử == kiểm tra tính ngang bằng - equality',\n",
       "  'x is y # toán tử is kiểm tra tính đồng nhất - identical',\n",
       "  'z = x\\nz is x',\n",
       "  'True and False',\n",
       "  'not False and True',\n",
       "  '1 > 2 and 3 == 3',\n",
       "  \"'x' in 'hanoi'\",\n",
       "  \"'x' not in 'hanoi'\",\n",
       "  \"if 1 < 2:\\n    print('Yep!')\",\n",
       "  \"if 1 > 2:\\n    print('first')\\nelse:\\n    print('last')\",\n",
       "  \"if 1 == 2:\\n    print('first')\\nelif 3 == 3:\\n    print('middle')\\nelse:\\n    print('Last')\",\n",
       "  \"#| error: true\\nif 1 < 2:\\nprint('x')\",\n",
       "  'a = 1\\nwhile a < 10:\\n    print(a)\\n    a += 2 # += tương đương với a = a + 2',\n",
       "  \"a = 0\\nwhile a < 20:\\n    if a % 5 == 0:\\n        print('{x} chia hết cho 5'.format(x=a))\\n    a += 1\",\n",
       "  'a = list(range(1, 10))\\ni = 1\\nwhile i < max(a):\\n    print(i)\\n    if i % 5 == 0:\\n        break\\n    i += 1',\n",
       "  \"a = 1\\nwhile a < 10:\\n    print(a)\\n    a += 2\\nelse:\\n    print ('End while')\",\n",
       "  'animals = [\\'dog\\', \\'cat\\', \\'bird\\']\\nfor animal in animals:\\n    print(\"The plural of \" + animal + \" is \" + animal + \"s\")',\n",
       "  \"animals = ['dog', 'cat', 'bird']\\nfor animal in animals:\\n    print('The plural of ' + animal + ' is ' + animal + 's')\\nelse:\\n    print('End for loop')\",\n",
       "  'x = list(range(10))\\nx',\n",
       "  'y = []\\nfor i in x:    \\n    y.append(i * 2)\\ny    ',\n",
       "  'y = [i * 2 for i in x]\\ny',\n",
       "  'y = [i * 2 for i in x if i % 2 == 0]\\ny',\n",
       "  'print (\"Tôi muốn học Python trong 2 tuần\")',\n",
       "  \"# Cách 1 \\nprint ('Tên tôi là %s và tôi %d tuổi' % ('Hoàng', 29)) # %s là để nhập string, #d để nhập decimal\",\n",
       "  \"# Cách 2\\nprint ('Tên tôi là {x} và tôi {y} tuổi'.format(x = 'Hoàng', y = 29))\",\n",
       "  'x = 3\\ntype(x)',\n",
       "  'person = {\"name\": \"Nguyen Tuan Anh\", \"title\": \"Xam King\"}\\ntype(person)',\n",
       "  '# Trả về chiều dài của chuỗi\\ndept = \"dbs_aad\"\\nlen(dept)',\n",
       "  '# Trả về số phần tử trong một List\\nlanguages = [\"Vietnamese\", \"English\"]\\nlen(languages)',\n",
       "  '# Trả về giá trị lớn nhất của một dãy số\\nmax(1,2,4)',\n",
       "  '# Trả về giá trị của phần tử lớn nhất trong một List\\nmax([1, 20, 18])',\n",
       "  'sum([1, 2, 3])',\n",
       "  'list(range(0, 10))',\n",
       "  \"x = 'abc'\\ny = 'def'\\nz = zip(x,y)\\nlist(z)\",\n",
       "  \"countries = ('Japan', 'Korea', 'China')\\ncities = ('Tokyo', 'Seoul', 'Beijing')\\nfor country, city in zip(countries, cities):\\n    print(f'The capital of {country} is {city}')\",\n",
       "  \"names = ['Tom', 'John']\\nmarks = ['E', 'F']\\ndict(zip(names, marks))\",\n",
       "  'list2 = [False, False, True]\\nany(list2)',\n",
       "  'all(list2)',\n",
       "  \"def check_num(x):\\n    if x < 0:\\n        return 'negative'\\n    return 'positive'\\n\\ncheck_num(2)\",\n",
       "  'def plus(x, y):\\n    a = x + y    \\nplus(3, 4)  # không có gì ',\n",
       "  'def divide(x, y):\\n    print (\"Dividing...\")\\n    return x/y\\n    print (\"Done\")\\n\\ndivide(6, 3)',\n",
       "  'def square(x):\\n    \"\"\"\\n    Tính bình phương của 1 giá trị\\n    \"\"\"\\n    y = x**2\\n    return y\\n\\nsquare(-1)',\n",
       "  \"#| eval: false\\nget_ipython().run_line_magic('pinfo', 'square')\",\n",
       "  '# function 1 \\ndef minus(x, y):\\n    a = x - y\\n    return a\\n# func2\\nminus2 = lambda x, y: x-y # Dấu : tương đương với return',\n",
       "  'minus(3, 4)',\n",
       "  'minus2(3, 4)',\n",
       "  '# Hàm xây dựng chuỗi n Fibonacci\\ndef fib_n(n):\\n    if n == 1:\\n        my_list = list([0])\\n    elif n == 2:\\n        my_list = list([0, 1])\\n    else: \\n        my_list = list([0])\\n        f0 = 0\\n        f1 = 1\\n        my_range = range(n-1)\\n        for i in my_range:\\n            f2 = f1 + f0\\n            f0 = f1\\n            f1 = f2\\n            my_list.append(f2)\\n    return(my_list)',\n",
       "  'fib_n(10)',\n",
       "  '#| error: true\\nseq = [1, 2, 3, 4, 5]\\n# sử dụng hàm square được định nghĩa ở trên \\nsquare(seq)',\n",
       "  'seq2 = map(square, seq)\\nlist(seq2) # hàm map sẽ trả ra map object, để trả kết quả ra list ta dùng hàm list',\n",
       "  'seq3 = map(lambda x: x*x, seq)\\nlist(seq3)',\n",
       "  'def check_even(x):\\n    if x % 2 == 0:\\n        return True\\n    else:\\n        return False',\n",
       "  'list(filter(check_even, seq))',\n",
       "  'seq4 = [x * x for x in seq]\\nseq4',\n",
       "  '# sử dụng map\\nseq3 = map(lambda x: x*x, seq)\\nlist(seq3)',\n",
       "  \"get_ipython().run_line_magic('timeit', 'L = map(square, seq)')\",\n",
       "  \"get_ipython().run_line_magic('timeit', 'L = [x * x for x in seq]')\",\n",
       "  \"my_file = open('output.txt', 'w') # w is write\",\n",
       "  \"lines = 'This is my first example'\\nmy_file.write(lines)\",\n",
       "  'import pickle',\n",
       "  't = [1,2,3]\\ns = pickle.dumps(t) # dumps: dump string',\n",
       "  'my_load = pickle.loads(s) #loads: loads string',\n",
       "  '#| eval: false\\nfor x in array:\\n  if x < pivot:\\n    less.append(x)\\n  else:\\n    greater.append(x)',\n",
       "  '# Kiểm tra thư mục làm việc\\nimport os as os',\n",
       "  'os.getcwd()',\n",
       "  '# Kiểm tra các biến trong môi trường làm việc\\nglobals()'],\n",
       " 'Out': {1: 20,\n",
       "  2: True,\n",
       "  3: False,\n",
       "  4: 20,\n",
       "  5: True,\n",
       "  6: False,\n",
       "  7: bool,\n",
       "  8: 1,\n",
       "  9: 2,\n",
       "  10: int,\n",
       "  11: float,\n",
       "  12: 4,\n",
       "  13: 2,\n",
       "  14: 4,\n",
       "  15: True,\n",
       "  16: \"i'm a man\",\n",
       "  17: 'h',\n",
       "  18: 'l',\n",
       "  19: 'o',\n",
       "  20: 'el',\n",
       "  21: 'llo',\n",
       "  22: 'hlo',\n",
       "  24: 'phòng phân tích kinh doanh',\n",
       "  25: 'PHÒNG PHÂN TÍCH KINH DOANH',\n",
       "  26: ['Phòng', 'Phân', 'tích', 'kinh', 'doanh'],\n",
       "  27: 'axxbxxc',\n",
       "  28: -1,\n",
       "  29: False,\n",
       "  30: True,\n",
       "  31: list,\n",
       "  32: ['xanh', 'đỏ', 'vàng'],\n",
       "  33: 'foo',\n",
       "  34: False,\n",
       "  35: ['foo', False],\n",
       "  37: [1, 4, 7],\n",
       "  38: [0, 2, 4, 6, 8],\n",
       "  39: [0, 1],\n",
       "  40: [7, 8, 9],\n",
       "  41: [9, 8, 7, 6, 5, 4, 3, 2, 1, 0],\n",
       "  43: ['sql', 'vba', 'spss'],\n",
       "  44: ['sql', 'vba', 'spss'],\n",
       "  45: [0, 1, 2, 4, 5, 6, 7, 8, 9, 15, 'a', 'b', 'c'],\n",
       "  46: [0, 1, 2, 4, 5, 6, 7, 8, 9, 15, 'a', 'b', 'c'],\n",
       "  47: [0, 1, 2, 4, 5, 6, 7, 8, 9, 15, 'a', 'b', 'c'],\n",
       "  48: [9, 8, 7, 6, 5, 4, 3, 2, 1, 0],\n",
       "  49: tuple,\n",
       "  50: tuple,\n",
       "  53: [1, 2, 'a'],\n",
       "  54: 'b',\n",
       "  56: 'b',\n",
       "  57: dict,\n",
       "  58: dict,\n",
       "  59: dict,\n",
       "  60: [1, 2, 3],\n",
       "  61: {'one': 0.5, 'three': 3, 'four': 4},\n",
       "  62: {'one': 0.5, 'three': 3, 'four': 4},\n",
       "  63: {'one': 0.5, 'three': 3, 'four': 4},\n",
       "  64: dict_items([('one', 'một'), ('two', 'hai'), ('three', 'ba')]),\n",
       "  65: dict_values(['một', 'hai', 'ba']),\n",
       "  66: set,\n",
       "  67: {1, 2, 3},\n",
       "  70: {3, 'a', 'b'},\n",
       "  71: {3, 'a', 'b'},\n",
       "  72: False,\n",
       "  73: {3},\n",
       "  74: True,\n",
       "  75: False,\n",
       "  76: True,\n",
       "  77: True,\n",
       "  78: False,\n",
       "  79: True,\n",
       "  80: True,\n",
       "  81: False,\n",
       "  82: True,\n",
       "  83: False,\n",
       "  84: True,\n",
       "  85: False,\n",
       "  86: True,\n",
       "  87: False,\n",
       "  88: False,\n",
       "  89: True,\n",
       "  100: [0, 1, 2, 3, 4, 5, 6, 7, 8, 9],\n",
       "  101: [0, 2, 4, 6, 8, 10, 12, 14, 16, 18],\n",
       "  102: [0, 2, 4, 6, 8, 10, 12, 14, 16, 18],\n",
       "  103: [0, 4, 8, 12, 16],\n",
       "  107: int,\n",
       "  108: dict,\n",
       "  109: 7,\n",
       "  110: 2,\n",
       "  111: 4,\n",
       "  112: 20,\n",
       "  113: 6,\n",
       "  114: [0, 1, 2, 3, 4, 5, 6, 7, 8, 9],\n",
       "  115: [('a', 'd'), ('b', 'e'), ('c', 'f')],\n",
       "  117: {'Tom': 'E', 'John': 'F'},\n",
       "  118: True,\n",
       "  119: False,\n",
       "  120: 'positive',\n",
       "  122: 2.0,\n",
       "  123: 1,\n",
       "  126: -1,\n",
       "  127: -1,\n",
       "  129: [0, 1, 2, 3, 5, 8, 13, 21, 34, 55],\n",
       "  131: [1, 4, 9, 16, 25],\n",
       "  132: [1, 4, 9, 16, 25],\n",
       "  134: [2, 4],\n",
       "  135: [1, 4, 9, 16, 25],\n",
       "  136: [1, 4, 9, 16, 25],\n",
       "  140: 24,\n",
       "  146: 'C:\\\\Users\\\\anhhd3\\\\Desktop\\\\01-python-book\\\\_source'},\n",
       " 'get_ipython': <bound method InteractiveShell.get_ipython of <ipykernel.zmqshell.ZMQInteractiveShell object at 0x000002272DCFFD50>>,\n",
       " 'exit': <IPython.core.autocall.ZMQExitAutocall at 0x2272dd1bd50>,\n",
       " 'quit': <IPython.core.autocall.ZMQExitAutocall at 0x2272dd1bd50>,\n",
       " 'open': <function io.open(file, mode='r', buffering=-1, encoding=None, errors=None, newline=None, closefd=True, opener=None)>,\n",
       " '_': 'C:\\\\Users\\\\anhhd3\\\\Desktop\\\\01-python-book\\\\_source',\n",
       " '__': 24,\n",
       " '___': [1, 4, 9, 16, 25],\n",
       " '__session__': 'C:\\\\Users\\\\anhhd3\\\\Desktop\\\\01-python-book\\\\_source\\\\p01-02-gioi-thieu-co-ban-python.ipynb',\n",
       " '_i': 'os.getcwd()',\n",
       " '_ii': '# Kiểm tra thư mục làm việc\\nimport os as os',\n",
       " '_iii': '#| eval: false\\nfor x in array:\\n  if x < pivot:\\n    less.append(x)\\n  else:\\n    greater.append(x)',\n",
       " '_i1': 'x = 20\\nx',\n",
       " 'x': 'abc',\n",
       " '_1': 20,\n",
       " '_i2': 'x = True\\nx',\n",
       " '_2': True,\n",
       " '_i3': 'x = 100 < 2\\nx',\n",
       " '_3': False,\n",
       " '_i4': 'x = 20\\nx',\n",
       " '_4': 20,\n",
       " '_i5': 'x = True\\nx',\n",
       " '_5': True,\n",
       " '_i6': 'x = 100 < 2\\nx',\n",
       " '_6': False,\n",
       " '_i7': 'type(x)',\n",
       " '_7': bool,\n",
       " '_i8': 'True + False',\n",
       " '_8': 1,\n",
       " '_i9': 'y = [False, False, True, True] # List boolean value\\nsum(y)',\n",
       " 'y': 'def',\n",
       " '_9': 2,\n",
       " '_i10': 'a, b = 1, 2\\nc, d = 2.5, 10.0\\ntype(a)',\n",
       " 'a': 11,\n",
       " 'b': 'single quotes',\n",
       " 'c': \"i'm a man\",\n",
       " 'd': {'one': 'một', 'two': 'hai', 'three': 'ba'},\n",
       " '_10': int,\n",
       " '_i11': 'type(d)',\n",
       " '_11': float,\n",
       " '_i12': 'x = 2\\nx * 2',\n",
       " '_12': 4,\n",
       " '_i13': 'x',\n",
       " '_13': 2,\n",
       " '_i14': '# Gtri chỉ thay đổi khi gán vào 1 biến mới\\nx = x * 2\\nx',\n",
       " '_14': 4,\n",
       " '_i15': '# Có thể nhập bằng single quote hoặc double quote\\na = \\'single quotes\\'\\nb = \"single quotes\"\\na == b',\n",
       " '_15': True,\n",
       " '_i16': '#hoặc cả 2\\nc = \"i\\'m a man\"\\nc',\n",
       " '_16': \"i'm a man\",\n",
       " '_i17': 'word = \"hello\"\\nword[0]',\n",
       " 'word': 'hello',\n",
       " '_17': 'h',\n",
       " '_i18': 'word = \"hello\"\\n# Chiều từ trái qua phải\\nword[2]',\n",
       " '_18': 'l',\n",
       " '_i19': '# Chiều từ phải qua trái, sd khi ko biết chính xác độ dài chuỗi\\nword[-1]',\n",
       " '_19': 'o',\n",
       " '_i20': 'word[1:3]',\n",
       " '_20': 'el',\n",
       " '_i21': 'word[2:]',\n",
       " '_21': 'llo',\n",
       " '_i22': '# Lấy cả chuỗi, cách 2 đơn vị\\nword[::2]',\n",
       " '_22': 'hlo',\n",
       " '_i23': \"dept = 'Phòng Phân tích kinh doanh'\",\n",
       " 'dept': 'dbs_aad',\n",
       " '_i24': '# trả về dạng chữ thường\\ndept.lower()',\n",
       " '_24': 'phòng phân tích kinh doanh',\n",
       " '_i25': '# trả về dạng chữ hoa\\ndept.upper()',\n",
       " '_25': 'PHÒNG PHÂN TÍCH KINH DOANH',\n",
       " '_i26': '# Trả về một list các phần tử được tách bởi một dấu phân cách(delimiter) cho trước\\ndept.split()',\n",
       " '_26': ['Phòng', 'Phân', 'tích', 'kinh', 'doanh'],\n",
       " '_i27': \"# Trả về một chuỗi được ghép bởi các phần tử từ một list, theo một dấu phân cách cho trước\\n'xx'.join(['a', 'b', 'c'])\",\n",
       " '_27': 'axxbxxc',\n",
       " '_i28': \"#tìm kiếm ký tự - trả về vị trí của ký tự đầu tiên tìm được trong chuỗi\\n# trả ra -1 nếu k tìm thấy\\ndept.find('phòng')\",\n",
       " '_28': -1,\n",
       " '_i29': \"# Check xem chuỗi có bắt đầu bằng ký tự cho trước không\\ndept.startswith('w')\",\n",
       " '_29': False,\n",
       " '_i30': \"# tương tự là endwith\\ndept.endswith('doanh')\",\n",
       " '_30': True,\n",
       " '_i31': \"x = [10, 'foo', False, 2.5] #các phần tử có kiểu dữ liệu không đồng nhất\\ntype(x)\",\n",
       " '_31': list,\n",
       " '_i32': \"color = list(['xanh', 'đỏ', 'vàng'])\\ncolor\",\n",
       " 'color': ['xanh', 'đỏ', 'vàng'],\n",
       " '_32': ['xanh', 'đỏ', 'vàng'],\n",
       " '_i33': 'x[1]',\n",
       " '_33': 'foo',\n",
       " '_i34': 'x[-2]',\n",
       " '_34': False,\n",
       " '_i35': 'x[1:3]',\n",
       " '_35': ['foo', False],\n",
       " '_i36': 'numbers = [0, 1, 2, 3, 4, 5, 6, 7, 8, 9]',\n",
       " 'numbers': [0, 1, 2, 4, 5, 6, 7, 8, 9, 15, 'a', 'b', 'c'],\n",
       " '_i37': 'numbers[1:9:3] # cắt từ 1 đến trước 9, khoảng khách là 3',\n",
       " '_37': [1, 4, 7],\n",
       " '_i38': 'numbers[::2] # lấy từ đầu đến cuối, khoảng cách là 2',\n",
       " '_38': [0, 2, 4, 6, 8],\n",
       " '_i39': 'numbers[:2] # lấy 2 giá trị đầu',\n",
       " '_39': [0, 1],\n",
       " '_i40': 'numbers[-3:] # lấy 3 giá trị cuối',\n",
       " '_40': [7, 8, 9],\n",
       " '_i41': 'numbers[::-1] # đảo ngược giá trị của list',\n",
       " '_41': [9, 8, 7, 6, 5, 4, 3, 2, 1, 0],\n",
       " '_i42': \"skill_sets = ['sql', 'r', 'excel', 'python']\",\n",
       " 'skill_sets': ['sql', 'vba', 'spss'],\n",
       " '_i43': \"# Thay đổi từ chỉ mục 2 đến hết\\nskill_sets[2:] = ['spss']\\nskill_sets\",\n",
       " '_43': ['sql', 'vba', 'spss'],\n",
       " '_i44': \"# chỉ mục 1 thay bằng 'vba'\\nskill_sets[1] = 'vba'\\nskill_sets\",\n",
       " '_44': ['sql', 'vba', 'spss'],\n",
       " '_i45': 'numbers.append(15)\\nnumbers',\n",
       " '_45': [0, 1, 2, 4, 5, 6, 7, 8, 9, 15, 'a', 'b', 'c'],\n",
       " '_i46': 'numbers.pop(3) #xóa phần từ thứ 3\\nnumbers',\n",
       " '_46': [0, 1, 2, 4, 5, 6, 7, 8, 9, 15, 'a', 'b', 'c'],\n",
       " '_i47': \"numbers.extend(['a', 'b', 'c'])\\nnumbers\",\n",
       " '_47': [0, 1, 2, 4, 5, 6, 7, 8, 9, 15, 'a', 'b', 'c'],\n",
       " '_i48': 'numbers2 = [0, 1, 2, 3, 4, 5, 6, 7, 8, 9]\\nnumbers2.sort(reverse=True)\\nnumbers2',\n",
       " 'numbers2': [9, 8, 7, 6, 5, 4, 3, 2, 1, 0],\n",
       " '_48': [9, 8, 7, 6, 5, 4, 3, 2, 1, 0],\n",
       " '_i49': 'tuple1 = (\"Hanoi\", \"Hai Phong\", \"Tay Ninh\", \"Lam Dong\")\\ntype(tuple1)',\n",
       " 'tuple1': ('a', 'b', 'c'),\n",
       " '_49': tuple,\n",
       " '_i50': 'tuple2 = \"Hanoi\", \"Hai Phong\", \"Tay Ninh\", \"Lam Dong\"\\ntype(tuple2)',\n",
       " 'tuple2': ('Hanoi', 'Hai Phong', 'Tay Ninh', 'Lam Dong'),\n",
       " '_50': tuple,\n",
       " '_i51': '# Khời tạo tuple rỗng\\ntpl = ()\\n#hoặc\\ntpl2 = tuple()\\nprint(type(tpl), type(tpl2))',\n",
       " 'tpl': (),\n",
       " 'tpl2': (),\n",
       " '_i52': \"list1 = [1, 2, 3]\\ntuple1 = ('a', 'b', 'c')\",\n",
       " 'list1': [1, 2, 'a'],\n",
       " '_i53': 'list1[2] = \"a\"\\nlist1',\n",
       " '_53': [1, 2, 'a'],\n",
       " '_i54': 'x, y, z = tuple1\\ny',\n",
       " 'z': <zip at 0x2272e2ecb80>,\n",
       " '_54': 'b',\n",
       " '_i55': 'tuple1[1] = 1\\ntuple1',\n",
       " '_i56': 'x, y, z = tuple1\\ny',\n",
       " '_56': 'b',\n",
       " '_i57': \"d = {\\n    'one':'một',\\n    'two':'hai',\\n    'three':'ba'}\\ntype(d)\",\n",
       " '_57': dict,\n",
       " '_i58': \"d = {\\n    'one':'một',\\n    'two':'hai',\\n    'three':'ba'}\\ntype(d)\",\n",
       " '_58': dict,\n",
       " '_i59': \"d2 = {\\n    'one': 0.5,\\n    'two': [1, 2, 3],\\n    'three': False}\\ntype(d2)\",\n",
       " 'd2': {'one': 0.5, 'three': 3, 'four': 4},\n",
       " '_59': dict,\n",
       " '_i60': \"d2['two']\",\n",
       " '_60': [1, 2, 3],\n",
       " '_i61': \"d2['three'] = 3\\nd2\",\n",
       " '_61': {'one': 0.5, 'three': 3, 'four': 4},\n",
       " '_i62': \"d2['four'] = 4\\nd2\",\n",
       " '_62': {'one': 0.5, 'three': 3, 'four': 4},\n",
       " '_i63': \"del d2['two']\\nd2\",\n",
       " '_63': {'one': 0.5, 'three': 3, 'four': 4},\n",
       " '_i64': 'd.items()',\n",
       " '_64': dict_items([('one', 'một'), ('two', 'hai'), ('three', 'ba')]),\n",
       " '_i65': 'd.values()',\n",
       " '_65': dict_values(['một', 'hai', 'ba']),\n",
       " '_i66': \"s1 = {'a', 'b', 3}\\ntype(s1)\",\n",
       " 's1': {3, 'a', 'b'},\n",
       " '_66': set,\n",
       " '_i67': 's2 = {1, 1, 2, 2, 2, 3, 3, 3}\\ns2',\n",
       " 's2': {1, 2, 3},\n",
       " '_67': {1, 2, 3},\n",
       " '_i68': 'mix_set = { \"dbs_aad\", 34, (4, 5, 6) }',\n",
       " 'mix_set': {(4, 5, 6), 34, 'dbs_aad'},\n",
       " '_i69': '#| error: true\\nmix_mutable_set = { \"Hải Phòng\", \"Hà Nội\", [ 2, 4 ] }',\n",
       " '_i70': \"s1.add('4')\\ns1\",\n",
       " '_70': {3, 'a', 'b'},\n",
       " '_i71': \"s1.remove('4')\\ns1\",\n",
       " '_71': {3, 'a', 'b'},\n",
       " '_i72': '# Kiểm tra s1 có phải tập con của s2 ko \\ns1.issubset(s2)',\n",
       " '_72': False,\n",
       " '_i73': '# Kiểm tra tập giao giữa 2 tập con\\ns1.intersection(s2)',\n",
       " '_73': {3},\n",
       " '_i74': 'x, y = 1, 2\\nx < y',\n",
       " '_74': True,\n",
       " '_i75': 'x > y',\n",
       " '_75': False,\n",
       " '_i76': '1 < 2 < 3',\n",
       " '_76': True,\n",
       " '_i77': '# hoặc \\n1 <= 2 <= 3',\n",
       " '_77': True,\n",
       " '_i78': 'x = 1  #assignment\\nx == 2 #comparison',\n",
       " '_78': False,\n",
       " '_i79': 'x != 2',\n",
       " '_79': True,\n",
       " '_i80': 'ta = \"Nguyen Tuan Anh\"\\nha = ta\\nta is ha',\n",
       " 'ta': 'Nguyen Tuan Anh',\n",
       " 'ha': 'Nguyen Tuan Anh',\n",
       " '_80': True,\n",
       " '_i81': 'ta is not ha',\n",
       " '_81': False,\n",
       " '_i82': 'x = [1, 2, 3]\\ny = [1, 2, 3]\\nx == y # toán tử == kiểm tra tính ngang bằng - equality',\n",
       " '_82': True,\n",
       " '_i83': 'x is y # toán tử is kiểm tra tính đồng nhất - identical',\n",
       " '_83': False,\n",
       " '_i84': 'z = x\\nz is x',\n",
       " '_84': True,\n",
       " '_i85': 'True and False',\n",
       " '_85': False,\n",
       " '_i86': 'not False and True',\n",
       " '_86': True,\n",
       " '_i87': '1 > 2 and 3 == 3',\n",
       " '_87': False,\n",
       " '_i88': \"'x' in 'hanoi'\",\n",
       " '_88': False,\n",
       " '_i89': \"'x' not in 'hanoi'\",\n",
       " '_89': True,\n",
       " '_i90': \"if 1 < 2:\\n    print('Yep!')\",\n",
       " '_i91': \"if 1 > 2:\\n    print('first')\\nelse:\\n    print('last')\",\n",
       " '_i92': \"if 1 == 2:\\n    print('first')\\nelif 3 == 3:\\n    print('middle')\\nelse:\\n    print('Last')\",\n",
       " '_i93': \"#| error: true\\nif 1 < 2:\\nprint('x')\",\n",
       " '_i94': 'a = 1\\nwhile a < 10:\\n    print(a)\\n    a += 2 # += tương đương với a = a + 2',\n",
       " '_i95': \"a = 0\\nwhile a < 20:\\n    if a % 5 == 0:\\n        print('{x} chia hết cho 5'.format(x=a))\\n    a += 1\",\n",
       " '_i96': 'a = list(range(1, 10))\\ni = 1\\nwhile i < max(a):\\n    print(i)\\n    if i % 5 == 0:\\n        break\\n    i += 1',\n",
       " 'i': 9,\n",
       " '_i97': \"a = 1\\nwhile a < 10:\\n    print(a)\\n    a += 2\\nelse:\\n    print ('End while')\",\n",
       " '_i98': 'animals = [\\'dog\\', \\'cat\\', \\'bird\\']\\nfor animal in animals:\\n    print(\"The plural of \" + animal + \" is \" + animal + \"s\")',\n",
       " 'animals': ['dog', 'cat', 'bird'],\n",
       " 'animal': 'bird',\n",
       " '_i99': \"animals = ['dog', 'cat', 'bird']\\nfor animal in animals:\\n    print('The plural of ' + animal + ' is ' + animal + 's')\\nelse:\\n    print('End for loop')\",\n",
       " '_i100': 'x = list(range(10))\\nx',\n",
       " '_100': [0, 1, 2, 3, 4, 5, 6, 7, 8, 9],\n",
       " '_i101': 'y = []\\nfor i in x:    \\n    y.append(i * 2)\\ny    ',\n",
       " '_101': [0, 2, 4, 6, 8, 10, 12, 14, 16, 18],\n",
       " '_i102': 'y = [i * 2 for i in x]\\ny',\n",
       " '_102': [0, 2, 4, 6, 8, 10, 12, 14, 16, 18],\n",
       " '_i103': 'y = [i * 2 for i in x if i % 2 == 0]\\ny',\n",
       " '_103': [0, 4, 8, 12, 16],\n",
       " '_i104': 'print (\"Tôi muốn học Python trong 2 tuần\")',\n",
       " '_i105': \"# Cách 1 \\nprint ('Tên tôi là %s và tôi %d tuổi' % ('Hoàng', 29)) # %s là để nhập string, #d để nhập decimal\",\n",
       " '_i106': \"# Cách 2\\nprint ('Tên tôi là {x} và tôi {y} tuổi'.format(x = 'Hoàng', y = 29))\",\n",
       " '_i107': 'x = 3\\ntype(x)',\n",
       " '_107': int,\n",
       " '_i108': 'person = {\"name\": \"Nguyen Tuan Anh\", \"title\": \"Xam King\"}\\ntype(person)',\n",
       " 'person': {'name': 'Nguyen Tuan Anh', 'title': 'Xam King'},\n",
       " '_108': dict,\n",
       " '_i109': '# Trả về chiều dài của chuỗi\\ndept = \"dbs_aad\"\\nlen(dept)',\n",
       " '_109': 7,\n",
       " '_i110': '# Trả về số phần tử trong một List\\nlanguages = [\"Vietnamese\", \"English\"]\\nlen(languages)',\n",
       " 'languages': ['Vietnamese', 'English'],\n",
       " '_110': 2,\n",
       " '_i111': '# Trả về giá trị lớn nhất của một dãy số\\nmax(1,2,4)',\n",
       " '_111': 4,\n",
       " '_i112': '# Trả về giá trị của phần tử lớn nhất trong một List\\nmax([1, 20, 18])',\n",
       " '_112': 20,\n",
       " '_i113': 'sum([1, 2, 3])',\n",
       " '_113': 6,\n",
       " '_i114': 'list(range(0, 10))',\n",
       " '_114': [0, 1, 2, 3, 4, 5, 6, 7, 8, 9],\n",
       " '_i115': \"x = 'abc'\\ny = 'def'\\nz = zip(x,y)\\nlist(z)\",\n",
       " '_115': [('a', 'd'), ('b', 'e'), ('c', 'f')],\n",
       " '_i116': \"countries = ('Japan', 'Korea', 'China')\\ncities = ('Tokyo', 'Seoul', 'Beijing')\\nfor country, city in zip(countries, cities):\\n    print(f'The capital of {country} is {city}')\",\n",
       " 'countries': ('Japan', 'Korea', 'China'),\n",
       " 'cities': ('Tokyo', 'Seoul', 'Beijing'),\n",
       " 'country': 'China',\n",
       " 'city': 'Beijing',\n",
       " '_i117': \"names = ['Tom', 'John']\\nmarks = ['E', 'F']\\ndict(zip(names, marks))\",\n",
       " 'names': ['Tom', 'John'],\n",
       " 'marks': ['E', 'F'],\n",
       " '_117': {'Tom': 'E', 'John': 'F'},\n",
       " '_i118': 'list2 = [False, False, True]\\nany(list2)',\n",
       " 'list2': [False, False, True],\n",
       " '_118': True,\n",
       " '_i119': 'all(list2)',\n",
       " '_119': False,\n",
       " '_i120': \"def check_num(x):\\n    if x < 0:\\n        return 'negative'\\n    return 'positive'\\n\\ncheck_num(2)\",\n",
       " 'check_num': <function __main__.check_num(x)>,\n",
       " '_120': 'positive',\n",
       " '_i121': 'def plus(x, y):\\n    a = x + y    \\nplus(3, 4)  # không có gì ',\n",
       " 'plus': <function __main__.plus(x, y)>,\n",
       " '_i122': 'def divide(x, y):\\n    print (\"Dividing...\")\\n    return x/y\\n    print (\"Done\")\\n\\ndivide(6, 3)',\n",
       " 'divide': <function __main__.divide(x, y)>,\n",
       " '_122': 2.0,\n",
       " '_i123': 'def square(x):\\n    \"\"\"\\n    Tính bình phương của 1 giá trị\\n    \"\"\"\\n    y = x**2\\n    return y\\n\\nsquare(-1)',\n",
       " 'square': <function __main__.square(x)>,\n",
       " '_123': 1,\n",
       " '_i124': '#| eval: false\\n?square',\n",
       " '_i125': '# function 1 \\ndef minus(x, y):\\n    a = x - y\\n    return a\\n# func2\\nminus2 = lambda x, y: x-y # Dấu : tương đương với return',\n",
       " 'minus': <function __main__.minus(x, y)>,\n",
       " 'minus2': <function __main__.<lambda>(x, y)>,\n",
       " '_i126': 'minus(3, 4)',\n",
       " '_126': -1,\n",
       " '_i127': 'minus2(3, 4)',\n",
       " '_127': -1,\n",
       " '_i128': '# Hàm xây dựng chuỗi n Fibonacci\\ndef fib_n(n):\\n    if n == 1:\\n        my_list = list([0])\\n    elif n == 2:\\n        my_list = list([0, 1])\\n    else: \\n        my_list = list([0])\\n        f0 = 0\\n        f1 = 1\\n        my_range = range(n-1)\\n        for i in my_range:\\n            f2 = f1 + f0\\n            f0 = f1\\n            f1 = f2\\n            my_list.append(f2)\\n    return(my_list)',\n",
       " 'fib_n': <function __main__.fib_n(n)>,\n",
       " '_i129': 'fib_n(10)',\n",
       " '_129': [0, 1, 2, 3, 5, 8, 13, 21, 34, 55],\n",
       " '_i130': '#| error: true\\nseq = [1, 2, 3, 4, 5]\\n# sử dụng hàm square được định nghĩa ở trên \\nsquare(seq)',\n",
       " 'seq': [1, 2, 3, 4, 5],\n",
       " '_i131': 'seq2 = map(square, seq)\\nlist(seq2) # hàm map sẽ trả ra map object, để trả kết quả ra list ta dùng hàm list',\n",
       " 'seq2': <map at 0x2272de14460>,\n",
       " '_131': [1, 4, 9, 16, 25],\n",
       " '_i132': 'seq3 = map(lambda x: x*x, seq)\\nlist(seq3)',\n",
       " 'seq3': <map at 0x2272debd810>,\n",
       " '_132': [1, 4, 9, 16, 25],\n",
       " '_i133': 'def check_even(x):\\n    if x % 2 == 0:\\n        return True\\n    else:\\n        return False',\n",
       " 'check_even': <function __main__.check_even(x)>,\n",
       " '_i134': 'list(filter(check_even, seq))',\n",
       " '_134': [2, 4],\n",
       " '_i135': 'seq4 = [x * x for x in seq]\\nseq4',\n",
       " 'seq4': [1, 4, 9, 16, 25],\n",
       " '_135': [1, 4, 9, 16, 25],\n",
       " '_i136': '# sử dụng map\\nseq3 = map(lambda x: x*x, seq)\\nlist(seq3)',\n",
       " '_136': [1, 4, 9, 16, 25],\n",
       " '_i137': '%timeit L = map(square, seq)',\n",
       " '_i138': '%timeit L = [x * x for x in seq]',\n",
       " '_i139': \"my_file = open('output.txt', 'w') # w is write\",\n",
       " 'my_file': <_io.TextIOWrapper name='output.txt' mode='w' encoding='cp1252'>,\n",
       " '_i140': \"lines = 'This is my first example'\\nmy_file.write(lines)\",\n",
       " 'lines': 'This is my first example',\n",
       " '_140': 24,\n",
       " '_i141': 'import pickle',\n",
       " 'pickle': <module 'pickle' from 'C:\\\\Users\\\\anhhd3\\\\AppData\\\\Local\\\\Programs\\\\Python\\\\Python311\\\\Lib\\\\pickle.py'>,\n",
       " '_i142': 't = [1,2,3]\\ns = pickle.dumps(t) # dumps: dump string',\n",
       " 't': [1, 2, 3],\n",
       " 's': b'\\x80\\x04\\x95\\x0b\\x00\\x00\\x00\\x00\\x00\\x00\\x00]\\x94(K\\x01K\\x02K\\x03e.',\n",
       " '_i143': 'my_load = pickle.loads(s) #loads: loads string',\n",
       " 'my_load': [1, 2, 3],\n",
       " '_i144': '#| eval: false\\nfor x in array:\\n  if x < pivot:\\n    less.append(x)\\n  else:\\n    greater.append(x)',\n",
       " '_i145': '# Kiểm tra thư mục làm việc\\nimport os as os',\n",
       " 'os': <module 'os' (frozen)>,\n",
       " '_i146': 'os.getcwd()',\n",
       " '_146': 'C:\\\\Users\\\\anhhd3\\\\Desktop\\\\01-python-book\\\\_source',\n",
       " '_i147': '# Kiểm tra các biến trong môi trường làm việc\\nglobals()'}"
      ]
     },
     "execution_count": 147,
     "metadata": {},
     "output_type": "execute_result"
    }
   ],
   "source": [
    "# Kiểm tra các biến trong môi trường làm việc\n",
    "globals()"
   ]
  },
  {
   "cell_type": "code",
   "execution_count": 148,
   "metadata": {},
   "outputs": [],
   "source": [
    "#Set working directory\n",
    "import os as os\n",
    "os.chdir(\"D:\")"
   ]
  },
  {
   "cell_type": "code",
   "execution_count": 149,
   "metadata": {},
   "outputs": [
    {
     "data": {
      "text/plain": [
       "['$RECYCLE.BIN',\n",
       " 'OneDrive - VPBank',\n",
       " 'OneDriveTemp',\n",
       " 'Quarantine',\n",
       " 'Setup',\n",
       " 'System Volume Information']"
      ]
     },
     "execution_count": 149,
     "metadata": {},
     "output_type": "execute_result"
    }
   ],
   "source": [
    "#List file trong directory\n",
    "os.listdir()"
   ]
  }
 ],
 "metadata": {
  "kernelspec": {
   "display_name": "Python 3 (ipykernel)",
   "language": "python",
   "name": "python3"
  },
  "language_info": {
   "codemirror_mode": {
    "name": "ipython",
    "version": 3
   },
   "file_extension": ".py",
   "mimetype": "text/x-python",
   "name": "python",
   "nbconvert_exporter": "python",
   "pygments_lexer": "ipython3",
   "version": "3.11.4"
  }
 },
 "nbformat": 4,
 "nbformat_minor": 4
}
