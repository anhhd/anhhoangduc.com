{
 "cells": [
  {
   "cell_type": "markdown",
   "metadata": {},
   "source": [
    "# Tạo website với Django"
   ]
  },
  {
   "cell_type": "markdown",
   "metadata": {},
   "source": [
    "## Giới thiệu"
   ]
  },
  {
   "cell_type": "markdown",
   "metadata": {},
   "source": [
    "`Django` là framework rất hữu dụng trong python cho phép xây dựng website. Khác với `blogdown` hay `rmarkdown`, `Django` cho phép xây dựng website hoàn chỉnh, hỗ trợ tương tác với database"
   ]
  },
  {
   "cell_type": "markdown",
   "metadata": {},
   "source": [
    "**Giới thiệu về Django**"
   ]
  },
  {
   "cell_type": "markdown",
   "metadata": {},
   "source": [
    "Bất kỳ website nào được xây dựng cũng có các cấu phần sau:\n",
    "\n",
    "- Dữ liệu - được quản lý, truy vấn, lưu trữ, thay đổi trong database, sử dụng các công cụ truy vấn databse\n",
    "- Design - quản lý các trải nghiệm người dùng, sử dụng các công cụ như HTML, CSS\n",
    "- Chức năng - quản lý và xây dựng các tính năng tương tác cho người dùng\n",
    "- Deployment - quản lý và deploy các cấu phần của website\n",
    "\n",
    "Để thực hiện việc quản lý và phát triển hiệu quả, các cấu phần cần được tách biệt với nhau. Theo các concept trên, `Django` có 3 cấu phần chính:\n",
    "\n",
    "1. Làm việc với database\n",
    "2. Làm việc với các template, hỗ trợ hiển thị cho người dùng\n",
    "3. Quản lý chức năng giúp người dùng tương tác với database "
   ]
  },
  {
   "cell_type": "markdown",
   "metadata": {},
   "source": [
    "**Cấu phần của Django**:"
   ]
  },
  {
   "cell_type": "markdown",
   "metadata": {},
   "source": [
    "- `App`: Chứa các chức năng có trong website. Một website có thể chứa một hoặc nhiều app. Các module của app thường dùng đã được tạo sẵn với django và ta chỉ cần import. Trong folder project sẽ chứa trong `settings.py`\n",
    "- `db.sqltite3`: Default database, mặc định là sqlite\n",
    "- `manage.py`: Django utilities"
   ]
  },
  {
   "cell_type": "markdown",
   "metadata": {},
   "source": [
    "```\n",
    "# ...\\my_clubproject\n",
    "\n",
    "\\env_myclub\n",
    "\\myclub_site        <= This is your Django project\n",
    "    \\myclub_site    <= This is a Django app\n",
    "    db.sqlite3      <= Your project database\n",
    "    manage.py       <= Django project management utility\n",
    "```"
   ]
  },
  {
   "cell_type": "markdown",
   "metadata": {},
   "source": [
    "Trong cấu trúc website của project, có các file sau:"
   ]
  },
  {
   "cell_type": "markdown",
   "metadata": {},
   "source": [
    "```\n",
    "# \\myclub_project\\myclub_root\\\n",
    "\n",
    "\\myclub_site\n",
    "    __init.py__\n",
    "    settings.py\n",
    "    urls.py\n",
    "    wsgi.py\n",
    "```"
   ]
  },
  {
   "cell_type": "markdown",
   "metadata": {},
   "source": [
    "- `__init__.py`: Mô tả website như là 1 package python\n",
    "- `settings.py`: Các cấu phần cài đặt của website\n",
    "- `urls.py`: Cách thức website trả về các trang khi nhận được request\n",
    "- `wsgi.py`: Các cấu phần liên quan đến deployment"
   ]
  },
  {
   "cell_type": "markdown",
   "metadata": {},
   "source": [
    "Các bước xây dựng Django website cơ bản:"
   ]
  },
  {
   "cell_type": "markdown",
   "metadata": {},
   "source": [
    "```python\n",
    "# Tạo virtual environment\n",
    "python -m venv env_myclub\n",
    "# Activate\n",
    "env_myclub/scriptsactivate\n",
    "# Tạo project\n",
    "django-admin startproject env_myclub\n",
    "# Tạo database\n",
    "python manage.py migrate\n",
    "# Run server\n",
    "python manage.py runserver\n",
    "```"
   ]
  },
  {
   "cell_type": "markdown",
   "metadata": {},
   "source": [
    "## Model"
   ]
  },
  {
   "cell_type": "markdown",
   "metadata": {},
   "source": [
    "Để tương tác với database, `Django` dùng `ORM` - Object Relational Mapping"
   ]
  },
  {
   "cell_type": "markdown",
   "metadata": {},
   "source": [
    "![](Image/Django_ORM_600.png)"
   ]
  },
  {
   "cell_type": "markdown",
   "metadata": {},
   "source": [
    "Django hỗ trợ 4 function cơ bản của Database là CRUD - Create, Read, Update & Delete"
   ]
  },
  {
   "cell_type": "markdown",
   "metadata": {},
   "source": [
    "## Tài liệu tham khảo"
   ]
  },
  {
   "cell_type": "markdown",
   "metadata": {},
   "source": [
    "- https://djangobook.com/mdj2-django-structure/\n"
   ]
  }
 ],
 "metadata": {
  "kernelspec": {
   "display_name": "Python 3",
   "language": "python",
   "name": "python3"
  },
  "toc": {
   "base_numbering": 1,
   "nav_menu": {},
   "number_sections": true,
   "sideBar": true,
   "skip_h1_title": false,
   "title_cell": "Table of Contents",
   "title_sidebar": "Contents",
   "toc_cell": false,
   "toc_position": {
    "height": "calc(100% - 180px)",
    "left": "10px",
    "top": "150px",
    "width": "382.391px"
   },
   "toc_section_display": true,
   "toc_window_display": true
  },
  "varInspector": {
   "cols": {
    "lenName": 16,
    "lenType": 16,
    "lenVar": 40
   },
   "kernels_config": {
    "python": {
     "delete_cmd_postfix": "",
     "delete_cmd_prefix": "del ",
     "library": "var_list.py",
     "varRefreshCmd": "print(var_dic_list())"
    },
    "r": {
     "delete_cmd_postfix": ") ",
     "delete_cmd_prefix": "rm(",
     "library": "var_list.r",
     "varRefreshCmd": "cat(var_dic_list()) "
    }
   },
   "types_to_exclude": [
    "module",
    "function",
    "builtin_function_or_method",
    "instance",
    "_Feature"
   ],
   "window_display": false
  }
 },
 "nbformat": 4,
 "nbformat_minor": 2
}
