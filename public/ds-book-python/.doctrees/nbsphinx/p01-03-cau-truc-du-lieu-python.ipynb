{
 "cells": [
  {
   "cell_type": "markdown",
   "metadata": {},
   "source": [
    "# Các cấu trúc cơ bản trong Python"
   ]
  },
  {
   "cell_type": "markdown",
   "metadata": {},
   "source": [
    "Trong chương này, chúng ta sẽ giới thiệu và làm quen với các kiểu dữ liệu và đối tượng cơ bản trong python, bao gồm 5 nhóm lớn:\n",
    "\n",
    "- Biến (variable)\n",
    "- Các định dạng dữ liệu cơ bản\n",
    "- Các toán tử\n",
    "- Vòng lặp\n",
    "- Hàm"
   ]
  },
  {
   "cell_type": "markdown",
   "metadata": {},
   "source": [
    "## Các cấu trúc dữ liệu cơ bản\n",
    "\n",
    "Để gán biến trong Python, chúng ta sử dụng `=`, mỗi đối tượng được gán sẽ chiếm 1 lượng bộ nhớ nhất định. Biến trong Python sẽ tương tự như object trong R"
   ]
  },
  {
   "cell_type": "code",
   "execution_count": 1,
   "metadata": {
    "execution": {
     "iopub.execute_input": "2024-02-10T22:25:10.126213Z",
     "iopub.status.busy": "2024-02-10T22:25:10.125180Z",
     "iopub.status.idle": "2024-02-10T22:25:10.167942Z",
     "shell.execute_reply": "2024-02-10T22:25:10.166513Z",
     "shell.execute_reply.started": "2024-02-10T22:25:10.126162Z"
    }
   },
   "outputs": [
    {
     "data": {
      "text/plain": [
       "20"
      ]
     },
     "execution_count": 1,
     "metadata": {},
     "output_type": "execute_result"
    }
   ],
   "source": [
    "x = 20\n",
    "x"
   ]
  },
  {
   "cell_type": "markdown",
   "metadata": {},
   "source": [
    "Đặt tên biến phải tuân thủ một số nguyên tắc cơ bản sau:\n",
    "- Sử dụng chữ, số, `_` và ko được sử dụng `'`, `-`, khoảng trắng\n",
    "- Bắt đầu bằng chữ"
   ]
  },
  {
   "cell_type": "markdown",
   "metadata": {},
   "source": [
    "Bên cạnh đó, python cho phép cùng lúc gán nhiều đối tượng đơn giản như sau"
   ]
  },
  {
   "cell_type": "code",
   "execution_count": 2,
   "metadata": {},
   "outputs": [
    {
     "name": "stdout",
     "output_type": "stream",
     "text": [
      "1 2\n"
     ]
    }
   ],
   "source": [
    "x, y = 1, 2\n",
    "print(x, y)"
   ]
  },
  {
   "cell_type": "markdown",
   "metadata": {},
   "source": [
    "Các biến hay đối tượng được lưu trữ trong các kiểu dữ liệu khác nhau. Đối với hoạt động phân tích dữ liệu, các định dạng dữ liệu thông dụng nhất bao gồm:\n",
    "    \n",
    "- Định dạng logic - `Boolean`\n",
    "- Định dạng số - `Numbers`\n",
    "- Định dạng chuỗi - `Strings`\n",
    "- Định dạng list - `Lists`\n",
    "- Định dạng từ điển - `Dictionaries`    \n",
    "- Định dạng `tuples` \n",
    "- Định dạng `Sets`"
   ]
  },
  {
   "cell_type": "markdown",
   "metadata": {},
   "source": [
    "\n",
    "### Boolean\n",
    "\n",
    "Boolean là định dạng logic, bao gồm 2 giá trị `True` và `False`"
   ]
  },
  {
   "cell_type": "code",
   "execution_count": 3,
   "metadata": {
    "execution": {
     "iopub.execute_input": "2024-02-10T22:25:10.172824Z",
     "iopub.status.busy": "2024-02-10T22:25:10.171684Z",
     "iopub.status.idle": "2024-02-10T22:25:10.184188Z",
     "shell.execute_reply": "2024-02-10T22:25:10.182298Z",
     "shell.execute_reply.started": "2024-02-10T22:25:10.172778Z"
    }
   },
   "outputs": [
    {
     "data": {
      "text/plain": [
       "True"
      ]
     },
     "execution_count": 3,
     "metadata": {},
     "output_type": "execute_result"
    }
   ],
   "source": [
    "x = True\n",
    "x"
   ]
  },
  {
   "cell_type": "code",
   "execution_count": 4,
   "metadata": {
    "execution": {
     "iopub.execute_input": "2024-02-10T22:25:10.186619Z",
     "iopub.status.busy": "2024-02-10T22:25:10.185929Z",
     "iopub.status.idle": "2024-02-10T22:25:10.194175Z",
     "shell.execute_reply": "2024-02-10T22:25:10.192414Z",
     "shell.execute_reply.started": "2024-02-10T22:25:10.186577Z"
    }
   },
   "outputs": [
    {
     "data": {
      "text/plain": [
       "False"
      ]
     },
     "execution_count": 4,
     "metadata": {},
     "output_type": "execute_result"
    }
   ],
   "source": [
    "x = 100 < 2\n",
    "x"
   ]
  },
  {
   "cell_type": "markdown",
   "metadata": {},
   "source": [
    "Hàm type là hàm trả về kiểu dữ liệu của đối tượng"
   ]
  },
  {
   "cell_type": "code",
   "execution_count": 5,
   "metadata": {
    "execution": {
     "iopub.execute_input": "2024-02-10T22:25:10.200287Z",
     "iopub.status.busy": "2024-02-10T22:25:10.199457Z",
     "iopub.status.idle": "2024-02-10T22:25:10.208590Z",
     "shell.execute_reply": "2024-02-10T22:25:10.207449Z",
     "shell.execute_reply.started": "2024-02-10T22:25:10.200237Z"
    }
   },
   "outputs": [
    {
     "data": {
      "text/plain": [
       "bool"
      ]
     },
     "execution_count": 5,
     "metadata": {},
     "output_type": "execute_result"
    }
   ],
   "source": [
    "type(x)"
   ]
  },
  {
   "cell_type": "markdown",
   "metadata": {},
   "source": [
    "Khi tính toán số học `True` được tính là 1, `False` là 0"
   ]
  },
  {
   "cell_type": "code",
   "execution_count": 6,
   "metadata": {
    "execution": {
     "iopub.execute_input": "2024-02-10T22:25:10.211383Z",
     "iopub.status.busy": "2024-02-10T22:25:10.210712Z",
     "iopub.status.idle": "2024-02-10T22:25:10.218449Z",
     "shell.execute_reply": "2024-02-10T22:25:10.217270Z",
     "shell.execute_reply.started": "2024-02-10T22:25:10.211341Z"
    }
   },
   "outputs": [
    {
     "data": {
      "text/plain": [
       "1"
      ]
     },
     "execution_count": 6,
     "metadata": {},
     "output_type": "execute_result"
    }
   ],
   "source": [
    "True + False"
   ]
  },
  {
   "cell_type": "code",
   "execution_count": 7,
   "metadata": {
    "execution": {
     "iopub.execute_input": "2024-02-10T22:25:10.221307Z",
     "iopub.status.busy": "2024-02-10T22:25:10.220553Z",
     "iopub.status.idle": "2024-02-10T22:25:10.229104Z",
     "shell.execute_reply": "2024-02-10T22:25:10.227805Z",
     "shell.execute_reply.started": "2024-02-10T22:25:10.221259Z"
    }
   },
   "outputs": [
    {
     "data": {
      "text/plain": [
       "2"
      ]
     },
     "execution_count": 7,
     "metadata": {},
     "output_type": "execute_result"
    }
   ],
   "source": [
    "y = [False, False, True, True] # List boolean value\n",
    "sum(y)"
   ]
  },
  {
   "cell_type": "markdown",
   "metadata": {},
   "source": [
    "### Numbers\n",
    "\n",
    "Giống như các ngôn ngữ khác, 2 kiểu dữ liệu số phổ biến là `integer` và `float` "
   ]
  },
  {
   "cell_type": "code",
   "execution_count": 8,
   "metadata": {
    "execution": {
     "iopub.execute_input": "2024-02-10T22:25:10.233307Z",
     "iopub.status.busy": "2024-02-10T22:25:10.232402Z",
     "iopub.status.idle": "2024-02-10T22:25:10.241970Z",
     "shell.execute_reply": "2024-02-10T22:25:10.239649Z",
     "shell.execute_reply.started": "2024-02-10T22:25:10.233260Z"
    }
   },
   "outputs": [
    {
     "data": {
      "text/plain": [
       "int"
      ]
     },
     "execution_count": 8,
     "metadata": {},
     "output_type": "execute_result"
    }
   ],
   "source": [
    "a, b = 1, 2\n",
    "c, d = 2.5, 10.0\n",
    "type(a)"
   ]
  },
  {
   "cell_type": "code",
   "execution_count": 9,
   "metadata": {
    "execution": {
     "iopub.execute_input": "2024-02-10T22:25:10.244615Z",
     "iopub.status.busy": "2024-02-10T22:25:10.243915Z",
     "iopub.status.idle": "2024-02-10T22:25:10.261390Z",
     "shell.execute_reply": "2024-02-10T22:25:10.254692Z",
     "shell.execute_reply.started": "2024-02-10T22:25:10.244573Z"
    }
   },
   "outputs": [
    {
     "data": {
      "text/plain": [
       "float"
      ]
     },
     "execution_count": 9,
     "metadata": {},
     "output_type": "execute_result"
    }
   ],
   "source": [
    "type(d)"
   ]
  },
  {
   "cell_type": "markdown",
   "metadata": {},
   "source": [
    "### String\n",
    "\n",
    "Chuỗi (`string`) là định dạng ký tự chứa text. Định dạng chuỗi được lưu trữ trong dấu nháy đơn hoặc dấu nháy kép"
   ]
  },
  {
   "cell_type": "code",
   "execution_count": 10,
   "metadata": {
    "execution": {
     "iopub.execute_input": "2024-02-10T22:25:10.329912Z",
     "iopub.status.busy": "2024-02-10T22:25:10.329128Z",
     "iopub.status.idle": "2024-02-10T22:25:10.337714Z",
     "shell.execute_reply": "2024-02-10T22:25:10.336724Z",
     "shell.execute_reply.started": "2024-02-10T22:25:10.329867Z"
    }
   },
   "outputs": [
    {
     "data": {
      "text/plain": [
       "True"
      ]
     },
     "execution_count": 10,
     "metadata": {},
     "output_type": "execute_result"
    }
   ],
   "source": [
    "# Có thể nhập bằng single quote hoặc double quote\n",
    "a = 'single quotes'\n",
    "b = \"single quotes\"\n",
    "a == b"
   ]
  },
  {
   "cell_type": "code",
   "execution_count": 11,
   "metadata": {
    "execution": {
     "iopub.execute_input": "2024-02-10T22:25:10.340603Z",
     "iopub.status.busy": "2024-02-10T22:25:10.339745Z",
     "iopub.status.idle": "2024-02-10T22:25:10.349024Z",
     "shell.execute_reply": "2024-02-10T22:25:10.347962Z",
     "shell.execute_reply.started": "2024-02-10T22:25:10.340557Z"
    }
   },
   "outputs": [
    {
     "data": {
      "text/plain": [
       "\"i'm a man\""
      ]
     },
     "execution_count": 11,
     "metadata": {},
     "output_type": "execute_result"
    }
   ],
   "source": [
    "#hoặc cả 2\n",
    "c = \"i'm a man\"\n",
    "c"
   ]
  },
  {
   "cell_type": "code",
   "execution_count": 12,
   "metadata": {
    "execution": {
     "iopub.execute_input": "2024-02-10T22:25:10.351850Z",
     "iopub.status.busy": "2024-02-10T22:25:10.350935Z",
     "iopub.status.idle": "2024-02-10T22:25:10.360596Z",
     "shell.execute_reply": "2024-02-10T22:25:10.358667Z",
     "shell.execute_reply.started": "2024-02-10T22:25:10.351800Z"
    }
   },
   "outputs": [
    {
     "data": {
      "text/plain": [
       "'h'"
      ]
     },
     "execution_count": 12,
     "metadata": {},
     "output_type": "execute_result"
    }
   ],
   "source": [
    "word = \"hello\"\n",
    "word[0]"
   ]
  },
  {
   "cell_type": "markdown",
   "metadata": {},
   "source": [
    "Chuỗi bao gồm một tập hợp các ký tự sắp xếp tuần tự, mỗi ký tự đều có một **chỉ mục (`index`)** riêng. \n",
    "\n",
    "Chỉ mục được đánh 2 chiều từ trái qua phải và từ phải qua trái. Bên dưới là cách truy cập vào từng ký tự của chuỗi thông qua chỉ mục: `word[index]` \n",
    "\n",
    "**Lưu ý**: Khác với các ngôn ngữ khác, các chỉ mục (index) trong python được đánh dấu từ vị trí số 0."
   ]
  },
  {
   "cell_type": "code",
   "execution_count": 13,
   "metadata": {
    "execution": {
     "iopub.execute_input": "2024-02-10T22:25:10.364769Z",
     "iopub.status.busy": "2024-02-10T22:25:10.364050Z",
     "iopub.status.idle": "2024-02-10T22:25:10.373000Z",
     "shell.execute_reply": "2024-02-10T22:25:10.371827Z",
     "shell.execute_reply.started": "2024-02-10T22:25:10.364724Z"
    }
   },
   "outputs": [
    {
     "data": {
      "text/plain": [
       "'h'"
      ]
     },
     "execution_count": 13,
     "metadata": {},
     "output_type": "execute_result"
    }
   ],
   "source": [
    "word = \"hello\"\n",
    "# Chiều từ trái qua phải - ký tự đầu tiên\n",
    "word[0]"
   ]
  },
  {
   "cell_type": "code",
   "execution_count": 14,
   "metadata": {},
   "outputs": [
    {
     "data": {
      "text/plain": [
       "'e'"
      ]
     },
     "execution_count": 14,
     "metadata": {},
     "output_type": "execute_result"
    }
   ],
   "source": [
    "# Vị trí thứ 2 - chữ e\n",
    "word[1]"
   ]
  },
  {
   "cell_type": "code",
   "execution_count": 15,
   "metadata": {
    "execution": {
     "iopub.execute_input": "2024-02-10T22:25:10.376094Z",
     "iopub.status.busy": "2024-02-10T22:25:10.375392Z",
     "iopub.status.idle": "2024-02-10T22:25:10.383483Z",
     "shell.execute_reply": "2024-02-10T22:25:10.382505Z",
     "shell.execute_reply.started": "2024-02-10T22:25:10.376051Z"
    }
   },
   "outputs": [
    {
     "data": {
      "text/plain": [
       "'o'"
      ]
     },
     "execution_count": 15,
     "metadata": {},
     "output_type": "execute_result"
    }
   ],
   "source": [
    "# Chiều từ phải qua trái, sd khi ko biết chính xác độ dài chuỗi\n",
    "word[-1]"
   ]
  },
  {
   "cell_type": "markdown",
   "metadata": {},
   "source": [
    "**Chiết xuất chuỗi**"
   ]
  },
  {
   "cell_type": "markdown",
   "metadata": {},
   "source": [
    "`string[begin:end:step]` - cắt chuỗi từ phần tử **begin** cho đến phần tử **trước** phần tử **end**, khoảng cách giữa các ký tự là **step**"
   ]
  },
  {
   "cell_type": "code",
   "execution_count": 16,
   "metadata": {
    "execution": {
     "iopub.execute_input": "2024-02-10T22:25:10.387712Z",
     "iopub.status.busy": "2024-02-10T22:25:10.387045Z",
     "iopub.status.idle": "2024-02-10T22:25:10.396038Z",
     "shell.execute_reply": "2024-02-10T22:25:10.394028Z",
     "shell.execute_reply.started": "2024-02-10T22:25:10.387669Z"
    }
   },
   "outputs": [
    {
     "data": {
      "text/plain": [
       "'el'"
      ]
     },
     "execution_count": 16,
     "metadata": {},
     "output_type": "execute_result"
    }
   ],
   "source": [
    "word[1:3]"
   ]
  },
  {
   "cell_type": "code",
   "execution_count": 17,
   "metadata": {
    "execution": {
     "iopub.execute_input": "2024-02-10T22:25:10.398708Z",
     "iopub.status.busy": "2024-02-10T22:25:10.397965Z",
     "iopub.status.idle": "2024-02-10T22:25:10.406733Z",
     "shell.execute_reply": "2024-02-10T22:25:10.405303Z",
     "shell.execute_reply.started": "2024-02-10T22:25:10.398666Z"
    }
   },
   "outputs": [
    {
     "data": {
      "text/plain": [
       "'llo'"
      ]
     },
     "execution_count": 17,
     "metadata": {},
     "output_type": "execute_result"
    }
   ],
   "source": [
    "word[2:]"
   ]
  },
  {
   "cell_type": "code",
   "execution_count": 18,
   "metadata": {
    "execution": {
     "iopub.execute_input": "2024-02-10T22:25:10.409096Z",
     "iopub.status.busy": "2024-02-10T22:25:10.408484Z",
     "iopub.status.idle": "2024-02-10T22:25:10.416222Z",
     "shell.execute_reply": "2024-02-10T22:25:10.415139Z",
     "shell.execute_reply.started": "2024-02-10T22:25:10.409056Z"
    }
   },
   "outputs": [
    {
     "data": {
      "text/plain": [
       "'hlo'"
      ]
     },
     "execution_count": 18,
     "metadata": {},
     "output_type": "execute_result"
    }
   ],
   "source": [
    "# Lấy cả chuỗi, cách 2 đơn vị\n",
    "word[::2]"
   ]
  },
  {
   "cell_type": "markdown",
   "metadata": {},
   "source": [
    "**String methods**\n",
    "\n",
    "Khác với R, các đối tượng trong Python có thể có 1 hoặc nhiều hàm được *gán* sẵn vào trong 1 đối tượng. Các hàm được gán sẵn này được gọi là `method`. \n",
    "\n",
    "Với định dạng chuỗi - có rất nhiều method có sẵn"
   ]
  },
  {
   "cell_type": "code",
   "execution_count": 19,
   "metadata": {
    "execution": {
     "iopub.execute_input": "2024-02-10T22:25:10.418764Z",
     "iopub.status.busy": "2024-02-10T22:25:10.418128Z",
     "iopub.status.idle": "2024-02-10T22:25:10.423309Z",
     "shell.execute_reply": "2024-02-10T22:25:10.422156Z",
     "shell.execute_reply.started": "2024-02-10T22:25:10.418721Z"
    }
   },
   "outputs": [],
   "source": [
    "dept = 'Trung tâm phân tích kinh doanh'"
   ]
  },
  {
   "cell_type": "code",
   "execution_count": 20,
   "metadata": {
    "execution": {
     "iopub.execute_input": "2024-02-10T22:25:10.426048Z",
     "iopub.status.busy": "2024-02-10T22:25:10.425081Z",
     "iopub.status.idle": "2024-02-10T22:25:10.439665Z",
     "shell.execute_reply": "2024-02-10T22:25:10.431917Z",
     "shell.execute_reply.started": "2024-02-10T22:25:10.426005Z"
    }
   },
   "outputs": [
    {
     "data": {
      "text/plain": [
       "'trung tâm phân tích kinh doanh'"
      ]
     },
     "execution_count": 20,
     "metadata": {},
     "output_type": "execute_result"
    }
   ],
   "source": [
    "# trả về dạng chữ thường\n",
    "dept.lower()"
   ]
  },
  {
   "cell_type": "markdown",
   "metadata": {},
   "source": [
    "**Giải thích**: `lower` ở đây là 1 `method` - tức là 1 hàm được gán sẵn vào một đối tượng - ở đây là đối tượng `dept`."
   ]
  },
  {
   "cell_type": "code",
   "execution_count": 21,
   "metadata": {
    "execution": {
     "iopub.execute_input": "2024-02-10T22:25:10.445124Z",
     "iopub.status.busy": "2024-02-10T22:25:10.444376Z",
     "iopub.status.idle": "2024-02-10T22:25:10.457329Z",
     "shell.execute_reply": "2024-02-10T22:25:10.455460Z",
     "shell.execute_reply.started": "2024-02-10T22:25:10.445078Z"
    }
   },
   "outputs": [
    {
     "data": {
      "text/plain": [
       "'TRUNG TÂM PHÂN TÍCH KINH DOANH'"
      ]
     },
     "execution_count": 21,
     "metadata": {},
     "output_type": "execute_result"
    }
   ],
   "source": [
    "# trả về dạng chữ hoa\n",
    "dept.upper()"
   ]
  },
  {
   "cell_type": "code",
   "execution_count": 22,
   "metadata": {
    "execution": {
     "iopub.execute_input": "2024-02-10T22:25:10.462938Z",
     "iopub.status.busy": "2024-02-10T22:25:10.461412Z",
     "iopub.status.idle": "2024-02-10T22:25:10.474042Z",
     "shell.execute_reply": "2024-02-10T22:25:10.469604Z",
     "shell.execute_reply.started": "2024-02-10T22:25:10.462889Z"
    }
   },
   "outputs": [
    {
     "data": {
      "text/plain": [
       "['Trung', 'tâm', 'phân', 'tích', 'kinh', 'doanh']"
      ]
     },
     "execution_count": 22,
     "metadata": {},
     "output_type": "execute_result"
    }
   ],
   "source": [
    "# Trả về một list các phần tử được tách bởi một dấu phân cách(delimiter) cho trước\n",
    "dept.split()"
   ]
  },
  {
   "cell_type": "code",
   "execution_count": 23,
   "metadata": {
    "execution": {
     "iopub.execute_input": "2024-02-10T22:25:10.477660Z",
     "iopub.status.busy": "2024-02-10T22:25:10.476534Z",
     "iopub.status.idle": "2024-02-10T22:25:10.486595Z",
     "shell.execute_reply": "2024-02-10T22:25:10.485317Z",
     "shell.execute_reply.started": "2024-02-10T22:25:10.477559Z"
    }
   },
   "outputs": [
    {
     "data": {
      "text/plain": [
       "'a- xyz -b- xyz -c'"
      ]
     },
     "execution_count": 23,
     "metadata": {},
     "output_type": "execute_result"
    }
   ],
   "source": [
    "# Trả về một chuỗi được ghép bởi các phần tử từ một list, theo một dấu phân cách cho trước\n",
    "'- xyz -'.join(['a', 'b', 'c'])"
   ]
  },
  {
   "cell_type": "code",
   "execution_count": 24,
   "metadata": {
    "execution": {
     "iopub.execute_input": "2024-02-10T22:25:10.489373Z",
     "iopub.status.busy": "2024-02-10T22:25:10.488558Z",
     "iopub.status.idle": "2024-02-10T22:25:10.501111Z",
     "shell.execute_reply": "2024-02-10T22:25:10.498761Z",
     "shell.execute_reply.started": "2024-02-10T22:25:10.489324Z"
    }
   },
   "outputs": [
    {
     "data": {
      "text/plain": [
       "10"
      ]
     },
     "execution_count": 24,
     "metadata": {},
     "output_type": "execute_result"
    }
   ],
   "source": [
    "#tìm kiếm ký tự - trả về vị trí của ký tự đầu tiên tìm được trong chuỗi\n",
    "# trả ra -1 nếu k tìm thấy\n",
    "dept.find('phân tích')"
   ]
  },
  {
   "cell_type": "code",
   "execution_count": 25,
   "metadata": {},
   "outputs": [
    {
     "data": {
      "text/plain": [
       "'p'"
      ]
     },
     "execution_count": 25,
     "metadata": {},
     "output_type": "execute_result"
    }
   ],
   "source": [
    "# Kiểm tra lại\n",
    "dept[10]"
   ]
  },
  {
   "cell_type": "code",
   "execution_count": 26,
   "metadata": {
    "execution": {
     "iopub.execute_input": "2024-02-10T22:25:10.505629Z",
     "iopub.status.busy": "2024-02-10T22:25:10.504083Z",
     "iopub.status.idle": "2024-02-10T22:25:10.519197Z",
     "shell.execute_reply": "2024-02-10T22:25:10.517787Z",
     "shell.execute_reply.started": "2024-02-10T22:25:10.505556Z"
    }
   },
   "outputs": [
    {
     "data": {
      "text/plain": [
       "False"
      ]
     },
     "execution_count": 26,
     "metadata": {},
     "output_type": "execute_result"
    }
   ],
   "source": [
    "# Check xem chuỗi có bắt đầu bằng ký tự cho trước không\n",
    "dept.startswith('w')"
   ]
  },
  {
   "cell_type": "code",
   "execution_count": 27,
   "metadata": {
    "execution": {
     "iopub.execute_input": "2024-02-10T22:25:10.522015Z",
     "iopub.status.busy": "2024-02-10T22:25:10.521259Z",
     "iopub.status.idle": "2024-02-10T22:25:10.535233Z",
     "shell.execute_reply": "2024-02-10T22:25:10.534056Z",
     "shell.execute_reply.started": "2024-02-10T22:25:10.521971Z"
    }
   },
   "outputs": [
    {
     "data": {
      "text/plain": [
       "True"
      ]
     },
     "execution_count": 27,
     "metadata": {},
     "output_type": "execute_result"
    }
   ],
   "source": [
    "# tương tự là endwith\n",
    "dept.endswith('doanh')"
   ]
  },
  {
   "cell_type": "markdown",
   "metadata": {},
   "source": [
    "---\n",
    "\n",
    "**Lưu ý**: Bên cạnh định dạng dữ liệu `string` thông thường, python có định dạng dữ liệu tương tự như `factor` của R là `category`. Kiểu dữ liệu này nằm trong package `pandas`, sẽ nói kỹ hơn trong chương xử lý dữ liệu"
   ]
  },
  {
   "cell_type": "markdown",
   "metadata": {},
   "source": [
    "### List"
   ]
  },
  {
   "cell_type": "markdown",
   "metadata": {},
   "source": [
    "\n",
    "Là kiểu dữ liệu linh hoạt nhất trong Python, là 1 tập hợp các phần tử - có thể cùng kiểu dữ liệu hoặc không, trong list các phần từ được **sắp xếp** và **có thể thay đổi (mutable)**. \n",
    "\n",
    "**Khởi tạo list**\n",
    "\n",
    "Để khởi tạo list, chúng ta dùng `[]`"
   ]
  },
  {
   "cell_type": "code",
   "execution_count": 28,
   "metadata": {
    "execution": {
     "iopub.execute_input": "2024-02-10T22:25:10.549220Z",
     "iopub.status.busy": "2024-02-10T22:25:10.548498Z",
     "iopub.status.idle": "2024-02-10T22:25:10.555980Z",
     "shell.execute_reply": "2024-02-10T22:25:10.555104Z",
     "shell.execute_reply.started": "2024-02-10T22:25:10.549176Z"
    }
   },
   "outputs": [
    {
     "data": {
      "text/plain": [
       "list"
      ]
     },
     "execution_count": 28,
     "metadata": {},
     "output_type": "execute_result"
    }
   ],
   "source": [
    "x = [10, 'foo', False, 2.5] #các phần tử có kiểu dữ liệu không đồng nhất\n",
    "type(x)"
   ]
  },
  {
   "cell_type": "markdown",
   "metadata": {},
   "source": [
    "hoặc hàm list():"
   ]
  },
  {
   "cell_type": "code",
   "execution_count": 29,
   "metadata": {
    "execution": {
     "iopub.execute_input": "2024-02-10T22:25:10.558653Z",
     "iopub.status.busy": "2024-02-10T22:25:10.557715Z",
     "iopub.status.idle": "2024-02-10T22:25:10.564857Z",
     "shell.execute_reply": "2024-02-10T22:25:10.564058Z",
     "shell.execute_reply.started": "2024-02-10T22:25:10.558610Z"
    }
   },
   "outputs": [
    {
     "data": {
      "text/plain": [
       "['xanh', 'đỏ', 'vàng']"
      ]
     },
     "execution_count": 29,
     "metadata": {},
     "output_type": "execute_result"
    }
   ],
   "source": [
    "color = list(['xanh', 'đỏ', 'vàng'])\n",
    "color"
   ]
  },
  {
   "cell_type": "markdown",
   "metadata": {},
   "source": [
    "Index của `list` được đánh theo nguyên tắc tương tự như `string` đã nêu ở trên"
   ]
  },
  {
   "cell_type": "code",
   "execution_count": 30,
   "metadata": {
    "execution": {
     "iopub.execute_input": "2024-02-10T22:25:10.567230Z",
     "iopub.status.busy": "2024-02-10T22:25:10.566515Z",
     "iopub.status.idle": "2024-02-10T22:25:10.576543Z",
     "shell.execute_reply": "2024-02-10T22:25:10.575450Z",
     "shell.execute_reply.started": "2024-02-10T22:25:10.567192Z"
    }
   },
   "outputs": [
    {
     "data": {
      "text/plain": [
       "'foo'"
      ]
     },
     "execution_count": 30,
     "metadata": {},
     "output_type": "execute_result"
    }
   ],
   "source": [
    "x[1]"
   ]
  },
  {
   "cell_type": "code",
   "execution_count": 31,
   "metadata": {
    "execution": {
     "iopub.execute_input": "2024-02-10T22:25:10.581014Z",
     "iopub.status.busy": "2024-02-10T22:25:10.580068Z",
     "iopub.status.idle": "2024-02-10T22:25:10.588338Z",
     "shell.execute_reply": "2024-02-10T22:25:10.587060Z",
     "shell.execute_reply.started": "2024-02-10T22:25:10.580963Z"
    }
   },
   "outputs": [
    {
     "data": {
      "text/plain": [
       "False"
      ]
     },
     "execution_count": 31,
     "metadata": {},
     "output_type": "execute_result"
    }
   ],
   "source": [
    "x[-2]"
   ]
  },
  {
   "cell_type": "markdown",
   "metadata": {},
   "source": [
    "**Trích xuất giá trị của list**\n",
    "\n",
    "**Cú pháp**: `list[begin:end:step]`\n",
    "\n",
    "- `begin`: Chỉ mục của phần tử đầu tiên\n",
    "- `end`: Chỉ mục của phần tử **sau** phần tử cuối cùng\n",
    "- `step`: Khoảng cách chỉ mục của các phần tử sẽ được lấy ra"
   ]
  },
  {
   "cell_type": "code",
   "execution_count": 32,
   "metadata": {
    "execution": {
     "iopub.execute_input": "2024-02-10T22:25:10.591148Z",
     "iopub.status.busy": "2024-02-10T22:25:10.590448Z",
     "iopub.status.idle": "2024-02-10T22:25:10.598243Z",
     "shell.execute_reply": "2024-02-10T22:25:10.597191Z",
     "shell.execute_reply.started": "2024-02-10T22:25:10.591095Z"
    }
   },
   "outputs": [
    {
     "data": {
      "text/plain": [
       "['foo', False]"
      ]
     },
     "execution_count": 32,
     "metadata": {},
     "output_type": "execute_result"
    }
   ],
   "source": [
    "x[1:3]"
   ]
  },
  {
   "cell_type": "code",
   "execution_count": 33,
   "metadata": {
    "execution": {
     "iopub.execute_input": "2024-02-10T22:25:10.601406Z",
     "iopub.status.busy": "2024-02-10T22:25:10.600626Z",
     "iopub.status.idle": "2024-02-10T22:25:10.606513Z",
     "shell.execute_reply": "2024-02-10T22:25:10.605320Z",
     "shell.execute_reply.started": "2024-02-10T22:25:10.601360Z"
    }
   },
   "outputs": [],
   "source": [
    "numbers = [0, 1, 2, 3, 4, 5, 6, 7, 8, 9]"
   ]
  },
  {
   "cell_type": "code",
   "execution_count": 34,
   "metadata": {
    "execution": {
     "iopub.execute_input": "2024-02-10T22:25:10.609496Z",
     "iopub.status.busy": "2024-02-10T22:25:10.608422Z",
     "iopub.status.idle": "2024-02-10T22:25:10.617150Z",
     "shell.execute_reply": "2024-02-10T22:25:10.616066Z",
     "shell.execute_reply.started": "2024-02-10T22:25:10.609448Z"
    }
   },
   "outputs": [
    {
     "data": {
      "text/plain": [
       "[1, 4, 7]"
      ]
     },
     "execution_count": 34,
     "metadata": {},
     "output_type": "execute_result"
    }
   ],
   "source": [
    "numbers[1:9:3] # cắt từ 1 đến trước 9, khoảng khách là 3"
   ]
  },
  {
   "cell_type": "code",
   "execution_count": 35,
   "metadata": {
    "execution": {
     "iopub.execute_input": "2024-02-10T22:25:10.619833Z",
     "iopub.status.busy": "2024-02-10T22:25:10.619164Z",
     "iopub.status.idle": "2024-02-10T22:25:10.628142Z",
     "shell.execute_reply": "2024-02-10T22:25:10.626830Z",
     "shell.execute_reply.started": "2024-02-10T22:25:10.619789Z"
    }
   },
   "outputs": [
    {
     "data": {
      "text/plain": [
       "[0, 2, 4, 6, 8]"
      ]
     },
     "execution_count": 35,
     "metadata": {},
     "output_type": "execute_result"
    }
   ],
   "source": [
    "numbers[::2] # lấy từ đầu đến cuối, khoảng cách là 2"
   ]
  },
  {
   "cell_type": "code",
   "execution_count": 36,
   "metadata": {
    "execution": {
     "iopub.execute_input": "2024-02-10T22:25:10.630706Z",
     "iopub.status.busy": "2024-02-10T22:25:10.629969Z",
     "iopub.status.idle": "2024-02-10T22:25:10.637437Z",
     "shell.execute_reply": "2024-02-10T22:25:10.636352Z",
     "shell.execute_reply.started": "2024-02-10T22:25:10.630664Z"
    }
   },
   "outputs": [
    {
     "data": {
      "text/plain": [
       "[0, 1]"
      ]
     },
     "execution_count": 36,
     "metadata": {},
     "output_type": "execute_result"
    }
   ],
   "source": [
    "numbers[:2] # lấy 2 giá trị đầu"
   ]
  },
  {
   "cell_type": "code",
   "execution_count": 37,
   "metadata": {
    "execution": {
     "iopub.execute_input": "2024-02-10T22:25:10.640113Z",
     "iopub.status.busy": "2024-02-10T22:25:10.639198Z",
     "iopub.status.idle": "2024-02-10T22:25:10.648545Z",
     "shell.execute_reply": "2024-02-10T22:25:10.647022Z",
     "shell.execute_reply.started": "2024-02-10T22:25:10.640071Z"
    }
   },
   "outputs": [
    {
     "data": {
      "text/plain": [
       "[7, 8, 9]"
      ]
     },
     "execution_count": 37,
     "metadata": {},
     "output_type": "execute_result"
    }
   ],
   "source": [
    "numbers[-3:] # lấy 3 giá trị cuối"
   ]
  },
  {
   "cell_type": "code",
   "execution_count": 38,
   "metadata": {
    "execution": {
     "iopub.execute_input": "2024-02-10T22:25:10.652814Z",
     "iopub.status.busy": "2024-02-10T22:25:10.652108Z",
     "iopub.status.idle": "2024-02-10T22:25:10.660440Z",
     "shell.execute_reply": "2024-02-10T22:25:10.659173Z",
     "shell.execute_reply.started": "2024-02-10T22:25:10.652769Z"
    }
   },
   "outputs": [
    {
     "data": {
      "text/plain": [
       "[9, 8, 7, 6, 5, 4, 3, 2, 1, 0]"
      ]
     },
     "execution_count": 38,
     "metadata": {},
     "output_type": "execute_result"
    }
   ],
   "source": [
    "numbers[::-1] # đảo ngược giá trị của list"
   ]
  },
  {
   "cell_type": "markdown",
   "metadata": {},
   "source": [
    "**Thay đổi phần tử trong list**"
   ]
  },
  {
   "cell_type": "code",
   "execution_count": 39,
   "metadata": {
    "execution": {
     "iopub.execute_input": "2024-02-10T22:25:10.663382Z",
     "iopub.status.busy": "2024-02-10T22:25:10.662656Z",
     "iopub.status.idle": "2024-02-10T22:25:10.668132Z",
     "shell.execute_reply": "2024-02-10T22:25:10.667131Z",
     "shell.execute_reply.started": "2024-02-10T22:25:10.663268Z"
    }
   },
   "outputs": [],
   "source": [
    "skill_sets = ['sql', 'r', 'excel', 'python']"
   ]
  },
  {
   "cell_type": "code",
   "execution_count": 40,
   "metadata": {
    "execution": {
     "iopub.execute_input": "2024-02-10T22:25:10.671130Z",
     "iopub.status.busy": "2024-02-10T22:25:10.670015Z",
     "iopub.status.idle": "2024-02-10T22:25:10.678579Z",
     "shell.execute_reply": "2024-02-10T22:25:10.677246Z",
     "shell.execute_reply.started": "2024-02-10T22:25:10.671086Z"
    }
   },
   "outputs": [
    {
     "data": {
      "text/plain": [
       "['sql', 'r', 'spss']"
      ]
     },
     "execution_count": 40,
     "metadata": {},
     "output_type": "execute_result"
    }
   ],
   "source": [
    "# Thay đổi từ chỉ mục 2 đến hết\n",
    "skill_sets[2:] = ['spss']\n",
    "skill_sets"
   ]
  },
  {
   "cell_type": "code",
   "execution_count": 41,
   "metadata": {
    "execution": {
     "iopub.execute_input": "2024-02-10T22:25:10.681203Z",
     "iopub.status.busy": "2024-02-10T22:25:10.680535Z",
     "iopub.status.idle": "2024-02-10T22:25:10.687456Z",
     "shell.execute_reply": "2024-02-10T22:25:10.686444Z",
     "shell.execute_reply.started": "2024-02-10T22:25:10.681162Z"
    }
   },
   "outputs": [
    {
     "data": {
      "text/plain": [
       "['sql', 'vba', 'spss']"
      ]
     },
     "execution_count": 41,
     "metadata": {},
     "output_type": "execute_result"
    }
   ],
   "source": [
    "# chỉ mục 1 thay bằng 'vba'\n",
    "skill_sets[1] = 'vba'\n",
    "skill_sets"
   ]
  },
  {
   "cell_type": "markdown",
   "metadata": {},
   "source": [
    "**List methods**\n",
    "\n",
    "`append()`: Thêm một phần tử vào list"
   ]
  },
  {
   "cell_type": "code",
   "execution_count": 42,
   "metadata": {
    "execution": {
     "iopub.execute_input": "2024-02-10T22:25:10.690046Z",
     "iopub.status.busy": "2024-02-10T22:25:10.689175Z",
     "iopub.status.idle": "2024-02-10T22:25:10.698190Z",
     "shell.execute_reply": "2024-02-10T22:25:10.696828Z",
     "shell.execute_reply.started": "2024-02-10T22:25:10.690006Z"
    }
   },
   "outputs": [
    {
     "data": {
      "text/plain": [
       "[0, 1, 2, 3, 4, 5, 6, 7, 8, 9, 15]"
      ]
     },
     "execution_count": 42,
     "metadata": {},
     "output_type": "execute_result"
    }
   ],
   "source": [
    "numbers.append(15)\n",
    "numbers"
   ]
  },
  {
   "cell_type": "markdown",
   "metadata": {},
   "source": [
    "`pop`: xóa phần tử trong list"
   ]
  },
  {
   "cell_type": "code",
   "execution_count": 43,
   "metadata": {
    "execution": {
     "iopub.execute_input": "2024-02-10T22:25:10.701011Z",
     "iopub.status.busy": "2024-02-10T22:25:10.700278Z",
     "iopub.status.idle": "2024-02-10T22:25:10.709173Z",
     "shell.execute_reply": "2024-02-10T22:25:10.708137Z",
     "shell.execute_reply.started": "2024-02-10T22:25:10.700965Z"
    }
   },
   "outputs": [
    {
     "data": {
      "text/plain": [
       "[0, 1, 2, 4, 5, 6, 7, 8, 9, 15]"
      ]
     },
     "execution_count": 43,
     "metadata": {},
     "output_type": "execute_result"
    }
   ],
   "source": [
    "numbers.pop(3) #xóa phần từ thứ 3\n",
    "numbers"
   ]
  },
  {
   "cell_type": "markdown",
   "metadata": {},
   "source": [
    "`extend(list2)`: Ghép một list mới vào list hiện tại"
   ]
  },
  {
   "cell_type": "code",
   "execution_count": 44,
   "metadata": {
    "execution": {
     "iopub.execute_input": "2024-02-10T22:25:10.711782Z",
     "iopub.status.busy": "2024-02-10T22:25:10.711134Z",
     "iopub.status.idle": "2024-02-10T22:25:10.719591Z",
     "shell.execute_reply": "2024-02-10T22:25:10.718281Z",
     "shell.execute_reply.started": "2024-02-10T22:25:10.711740Z"
    }
   },
   "outputs": [
    {
     "data": {
      "text/plain": [
       "[0, 1, 2, 4, 5, 6, 7, 8, 9, 15, 'a', 'b', 'c']"
      ]
     },
     "execution_count": 44,
     "metadata": {},
     "output_type": "execute_result"
    }
   ],
   "source": [
    "numbers.extend(['a', 'b', 'c'])\n",
    "numbers"
   ]
  },
  {
   "cell_type": "markdown",
   "metadata": {},
   "source": [
    "**Lưu ý**: Ghép list với `extend` là để ghép tất cả các phần tử từ list mới ào list cũ. Việc này rất khác với việc dùng method `append`. Xem ví dụ sau"
   ]
  },
  {
   "cell_type": "code",
   "execution_count": 45,
   "metadata": {},
   "outputs": [
    {
     "data": {
      "text/plain": [
       "[1, 2, 3, 4, ['a', 'b', 'c']]"
      ]
     },
     "execution_count": 45,
     "metadata": {},
     "output_type": "execute_result"
    }
   ],
   "source": [
    "x = [1, 2, 3, 4]\n",
    "x.append(['a', 'b', 'c'])\n",
    "x"
   ]
  },
  {
   "cell_type": "markdown",
   "metadata": {},
   "source": [
    "`sort`: sắp xếp các phần tử theo thứ tự, reverse = True nếu muốn sort kiểu descending"
   ]
  },
  {
   "cell_type": "code",
   "execution_count": 46,
   "metadata": {
    "execution": {
     "iopub.execute_input": "2024-02-10T22:25:10.722571Z",
     "iopub.status.busy": "2024-02-10T22:25:10.721855Z",
     "iopub.status.idle": "2024-02-10T22:25:10.730255Z",
     "shell.execute_reply": "2024-02-10T22:25:10.729205Z",
     "shell.execute_reply.started": "2024-02-10T22:25:10.722529Z"
    }
   },
   "outputs": [
    {
     "data": {
      "text/plain": [
       "[9, 8, 7, 6, 5, 4, 3, 2, 1, 0]"
      ]
     },
     "execution_count": 46,
     "metadata": {},
     "output_type": "execute_result"
    }
   ],
   "source": [
    "numbers2 = [0, 1, 2, 3, 4, 5, 6, 7, 8, 9]\n",
    "numbers2.sort(reverse=True)\n",
    "numbers2"
   ]
  },
  {
   "cell_type": "markdown",
   "metadata": {},
   "source": [
    "Chi tiết hơn về `method` của list, chúng ta có thể xem [tại đây](https://docs.python.org/3/tutorial/datastructures.html#more-on-lists)"
   ]
  },
  {
   "cell_type": "markdown",
   "metadata": {},
   "source": [
    "### Tuple\n",
    "\n",
    "Khác với R, tất cả các kiểu dữ liệu đề có thể điều chỉnh và thay đổi sau khi đã khai báo. Python có định dạng dữ liệu không cho phép thay đổi sau khi đã khai báo, gọi là `tupple`. \n",
    "\n",
    "- Các định dạng dữ liệu có thể thay đổi gọi là dữ liệu khả biến (`mutable`) - list là dữ liệu khả biến\n",
    "- Các định dạng dữ liệu không thể thay đổi gọi là dữ liệu bất biến (`immutable`)\n",
    "\n",
    "Để khởi tạo tuple, chúng ta dùng () thay vì []"
   ]
  },
  {
   "cell_type": "code",
   "execution_count": 47,
   "metadata": {
    "execution": {
     "iopub.execute_input": "2024-02-10T22:25:10.733749Z",
     "iopub.status.busy": "2024-02-10T22:25:10.732999Z",
     "iopub.status.idle": "2024-02-10T22:25:10.741417Z",
     "shell.execute_reply": "2024-02-10T22:25:10.739555Z",
     "shell.execute_reply.started": "2024-02-10T22:25:10.733705Z"
    }
   },
   "outputs": [
    {
     "data": {
      "text/plain": [
       "tuple"
      ]
     },
     "execution_count": 47,
     "metadata": {},
     "output_type": "execute_result"
    }
   ],
   "source": [
    "tuple1 = (\"Hanoi\", \"Hai Phong\", \"Tay Ninh\", \"Lam Dong\")\n",
    "type(tuple1)"
   ]
  },
  {
   "cell_type": "code",
   "execution_count": 48,
   "metadata": {
    "execution": {
     "iopub.execute_input": "2024-02-10T22:25:10.744635Z",
     "iopub.status.busy": "2024-02-10T22:25:10.743945Z",
     "iopub.status.idle": "2024-02-10T22:25:10.751252Z",
     "shell.execute_reply": "2024-02-10T22:25:10.750262Z",
     "shell.execute_reply.started": "2024-02-10T22:25:10.744594Z"
    }
   },
   "outputs": [
    {
     "data": {
      "text/plain": [
       "tuple"
      ]
     },
     "execution_count": 48,
     "metadata": {},
     "output_type": "execute_result"
    }
   ],
   "source": [
    "tuple2 = \"Hanoi\", \"Hai Phong\", \"Tay Ninh\", \"Lam Dong\"\n",
    "type(tuple2)"
   ]
  },
  {
   "cell_type": "code",
   "execution_count": 49,
   "metadata": {
    "execution": {
     "iopub.execute_input": "2024-02-10T22:25:10.753977Z",
     "iopub.status.busy": "2024-02-10T22:25:10.753175Z",
     "iopub.status.idle": "2024-02-10T22:25:10.759863Z",
     "shell.execute_reply": "2024-02-10T22:25:10.758873Z",
     "shell.execute_reply.started": "2024-02-10T22:25:10.753934Z"
    }
   },
   "outputs": [
    {
     "name": "stdout",
     "output_type": "stream",
     "text": [
      "<class 'tuple'> <class 'tuple'>\n"
     ]
    }
   ],
   "source": [
    "# Khời tạo tuple rỗng\n",
    "tpl = ()\n",
    "#hoặc\n",
    "tpl2 = tuple()\n",
    "print(type(tpl), type(tpl2))"
   ]
  },
  {
   "cell_type": "markdown",
   "metadata": {},
   "source": [
    "Vì Tuple là bất biến nên chúng ta sẽ không có những hàm thay đổi cấu trúc như append(), pop(),.. như của List"
   ]
  },
  {
   "cell_type": "code",
   "execution_count": 50,
   "metadata": {
    "execution": {
     "iopub.execute_input": "2024-02-10T22:25:10.762521Z",
     "iopub.status.busy": "2024-02-10T22:25:10.761752Z",
     "iopub.status.idle": "2024-02-10T22:25:10.767763Z",
     "shell.execute_reply": "2024-02-10T22:25:10.766528Z",
     "shell.execute_reply.started": "2024-02-10T22:25:10.762479Z"
    }
   },
   "outputs": [],
   "source": [
    "list1 = [1, 2, 3]\n",
    "tuple1 = ('a', 'b', 'c')"
   ]
  },
  {
   "cell_type": "code",
   "execution_count": 51,
   "metadata": {
    "execution": {
     "iopub.execute_input": "2024-02-10T22:25:10.770445Z",
     "iopub.status.busy": "2024-02-10T22:25:10.769582Z",
     "iopub.status.idle": "2024-02-10T22:25:10.777516Z",
     "shell.execute_reply": "2024-02-10T22:25:10.776450Z",
     "shell.execute_reply.started": "2024-02-10T22:25:10.770401Z"
    }
   },
   "outputs": [
    {
     "data": {
      "text/plain": [
       "[1, 2, 'a']"
      ]
     },
     "execution_count": 51,
     "metadata": {},
     "output_type": "execute_result"
    }
   ],
   "source": [
    "list1[2] = \"a\"\n",
    "list1"
   ]
  },
  {
   "cell_type": "markdown",
   "metadata": {},
   "source": [
    "Câu lệnh dưới đây sẽ báo lỗi vì tuple ko cho phép thay đổi 1 phần tử trong nó"
   ]
  },
  {
   "cell_type": "code",
   "execution_count": 52,
   "metadata": {
    "execution": {
     "iopub.execute_input": "2024-02-10T22:25:10.780508Z",
     "iopub.status.busy": "2024-02-10T22:25:10.779781Z",
     "iopub.status.idle": "2024-02-10T22:25:11.219103Z",
     "shell.execute_reply": "2024-02-10T22:25:11.212782Z",
     "shell.execute_reply.started": "2024-02-10T22:25:10.780463Z"
    }
   },
   "outputs": [
    {
     "ename": "TypeError",
     "evalue": "'tuple' object does not support item assignment",
     "output_type": "error",
     "traceback": [
      "\u001b[1;31m---------------------------------------------------------------------------\u001b[0m",
      "\u001b[1;31mTypeError\u001b[0m                                 Traceback (most recent call last)",
      "Cell \u001b[1;32mIn[52], line 1\u001b[0m\n\u001b[1;32m----> 1\u001b[0m \u001b[43mtuple1\u001b[49m\u001b[43m[\u001b[49m\u001b[38;5;241;43m1\u001b[39;49m\u001b[43m]\u001b[49m \u001b[38;5;241m=\u001b[39m \u001b[38;5;241m1\u001b[39m\n\u001b[0;32m      2\u001b[0m tuple1\n",
      "\u001b[1;31mTypeError\u001b[0m: 'tuple' object does not support item assignment"
     ]
    }
   ],
   "source": [
    "tuple1[1] = 1\n",
    "tuple1"
   ]
  },
  {
   "cell_type": "markdown",
   "metadata": {},
   "source": [
    "### Dictionaries\n",
    "\n",
    "**Dictionary** là định dạng dữ liệu từ điển trong Python. Cấu trúc này tương ứng với  điển ngoài đời thực, cũng bao gồm các cặp key - value (từ vựng - ý nghĩa). Key và Value được phân cách nhau bởi dấu hai chấm (:), các cặp key-value được phân cách nhau bởi dấu phẩy (,).\n",
    "\n",
    "Giống như list, dictionary là dữ liệu khả biến trong python"
   ]
  },
  {
   "cell_type": "code",
   "execution_count": 53,
   "metadata": {
    "execution": {
     "iopub.execute_input": "2024-02-10T22:25:40.841477Z",
     "iopub.status.busy": "2024-02-10T22:25:40.840811Z",
     "iopub.status.idle": "2024-02-10T22:25:40.859990Z",
     "shell.execute_reply": "2024-02-10T22:25:40.858644Z",
     "shell.execute_reply.started": "2024-02-10T22:25:40.841434Z"
    }
   },
   "outputs": [
    {
     "data": {
      "text/plain": [
       "dict"
      ]
     },
     "execution_count": 53,
     "metadata": {},
     "output_type": "execute_result"
    }
   ],
   "source": [
    "d = {'one':'một',\n",
    "    'two':'hai',\n",
    "    'three':'ba'}\n",
    "type(d)"
   ]
  },
  {
   "cell_type": "markdown",
   "metadata": {},
   "source": [
    "Trong ví dụ trên:\n",
    "\n",
    "- `one`, `two`, `three` là *key* \n",
    "- `một`, `hai`, `ba` là *value*\n",
    "\n",
    "`value` trong dictionary có thể là bất kỳ kiểu dữ liệu nào: string, numbers, list..."
   ]
  },
  {
   "cell_type": "code",
   "execution_count": 54,
   "metadata": {
    "execution": {
     "iopub.execute_input": "2024-02-10T22:25:40.864554Z",
     "iopub.status.busy": "2024-02-10T22:25:40.863250Z",
     "iopub.status.idle": "2024-02-10T22:25:40.875977Z",
     "shell.execute_reply": "2024-02-10T22:25:40.874715Z",
     "shell.execute_reply.started": "2024-02-10T22:25:40.864507Z"
    }
   },
   "outputs": [
    {
     "data": {
      "text/plain": [
       "dict"
      ]
     },
     "execution_count": 54,
     "metadata": {},
     "output_type": "execute_result"
    }
   ],
   "source": [
    "d2 = {'one': 0.5,\n",
    "    'two': [1, 2, 3],\n",
    "    'three': False}\n",
    "type(d2)"
   ]
  },
  {
   "cell_type": "markdown",
   "metadata": {},
   "source": [
    "Truy vấn 1 phần tử trong dictionary"
   ]
  },
  {
   "cell_type": "code",
   "execution_count": 55,
   "metadata": {
    "execution": {
     "iopub.execute_input": "2024-02-10T22:25:40.883750Z",
     "iopub.status.busy": "2024-02-10T22:25:40.879828Z",
     "iopub.status.idle": "2024-02-10T22:25:40.891657Z",
     "shell.execute_reply": "2024-02-10T22:25:40.890448Z",
     "shell.execute_reply.started": "2024-02-10T22:25:40.883679Z"
    }
   },
   "outputs": [
    {
     "data": {
      "text/plain": [
       "[1, 2, 3]"
      ]
     },
     "execution_count": 55,
     "metadata": {},
     "output_type": "execute_result"
    }
   ],
   "source": [
    "d2['two']"
   ]
  },
  {
   "cell_type": "markdown",
   "metadata": {},
   "source": [
    "Thay đổi 1 phần tử trong dictionary"
   ]
  },
  {
   "cell_type": "code",
   "execution_count": 56,
   "metadata": {
    "execution": {
     "iopub.execute_input": "2024-02-10T22:25:40.900421Z",
     "iopub.status.busy": "2024-02-10T22:25:40.899077Z",
     "iopub.status.idle": "2024-02-10T22:25:40.909570Z",
     "shell.execute_reply": "2024-02-10T22:25:40.908459Z",
     "shell.execute_reply.started": "2024-02-10T22:25:40.900374Z"
    }
   },
   "outputs": [
    {
     "data": {
      "text/plain": [
       "{'one': 0.5, 'two': [1, 2, 3], 'three': 3}"
      ]
     },
     "execution_count": 56,
     "metadata": {},
     "output_type": "execute_result"
    }
   ],
   "source": [
    "d2['three'] = 3\n",
    "d2"
   ]
  },
  {
   "cell_type": "markdown",
   "metadata": {},
   "source": [
    "Thêm một phần tử"
   ]
  },
  {
   "cell_type": "code",
   "execution_count": 57,
   "metadata": {
    "execution": {
     "iopub.execute_input": "2024-02-10T22:25:40.911541Z",
     "iopub.status.busy": "2024-02-10T22:25:40.911002Z",
     "iopub.status.idle": "2024-02-10T22:25:40.918975Z",
     "shell.execute_reply": "2024-02-10T22:25:40.918176Z",
     "shell.execute_reply.started": "2024-02-10T22:25:40.911501Z"
    }
   },
   "outputs": [
    {
     "data": {
      "text/plain": [
       "{'one': 0.5, 'two': [1, 2, 3], 'three': 3, 'four': 4}"
      ]
     },
     "execution_count": 57,
     "metadata": {},
     "output_type": "execute_result"
    }
   ],
   "source": [
    "d2['four'] = 4\n",
    "d2"
   ]
  },
  {
   "cell_type": "markdown",
   "metadata": {},
   "source": [
    "Xóa 1 phần tử "
   ]
  },
  {
   "cell_type": "code",
   "execution_count": 58,
   "metadata": {
    "execution": {
     "iopub.execute_input": "2024-02-10T22:25:40.921386Z",
     "iopub.status.busy": "2024-02-10T22:25:40.920729Z",
     "iopub.status.idle": "2024-02-10T22:25:40.931194Z",
     "shell.execute_reply": "2024-02-10T22:25:40.929592Z",
     "shell.execute_reply.started": "2024-02-10T22:25:40.921334Z"
    }
   },
   "outputs": [
    {
     "data": {
      "text/plain": [
       "{'one': 0.5, 'three': 3, 'four': 4}"
      ]
     },
     "execution_count": 58,
     "metadata": {},
     "output_type": "execute_result"
    }
   ],
   "source": [
    "del d2['two']\n",
    "d2"
   ]
  },
  {
   "cell_type": "markdown",
   "metadata": {},
   "source": [
    "**Dictionary methods:**"
   ]
  },
  {
   "cell_type": "code",
   "execution_count": 59,
   "metadata": {
    "execution": {
     "iopub.execute_input": "2024-02-10T22:25:40.934060Z",
     "iopub.status.busy": "2024-02-10T22:25:40.933404Z",
     "iopub.status.idle": "2024-02-10T22:25:40.941750Z",
     "shell.execute_reply": "2024-02-10T22:25:40.940778Z",
     "shell.execute_reply.started": "2024-02-10T22:25:40.934007Z"
    }
   },
   "outputs": [
    {
     "data": {
      "text/plain": [
       "dict_items([('one', 'một'), ('two', 'hai'), ('three', 'ba')])"
      ]
     },
     "execution_count": 59,
     "metadata": {},
     "output_type": "execute_result"
    }
   ],
   "source": [
    "d.items()"
   ]
  },
  {
   "cell_type": "code",
   "execution_count": 60,
   "metadata": {
    "execution": {
     "iopub.execute_input": "2024-02-10T22:25:40.944871Z",
     "iopub.status.busy": "2024-02-10T22:25:40.943379Z",
     "iopub.status.idle": "2024-02-10T22:25:40.953052Z",
     "shell.execute_reply": "2024-02-10T22:25:40.950612Z",
     "shell.execute_reply.started": "2024-02-10T22:25:40.944823Z"
    }
   },
   "outputs": [
    {
     "data": {
      "text/plain": [
       "dict_values(['một', 'hai', 'ba'])"
      ]
     },
     "execution_count": 60,
     "metadata": {},
     "output_type": "execute_result"
    }
   ],
   "source": [
    "d.values()"
   ]
  },
  {
   "cell_type": "markdown",
   "metadata": {},
   "source": [
    "### Set"
   ]
  },
  {
   "cell_type": "markdown",
   "metadata": {},
   "source": [
    "**Set** là 1 tập hợp các phần tử không duplicate"
   ]
  },
  {
   "cell_type": "code",
   "execution_count": 61,
   "metadata": {
    "execution": {
     "iopub.execute_input": "2024-02-10T22:25:40.958333Z",
     "iopub.status.busy": "2024-02-10T22:25:40.957491Z",
     "iopub.status.idle": "2024-02-10T22:25:40.968517Z",
     "shell.execute_reply": "2024-02-10T22:25:40.967531Z",
     "shell.execute_reply.started": "2024-02-10T22:25:40.958285Z"
    }
   },
   "outputs": [
    {
     "data": {
      "text/plain": [
       "set"
      ]
     },
     "execution_count": 61,
     "metadata": {},
     "output_type": "execute_result"
    }
   ],
   "source": [
    "s1 = {'a', 'b', 3}\n",
    "type(s1)"
   ]
  },
  {
   "cell_type": "code",
   "execution_count": 62,
   "metadata": {
    "execution": {
     "iopub.execute_input": "2024-02-10T22:25:40.973584Z",
     "iopub.status.busy": "2024-02-10T22:25:40.972998Z",
     "iopub.status.idle": "2024-02-10T22:25:40.981529Z",
     "shell.execute_reply": "2024-02-10T22:25:40.980538Z",
     "shell.execute_reply.started": "2024-02-10T22:25:40.973538Z"
    }
   },
   "outputs": [
    {
     "data": {
      "text/plain": [
       "{1, 2, 3}"
      ]
     },
     "execution_count": 62,
     "metadata": {},
     "output_type": "execute_result"
    }
   ],
   "source": [
    "s2 = {1, 1, 2, 2, 2, 3, 3, 3}\n",
    "s2"
   ]
  },
  {
   "cell_type": "markdown",
   "metadata": {},
   "source": [
    "Set có thể hứa nhiều kiểu dữ liệu khác nhau tuy nhiên các kiểu dữ liệu này phải immutable như Integer, Float, Boolean hay Tuple"
   ]
  },
  {
   "cell_type": "code",
   "execution_count": 63,
   "metadata": {
    "execution": {
     "iopub.execute_input": "2024-02-10T22:25:40.984345Z",
     "iopub.status.busy": "2024-02-10T22:25:40.983578Z",
     "iopub.status.idle": "2024-02-10T22:25:40.991957Z",
     "shell.execute_reply": "2024-02-10T22:25:40.988568Z",
     "shell.execute_reply.started": "2024-02-10T22:25:40.984303Z"
    }
   },
   "outputs": [],
   "source": [
    "mix_set = { \"dbs_aad\", 34, (4, 5, 6) }"
   ]
  },
  {
   "cell_type": "markdown",
   "metadata": {},
   "source": [
    "Python sẽ báo lỗi nếu bạn đặt một biến khả biến trong Set, vd list"
   ]
  },
  {
   "cell_type": "code",
   "execution_count": 64,
   "metadata": {
    "execution": {
     "iopub.execute_input": "2024-02-10T22:25:40.995189Z",
     "iopub.status.busy": "2024-02-10T22:25:40.994217Z",
     "iopub.status.idle": "2024-02-10T22:25:41.051073Z",
     "shell.execute_reply": "2024-02-10T22:25:41.028398Z",
     "shell.execute_reply.started": "2024-02-10T22:25:40.995083Z"
    }
   },
   "outputs": [
    {
     "ename": "TypeError",
     "evalue": "unhashable type: 'list'",
     "output_type": "error",
     "traceback": [
      "\u001b[1;31m---------------------------------------------------------------------------\u001b[0m",
      "\u001b[1;31mTypeError\u001b[0m                                 Traceback (most recent call last)",
      "Cell \u001b[1;32mIn[64], line 1\u001b[0m\n\u001b[1;32m----> 1\u001b[0m mix_mutable_set \u001b[38;5;241m=\u001b[39m { \u001b[38;5;124m\"\u001b[39m\u001b[38;5;124mHải Phòng\u001b[39m\u001b[38;5;124m\"\u001b[39m, \u001b[38;5;124m\"\u001b[39m\u001b[38;5;124mHà Nội\u001b[39m\u001b[38;5;124m\"\u001b[39m, [ \u001b[38;5;241m2\u001b[39m, \u001b[38;5;241m4\u001b[39m ] }\n",
      "\u001b[1;31mTypeError\u001b[0m: unhashable type: 'list'"
     ]
    }
   ],
   "source": [
    "mix_mutable_set = { \"Hải Phòng\", \"Hà Nội\", [ 2, 4 ] }"
   ]
  },
  {
   "cell_type": "markdown",
   "metadata": {},
   "source": [
    "**set methods**\n",
    "\n",
    "`add()` Thêm mới phần tử vào set"
   ]
  },
  {
   "cell_type": "code",
   "execution_count": 65,
   "metadata": {
    "execution": {
     "iopub.execute_input": "2024-02-10T22:25:55.371306Z",
     "iopub.status.busy": "2024-02-10T22:25:55.370647Z",
     "iopub.status.idle": "2024-02-10T22:25:55.382957Z",
     "shell.execute_reply": "2024-02-10T22:25:55.381144Z",
     "shell.execute_reply.started": "2024-02-10T22:25:55.371258Z"
    }
   },
   "outputs": [
    {
     "data": {
      "text/plain": [
       "{3, '4', 'a', 'b'}"
      ]
     },
     "execution_count": 65,
     "metadata": {},
     "output_type": "execute_result"
    }
   ],
   "source": [
    "s1.add('4')\n",
    "s1"
   ]
  },
  {
   "cell_type": "markdown",
   "metadata": {},
   "source": [
    "`remove`: Xóa 1 phần tử"
   ]
  },
  {
   "cell_type": "code",
   "execution_count": 66,
   "metadata": {
    "execution": {
     "iopub.execute_input": "2024-02-10T22:25:55.388904Z",
     "iopub.status.busy": "2024-02-10T22:25:55.387263Z",
     "iopub.status.idle": "2024-02-10T22:25:55.398240Z",
     "shell.execute_reply": "2024-02-10T22:25:55.396896Z",
     "shell.execute_reply.started": "2024-02-10T22:25:55.388848Z"
    }
   },
   "outputs": [
    {
     "data": {
      "text/plain": [
       "{3, 'a', 'b'}"
      ]
     },
     "execution_count": 66,
     "metadata": {},
     "output_type": "execute_result"
    }
   ],
   "source": [
    "s1.remove('4')\n",
    "s1"
   ]
  },
  {
   "cell_type": "code",
   "execution_count": 67,
   "metadata": {
    "execution": {
     "iopub.execute_input": "2024-02-10T22:25:55.403772Z",
     "iopub.status.busy": "2024-02-10T22:25:55.401994Z",
     "iopub.status.idle": "2024-02-10T22:25:55.414890Z",
     "shell.execute_reply": "2024-02-10T22:25:55.412093Z",
     "shell.execute_reply.started": "2024-02-10T22:25:55.403721Z"
    }
   },
   "outputs": [
    {
     "data": {
      "text/plain": [
       "False"
      ]
     },
     "execution_count": 67,
     "metadata": {},
     "output_type": "execute_result"
    }
   ],
   "source": [
    "# Kiểm tra s1 có phải tập con của s2 ko \n",
    "s1.issubset(s2)"
   ]
  },
  {
   "cell_type": "code",
   "execution_count": 68,
   "metadata": {
    "execution": {
     "iopub.execute_input": "2024-02-10T22:25:55.417811Z",
     "iopub.status.busy": "2024-02-10T22:25:55.416725Z",
     "iopub.status.idle": "2024-02-10T22:25:55.425567Z",
     "shell.execute_reply": "2024-02-10T22:25:55.424518Z",
     "shell.execute_reply.started": "2024-02-10T22:25:55.417767Z"
    }
   },
   "outputs": [
    {
     "data": {
      "text/plain": [
       "{3}"
      ]
     },
     "execution_count": 68,
     "metadata": {},
     "output_type": "execute_result"
    }
   ],
   "source": [
    "# Kiểm tra tập giao giữa 2 tập con\n",
    "s1.intersection(s2)"
   ]
  },
  {
   "cell_type": "markdown",
   "metadata": {},
   "source": [
    "## Toán tử - Operators\n",
    "\n",
    "Các toán tử liên quan đến số học như `+` `-` `*` `/` khá đơn giản nên chúng ta sẽ ko nhắc tới ở đây\n",
    "\n",
    "### Toán tử so sánh - Comparison operators"
   ]
  },
  {
   "cell_type": "code",
   "execution_count": 69,
   "metadata": {
    "execution": {
     "iopub.execute_input": "2024-02-10T22:25:55.430241Z",
     "iopub.status.busy": "2024-02-10T22:25:55.429101Z",
     "iopub.status.idle": "2024-02-10T22:25:55.440966Z",
     "shell.execute_reply": "2024-02-10T22:25:55.438505Z",
     "shell.execute_reply.started": "2024-02-10T22:25:55.430190Z"
    }
   },
   "outputs": [
    {
     "data": {
      "text/plain": [
       "True"
      ]
     },
     "execution_count": 69,
     "metadata": {},
     "output_type": "execute_result"
    }
   ],
   "source": [
    "x, y = 1, 2\n",
    "x < y"
   ]
  },
  {
   "cell_type": "code",
   "execution_count": 70,
   "metadata": {
    "execution": {
     "iopub.execute_input": "2024-02-10T22:25:55.443228Z",
     "iopub.status.busy": "2024-02-10T22:25:55.442624Z",
     "iopub.status.idle": "2024-02-10T22:25:55.451112Z",
     "shell.execute_reply": "2024-02-10T22:25:55.449774Z",
     "shell.execute_reply.started": "2024-02-10T22:25:55.443188Z"
    }
   },
   "outputs": [
    {
     "data": {
      "text/plain": [
       "False"
      ]
     },
     "execution_count": 70,
     "metadata": {},
     "output_type": "execute_result"
    }
   ],
   "source": [
    "x > y"
   ]
  },
  {
   "cell_type": "markdown",
   "metadata": {},
   "source": [
    "Chúng ta có thể so sánh 1 chuỗi các giá trị"
   ]
  },
  {
   "cell_type": "code",
   "execution_count": 71,
   "metadata": {
    "execution": {
     "iopub.execute_input": "2024-02-10T22:25:55.456311Z",
     "iopub.status.busy": "2024-02-10T22:25:55.453949Z",
     "iopub.status.idle": "2024-02-10T22:25:55.463992Z",
     "shell.execute_reply": "2024-02-10T22:25:55.462858Z",
     "shell.execute_reply.started": "2024-02-10T22:25:55.456195Z"
    }
   },
   "outputs": [
    {
     "data": {
      "text/plain": [
       "True"
      ]
     },
     "execution_count": 71,
     "metadata": {},
     "output_type": "execute_result"
    }
   ],
   "source": [
    "1 < 2 < 3"
   ]
  },
  {
   "cell_type": "code",
   "execution_count": 72,
   "metadata": {
    "execution": {
     "iopub.execute_input": "2024-02-10T22:25:55.469344Z",
     "iopub.status.busy": "2024-02-10T22:25:55.467562Z",
     "iopub.status.idle": "2024-02-10T22:25:55.480165Z",
     "shell.execute_reply": "2024-02-10T22:25:55.478714Z",
     "shell.execute_reply.started": "2024-02-10T22:25:55.469291Z"
    }
   },
   "outputs": [
    {
     "data": {
      "text/plain": [
       "True"
      ]
     },
     "execution_count": 72,
     "metadata": {},
     "output_type": "execute_result"
    }
   ],
   "source": [
    "# hoặc \n",
    "1 <= 2 <= 3"
   ]
  },
  {
   "cell_type": "markdown",
   "metadata": {},
   "source": [
    "Gán biến bằng `=` và so sánh 2 giá trị bằng `==`"
   ]
  },
  {
   "cell_type": "code",
   "execution_count": 73,
   "metadata": {
    "execution": {
     "iopub.execute_input": "2024-02-10T22:25:55.484545Z",
     "iopub.status.busy": "2024-02-10T22:25:55.482178Z",
     "iopub.status.idle": "2024-02-10T22:25:55.496128Z",
     "shell.execute_reply": "2024-02-10T22:25:55.494597Z",
     "shell.execute_reply.started": "2024-02-10T22:25:55.484468Z"
    }
   },
   "outputs": [
    {
     "data": {
      "text/plain": [
       "False"
      ]
     },
     "execution_count": 73,
     "metadata": {},
     "output_type": "execute_result"
    }
   ],
   "source": [
    "x = 1  #assignment\n",
    "x == 2 #comparison"
   ]
  },
  {
   "cell_type": "markdown",
   "metadata": {},
   "source": [
    "So sánh không bằng"
   ]
  },
  {
   "cell_type": "code",
   "execution_count": 74,
   "metadata": {
    "execution": {
     "iopub.execute_input": "2024-02-10T22:25:55.498453Z",
     "iopub.status.busy": "2024-02-10T22:25:55.497870Z",
     "iopub.status.idle": "2024-02-10T22:25:55.509199Z",
     "shell.execute_reply": "2024-02-10T22:25:55.506572Z",
     "shell.execute_reply.started": "2024-02-10T22:25:55.498410Z"
    }
   },
   "outputs": [
    {
     "data": {
      "text/plain": [
       "True"
      ]
     },
     "execution_count": 74,
     "metadata": {},
     "output_type": "execute_result"
    }
   ],
   "source": [
    "x != 2"
   ]
  },
  {
   "cell_type": "markdown",
   "metadata": {},
   "source": [
    "### Toán tử xác định - Identity operators"
   ]
  },
  {
   "cell_type": "code",
   "execution_count": 75,
   "metadata": {
    "execution": {
     "iopub.execute_input": "2024-02-10T22:25:55.512971Z",
     "iopub.status.busy": "2024-02-10T22:25:55.511567Z",
     "iopub.status.idle": "2024-02-10T22:25:55.522950Z",
     "shell.execute_reply": "2024-02-10T22:25:55.521834Z",
     "shell.execute_reply.started": "2024-02-10T22:25:55.512921Z"
    }
   },
   "outputs": [
    {
     "data": {
      "text/plain": [
       "True"
      ]
     },
     "execution_count": 75,
     "metadata": {},
     "output_type": "execute_result"
    }
   ],
   "source": [
    "ta = \"Nguyen Tuan Anh\"\n",
    "ha = ta\n",
    "ta is ha"
   ]
  },
  {
   "cell_type": "code",
   "execution_count": 76,
   "metadata": {
    "execution": {
     "iopub.execute_input": "2024-02-10T22:25:55.526962Z",
     "iopub.status.busy": "2024-02-10T22:25:55.525392Z",
     "iopub.status.idle": "2024-02-10T22:25:55.535191Z",
     "shell.execute_reply": "2024-02-10T22:25:55.534169Z",
     "shell.execute_reply.started": "2024-02-10T22:25:55.526895Z"
    }
   },
   "outputs": [
    {
     "data": {
      "text/plain": [
       "False"
      ]
     },
     "execution_count": 76,
     "metadata": {},
     "output_type": "execute_result"
    }
   ],
   "source": [
    "ta is not ha"
   ]
  },
  {
   "cell_type": "markdown",
   "metadata": {},
   "source": [
    "**Lưu ý**: sự khác nhau giữa `==` và `is`, 2 toán tử này lần lượt kiểm tra độ `equality` và `identical` và cơ bản là ko giống nhau, check ví dụ dưới"
   ]
  },
  {
   "cell_type": "code",
   "execution_count": 77,
   "metadata": {
    "execution": {
     "iopub.execute_input": "2024-02-10T22:25:55.537602Z",
     "iopub.status.busy": "2024-02-10T22:25:55.537057Z",
     "iopub.status.idle": "2024-02-10T22:25:55.546224Z",
     "shell.execute_reply": "2024-02-10T22:25:55.545223Z",
     "shell.execute_reply.started": "2024-02-10T22:25:55.537558Z"
    }
   },
   "outputs": [
    {
     "data": {
      "text/plain": [
       "True"
      ]
     },
     "execution_count": 77,
     "metadata": {},
     "output_type": "execute_result"
    }
   ],
   "source": [
    "x = [1, 2, 3]\n",
    "y = [1, 2, 3]\n",
    "x == y # toán tử == kiểm tra tính ngang bằng - equality"
   ]
  },
  {
   "cell_type": "code",
   "execution_count": 78,
   "metadata": {
    "execution": {
     "iopub.execute_input": "2024-02-10T22:25:55.556306Z",
     "iopub.status.busy": "2024-02-10T22:25:55.555519Z",
     "iopub.status.idle": "2024-02-10T22:25:55.567481Z",
     "shell.execute_reply": "2024-02-10T22:25:55.566111Z",
     "shell.execute_reply.started": "2024-02-10T22:25:55.556201Z"
    }
   },
   "outputs": [
    {
     "data": {
      "text/plain": [
       "False"
      ]
     },
     "execution_count": 78,
     "metadata": {},
     "output_type": "execute_result"
    }
   ],
   "source": [
    "x is y # toán tử is kiểm tra tính đồng nhất - identical"
   ]
  },
  {
   "cell_type": "markdown",
   "metadata": {},
   "source": [
    "Toán tử `is` sẽ trả ra True nếu một biến được gán từ 1 biến khác, ví dụ"
   ]
  },
  {
   "cell_type": "code",
   "execution_count": 79,
   "metadata": {
    "execution": {
     "iopub.execute_input": "2024-02-10T22:25:55.571566Z",
     "iopub.status.busy": "2024-02-10T22:25:55.569674Z",
     "iopub.status.idle": "2024-02-10T22:25:55.581233Z",
     "shell.execute_reply": "2024-02-10T22:25:55.578967Z",
     "shell.execute_reply.started": "2024-02-10T22:25:55.571479Z"
    }
   },
   "outputs": [
    {
     "data": {
      "text/plain": [
       "True"
      ]
     },
     "execution_count": 79,
     "metadata": {},
     "output_type": "execute_result"
    }
   ],
   "source": [
    "z = x\n",
    "z is x"
   ]
  },
  {
   "cell_type": "markdown",
   "metadata": {},
   "source": [
    "### Toán tử logic - Logical operators\n",
    "\n",
    "Bao gồm 3 loại `and`, `or`, `not`"
   ]
  },
  {
   "cell_type": "code",
   "execution_count": 80,
   "metadata": {
    "execution": {
     "iopub.execute_input": "2024-02-10T22:25:55.583849Z",
     "iopub.status.busy": "2024-02-10T22:25:55.583101Z",
     "iopub.status.idle": "2024-02-10T22:25:55.593400Z",
     "shell.execute_reply": "2024-02-10T22:25:55.591604Z",
     "shell.execute_reply.started": "2024-02-10T22:25:55.583804Z"
    }
   },
   "outputs": [
    {
     "data": {
      "text/plain": [
       "False"
      ]
     },
     "execution_count": 80,
     "metadata": {},
     "output_type": "execute_result"
    }
   ],
   "source": [
    "True and False"
   ]
  },
  {
   "cell_type": "code",
   "execution_count": 81,
   "metadata": {
    "execution": {
     "iopub.execute_input": "2024-02-10T22:25:55.597340Z",
     "iopub.status.busy": "2024-02-10T22:25:55.595512Z",
     "iopub.status.idle": "2024-02-10T22:25:55.606572Z",
     "shell.execute_reply": "2024-02-10T22:25:55.604115Z",
     "shell.execute_reply.started": "2024-02-10T22:25:55.597124Z"
    }
   },
   "outputs": [
    {
     "data": {
      "text/plain": [
       "True"
      ]
     },
     "execution_count": 81,
     "metadata": {},
     "output_type": "execute_result"
    }
   ],
   "source": [
    "not False and True"
   ]
  },
  {
   "cell_type": "code",
   "execution_count": 82,
   "metadata": {
    "execution": {
     "iopub.execute_input": "2024-02-10T22:25:55.616183Z",
     "iopub.status.busy": "2024-02-10T22:25:55.615462Z",
     "iopub.status.idle": "2024-02-10T22:25:55.623160Z",
     "shell.execute_reply": "2024-02-10T22:25:55.622038Z",
     "shell.execute_reply.started": "2024-02-10T22:25:55.616137Z"
    }
   },
   "outputs": [
    {
     "data": {
      "text/plain": [
       "False"
      ]
     },
     "execution_count": 82,
     "metadata": {},
     "output_type": "execute_result"
    }
   ],
   "source": [
    "1 > 2 and 3 == 3"
   ]
  },
  {
   "cell_type": "markdown",
   "metadata": {},
   "source": [
    "**Toán tử `in`, `not in`**"
   ]
  },
  {
   "cell_type": "code",
   "execution_count": 83,
   "metadata": {
    "execution": {
     "iopub.execute_input": "2024-02-10T22:25:55.626194Z",
     "iopub.status.busy": "2024-02-10T22:25:55.625167Z",
     "iopub.status.idle": "2024-02-10T22:25:55.633570Z",
     "shell.execute_reply": "2024-02-10T22:25:55.632364Z",
     "shell.execute_reply.started": "2024-02-10T22:25:55.626151Z"
    }
   },
   "outputs": [
    {
     "data": {
      "text/plain": [
       "False"
      ]
     },
     "execution_count": 83,
     "metadata": {},
     "output_type": "execute_result"
    }
   ],
   "source": [
    "'x' in 'hanoi'"
   ]
  },
  {
   "cell_type": "markdown",
   "metadata": {},
   "source": [
    "**not in**"
   ]
  },
  {
   "cell_type": "code",
   "execution_count": 1,
   "metadata": {
    "execution": {
     "iopub.execute_input": "2024-02-10T22:25:55.637437Z",
     "iopub.status.busy": "2024-02-10T22:25:55.635666Z",
     "iopub.status.idle": "2024-02-10T22:25:55.644937Z",
     "shell.execute_reply": "2024-02-10T22:25:55.643922Z",
     "shell.execute_reply.started": "2024-02-10T22:25:55.637391Z"
    }
   },
   "outputs": [
    {
     "data": {
      "text/plain": [
       "True"
      ]
     },
     "execution_count": 1,
     "metadata": {},
     "output_type": "execute_result"
    }
   ],
   "source": [
    "'x' not in 'hanoi'"
   ]
  },
  {
   "cell_type": "markdown",
   "metadata": {},
   "source": [
    "## Điều kiện\n",
    "\n",
    "**if**"
   ]
  },
  {
   "cell_type": "code",
   "execution_count": 85,
   "metadata": {
    "execution": {
     "iopub.execute_input": "2024-02-10T22:25:55.648060Z",
     "iopub.status.busy": "2024-02-10T22:25:55.647076Z",
     "iopub.status.idle": "2024-02-10T22:25:55.653991Z",
     "shell.execute_reply": "2024-02-10T22:25:55.652993Z",
     "shell.execute_reply.started": "2024-02-10T22:25:55.647993Z"
    }
   },
   "outputs": [
    {
     "name": "stdout",
     "output_type": "stream",
     "text": [
      "Yep!\n"
     ]
    }
   ],
   "source": [
    "if 1 < 2:\n",
    "    print('Yep!')"
   ]
  },
  {
   "cell_type": "markdown",
   "metadata": {},
   "source": [
    "**If else**"
   ]
  },
  {
   "cell_type": "code",
   "execution_count": 86,
   "metadata": {
    "execution": {
     "iopub.execute_input": "2024-02-10T22:25:55.659352Z",
     "iopub.status.busy": "2024-02-10T22:25:55.656455Z",
     "iopub.status.idle": "2024-02-10T22:25:55.667297Z",
     "shell.execute_reply": "2024-02-10T22:25:55.666162Z",
     "shell.execute_reply.started": "2024-02-10T22:25:55.659293Z"
    }
   },
   "outputs": [
    {
     "name": "stdout",
     "output_type": "stream",
     "text": [
      "last\n"
     ]
    }
   ],
   "source": [
    "if 1 > 2:\n",
    "    print('first')\n",
    "else:\n",
    "    print('last')"
   ]
  },
  {
   "cell_type": "markdown",
   "metadata": {},
   "source": [
    "**if else elif**"
   ]
  },
  {
   "cell_type": "code",
   "execution_count": 87,
   "metadata": {
    "execution": {
     "iopub.execute_input": "2024-02-10T22:25:55.670063Z",
     "iopub.status.busy": "2024-02-10T22:25:55.668873Z",
     "iopub.status.idle": "2024-02-10T22:25:55.678279Z",
     "shell.execute_reply": "2024-02-10T22:25:55.677309Z",
     "shell.execute_reply.started": "2024-02-10T22:25:55.670020Z"
    }
   },
   "outputs": [
    {
     "name": "stdout",
     "output_type": "stream",
     "text": [
      "middle\n"
     ]
    }
   ],
   "source": [
    "if 1 == 2:\n",
    "    print('first')\n",
    "elif 3 == 3:\n",
    "    print('middle')\n",
    "else:\n",
    "    print('Last')"
   ]
  },
  {
   "cell_type": "markdown",
   "metadata": {},
   "source": [
    "\n",
    "\n",
    "## Vòng lặp\n",
    "\n",
    "![Loop](https://lh3.googleusercontent.com/Gsy3gvhT5OUjqobdPrCDaNL7B7G8I57KfjTD-cvwZNKjhm0dcHQ1VTZESRnyR3SrbOHhJUrX8UBZ_EO1uJxq3Ddlnxkn6W7F6Nxe7xjqgcqOLfuSN50PSm2vWVIiXxc9z-f_950-cI-NSp5Jd7j592c1yJ9qJySifchPwTPmdzbW2pcQfq5ZE-y3b30pmK1sZGd1U_hh9CjiiFowARUopdY7cz9xkhFg5TGusIxYChZHRmiFqf8eOgZpEDLH-aPNTygyQnArbE61YmUPjzj5-XA2yiXfqfbtS7lzPkMnQOuE5HImeaXnOzEKuJnGGBLi66k22PslajI-_RjyCh_YKsohjThxT-ocK6cw4v6mdDb3qq4etGdRePkhB3a1rlI-7NT62yWphsmbi4OHP2WSOJjpGfblOB-Ezi5irhofUIQJbUHSBDiMQ-fCzZGeJt_6xCXlg-AulJD51CuTHDd4F-sf9QCigiTfFKy0bYriXIhwq_l1MwhUGqWZ5UAamrf1H_HsVVK3UTUfwJN41s40gaH8vMI9fFr2cDlcivRFk43WaK9Ik9Nri1vYr7OeB8_tIMjp6Br2AP_2xbkCXRlyrR_5vsjgkAjuc3dgbiLYLJ37rneo2FTs1R5V48mi85oQjTN3x_Gc_mjExIGoq3tjmMI1hHLRaBWehEb-1QlGsMYo9qa1hQr9LcHcqg=w450-h300-no)\n"
   ]
  },
  {
   "cell_type": "markdown",
   "metadata": {},
   "source": [
    "\n",
    "### Vòng lặp While"
   ]
  },
  {
   "cell_type": "markdown",
   "metadata": {},
   "source": [
    "\n",
    "**while + print**"
   ]
  },
  {
   "cell_type": "code",
   "execution_count": 88,
   "metadata": {
    "execution": {
     "iopub.execute_input": "2024-02-10T22:26:12.446083Z",
     "iopub.status.busy": "2024-02-10T22:26:12.445314Z",
     "iopub.status.idle": "2024-02-10T22:26:12.462309Z",
     "shell.execute_reply": "2024-02-10T22:26:12.460336Z",
     "shell.execute_reply.started": "2024-02-10T22:26:12.446030Z"
    }
   },
   "outputs": [
    {
     "name": "stdout",
     "output_type": "stream",
     "text": [
      "1\n",
      "3\n",
      "5\n",
      "7\n",
      "9\n"
     ]
    }
   ],
   "source": [
    "a = 1\n",
    "while a < 10:\n",
    "    print(a)\n",
    "    a += 2 # += tương đương với a = a + 2"
   ]
  },
  {
   "cell_type": "markdown",
   "metadata": {},
   "source": [
    "**while + if**"
   ]
  },
  {
   "cell_type": "code",
   "execution_count": 89,
   "metadata": {
    "execution": {
     "iopub.execute_input": "2024-02-10T22:26:12.465905Z",
     "iopub.status.busy": "2024-02-10T22:26:12.465480Z",
     "iopub.status.idle": "2024-02-10T22:26:12.488280Z",
     "shell.execute_reply": "2024-02-10T22:26:12.478692Z",
     "shell.execute_reply.started": "2024-02-10T22:26:12.465859Z"
    }
   },
   "outputs": [
    {
     "name": "stdout",
     "output_type": "stream",
     "text": [
      "0 chia hết cho 5\n",
      "5 chia hết cho 5\n",
      "10 chia hết cho 5\n",
      "15 chia hết cho 5\n"
     ]
    }
   ],
   "source": [
    "a = 0\n",
    "while a < 20:\n",
    "    if a % 5 == 0:\n",
    "        print('{x} chia hết cho 5'.format(x=a))\n",
    "    a += 1"
   ]
  },
  {
   "cell_type": "markdown",
   "metadata": {},
   "source": [
    "**while + break**\n",
    "\n",
    "VD: print số từ 1 - 9 cho đến khi gặp số chia hết cho 5"
   ]
  },
  {
   "cell_type": "code",
   "execution_count": 90,
   "metadata": {
    "execution": {
     "iopub.execute_input": "2024-02-10T22:26:12.495451Z",
     "iopub.status.busy": "2024-02-10T22:26:12.491218Z",
     "iopub.status.idle": "2024-02-10T22:26:12.510831Z",
     "shell.execute_reply": "2024-02-10T22:26:12.507915Z",
     "shell.execute_reply.started": "2024-02-10T22:26:12.495242Z"
    }
   },
   "outputs": [
    {
     "name": "stdout",
     "output_type": "stream",
     "text": [
      "1\n",
      "2\n",
      "3\n",
      "4\n",
      "5\n"
     ]
    }
   ],
   "source": [
    "a = list(range(1, 10))\n",
    "i = 1\n",
    "while i < max(a):\n",
    "    print(i)\n",
    "    if i % 5 == 0:\n",
    "        break\n",
    "    i += 1"
   ]
  },
  {
   "cell_type": "markdown",
   "metadata": {},
   "source": [
    "**while + else**\n",
    "\n",
    "Hàm else sẽ được thực hiện khi a không còn nhỏ hơn 10"
   ]
  },
  {
   "cell_type": "code",
   "execution_count": 91,
   "metadata": {
    "execution": {
     "iopub.execute_input": "2024-02-10T22:26:12.515758Z",
     "iopub.status.busy": "2024-02-10T22:26:12.514910Z",
     "iopub.status.idle": "2024-02-10T22:26:12.528885Z",
     "shell.execute_reply": "2024-02-10T22:26:12.527854Z",
     "shell.execute_reply.started": "2024-02-10T22:26:12.515711Z"
    }
   },
   "outputs": [
    {
     "name": "stdout",
     "output_type": "stream",
     "text": [
      "1\n",
      "3\n",
      "5\n",
      "7\n",
      "9\n",
      "End while\n"
     ]
    }
   ],
   "source": [
    "a = 1\n",
    "while a < 10:\n",
    "    print(a)\n",
    "    a += 2\n",
    "else:\n",
    "    print ('End while')"
   ]
  },
  {
   "cell_type": "markdown",
   "metadata": {},
   "source": [
    "### Vòng lặp for"
   ]
  },
  {
   "cell_type": "code",
   "execution_count": 92,
   "metadata": {
    "execution": {
     "iopub.execute_input": "2024-02-10T22:26:12.532976Z",
     "iopub.status.busy": "2024-02-10T22:26:12.532547Z",
     "iopub.status.idle": "2024-02-10T22:26:12.539675Z",
     "shell.execute_reply": "2024-02-10T22:26:12.538425Z",
     "shell.execute_reply.started": "2024-02-10T22:26:12.532934Z"
    }
   },
   "outputs": [
    {
     "name": "stdout",
     "output_type": "stream",
     "text": [
      "The plural of dog is dogs\n",
      "The plural of cat is cats\n",
      "The plural of bird is birds\n"
     ]
    }
   ],
   "source": [
    "animals = ['dog', 'cat', 'bird']\n",
    "for animal in animals:\n",
    "    print(\"The plural of \" + animal + \" is \" + animal + \"s\")"
   ]
  },
  {
   "cell_type": "markdown",
   "metadata": {},
   "source": [
    "**for + else**"
   ]
  },
  {
   "cell_type": "code",
   "execution_count": 93,
   "metadata": {
    "execution": {
     "iopub.execute_input": "2024-02-10T22:26:12.542399Z",
     "iopub.status.busy": "2024-02-10T22:26:12.541867Z",
     "iopub.status.idle": "2024-02-10T22:26:12.548184Z",
     "shell.execute_reply": "2024-02-10T22:26:12.547232Z",
     "shell.execute_reply.started": "2024-02-10T22:26:12.542353Z"
    }
   },
   "outputs": [
    {
     "name": "stdout",
     "output_type": "stream",
     "text": [
      "The plural of dog is dogs\n",
      "The plural of cat is cats\n",
      "The plural of bird is birds\n",
      "End for loop\n"
     ]
    }
   ],
   "source": [
    "animals = ['dog', 'cat', 'bird']\n",
    "for animal in animals:\n",
    "    print('The plural of ' + animal + ' is ' + animal + 's')\n",
    "else:\n",
    "    print('End for loop')"
   ]
  },
  {
   "cell_type": "markdown",
   "metadata": {},
   "source": [
    "### List comprehension\n",
    "\n",
    "`List comprehension` là cách tạo list đơn giản và nhẹ nhàng hơn sử dụng vòng lặp thông thường rất nhiều.\n",
    "\n",
    "Cú pháp:\n",
    ">**[ expression for item in list if conditional ]**\n",
    "\n",
    "Ví dụ:"
   ]
  },
  {
   "cell_type": "code",
   "execution_count": 94,
   "metadata": {
    "execution": {
     "iopub.execute_input": "2024-02-10T22:26:12.551369Z",
     "iopub.status.busy": "2024-02-10T22:26:12.550233Z",
     "iopub.status.idle": "2024-02-10T22:26:12.559956Z",
     "shell.execute_reply": "2024-02-10T22:26:12.558972Z",
     "shell.execute_reply.started": "2024-02-10T22:26:12.551063Z"
    }
   },
   "outputs": [
    {
     "data": {
      "text/plain": [
       "[0, 1, 2, 3, 4, 5, 6, 7, 8, 9]"
      ]
     },
     "execution_count": 94,
     "metadata": {},
     "output_type": "execute_result"
    }
   ],
   "source": [
    "x = list(range(10))\n",
    "x"
   ]
  },
  {
   "cell_type": "markdown",
   "metadata": {},
   "source": [
    "Chúng ta đang cần tạo 1 list y bằng cách lấy mỗi phần tử của list x nhân với 2\n",
    "\n",
    "Cách làm thông thường - sử dụng vòng lặp:"
   ]
  },
  {
   "cell_type": "code",
   "execution_count": 95,
   "metadata": {
    "execution": {
     "iopub.execute_input": "2024-02-10T22:26:12.562602Z",
     "iopub.status.busy": "2024-02-10T22:26:12.561923Z",
     "iopub.status.idle": "2024-02-10T22:26:12.570388Z",
     "shell.execute_reply": "2024-02-10T22:26:12.569356Z",
     "shell.execute_reply.started": "2024-02-10T22:26:12.562563Z"
    }
   },
   "outputs": [
    {
     "data": {
      "text/plain": [
       "[0, 2, 4, 6, 8, 10, 12, 14, 16, 18]"
      ]
     },
     "execution_count": 95,
     "metadata": {},
     "output_type": "execute_result"
    }
   ],
   "source": [
    "y = []\n",
    "for i in x:    \n",
    "    y.append(i * 2)\n",
    "y    "
   ]
  },
  {
   "cell_type": "markdown",
   "metadata": {},
   "source": [
    "Thay vì sử dụng vòng lặp như trên có thể dùng 1 câu lệnh"
   ]
  },
  {
   "cell_type": "code",
   "execution_count": 96,
   "metadata": {
    "execution": {
     "iopub.execute_input": "2024-02-10T22:26:12.573787Z",
     "iopub.status.busy": "2024-02-10T22:26:12.572992Z",
     "iopub.status.idle": "2024-02-10T22:26:12.604082Z",
     "shell.execute_reply": "2024-02-10T22:26:12.601957Z",
     "shell.execute_reply.started": "2024-02-10T22:26:12.573744Z"
    }
   },
   "outputs": [
    {
     "data": {
      "text/plain": [
       "[0, 2, 4, 6, 8, 10, 12, 14, 16, 18]"
      ]
     },
     "execution_count": 96,
     "metadata": {},
     "output_type": "execute_result"
    }
   ],
   "source": [
    "y = [i * 2 for i in x]\n",
    "y"
   ]
  },
  {
   "cell_type": "markdown",
   "metadata": {},
   "source": [
    "Để lọc thêm điều kiện chúng ta có thể sử dụng kết hợp với `if` ở cuối câu, vd như ở dưới ta chỉ lấy các phần tử của list chia hết cho 2"
   ]
  },
  {
   "cell_type": "code",
   "execution_count": 97,
   "metadata": {
    "execution": {
     "iopub.execute_input": "2024-02-10T22:26:12.609559Z",
     "iopub.status.busy": "2024-02-10T22:26:12.608776Z",
     "iopub.status.idle": "2024-02-10T22:26:12.620810Z",
     "shell.execute_reply": "2024-02-10T22:26:12.619235Z",
     "shell.execute_reply.started": "2024-02-10T22:26:12.609512Z"
    }
   },
   "outputs": [
    {
     "data": {
      "text/plain": [
       "[0, 4, 8, 12, 16]"
      ]
     },
     "execution_count": 97,
     "metadata": {},
     "output_type": "execute_result"
    }
   ],
   "source": [
    "y = [i * 2 for i in x if i % 2 == 0]\n",
    "y"
   ]
  },
  {
   "cell_type": "markdown",
   "metadata": {},
   "source": [
    "## Hàm trong Python\n",
    "\n",
    "### Các hàm mặc định\n",
    "\n",
    "Python cung cấp 1 số hàm cơ bản mà không cần phải `import` từ library nào, chúng ta sẽ tìm hiểu 1 số hàm cơ bản và thường xuyên sử dụng"
   ]
  },
  {
   "cell_type": "markdown",
   "metadata": {},
   "source": [
    "#### print"
   ]
  },
  {
   "cell_type": "code",
   "execution_count": 98,
   "metadata": {
    "execution": {
     "iopub.execute_input": "2024-02-10T22:26:12.623834Z",
     "iopub.status.busy": "2024-02-10T22:26:12.623144Z",
     "iopub.status.idle": "2024-02-10T22:26:12.631679Z",
     "shell.execute_reply": "2024-02-10T22:26:12.630492Z",
     "shell.execute_reply.started": "2024-02-10T22:26:12.623790Z"
    }
   },
   "outputs": [
    {
     "name": "stdout",
     "output_type": "stream",
     "text": [
      "Tôi muốn học Python trong 1 tuần\n"
     ]
    }
   ],
   "source": [
    "print (\"Tôi muốn học Python trong 1 tuần\")"
   ]
  },
  {
   "cell_type": "markdown",
   "metadata": {},
   "source": [
    "Print có tham số "
   ]
  },
  {
   "cell_type": "code",
   "execution_count": 99,
   "metadata": {
    "execution": {
     "iopub.execute_input": "2024-02-10T22:26:12.634736Z",
     "iopub.status.busy": "2024-02-10T22:26:12.633802Z",
     "iopub.status.idle": "2024-02-10T22:26:12.644951Z",
     "shell.execute_reply": "2024-02-10T22:26:12.643801Z",
     "shell.execute_reply.started": "2024-02-10T22:26:12.634555Z"
    }
   },
   "outputs": [
    {
     "name": "stdout",
     "output_type": "stream",
     "text": [
      "Tên tôi là Minh và tôi 35 tuổi\n"
     ]
    }
   ],
   "source": [
    "# Cách 1 \n",
    "print('Tên tôi là %s và tôi %d tuổi' % ('Minh', 35)) # %s là để nhập string, #d để nhập decimal"
   ]
  },
  {
   "cell_type": "code",
   "execution_count": 100,
   "metadata": {
    "execution": {
     "iopub.execute_input": "2024-02-10T22:26:12.647752Z",
     "iopub.status.busy": "2024-02-10T22:26:12.647092Z",
     "iopub.status.idle": "2024-02-10T22:26:12.653451Z",
     "shell.execute_reply": "2024-02-10T22:26:12.652462Z",
     "shell.execute_reply.started": "2024-02-10T22:26:12.647709Z"
    }
   },
   "outputs": [
    {
     "name": "stdout",
     "output_type": "stream",
     "text": [
      "Tên tôi là Hoàng và tôi 29 tuổi\n"
     ]
    }
   ],
   "source": [
    "# Cách 2\n",
    "print ('Tên tôi là {x} và tôi {y} tuổi'.format(x = 'Hoàng', y = 29))"
   ]
  },
  {
   "cell_type": "markdown",
   "metadata": {},
   "source": [
    "**Lưu ý:** `format` là 1 *string method* để insert dữ liệu vào đối tượng dạng string.\n"
   ]
  },
  {
   "cell_type": "markdown",
   "metadata": {},
   "source": [
    "#### type"
   ]
  },
  {
   "cell_type": "markdown",
   "metadata": {},
   "source": [
    "\n",
    "**type()**: trả về kiểu dữ liệu của 1 object"
   ]
  },
  {
   "cell_type": "code",
   "execution_count": 101,
   "metadata": {
    "execution": {
     "iopub.execute_input": "2024-02-10T22:26:12.660706Z",
     "iopub.status.busy": "2024-02-10T22:26:12.659700Z",
     "iopub.status.idle": "2024-02-10T22:26:12.668576Z",
     "shell.execute_reply": "2024-02-10T22:26:12.667264Z",
     "shell.execute_reply.started": "2024-02-10T22:26:12.660657Z"
    }
   },
   "outputs": [
    {
     "data": {
      "text/plain": [
       "int"
      ]
     },
     "execution_count": 101,
     "metadata": {},
     "output_type": "execute_result"
    }
   ],
   "source": [
    "x = 3\n",
    "type(x)"
   ]
  },
  {
   "cell_type": "code",
   "execution_count": 102,
   "metadata": {
    "execution": {
     "iopub.execute_input": "2024-02-10T22:26:12.671319Z",
     "iopub.status.busy": "2024-02-10T22:26:12.670377Z",
     "iopub.status.idle": "2024-02-10T22:26:12.680072Z",
     "shell.execute_reply": "2024-02-10T22:26:12.678864Z",
     "shell.execute_reply.started": "2024-02-10T22:26:12.671262Z"
    }
   },
   "outputs": [
    {
     "data": {
      "text/plain": [
       "dict"
      ]
     },
     "execution_count": 102,
     "metadata": {},
     "output_type": "execute_result"
    }
   ],
   "source": [
    "person = {\"name\": \"Nguyen Tuan Anh\", \"title\": \"Xam King\"}\n",
    "type(person)"
   ]
  },
  {
   "cell_type": "markdown",
   "metadata": {},
   "source": [
    "#### Các hàm tính toán"
   ]
  },
  {
   "cell_type": "markdown",
   "metadata": {},
   "source": [
    "**len()**: trả về chiều dài hoặc số lượng phần tử của một đối tượng."
   ]
  },
  {
   "cell_type": "code",
   "execution_count": 103,
   "metadata": {
    "execution": {
     "iopub.execute_input": "2024-02-10T22:26:12.684206Z",
     "iopub.status.busy": "2024-02-10T22:26:12.683441Z",
     "iopub.status.idle": "2024-02-10T22:26:12.691089Z",
     "shell.execute_reply": "2024-02-10T22:26:12.689754Z",
     "shell.execute_reply.started": "2024-02-10T22:26:12.684154Z"
    }
   },
   "outputs": [
    {
     "data": {
      "text/plain": [
       "5"
      ]
     },
     "execution_count": 103,
     "metadata": {},
     "output_type": "execute_result"
    }
   ],
   "source": [
    "# Trả về chiều dài của chuỗi\n",
    "dept = \"Hello\"\n",
    "len(dept)"
   ]
  },
  {
   "cell_type": "code",
   "execution_count": 104,
   "metadata": {
    "execution": {
     "iopub.execute_input": "2024-02-10T22:26:12.693519Z",
     "iopub.status.busy": "2024-02-10T22:26:12.692647Z",
     "iopub.status.idle": "2024-02-10T22:26:12.702420Z",
     "shell.execute_reply": "2024-02-10T22:26:12.701324Z",
     "shell.execute_reply.started": "2024-02-10T22:26:12.693478Z"
    }
   },
   "outputs": [
    {
     "data": {
      "text/plain": [
       "2"
      ]
     },
     "execution_count": 104,
     "metadata": {},
     "output_type": "execute_result"
    }
   ],
   "source": [
    "# Trả về số phần tử trong một List\n",
    "languages = [\"Vietnamese\", \"English\"]\n",
    "len(languages)"
   ]
  },
  {
   "cell_type": "markdown",
   "metadata": {},
   "source": [
    "**max()**: trả về giá trị lớn nhất, tương tự là **min()**"
   ]
  },
  {
   "cell_type": "code",
   "execution_count": 105,
   "metadata": {
    "execution": {
     "iopub.execute_input": "2024-02-10T22:26:12.705851Z",
     "iopub.status.busy": "2024-02-10T22:26:12.704663Z",
     "iopub.status.idle": "2024-02-10T22:26:12.715100Z",
     "shell.execute_reply": "2024-02-10T22:26:12.711693Z",
     "shell.execute_reply.started": "2024-02-10T22:26:12.705745Z"
    }
   },
   "outputs": [
    {
     "data": {
      "text/plain": [
       "4"
      ]
     },
     "execution_count": 105,
     "metadata": {},
     "output_type": "execute_result"
    }
   ],
   "source": [
    "# Trả về giá trị lớn nhất của một dãy số\n",
    "max(1,2,4)"
   ]
  },
  {
   "cell_type": "code",
   "execution_count": 106,
   "metadata": {
    "execution": {
     "iopub.execute_input": "2024-02-10T22:26:12.717738Z",
     "iopub.status.busy": "2024-02-10T22:26:12.717036Z",
     "iopub.status.idle": "2024-02-10T22:26:12.725869Z",
     "shell.execute_reply": "2024-02-10T22:26:12.724602Z",
     "shell.execute_reply.started": "2024-02-10T22:26:12.717692Z"
    }
   },
   "outputs": [
    {
     "data": {
      "text/plain": [
       "20"
      ]
     },
     "execution_count": 106,
     "metadata": {},
     "output_type": "execute_result"
    }
   ],
   "source": [
    "# Trả về giá trị của phần tử lớn nhất trong một List\n",
    "max([1, 20, 18])"
   ]
  },
  {
   "cell_type": "markdown",
   "metadata": {},
   "source": [
    "**sum():** hàm tính tổng"
   ]
  },
  {
   "cell_type": "code",
   "execution_count": 107,
   "metadata": {
    "execution": {
     "iopub.execute_input": "2024-02-10T22:26:12.729599Z",
     "iopub.status.busy": "2024-02-10T22:26:12.728399Z",
     "iopub.status.idle": "2024-02-10T22:26:12.739262Z",
     "shell.execute_reply": "2024-02-10T22:26:12.738199Z",
     "shell.execute_reply.started": "2024-02-10T22:26:12.729553Z"
    }
   },
   "outputs": [
    {
     "data": {
      "text/plain": [
       "6"
      ]
     },
     "execution_count": 107,
     "metadata": {},
     "output_type": "execute_result"
    }
   ],
   "source": [
    "sum([1, 2, 3])"
   ]
  },
  {
   "cell_type": "markdown",
   "metadata": {},
   "source": [
    "#### range"
   ]
  },
  {
   "cell_type": "markdown",
   "metadata": {},
   "source": [
    "**range()**: kết hợp với list hoặc tuple để tạo dãy số tự nhiên"
   ]
  },
  {
   "cell_type": "code",
   "execution_count": 108,
   "metadata": {
    "execution": {
     "iopub.execute_input": "2024-02-10T22:26:12.742551Z",
     "iopub.status.busy": "2024-02-10T22:26:12.741281Z",
     "iopub.status.idle": "2024-02-10T22:26:12.750137Z",
     "shell.execute_reply": "2024-02-10T22:26:12.748925Z",
     "shell.execute_reply.started": "2024-02-10T22:26:12.742501Z"
    }
   },
   "outputs": [
    {
     "data": {
      "text/plain": [
       "[0, 1, 2, 3, 4, 5, 6, 7, 8, 9]"
      ]
     },
     "execution_count": 108,
     "metadata": {},
     "output_type": "execute_result"
    }
   ],
   "source": [
    "list(range(0, 10))"
   ]
  },
  {
   "cell_type": "markdown",
   "metadata": {},
   "source": [
    "#### zip"
   ]
  },
  {
   "cell_type": "markdown",
   "metadata": {},
   "source": [
    "`zip` cho phép ghép từng thành phần của 2 đối tượng theo thứ tự và trả ra kiểu dữ liệu là `zip object`, sau đó gọi lại kết quả bằng hàm `list`."
   ]
  },
  {
   "cell_type": "code",
   "execution_count": 109,
   "metadata": {
    "execution": {
     "iopub.execute_input": "2024-02-10T22:26:12.753767Z",
     "iopub.status.busy": "2024-02-10T22:26:12.751806Z",
     "iopub.status.idle": "2024-02-10T22:26:12.761343Z",
     "shell.execute_reply": "2024-02-10T22:26:12.760362Z",
     "shell.execute_reply.started": "2024-02-10T22:26:12.753722Z"
    }
   },
   "outputs": [
    {
     "data": {
      "text/plain": [
       "[('a', 1), ('b', 2), ('c', 3)]"
      ]
     },
     "execution_count": 109,
     "metadata": {},
     "output_type": "execute_result"
    }
   ],
   "source": [
    "x = 'abc'\n",
    "y = [1, 2, 3]\n",
    "z = zip(x,y)\n",
    "list(z)"
   ]
  },
  {
   "cell_type": "markdown",
   "metadata": {},
   "source": [
    "Ví dụ khác về `zip`"
   ]
  },
  {
   "cell_type": "code",
   "execution_count": 110,
   "metadata": {
    "execution": {
     "iopub.execute_input": "2024-02-10T22:26:12.763735Z",
     "iopub.status.busy": "2024-02-10T22:26:12.763017Z",
     "iopub.status.idle": "2024-02-10T22:26:12.770605Z",
     "shell.execute_reply": "2024-02-10T22:26:12.769282Z",
     "shell.execute_reply.started": "2024-02-10T22:26:12.763693Z"
    }
   },
   "outputs": [
    {
     "name": "stdout",
     "output_type": "stream",
     "text": [
      "The capital of Japan is Tokyo\n",
      "The capital of Korea is Seoul\n",
      "The capital of China is Beijing\n"
     ]
    }
   ],
   "source": [
    "countries = ('Japan', 'Korea', 'China')\n",
    "cities = ('Tokyo', 'Seoul', 'Beijing')\n",
    "for country, city in zip(countries, cities):\n",
    "    print(f'The capital of {country} is {city}')"
   ]
  },
  {
   "cell_type": "markdown",
   "metadata": {},
   "source": [
    "Có thể sử dụng `zip` để tạo dictionary"
   ]
  },
  {
   "cell_type": "code",
   "execution_count": 111,
   "metadata": {
    "execution": {
     "iopub.execute_input": "2024-02-10T22:26:12.773639Z",
     "iopub.status.busy": "2024-02-10T22:26:12.772377Z",
     "iopub.status.idle": "2024-02-10T22:26:12.781429Z",
     "shell.execute_reply": "2024-02-10T22:26:12.780294Z",
     "shell.execute_reply.started": "2024-02-10T22:26:12.773591Z"
    }
   },
   "outputs": [
    {
     "data": {
      "text/plain": [
       "{'Tom': 'E', 'John': 'F'}"
      ]
     },
     "execution_count": 111,
     "metadata": {},
     "output_type": "execute_result"
    }
   ],
   "source": [
    "names = ['Tom', 'John']\n",
    "marks = ['E', 'F']\n",
    "dict(zip(names, marks))"
   ]
  },
  {
   "cell_type": "markdown",
   "metadata": {},
   "source": [
    "#### any & all"
   ]
  },
  {
   "cell_type": "markdown",
   "metadata": {},
   "source": [
    "Hai hàm khác cũng thường xuyên sử dụng: `any` và `all`:\n",
    "\n",
    "- `any` kiểm tra nếu có 1 phần tử là TRUE\n",
    "- `all` kiểm tra nếu tất cả các phần tử đều là TRUE"
   ]
  },
  {
   "cell_type": "code",
   "execution_count": 112,
   "metadata": {
    "execution": {
     "iopub.execute_input": "2024-02-10T22:26:12.784456Z",
     "iopub.status.busy": "2024-02-10T22:26:12.783224Z",
     "iopub.status.idle": "2024-02-10T22:26:12.792715Z",
     "shell.execute_reply": "2024-02-10T22:26:12.791245Z",
     "shell.execute_reply.started": "2024-02-10T22:26:12.784407Z"
    }
   },
   "outputs": [
    {
     "data": {
      "text/plain": [
       "True"
      ]
     },
     "execution_count": 112,
     "metadata": {},
     "output_type": "execute_result"
    }
   ],
   "source": [
    "list2 = [False, False, True]\n",
    "any(list2)"
   ]
  },
  {
   "cell_type": "code",
   "execution_count": 113,
   "metadata": {
    "execution": {
     "iopub.execute_input": "2024-02-10T22:26:12.795622Z",
     "iopub.status.busy": "2024-02-10T22:26:12.794598Z",
     "iopub.status.idle": "2024-02-10T22:26:12.803444Z",
     "shell.execute_reply": "2024-02-10T22:26:12.801233Z",
     "shell.execute_reply.started": "2024-02-10T22:26:12.795545Z"
    }
   },
   "outputs": [
    {
     "data": {
      "text/plain": [
       "False"
      ]
     },
     "execution_count": 113,
     "metadata": {},
     "output_type": "execute_result"
    }
   ],
   "source": [
    "all(list2)"
   ]
  },
  {
   "cell_type": "markdown",
   "metadata": {},
   "source": [
    "### Hàm do người dùng tự tạo\n",
    "\n",
    "Viết hàm để tái sử dụng code trong quá trình xử lý vấn đề nhiều lần. Để viết hàm trong Python chúng ta sử dụng cấu trúc `def`\n",
    "\n",
    "Ví dụ - viết 1 hàm kiểm tra giá trị là âm hay dương"
   ]
  },
  {
   "cell_type": "code",
   "execution_count": 114,
   "metadata": {
    "execution": {
     "iopub.execute_input": "2024-02-10T22:26:12.806545Z",
     "iopub.status.busy": "2024-02-10T22:26:12.805539Z",
     "iopub.status.idle": "2024-02-10T22:26:12.814385Z",
     "shell.execute_reply": "2024-02-10T22:26:12.813373Z",
     "shell.execute_reply.started": "2024-02-10T22:26:12.806500Z"
    }
   },
   "outputs": [
    {
     "data": {
      "text/plain": [
       "'positive'"
      ]
     },
     "execution_count": 114,
     "metadata": {},
     "output_type": "execute_result"
    }
   ],
   "source": [
    "def check_num(x):\n",
    "    if x < 0:\n",
    "        return 'negative'\n",
    "    return 'positive'\n",
    "\n",
    "check_num(2)"
   ]
  },
  {
   "cell_type": "markdown",
   "metadata": {},
   "source": [
    "---\n",
    "\n",
    "Thành phần của hàm trên bao gồm các phần chính: \n",
    "\n",
    "- Tên hàm: `check_num`. Phần `check_num(x)` là khai báo tên function và tên của biến đầu vào sử dụng trong function, 1 function có thể có biến đầu vào hoặc không. Tên function tự tạo ko nên trùng với các hàm mặc định nếu ko sẽ gây lỗi\n",
    "- Nội dung của hàm:\n",
    "    - Phần *indented` là phần function body - nội dung chính của function\n",
    "    - Phần `return` - cho phép hàm trả kết quả sau khi thực hiện xong, phần này có thể có hoặc không\n",
    "\n",
    "VD hàm dưới không có `return` nên khi thực hiện xong ko trả kết quả"
   ]
  },
  {
   "cell_type": "code",
   "execution_count": 115,
   "metadata": {
    "execution": {
     "iopub.execute_input": "2024-02-10T22:26:12.817021Z",
     "iopub.status.busy": "2024-02-10T22:26:12.815993Z",
     "iopub.status.idle": "2024-02-10T22:26:12.821958Z",
     "shell.execute_reply": "2024-02-10T22:26:12.820979Z",
     "shell.execute_reply.started": "2024-02-10T22:26:12.816979Z"
    }
   },
   "outputs": [],
   "source": [
    "def plus(x, y):\n",
    "    a = x + y    \n",
    "plus(3, 4)  # không có gì "
   ]
  },
  {
   "cell_type": "markdown",
   "metadata": {},
   "source": [
    "Trong quá trình chạy, khi gặp keyword return, function sẽ trả về giá trị và dừng thực hiện, dòng lệnh phía dưới return sẽ không được thực hiên"
   ]
  },
  {
   "cell_type": "code",
   "execution_count": 116,
   "metadata": {
    "execution": {
     "iopub.execute_input": "2024-02-10T22:26:12.825038Z",
     "iopub.status.busy": "2024-02-10T22:26:12.823541Z",
     "iopub.status.idle": "2024-02-10T22:26:12.835227Z",
     "shell.execute_reply": "2024-02-10T22:26:12.833830Z",
     "shell.execute_reply.started": "2024-02-10T22:26:12.824997Z"
    }
   },
   "outputs": [
    {
     "name": "stdout",
     "output_type": "stream",
     "text": [
      "Dividing...\n"
     ]
    },
    {
     "data": {
      "text/plain": [
       "2.0"
      ]
     },
     "execution_count": 116,
     "metadata": {},
     "output_type": "execute_result"
    }
   ],
   "source": [
    "def divide(x, y):\n",
    "    print (\"Dividing...\")\n",
    "    return x/y\n",
    "    print (\"Done\")\n",
    "\n",
    "divide(6, 3)"
   ]
  },
  {
   "cell_type": "markdown",
   "metadata": {},
   "source": [
    "**Lưu ý:** Biến khai báo trong function là **local variable** và chỉ có thể truy cập được tại bên trong hàm đó mà thôi.\n",
    "\n",
    "---\n",
    "\n",
    "Bên cạnh các thành phần cơ bản của hàm, còn có phần document trong hàm gọi là **docstring**\n",
    "\n",
    "Python cho phép chúng ta add comment vào function, module... thông qua *`docstring`*"
   ]
  },
  {
   "cell_type": "code",
   "execution_count": 117,
   "metadata": {
    "execution": {
     "iopub.execute_input": "2024-02-10T22:26:12.838905Z",
     "iopub.status.busy": "2024-02-10T22:26:12.836855Z",
     "iopub.status.idle": "2024-02-10T22:26:12.847701Z",
     "shell.execute_reply": "2024-02-10T22:26:12.846720Z",
     "shell.execute_reply.started": "2024-02-10T22:26:12.838841Z"
    }
   },
   "outputs": [
    {
     "data": {
      "text/plain": [
       "1"
      ]
     },
     "execution_count": 117,
     "metadata": {},
     "output_type": "execute_result"
    }
   ],
   "source": [
    "def square(x):\n",
    "    \"\"\"\n",
    "    Tính bình phương của 1 giá trị\n",
    "    \"\"\"\n",
    "    y = x**2\n",
    "    return y\n",
    "\n",
    "square(-1)"
   ]
  },
  {
   "cell_type": "markdown",
   "metadata": {},
   "source": [
    "- Có thể gọi help trong hàm "
   ]
  },
  {
   "cell_type": "code",
   "execution_count": 118,
   "metadata": {
    "execution": {
     "iopub.execute_input": "2024-02-10T22:26:12.850427Z",
     "iopub.status.busy": "2024-02-10T22:26:12.849283Z",
     "iopub.status.idle": "2024-02-10T22:26:12.859401Z",
     "shell.execute_reply": "2024-02-10T22:26:12.858257Z",
     "shell.execute_reply.started": "2024-02-10T22:26:12.850314Z"
    }
   },
   "outputs": [
    {
     "name": "stdout",
     "output_type": "stream",
     "text": [
      "\u001b[1;31mSignature:\u001b[0m \u001b[0msquare\u001b[0m\u001b[1;33m(\u001b[0m\u001b[0mx\u001b[0m\u001b[1;33m)\u001b[0m\u001b[1;33m\u001b[0m\u001b[1;33m\u001b[0m\u001b[0m\n",
      "\u001b[1;31mDocstring:\u001b[0m Tính bình phương của 1 giá trị\n",
      "\u001b[1;31mFile:\u001b[0m      c:\\users\\hoang duc anh\\appdata\\local\\temp\\ipykernel_24372\\1221979200.py\n",
      "\u001b[1;31mType:\u001b[0m      function"
     ]
    }
   ],
   "source": [
    "?square"
   ]
  },
  {
   "cell_type": "markdown",
   "metadata": {},
   "source": [
    "### `Lambda` expression\n",
    "\n",
    "**Lambda expression** cho phép chúng ta tạo 1 function đơn giản chỉ trong 1 dòng mà ko cần khai báo theo cấu trúc `def`. Cấu trúc này tương tự như hàm `lambda` trong R cũng như các ngôn ngữ khác\n",
    "\n",
    "Ví dụ 2 hàm"
   ]
  },
  {
   "cell_type": "code",
   "execution_count": 119,
   "metadata": {
    "execution": {
     "iopub.execute_input": "2024-02-10T22:26:12.861910Z",
     "iopub.status.busy": "2024-02-10T22:26:12.861196Z",
     "iopub.status.idle": "2024-02-10T22:26:12.868893Z",
     "shell.execute_reply": "2024-02-10T22:26:12.867657Z",
     "shell.execute_reply.started": "2024-02-10T22:26:12.861867Z"
    }
   },
   "outputs": [],
   "source": [
    "# function 1 \n",
    "def minus(x, y):\n",
    "    a = x - y\n",
    "    return a\n",
    "# func2\n",
    "minus2 = lambda x, y: x-y # Dấu : tương đương với return"
   ]
  },
  {
   "cell_type": "code",
   "execution_count": 120,
   "metadata": {
    "execution": {
     "iopub.execute_input": "2024-02-10T22:26:12.871857Z",
     "iopub.status.busy": "2024-02-10T22:26:12.871059Z",
     "iopub.status.idle": "2024-02-10T22:26:12.879840Z",
     "shell.execute_reply": "2024-02-10T22:26:12.878632Z",
     "shell.execute_reply.started": "2024-02-10T22:26:12.871815Z"
    }
   },
   "outputs": [
    {
     "data": {
      "text/plain": [
       "-1"
      ]
     },
     "execution_count": 120,
     "metadata": {},
     "output_type": "execute_result"
    }
   ],
   "source": [
    "minus(3, 4)"
   ]
  },
  {
   "cell_type": "code",
   "execution_count": 121,
   "metadata": {
    "execution": {
     "iopub.execute_input": "2024-02-10T22:26:12.882698Z",
     "iopub.status.busy": "2024-02-10T22:26:12.881743Z",
     "iopub.status.idle": "2024-02-10T22:26:12.890640Z",
     "shell.execute_reply": "2024-02-10T22:26:12.889496Z",
     "shell.execute_reply.started": "2024-02-10T22:26:12.882656Z"
    }
   },
   "outputs": [
    {
     "data": {
      "text/plain": [
       "-1"
      ]
     },
     "execution_count": 121,
     "metadata": {},
     "output_type": "execute_result"
    }
   ],
   "source": [
    "minus2(3, 4)"
   ]
  },
  {
   "cell_type": "markdown",
   "metadata": {},
   "source": [
    "Đặc biệt, `lambda` sẽ được sử dụng rất nhiều trong các câu lệnh `map`, `filter`, `reduce` như giới thiệu ở phần tiếp theo"
   ]
  },
  {
   "cell_type": "code",
   "execution_count": 122,
   "metadata": {
    "execution": {
     "iopub.execute_input": "2024-02-10T22:26:12.893397Z",
     "iopub.status.busy": "2024-02-10T22:26:12.892574Z",
     "iopub.status.idle": "2024-02-10T22:26:12.906727Z",
     "shell.execute_reply": "2024-02-10T22:26:12.905494Z",
     "shell.execute_reply.started": "2024-02-10T22:26:12.893355Z"
    }
   },
   "outputs": [],
   "source": [
    "# Hàm xây dựng chuỗi n Fibonacci\n",
    "def fib_n(n):\n",
    "    if n == 1:\n",
    "        my_list = list([0])\n",
    "    elif n == 2:\n",
    "        my_list = list([0, 1])\n",
    "    else: \n",
    "        my_list = list([0])\n",
    "        f0 = 0\n",
    "        f1 = 1\n",
    "        my_range = range(n-1)\n",
    "        for i in my_range:\n",
    "            f2 = f1 + f0\n",
    "            f0 = f1\n",
    "            f1 = f2\n",
    "            my_list.append(f2)\n",
    "    return(my_list)"
   ]
  },
  {
   "cell_type": "code",
   "execution_count": 123,
   "metadata": {
    "execution": {
     "iopub.execute_input": "2024-02-10T22:26:12.909064Z",
     "iopub.status.busy": "2024-02-10T22:26:12.908504Z",
     "iopub.status.idle": "2024-02-10T22:26:12.916242Z",
     "shell.execute_reply": "2024-02-10T22:26:12.915200Z",
     "shell.execute_reply.started": "2024-02-10T22:26:12.909023Z"
    }
   },
   "outputs": [
    {
     "data": {
      "text/plain": [
       "[0, 1, 2, 3, 5, 8, 13, 21, 34, 55]"
      ]
     },
     "execution_count": 123,
     "metadata": {},
     "output_type": "execute_result"
    }
   ],
   "source": [
    "fib_n(10)"
   ]
  },
  {
   "cell_type": "markdown",
   "metadata": {},
   "source": [
    "### map và filter\n",
    "\n",
    "Khi làm việc với kiểu dữ liệu mảng, vd như list, tuple...khi chúng ta cần áp dụng hàm lên cho từng phần tử của mảng này thì có thể sử dụng các hàm như `map`, `filter`. Nhóm hàm này tương tự nhự họ `apply` hoặc `map` trong R\n",
    "\n",
    "---\n",
    "\n",
    "**map()**\n",
    "\n",
    "`map(func, seq)` map sẽ áp dụng hàm func cho mỗi phần tử của mảng và trả về kết quả."
   ]
  },
  {
   "cell_type": "code",
   "execution_count": 124,
   "metadata": {
    "execution": {
     "iopub.execute_input": "2024-02-10T22:26:12.919917Z",
     "iopub.status.busy": "2024-02-10T22:26:12.917925Z",
     "iopub.status.idle": "2024-02-10T22:26:12.968998Z",
     "shell.execute_reply": "2024-02-10T22:26:12.965682Z",
     "shell.execute_reply.started": "2024-02-10T22:26:12.919872Z"
    }
   },
   "outputs": [
    {
     "ename": "TypeError",
     "evalue": "unsupported operand type(s) for ** or pow(): 'list' and 'int'",
     "output_type": "error",
     "traceback": [
      "\u001b[1;31m---------------------------------------------------------------------------\u001b[0m",
      "\u001b[1;31mTypeError\u001b[0m                                 Traceback (most recent call last)",
      "Cell \u001b[1;32mIn[124], line 4\u001b[0m\n\u001b[0;32m      2\u001b[0m seq \u001b[38;5;241m=\u001b[39m [\u001b[38;5;241m1\u001b[39m, \u001b[38;5;241m2\u001b[39m, \u001b[38;5;241m3\u001b[39m, \u001b[38;5;241m4\u001b[39m, \u001b[38;5;241m5\u001b[39m]\n\u001b[0;32m      3\u001b[0m \u001b[38;5;66;03m# sử dụng hàm square được định nghĩa ở trên \u001b[39;00m\n\u001b[1;32m----> 4\u001b[0m \u001b[43msquare\u001b[49m\u001b[43m(\u001b[49m\u001b[43mseq\u001b[49m\u001b[43m)\u001b[49m\n",
      "Cell \u001b[1;32mIn[117], line 5\u001b[0m, in \u001b[0;36msquare\u001b[1;34m(x)\u001b[0m\n\u001b[0;32m      1\u001b[0m \u001b[38;5;28;01mdef\u001b[39;00m \u001b[38;5;21msquare\u001b[39m(x):\n\u001b[0;32m      2\u001b[0m \u001b[38;5;250m    \u001b[39m\u001b[38;5;124;03m\"\"\"\u001b[39;00m\n\u001b[0;32m      3\u001b[0m \u001b[38;5;124;03m    Tính bình phương của 1 giá trị\u001b[39;00m\n\u001b[0;32m      4\u001b[0m \u001b[38;5;124;03m    \"\"\"\u001b[39;00m\n\u001b[1;32m----> 5\u001b[0m     y \u001b[38;5;241m=\u001b[39m \u001b[43mx\u001b[49m\u001b[38;5;241;43m*\u001b[39;49m\u001b[38;5;241;43m*\u001b[39;49m\u001b[38;5;241;43m2\u001b[39;49m\n\u001b[0;32m      6\u001b[0m     \u001b[38;5;28;01mreturn\u001b[39;00m y\n",
      "\u001b[1;31mTypeError\u001b[0m: unsupported operand type(s) for ** or pow(): 'list' and 'int'"
     ]
    }
   ],
   "source": [
    "seq = [1, 2, 3, 4, 5]\n",
    "# sử dụng hàm square được định nghĩa ở trên \n",
    "square(seq)"
   ]
  },
  {
   "cell_type": "markdown",
   "metadata": {},
   "source": [
    "Câu lệnh trên sẽ báo lỗi vì ko thể sử dụng function 1 cách thông thường cho những object như list, tuple...Thay vì vậy ta có thể sử dụng như ở dưới"
   ]
  },
  {
   "cell_type": "code",
   "execution_count": 125,
   "metadata": {
    "execution": {
     "iopub.execute_input": "2024-02-10T22:26:24.484107Z",
     "iopub.status.busy": "2024-02-10T22:26:24.483262Z",
     "iopub.status.idle": "2024-02-10T22:26:24.494872Z",
     "shell.execute_reply": "2024-02-10T22:26:24.493727Z",
     "shell.execute_reply.started": "2024-02-10T22:26:24.484055Z"
    }
   },
   "outputs": [
    {
     "data": {
      "text/plain": [
       "[1, 4, 9, 16, 25]"
      ]
     },
     "execution_count": 125,
     "metadata": {},
     "output_type": "execute_result"
    }
   ],
   "source": [
    "seq2 = map(square, seq)\n",
    "list(seq2) # hàm map sẽ trả ra map object, để trả kết quả ra list ta dùng hàm list"
   ]
  },
  {
   "cell_type": "markdown",
   "metadata": {},
   "source": [
    "Thay vì định nghĩa hàm *square* trước đó, chúng ta có thể kết hợp `lambda expression` luôn vào câu lệnh map ở trên"
   ]
  },
  {
   "cell_type": "code",
   "execution_count": 126,
   "metadata": {
    "execution": {
     "iopub.execute_input": "2024-02-10T22:26:24.498078Z",
     "iopub.status.busy": "2024-02-10T22:26:24.497247Z",
     "iopub.status.idle": "2024-02-10T22:26:24.505941Z",
     "shell.execute_reply": "2024-02-10T22:26:24.504373Z",
     "shell.execute_reply.started": "2024-02-10T22:26:24.498034Z"
    }
   },
   "outputs": [
    {
     "data": {
      "text/plain": [
       "[1, 4, 9, 16, 25]"
      ]
     },
     "execution_count": 126,
     "metadata": {},
     "output_type": "execute_result"
    }
   ],
   "source": [
    "seq3 = map(lambda x: x*x, seq)\n",
    "list(seq3)"
   ]
  },
  {
   "cell_type": "markdown",
   "metadata": {},
   "source": [
    "**filter()**\n",
    "\n",
    "- 1filter(func, seq)1 gọi hàm với từng phần tử của mảng và trả về danh sách các phần tử mà hàm trả về True\n",
    "- Hàm trong filter chỉ có thể trả về True hoặc False\n",
    "\n",
    "Ví dụ, ta lấy danh sách các phần tử là số chẵn trong list ở dưới"
   ]
  },
  {
   "cell_type": "code",
   "execution_count": 127,
   "metadata": {
    "execution": {
     "iopub.execute_input": "2024-02-10T22:26:24.510292Z",
     "iopub.status.busy": "2024-02-10T22:26:24.509365Z",
     "iopub.status.idle": "2024-02-10T22:26:24.516876Z",
     "shell.execute_reply": "2024-02-10T22:26:24.515405Z",
     "shell.execute_reply.started": "2024-02-10T22:26:24.510247Z"
    }
   },
   "outputs": [],
   "source": [
    "def check_even(x):\n",
    "    if x % 2 == 0:\n",
    "        return True\n",
    "    else:\n",
    "        return False"
   ]
  },
  {
   "cell_type": "code",
   "execution_count": 128,
   "metadata": {
    "execution": {
     "iopub.execute_input": "2024-02-10T22:26:24.520575Z",
     "iopub.status.busy": "2024-02-10T22:26:24.519872Z",
     "iopub.status.idle": "2024-02-10T22:26:24.527626Z",
     "shell.execute_reply": "2024-02-10T22:26:24.526485Z",
     "shell.execute_reply.started": "2024-02-10T22:26:24.520532Z"
    }
   },
   "outputs": [
    {
     "data": {
      "text/plain": [
       "[2, 4]"
      ]
     },
     "execution_count": 128,
     "metadata": {},
     "output_type": "execute_result"
    }
   ],
   "source": [
    "list(filter(check_even, seq))"
   ]
  },
  {
   "cell_type": "markdown",
   "metadata": {},
   "source": [
    "**map** vs **list comprehension** ?\n",
    "\n",
    "Chúng ta có thể thấy sự tương đồng rất lớn giữa `map` vừa nêu và `list comprehension` ở phần trên, vd như câu lệnh map ở trên có thể viết lại theo phong cách `list comprehension` như ở dưới"
   ]
  },
  {
   "cell_type": "code",
   "execution_count": 129,
   "metadata": {
    "execution": {
     "iopub.execute_input": "2024-02-10T22:26:24.530274Z",
     "iopub.status.busy": "2024-02-10T22:26:24.529086Z",
     "iopub.status.idle": "2024-02-10T22:26:24.538232Z",
     "shell.execute_reply": "2024-02-10T22:26:24.537039Z",
     "shell.execute_reply.started": "2024-02-10T22:26:24.530227Z"
    }
   },
   "outputs": [
    {
     "data": {
      "text/plain": [
       "[1, 4, 9, 16, 25]"
      ]
     },
     "execution_count": 129,
     "metadata": {},
     "output_type": "execute_result"
    }
   ],
   "source": [
    "seq4 = [x * x for x in seq]\n",
    "seq4"
   ]
  },
  {
   "cell_type": "code",
   "execution_count": 130,
   "metadata": {
    "execution": {
     "iopub.execute_input": "2024-02-10T22:26:24.540488Z",
     "iopub.status.busy": "2024-02-10T22:26:24.539807Z",
     "iopub.status.idle": "2024-02-10T22:26:24.551804Z",
     "shell.execute_reply": "2024-02-10T22:26:24.549324Z",
     "shell.execute_reply.started": "2024-02-10T22:26:24.540447Z"
    }
   },
   "outputs": [
    {
     "data": {
      "text/plain": [
       "[1, 4, 9, 16, 25]"
      ]
     },
     "execution_count": 130,
     "metadata": {},
     "output_type": "execute_result"
    }
   ],
   "source": [
    "# sử dụng map\n",
    "seq3 = map(lambda x: x*x, seq)\n",
    "list(seq3)"
   ]
  },
  {
   "cell_type": "markdown",
   "metadata": {},
   "source": [
    "**Khi nào nên dùng `map` hay `list comprehension`**\n",
    "\n",
    "Thực tế không có phương án cố định nhưng có thể tham khảo cách sử dụng như sau:\n",
    "\n",
    "- Với những hàm đã được định nghĩa trước đó, sử dụng map thông thường sẽ nhanh hơn (và rõ ràng hơn)\n",
    "- Khi sử dụng expression, vd so sánh các phần tử với 1 giá trị, thông thường sử dụng `list comprehension` sẽ nhanh và rõ ràng hơn\n",
    "\n",
    "Test thử với hàm `%timeit` - hàm để check thời gian execution của 1 câu lệnh"
   ]
  },
  {
   "cell_type": "code",
   "execution_count": 131,
   "metadata": {
    "execution": {
     "iopub.execute_input": "2024-02-10T22:26:53.179001Z",
     "iopub.status.busy": "2024-02-10T22:26:53.177972Z",
     "iopub.status.idle": "2024-02-10T22:27:09.993452Z",
     "shell.execute_reply": "2024-02-10T22:27:09.991519Z",
     "shell.execute_reply.started": "2024-02-10T22:26:53.178950Z"
    },
    "tags": []
   },
   "outputs": [
    {
     "name": "stdout",
     "output_type": "stream",
     "text": [
      "64.3 ns ± 1.55 ns per loop (mean ± std. dev. of 7 runs, 10,000,000 loops each)\n"
     ]
    }
   ],
   "source": [
    "%timeit L = map(square, seq)"
   ]
  },
  {
   "cell_type": "code",
   "execution_count": 132,
   "metadata": {
    "execution": {
     "iopub.status.busy": "2024-02-10T22:27:14.235673Z",
     "iopub.status.idle": "2024-02-10T22:27:14.243127Z",
     "shell.execute_reply": "2024-02-10T22:27:14.236152Z",
     "shell.execute_reply.started": "2024-02-10T22:27:14.236127Z"
    },
    "tags": []
   },
   "outputs": [
    {
     "name": "stdout",
     "output_type": "stream",
     "text": [
      "250 ns ± 4.21 ns per loop (mean ± std. dev. of 7 runs, 1,000,000 loops each)\n"
     ]
    }
   ],
   "source": [
    "%timeit L = [x * x for x in seq]"
   ]
  },
  {
   "cell_type": "markdown",
   "metadata": {},
   "source": [
    "## Lưu trữ file\n",
    "\n",
    "Để ghi file, ta phải tạo object và lưu trữ kết quả vào file mới được tạo, đi qua 2 bước lớn:\n",
    "\n",
    "- **Bước 1**: Tạo file & đối tượng cho phép đọc/ghi vào file\n",
    "- **Bước 2**: Ghi dữ liệu vào file\n",
    "\n",
    "Ví dụ tạo 1 file txt đơn giản"
   ]
  },
  {
   "cell_type": "code",
   "execution_count": 133,
   "metadata": {
    "execution": {
     "iopub.status.busy": "2024-02-10T22:27:14.245373Z",
     "iopub.status.idle": "2024-02-10T22:27:14.250536Z",
     "shell.execute_reply": "2024-02-10T22:27:14.250168Z",
     "shell.execute_reply.started": "2024-02-10T22:27:14.250119Z"
    },
    "tags": []
   },
   "outputs": [],
   "source": [
    "# Bước 1: Tạo file .txt và cho phép ghi dữ liệu\n",
    "my_file = open('output.txt', 'w') # w is write"
   ]
  },
  {
   "cell_type": "code",
   "execution_count": 134,
   "metadata": {
    "execution": {
     "iopub.status.busy": "2024-02-10T22:27:14.259196Z",
     "iopub.status.idle": "2024-02-10T22:27:14.260215Z",
     "shell.execute_reply": "2024-02-10T22:27:14.259942Z",
     "shell.execute_reply.started": "2024-02-10T22:27:14.259907Z"
    }
   },
   "outputs": [
    {
     "data": {
      "text/plain": [
       "24"
      ]
     },
     "execution_count": 134,
     "metadata": {},
     "output_type": "execute_result"
    }
   ],
   "source": [
    "# Bước 2: Ghi nội dung\n",
    "lines = 'This is my first example'\n",
    "my_file.write(lines)"
   ]
  },
  {
   "cell_type": "markdown",
   "metadata": {},
   "source": [
    "Ngoài ra, Python cho phép sử dụng library `pickle` để lưu trữ bất kỳ loại file nào"
   ]
  },
  {
   "cell_type": "code",
   "execution_count": 135,
   "metadata": {
    "execution": {
     "iopub.status.busy": "2024-02-10T22:27:14.261567Z",
     "iopub.status.idle": "2024-02-10T22:27:14.262632Z",
     "shell.execute_reply": "2024-02-10T22:27:14.262425Z",
     "shell.execute_reply.started": "2024-02-10T22:27:14.262397Z"
    }
   },
   "outputs": [],
   "source": [
    "import pickle"
   ]
  },
  {
   "cell_type": "code",
   "execution_count": 136,
   "metadata": {
    "execution": {
     "iopub.status.busy": "2024-02-10T22:27:14.271567Z",
     "iopub.status.idle": "2024-02-10T22:27:14.272382Z",
     "shell.execute_reply": "2024-02-10T22:27:14.272152Z",
     "shell.execute_reply.started": "2024-02-10T22:27:14.272121Z"
    }
   },
   "outputs": [],
   "source": [
    "t = [1,2,3]\n",
    "s = pickle.dumps(t) # dumps: dump string"
   ]
  },
  {
   "cell_type": "code",
   "execution_count": 137,
   "metadata": {
    "execution": {
     "iopub.status.busy": "2024-02-10T22:27:14.275589Z",
     "iopub.status.idle": "2024-02-10T22:27:14.276325Z",
     "shell.execute_reply": "2024-02-10T22:27:14.276106Z",
     "shell.execute_reply.started": "2024-02-10T22:27:14.276076Z"
    }
   },
   "outputs": [],
   "source": [
    "my_load = pickle.loads(s) #loads: loads string"
   ]
  },
  {
   "cell_type": "markdown",
   "metadata": {},
   "source": [
    "## Các vấn đề khác\n",
    "\n",
    "### White space\n",
    "\n",
    "Python sử dụng `white space` - khoảng trắng, tab, để gia tăng khả năng `readability` trong lập trình. Các ngôn ngữ khác như R lại dùng dấu ngoặc nhọn `{}` để phân tách các block."
   ]
  },
  {
   "cell_type": "markdown",
   "metadata": {},
   "source": [
    "**Lưu ý về code block & Indentation trong python**\n",
    "\n",
    "Trong Python, tất cả code block (đoạn code nằm trong câu lệnh if, vòng lặp, hàm...) đều được lùi vào 1 khoảng, dòng trước code block sẽ được kết thúc bằng dấu `:` <br>\n",
    "VD câu lệnh dưới sẽ báo lỗi\n",
    "if 1 < 2:\n",
    "print('x')\n",
    "* Các câu lệnh trong cùng 1 block phải có cùng indentation\n",
    "* Indentation theo chuẩn của Python là 4 dấu cách - hoặc tương đương 1 dấu Tab\n",
    "\n",
    "Tuân thủ nguyên tắc này sẽ khiến code của chúng ta clean và rành mạch hơn nhất nhiều"
   ]
  },
  {
   "cell_type": "markdown",
   "metadata": {},
   "source": [
    "### Attribute & Method\n",
    "\n",
    "Bất kỳ thành phần nào trong Python cũng là 1 object. Mỗi đối tượng (object) có 2 nhóm thành phần lớn đi kèm.\n",
    "\n",
    "- `attribute`: thuộc tính - là các biến, hay object có sẵn có đi kèm đối tượng\n",
    "- `method`: hàm tính toán đi kèm cùng đối tượng sẵn có"
   ]
  },
  {
   "cell_type": "markdown",
   "metadata": {},
   "source": [
    "Ví dụ về thuộc tính trong đối tượng"
   ]
  },
  {
   "cell_type": "code",
   "execution_count": 138,
   "metadata": {
    "execution": {
     "iopub.execute_input": "2024-02-10T22:27:58.851237Z",
     "iopub.status.busy": "2024-02-10T22:27:58.850296Z",
     "iopub.status.idle": "2024-02-10T22:27:58.859858Z",
     "shell.execute_reply": "2024-02-10T22:27:58.858471Z",
     "shell.execute_reply.started": "2024-02-10T22:27:58.851195Z"
    }
   },
   "outputs": [
    {
     "data": {
      "text/plain": [
       "x     int64\n",
       "y    object\n",
       "dtype: object"
      ]
     },
     "execution_count": 138,
     "metadata": {},
     "output_type": "execute_result"
    }
   ],
   "source": [
    "import pandas as pd\n",
    "df = pd.DataFrame({\n",
    "    'x' : [1, 2, 3],\n",
    "    'y': ['a', 'b', 'c']\n",
    "})\n",
    "# Thuộc tính về tính chất dữ liệu\n",
    "df.dtypes"
   ]
  },
  {
   "cell_type": "code",
   "execution_count": 139,
   "metadata": {},
   "outputs": [
    {
     "data": {
      "text/plain": [
       "(3, 2)"
      ]
     },
     "execution_count": 139,
     "metadata": {},
     "output_type": "execute_result"
    }
   ],
   "source": [
    "# Thuộc tính shape\n",
    "df.shape"
   ]
  },
  {
   "cell_type": "markdown",
   "metadata": {},
   "source": [
    "Method có sẵn trong 1 `dataframe`"
   ]
  },
  {
   "cell_type": "code",
   "execution_count": 140,
   "metadata": {},
   "outputs": [
    {
     "data": {
      "text/html": [
       "<div>\n",
       "<style scoped>\n",
       "    .dataframe tbody tr th:only-of-type {\n",
       "        vertical-align: middle;\n",
       "    }\n",
       "\n",
       "    .dataframe tbody tr th {\n",
       "        vertical-align: top;\n",
       "    }\n",
       "\n",
       "    .dataframe thead th {\n",
       "        text-align: right;\n",
       "    }\n",
       "</style>\n",
       "<table border=\"1\" class=\"dataframe\">\n",
       "  <thead>\n",
       "    <tr style=\"text-align: right;\">\n",
       "      <th></th>\n",
       "      <th>x</th>\n",
       "    </tr>\n",
       "  </thead>\n",
       "  <tbody>\n",
       "    <tr>\n",
       "      <th>count</th>\n",
       "      <td>3.0</td>\n",
       "    </tr>\n",
       "    <tr>\n",
       "      <th>mean</th>\n",
       "      <td>2.0</td>\n",
       "    </tr>\n",
       "    <tr>\n",
       "      <th>std</th>\n",
       "      <td>1.0</td>\n",
       "    </tr>\n",
       "    <tr>\n",
       "      <th>min</th>\n",
       "      <td>1.0</td>\n",
       "    </tr>\n",
       "    <tr>\n",
       "      <th>25%</th>\n",
       "      <td>1.5</td>\n",
       "    </tr>\n",
       "    <tr>\n",
       "      <th>50%</th>\n",
       "      <td>2.0</td>\n",
       "    </tr>\n",
       "    <tr>\n",
       "      <th>75%</th>\n",
       "      <td>2.5</td>\n",
       "    </tr>\n",
       "    <tr>\n",
       "      <th>max</th>\n",
       "      <td>3.0</td>\n",
       "    </tr>\n",
       "  </tbody>\n",
       "</table>\n",
       "</div>"
      ],
      "text/plain": [
       "         x\n",
       "count  3.0\n",
       "mean   2.0\n",
       "std    1.0\n",
       "min    1.0\n",
       "25%    1.5\n",
       "50%    2.0\n",
       "75%    2.5\n",
       "max    3.0"
      ]
     },
     "execution_count": 140,
     "metadata": {},
     "output_type": "execute_result"
    }
   ],
   "source": [
    "df.describe()"
   ]
  },
  {
   "cell_type": "markdown",
   "metadata": {},
   "source": [
    "**Lưu ý**: Các đối tượng có sẵn các `method` thường dùng là 1 tính năng rất hay, cho phép thuận tiện trong việc xử lý dữ liệu. Tuy nhiên, trong giai đoạn mới chuyển từ R sang có thể sẽ gặp khó khăn về thói quen"
   ]
  },
  {
   "cell_type": "markdown",
   "metadata": {},
   "source": [
    "### Module & import\n",
    "\n",
    "Một module trong python đơn giản chỉ là 1 file `.py` có chứa biến hoặc các function được khai báo. Ví dụ ta có file `some_module.py` chứa code như sau:"
   ]
  },
  {
   "cell_type": "markdown",
   "metadata": {
    "execution": {
     "iopub.execute_input": "2024-02-10T22:27:58.862560Z",
     "iopub.status.busy": "2024-02-10T22:27:58.861223Z",
     "iopub.status.idle": "2024-02-10T22:27:58.868391Z",
     "shell.execute_reply": "2024-02-10T22:27:58.867478Z",
     "shell.execute_reply.started": "2024-02-10T22:27:58.862444Z"
    }
   },
   "source": [
    "```python\n",
    "# script: some_module.py\n",
    "PI = 3.14159\n",
    "def f(x):\n",
    "  return x + 2\n",
    "\n",
    "def g(a, b):\n",
    "  return a + b\n",
    "```"
   ]
  },
  {
   "cell_type": "markdown",
   "metadata": {
    "execution": {
     "iopub.execute_input": "2024-02-10T22:27:58.889407Z",
     "iopub.status.busy": "2024-02-10T22:27:58.878300Z",
     "iopub.status.idle": "2024-02-10T22:27:58.943703Z",
     "shell.execute_reply": "2024-02-10T22:27:58.941091Z",
     "shell.execute_reply.started": "2024-02-10T22:27:58.889341Z"
    }
   },
   "source": [
    "```python\n",
    "import some_module\n",
    "pi = some_module.PI\n",
    "result = some_module.f(5) + pi\n",
    "\n",
    "from some_module import f, g, PI\n",
    "result = g(5, PI)\n",
    "```"
   ]
  },
  {
   "cell_type": "markdown",
   "metadata": {},
   "source": [
    "---\n",
    "\n",
    "Một package trong python có chứa nhiều module. Mỗi module có thể có chứa 1 hoặc nhiều hàm. Do đó, cấu trúc câu lệnh của python khi gọi package ra như sau:\n",
    "\n",
    "`packages_name.module_name.function_name`"
   ]
  },
  {
   "cell_type": "code",
   "execution_count": 144,
   "metadata": {},
   "outputs": [
    {
     "data": {
      "text/plain": [
       "array([3.03022049, 2.09110685, 1.51406189, 3.26094249])"
      ]
     },
     "execution_count": 144,
     "metadata": {},
     "output_type": "execute_result"
    }
   ],
   "source": [
    "# Ví dụ với numpy\n",
    "import numpy as np\n",
    "# Từ numpy >> module random generator >> normal distribution\n",
    "np.random.normal(2, 1, 4)"
   ]
  },
  {
   "cell_type": "markdown",
   "metadata": {},
   "source": [
    "### Pipe object\n",
    "\n",
    "Bất kỳ phần mềm nào có thể khởi động từ terminal đều có thể khởi động từ Python sử dụng pipe object"
   ]
  },
  {
   "cell_type": "code",
   "execution_count": 145,
   "metadata": {
    "execution": {
     "iopub.execute_input": "2024-02-10T22:28:05.669428Z",
     "iopub.status.busy": "2024-02-10T22:28:05.668493Z",
     "iopub.status.idle": "2024-02-10T22:28:05.690209Z",
     "shell.execute_reply": "2024-02-10T22:28:05.688938Z",
     "shell.execute_reply.started": "2024-02-10T22:28:05.669391Z"
    },
    "tags": []
   },
   "outputs": [
    {
     "data": {
      "text/plain": [
       "<os._wrap_close at 0x1a086a4a0d0>"
      ]
     },
     "execution_count": 145,
     "metadata": {},
     "output_type": "execute_result"
    }
   ],
   "source": [
    "import os\n",
    "cmd = 'dir'\n",
    "os.popen(cmd)"
   ]
  },
  {
   "cell_type": "markdown",
   "metadata": {},
   "source": [
    "### Các câu lệnh hay dùng"
   ]
  },
  {
   "cell_type": "code",
   "execution_count": 146,
   "metadata": {
    "execution": {
     "iopub.execute_input": "2024-02-10T22:28:10.547436Z",
     "iopub.status.busy": "2024-02-10T22:28:10.546785Z",
     "iopub.status.idle": "2024-02-10T22:28:10.551983Z",
     "shell.execute_reply": "2024-02-10T22:28:10.550957Z",
     "shell.execute_reply.started": "2024-02-10T22:28:10.547401Z"
    },
    "tags": []
   },
   "outputs": [],
   "source": [
    "# Kiểm tra thư mục làm việc\n",
    "import os as os"
   ]
  },
  {
   "cell_type": "code",
   "execution_count": 147,
   "metadata": {
    "execution": {
     "iopub.execute_input": "2024-02-10T22:28:16.619589Z",
     "iopub.status.busy": "2024-02-10T22:28:16.618860Z",
     "iopub.status.idle": "2024-02-10T22:28:16.646730Z",
     "shell.execute_reply": "2024-02-10T22:28:16.638535Z",
     "shell.execute_reply.started": "2024-02-10T22:28:16.619551Z"
    },
    "tags": []
   },
   "outputs": [
    {
     "data": {
      "text/plain": [
       "'d:\\\\01-github\\\\ds-book-python\\\\_source'"
      ]
     },
     "execution_count": 147,
     "metadata": {},
     "output_type": "execute_result"
    }
   ],
   "source": [
    "os.getcwd()"
   ]
  },
  {
   "cell_type": "markdown",
   "metadata": {
    "execution": {
     "iopub.execute_input": "2024-02-10T22:28:18.626161Z",
     "iopub.status.busy": "2024-02-10T22:28:18.625326Z",
     "iopub.status.idle": "2024-02-10T22:28:18.739460Z",
     "shell.execute_reply": "2024-02-10T22:28:18.738163Z",
     "shell.execute_reply.started": "2024-02-10T22:28:18.626116Z"
    },
    "tags": []
   },
   "source": [
    "```python\n",
    "# Kiểm tra các biến trong môi trường làm việc\n",
    "globals()\n",
    "```"
   ]
  },
  {
   "cell_type": "markdown",
   "metadata": {
    "execution": {
     "iopub.execute_input": "2024-02-10T22:28:33.295161Z",
     "iopub.status.busy": "2024-02-10T22:28:33.294275Z",
     "iopub.status.idle": "2024-02-10T22:28:33.330447Z",
     "shell.execute_reply": "2024-02-10T22:28:33.325988Z",
     "shell.execute_reply.started": "2024-02-10T22:28:33.295126Z"
    },
    "tags": []
   },
   "source": [
    "```python\n",
    "#Set working directory\n",
    "import os as os\n",
    "os.chdir(\"D:\")\n",
    "```"
   ]
  },
  {
   "cell_type": "markdown",
   "metadata": {
    "execution": {
     "iopub.execute_input": "2024-02-10T22:30:35.808378Z",
     "iopub.status.busy": "2024-02-10T22:30:35.807533Z",
     "iopub.status.idle": "2024-02-10T22:30:35.820757Z",
     "shell.execute_reply": "2024-02-10T22:30:35.819561Z",
     "shell.execute_reply.started": "2024-02-10T22:30:35.808343Z"
    },
    "tags": []
   },
   "source": [
    "```python\n",
    "#List file trong directory\n",
    "os.listdir()\n",
    "```"
   ]
  },
  {
   "cell_type": "markdown",
   "metadata": {},
   "source": [
    "## Tài liệu tham khảo\n",
    "\n",
    "- [https://aeturrell.github.io/python4DS]()\n",
    "- Python for Data analysis"
   ]
  }
 ],
 "metadata": {
  "kernelspec": {
   "display_name": "Python 3 (ipykernel)",
   "language": "python",
   "name": "python3"
  },
  "language_info": {
   "codemirror_mode": {
    "name": "ipython",
    "version": 3
   },
   "file_extension": ".py",
   "mimetype": "text/x-python",
   "name": "python",
   "nbconvert_exporter": "python",
   "pygments_lexer": "ipython3",
   "version": "3.11.5"
  },
  "toc-autonumbering": true,
  "toc-showcode": false,
  "toc-showmarkdowntxt": false
 },
 "nbformat": 4,
 "nbformat_minor": 4
}
