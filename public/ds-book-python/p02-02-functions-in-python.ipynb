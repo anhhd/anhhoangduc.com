{
 "cells": [
  {
   "cell_type": "markdown",
   "metadata": {},
   "source": [
    "# Viết hàm trong Python"
   ]
  },
  {
   "cell_type": "markdown",
   "metadata": {},
   "source": [
    "## Giới thiệu về hàm\n",
    "\n",
    "Python cho phép sử dụng hàm linh hoạt với các tham số và trả ra kết quả định sẵn. Có 1 số lưu ý như sau:\n",
    "\n",
    "- Hàm bắt đầu với `def`\n",
    "- Các tham số mặc định được sử dụng tương tự như R. VD `def plus(a, b = 2)`\n",
    "- Trong hàm cho phép ghi chú document của hàm trong ba dấu ngoặc kép, được gọi là `docs string`\n",
    "- Các tham số chưa biết định dạng tuple (tương ứng với `...` trong R) được sử dụng với argument `*args` (argument)\n",
    "- Các tham số với keyword được sử dụng với argument `**kargs` (keyword argument)"
   ]
  },
  {
   "cell_type": "code",
   "execution_count": 1,
   "metadata": {},
   "outputs": [],
   "source": [
    "def plus_1(a, b = 2):\n",
    "    \"\"\"Trả ra kết quả hàm tổng\"\"\"\n",
    "    return a + b"
   ]
  },
  {
   "cell_type": "code",
   "execution_count": 2,
   "metadata": {},
   "outputs": [
    {
     "data": {
      "text/plain": [
       "6"
      ]
     },
     "execution_count": null,
     "metadata": {},
     "output_type": "execute_result"
    }
   ],
   "source": [
    "plus_1(4)"
   ]
  },
  {
   "cell_type": "code",
   "execution_count": 3,
   "metadata": {},
   "outputs": [],
   "source": [
    "?plus_1"
   ]
  },
  {
   "cell_type": "code",
   "execution_count": 6,
   "metadata": {},
   "outputs": [],
   "source": [
    "def plus_2(*args):\n",
    "    import numpy as np\n",
    "    return np.sum(args)"
   ]
  },
  {
   "cell_type": "code",
   "execution_count": 7,
   "metadata": {},
   "outputs": [
    {
     "data": {
      "text/plain": [
       "12"
      ]
     },
     "execution_count": null,
     "metadata": {},
     "output_type": "execute_result"
    }
   ],
   "source": [
    "plus_2(3,4,5)"
   ]
  },
  {
   "cell_type": "markdown",
   "metadata": {},
   "source": [
    "## Các lưu ý với hàm"
   ]
  },
  {
   "cell_type": "markdown",
   "metadata": {},
   "source": [
    "### Hint"
   ]
  },
  {
   "cell_type": "markdown",
   "metadata": {},
   "source": [
    "Python các thể tự xác định loại dữ liệu cho đầu vào và đầu ra của hàm. Tuy nhiên, ta nên xác định cấu trúc dữ liệu ngay trong hàm để có thêm thông tin cho người dùng (hint). Việc bổ sung thông tin là không bắt buộc cũng như không ảnh hưởng đến hàm"
   ]
  },
  {
   "cell_type": "code",
   "execution_count": 14,
   "metadata": {},
   "outputs": [],
   "source": [
    "def f_sum(a: int, b:int) -> int:\n",
    "    return a + b"
   ]
  },
  {
   "cell_type": "code",
   "execution_count": 15,
   "metadata": {},
   "outputs": [
    {
     "data": {
      "text/plain": [
       "15"
      ]
     },
     "execution_count": null,
     "metadata": {},
     "output_type": "execute_result"
    }
   ],
   "source": [
    "# Hàm theo đúng chuẩn tắc\n",
    "f_sum(7, 8)"
   ]
  },
  {
   "cell_type": "code",
   "execution_count": 16,
   "metadata": {},
   "outputs": [
    {
     "data": {
      "text/plain": [
       "14.1"
      ]
     },
     "execution_count": null,
     "metadata": {},
     "output_type": "execute_result"
    }
   ],
   "source": [
    "# Hàm không theo chuẩn tắc\n",
    "f_sum(7.1, 7)"
   ]
  },
  {
   "cell_type": "markdown",
   "metadata": {},
   "source": [
    "### *args và **kwargs"
   ]
  },
  {
   "cell_type": "markdown",
   "metadata": {},
   "source": [
    "Các tham số của `*args` và `**kwargs` thường xuyên được sử dụng trong hàm để có thể truyền các tham số chưa xác định trước.\n",
    "\n",
    "- `*args`: Được sử dụng để thu thập các tham số dưới dạng tuple\n",
    "- `**kwargs`: Được sử dụng để thu thập các tham số dưới dạng dictionary."
   ]
  },
  {
   "cell_type": "code",
   "execution_count": 17,
   "metadata": {},
   "outputs": [],
   "source": [
    "def f_print(*args, **kwargs):\n",
    "    print(args)\n",
    "    print(kwargs)"
   ]
  },
  {
   "cell_type": "code",
   "execution_count": 18,
   "metadata": {},
   "outputs": [
    {
     "name": "stdout",
     "output_type": "stream",
     "text": [
      "(1, 4, 'apple')\n",
      "{'a': 6, 'b': 8, 'list': [1, 2, 3]}\n",
      "(1, 4, 'apple')\n",
      "{'a': 6, 'b': 8, 'list': [1, 2, 3]}\n"
     ]
    }
   ],
   "source": [
    "f_print(1, 4, 'apple', a = 6, b = 8, list = [1, 2, 3])"
   ]
  },
  {
   "cell_type": "markdown",
   "metadata": {},
   "source": [
    "### Higher order functions"
   ]
  },
  {
   "cell_type": "markdown",
   "metadata": {},
   "source": [
    "Các hàm thuộc nhóm này có 1 trong các đặc điểm sau:\n",
    "\n",
    "- Nhận một hàm khác làm input đầu vào: như `map`, `filter`, `reduce`\n",
    "- Trả về kết quả là một hàm khác - nhóm hàm `closure` và `decorator`"
   ]
  },
  {
   "cell_type": "markdown",
   "metadata": {},
   "source": [
    "#### map, filter, reduce"
   ]
  },
  {
   "cell_type": "code",
   "execution_count": 19,
   "metadata": {},
   "outputs": [
    {
     "name": "stdout",
     "output_type": "stream",
     "text": [
      "[1, 4, 9, 16, 25]\n",
      "[1, 4, 9, 16, 25]\n"
     ]
    }
   ],
   "source": [
    "# Nhóm hàm map\n",
    "def square(x):\n",
    "    return x * x\n",
    "\n",
    "numbers = [1, 2, 3, 4, 5]\n",
    "sqr_numbers = map(square, numbers)\n",
    "print(list(sqr_numbers))"
   ]
  },
  {
   "cell_type": "code",
   "execution_count": 20,
   "metadata": {},
   "outputs": [
    {
     "name": "stdout",
     "output_type": "stream",
     "text": [
      "[2, 4]\n",
      "[2, 4]\n"
     ]
    }
   ],
   "source": [
    "# Nhóm hàm filter\n",
    "def is_even(x):\n",
    "    return x % 2 == 0\n",
    "\n",
    "numbers = [1, 2, 3, 4, 5]\n",
    "even_numbers = filter(is_even, numbers)\n",
    "print(list(even_numbers)) \n"
   ]
  },
  {
   "cell_type": "code",
   "execution_count": 21,
   "metadata": {},
   "outputs": [
    {
     "name": "stdout",
     "output_type": "stream",
     "text": [
      "15\n",
      "15\n"
     ]
    }
   ],
   "source": [
    "# Nhóm hàm reduce\n",
    "from functools import reduce\n",
    "\n",
    "def add(x, y):\n",
    "    return x + y\n",
    "\n",
    "numbers = [1, 2, 3, 4, 5]\n",
    "total = reduce(add, numbers)\n",
    "print(total)"
   ]
  },
  {
   "cell_type": "markdown",
   "metadata": {},
   "source": [
    "#### Closure"
   ]
  },
  {
   "cell_type": "markdown",
   "metadata": {},
   "source": [
    "`Closure` là tính năng cho phép các hàm viết lồng nhau và cho phép khái quát hóa bài toán nhanh chóng bằng cách trả ra kết quả là một hàm khác\n",
    "\n",
    "Để hiểu rõ hơn, ta thực hiện bài toán sau: Xây dựng hàm khái quát tạo phép nhân"
   ]
  },
  {
   "cell_type": "code",
   "execution_count": 22,
   "metadata": {},
   "outputs": [],
   "source": [
    "def make_multiplier(factor):\n",
    "    def multiplier(number):\n",
    "        return factor * number\n",
    "    return multiplier"
   ]
  },
  {
   "cell_type": "code",
   "execution_count": 23,
   "metadata": {},
   "outputs": [],
   "source": [
    "double = make_multiplier(2)\n",
    "triple = make_multiplier(3)"
   ]
  },
  {
   "cell_type": "code",
   "execution_count": 24,
   "metadata": {},
   "outputs": [
    {
     "data": {
      "text/plain": [
       "12"
      ]
     },
     "execution_count": null,
     "metadata": {},
     "output_type": "execute_result"
    }
   ],
   "source": [
    "double(6)"
   ]
  },
  {
   "cell_type": "code",
   "execution_count": 25,
   "metadata": {},
   "outputs": [
    {
     "data": {
      "text/plain": [
       "18"
      ]
     },
     "execution_count": null,
     "metadata": {},
     "output_type": "execute_result"
    }
   ],
   "source": [
    "triple(6)"
   ]
  },
  {
   "cell_type": "markdown",
   "metadata": {},
   "source": [
    "Trong ví dụ trên, thuật toán diễn ra qua 2 bước:\n",
    "\n",
    "- Xây dựng 2 hàm lồng nhau - hàm `make_multiplier` phủ lên hàm `multiplier`\n",
    "- Tham số `factor` từ hàm ở bên ngoài (`outer`) sẽ truyền vào để hàm phía trong (`multiplier`) sử dụng như một hằng số\n",
    "\n",
    "Hàm kết quả sẽ chỉ sử dụng  tham số mới"
   ]
  },
  {
   "cell_type": "markdown",
   "metadata": {},
   "source": [
    "#### Decorator"
   ]
  },
  {
   "cell_type": "markdown",
   "metadata": {},
   "source": [
    "Decorator là phương thức cho phép chỉnh sửa cách thức hoạt động của một hàm hoặc một lớp (class) mà không ảnh hưởng đến mã nguồn của hàm đó. Decorator sử dụng với cú pháp `@decorator_name`.\n",
    "\n",
    "Trước khi đi vào cú pháp chính tắc của decorator với `@`, ta xem xét hàm sau:"
   ]
  },
  {
   "cell_type": "code",
   "execution_count": 26,
   "metadata": {},
   "outputs": [
    {
     "data": {
      "text/plain": [
       "'duc anh'"
      ]
     },
     "execution_count": null,
     "metadata": {},
     "output_type": "execute_result"
    }
   ],
   "source": [
    "# Hàm 1 - trả tên\n",
    "def my_name(name):\n",
    "    return name\n",
    "\n",
    "my_name('duc anh')"
   ]
  },
  {
   "cell_type": "code",
   "execution_count": 27,
   "metadata": {},
   "outputs": [],
   "source": [
    "# Hàm 2 - convert upper\n",
    "def convert_upper(f):\n",
    "    print(\"We are going to convert to upper\")\n",
    "    def wrapper(*args, **kwargs):\n",
    "        print(\"wrap\")\n",
    "        x = f(*args, **kwargs)\n",
    "        return x.upper()\n",
    "    return wrapper"
   ]
  },
  {
   "cell_type": "code",
   "execution_count": 28,
   "metadata": {},
   "outputs": [
    {
     "name": "stdout",
     "output_type": "stream",
     "text": [
      "We are going to convert to upper\n",
      "wrap\n",
      "We are going to convert to upper\n",
      "wrap\n"
     ]
    },
    {
     "data": {
      "text/plain": [
       "'DUC ANH'"
      ]
     },
     "execution_count": null,
     "metadata": {},
     "output_type": "execute_result"
    }
   ],
   "source": [
    "# Hàm 3 - Tạo ra từ 2 hàm trên\n",
    "name = convert_upper(my_name)\n",
    "name('duc anh')"
   ]
  },
  {
   "cell_type": "markdown",
   "metadata": {},
   "source": [
    "Trong ví dụ trên, thứ tự triển khai như sau:\n",
    "\n",
    "- Bước 1: Tạo hàm 1 trả ra text `my_name`\n",
    "- Bước 2: Tạo hàm 2 là hàm dạng decorator với input là hàm 1 `convert_upper(f)`\n",
    "- Bước 3: Tạm hàm mới là kết quả khi sử dụng hai hàm trên: `name = convert_upper(my_name)`"
   ]
  },
  {
   "cell_type": "markdown",
   "metadata": {},
   "source": [
    "Cách viết trên có thể đơn giản hóa thông qua sử dụng decorator như sau"
   ]
  },
  {
   "cell_type": "code",
   "execution_count": 29,
   "metadata": {},
   "outputs": [
    {
     "name": "stdout",
     "output_type": "stream",
     "text": [
      "We are going to convert to upper\n",
      "wrap\n",
      "We are going to convert to upper\n",
      "wrap\n"
     ]
    },
    {
     "data": {
      "text/plain": [
       "'DUC ANH'"
      ]
     },
     "execution_count": null,
     "metadata": {},
     "output_type": "execute_result"
    }
   ],
   "source": [
    "@convert_upper\n",
    "def my_name(name):\n",
    "    return name\n",
    "\n",
    "my_name('duc anh')"
   ]
  },
  {
   "cell_type": "markdown",
   "metadata": {},
   "source": [
    "### yield"
   ]
  },
  {
   "cell_type": "markdown",
   "metadata": {},
   "source": [
    "Khác với `return` sẽ chỉ trả ra kết quả trong hàm, `yield` cho phép trả ra nhiều kết quả. Xem ví dụ đươi đây"
   ]
  },
  {
   "cell_type": "code",
   "execution_count": 30,
   "metadata": {},
   "outputs": [],
   "source": [
    "def simple_generator():\n",
    "    yield 'apple'\n",
    "    yield 'store'\n",
    "result = simple_generator()"
   ]
  },
  {
   "cell_type": "code",
   "execution_count": 31,
   "metadata": {},
   "outputs": [
    {
     "name": "stdout",
     "output_type": "stream",
     "text": [
      "apple\n",
      "store\n",
      "apple\n",
      "store\n"
     ]
    }
   ],
   "source": [
    "for i in result:\n",
    "    print(i)"
   ]
  }
 ],
 "metadata": {
  "kernelspec": {
   "display_name": "Python 3 (ipykernel)",
   "language": "python",
   "name": "python3"
  },
  "language_info": {
   "codemirror_mode": {
    "name": "ipython",
    "version": 3
   },
   "file_extension": ".py",
   "mimetype": "text/x-python",
   "name": "python",
   "nbconvert_exporter": "python",
   "pygments_lexer": "ipython3",
   "version": "3.11.4"
  }
 },
 "nbformat": 4,
 "nbformat_minor": 4
}
