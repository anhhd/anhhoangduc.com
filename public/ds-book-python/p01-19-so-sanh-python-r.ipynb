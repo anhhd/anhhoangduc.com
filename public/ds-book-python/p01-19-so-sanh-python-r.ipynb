{
 "cells": [
  {
   "cell_type": "markdown",
   "metadata": {},
   "source": [
    "# So sánh R với Python cơ bản"
   ]
  },
  {
   "cell_type": "markdown",
   "metadata": {},
   "source": [
    "Để có thể hỗ trợ dễ dàng hơn nhóm phân tích dịch chuyển từ R, chương này tập trung so sánh R & Python trên 3 nhóm tác vụ\n",
    "\n",
    "- Các câu lệnh cơ bản\n",
    "- Biến đổi và xử lý dữ liệu\n",
    "- Trực quan hóa dữ liệu\n",
    "\n",
    "Với R, các câu lệnh sẽ được sử dụng với hệ sinh thái của `tidyverse`. Với `python`, các câu lệnh sẽ được sử dụng chủ yếu với `pandas`, `numpy`, `os` và `plotnine`"
   ]
  },
  {
   "cell_type": "markdown",
   "metadata": {},
   "source": [
    "## Các câu lệnh cơ bản"
   ]
  },
  {
   "cell_type": "markdown",
   "metadata": {},
   "source": [
    "| **STT** | **Các hàm** | **Python** | **R** |\n",
    "|---|---|---|---|\n",
    "| 1 | Cài đặt thư viện | pip install x | install.packages(\"x\") |\n",
    "| 2 | Load package | import `library_x` as `x`  | library(`x`) |\n",
    "| 3 | Load một hàm/object cụ thể | from library.module import y as `function_y` from plotnine.data import mtcars as mtcars | library::`function_y` tidyr::seperate |\n",
    "| 4 | Load một module | from library_x import module as y from plotnine import data as data | Không có khái niệm module như python |\n",
    "| 5 | Load toàn bộ object/hàm trong một module | from x import * | library(x) |\n",
    "| 6 | Kiểm tra thư mục làm việc | import os as os  os.getcwd() | getwd() |\n",
    "| 7 | Đổi thư mục làm việc | os.chdir() | setwd() |\n",
    "| 8 | Liệt kê các file trong thư mục | os.listdr() | dir() |\n",
    "| 9 | Liệt kê các life trong environment | globals() | ls() |\n",
    "| 10 | Xóa object | del(object) | rm(object) |"
   ]
  },
  {
   "cell_type": "markdown",
   "metadata": {},
   "source": [
    "##  Làm việc với data frame"
   ]
  },
  {
   "cell_type": "markdown",
   "metadata": {},
   "source": [
    "### Nhóm câu lệnh cơ bản"
   ]
  },
  {
   "cell_type": "markdown",
   "metadata": {},
   "source": [
    "| STT | Hàm | Python | R |\n",
    "|---|---|---|---|\n",
    "| 1 | Tạo dataframe | pd.DataFrame({'a': ['a1', 'a2'   ]}, <br>     'b' : ['b1', 'b2'],<br>     x = [1, 2]}) | data.frame(a = c(\"a1\",   \"a2\"),<br>     b = c(\"b1\", \"b2\"),<br>     x = 1:2) |\n",
    "| 2 | Tên hàng | df.index | rownames(df) |\n",
    "| 3 | Tên cột | df.columns | colnames(df |\n",
    "| 4 | Head | df.head(3) | head(df, 3) |\n",
    "| 5 | Tail | df.tail(3) | tail(df, 3) |\n",
    "| 6 | Dim | df.shape | dim(df) |\n",
    "| 7 | Cấu trúc dữ liệu | df.info() | str(df) |"
   ]
  },
  {
   "cell_type": "markdown",
   "metadata": {},
   "source": [
    "### Nhóm biến đổi dữ liệu"
   ]
  },
  {
   "cell_type": "markdown",
   "metadata": {},
   "source": [
    "| **STT** | **Hàm** | **Python** | **R** |\n",
    "|---|---|---|---|\n",
    "| 1 | Đổi tên | df.columns = [\"P\", \"Q\"] | names(df) = c(\"P\",   \"Q\") |\n",
    "|  |  | df.rename(columns = {old_var : new_var}) | df %&gt;% rename(new_var = old_var) |\n",
    "| 2 | Lấy biến a &amp; b | df.filter(['a', 'b'])<br>     df[['a', 'b']] | df %&gt;% select(a, b) |\n",
    "| 3 | Lọc theo dòng từ 1-4 | df.iloc[0:4] | df %&gt;% slice(1:4) |\n",
    "| 4 | Lọc theo điều kiện | df[(df.a&gt;20) &amp; (df.b ==10)] | df %&gt;% filter (a &gt; 20 &amp; b == 1) |\n",
    "|  |  | df.query('a &gt; 20 and b == 1') |  |\n",
    "| 5 | Sắp xếp lại dữ liệu | df.sort_values('a') | df %&gt;% arrange(a) |\n",
    "| 6 | Loại bỏ 1 biến | df.drop('a', axis = 'columns') | df %&gt;% select(-a) |\n",
    "| 7 | Tạo biến mới theo nhóm | df['new_var'] =   df.groupby('a')['x'].transform('mean') | df %&gt;% <br>     group_by(a) %&gt;% <br>     mutate(new_var = mean(x)) |\n",
    "| 8 | Left join | pd.merge(df1, df2, by = \"left', left_on = 'id1', right_on = 'id2') | df1 %&gt;% left_join(df2, by = c('id1' = 'id2')) |\n",
    "| 9 | Ghép dòng | pd.concat(df1, df2) | bind_rows(df1, df2) |\n",
    "| 10 | Ghép cột | pd.concat(df1, df2, axis = 1) | bind_cols(df1, df2) |\n",
    "| 11 | Lấy các biến là số | df.select_dtypes('float64') | df %&gt;% select_if(is.numeric) |\n",
    "| 12 | Phân rã dữ liệu | pd.melt(df, 'id') | df %&gt;% <br>     pivot_longer(!id) |\n",
    "| 13 | Xoay chiều dữ liệu | df2.pivot_table(index = 'id',   columns = 'variable',<br>                     values = 'value',   aggfunc = 'first').\\<br>         reset_index() | df2 %&gt;% <br>     pivot_wider(id_cods = id, names_from = variable) |"
   ]
  },
  {
   "cell_type": "markdown",
   "metadata": {},
   "source": [
    "### Nhóm tổng hợp dữ liệu"
   ]
  },
  {
   "cell_type": "markdown",
   "metadata": {},
   "source": [
    "| STT | Hàm | Python | R |\n",
    "|---|---|---|---|\n",
    "| 1 | Summary | df.describe() | summary(df) |\n",
    "| 2 | Tổng hợp dữ liệu | Dùng list: df['x'].agg(['mean', 'max']) | df %&gt;% summarise(mean_x =   mean(x),<br>     max_x = max(x)) |\n",
    "|  |  | Dùng dictionary: df.agg(['x': ['mean', 'max']]) |  |\n",
    "|  |  | Dùng   tupple: df.agg(mean_x = ('x', 'mean'), max_x = ('x', 'max')) |  |"
   ]
  },
  {
   "cell_type": "markdown",
   "metadata": {},
   "source": [
    "## Nhóm trực quan hóa dữ liệu"
   ]
  },
  {
   "cell_type": "markdown",
   "metadata": {},
   "source": [
    "Khi sử dụng `plotnine`, các câu lệnh gần như tương thích 100% với `ggplot2`. Khác biệt chủ yếu ở 2 điểm\n",
    "\n",
    "- `python` dùng `_`, R dùng `.`\n",
    "- `python` để tên biến dạng string - ví dụ: \"mpg\", trong khi R sử dụng dạng symbols (mpg - không có nháy kép)"
   ]
  }
 ],
 "metadata": {
  "kernelspec": {
   "display_name": "Python 3 (ipykernel)",
   "language": "python",
   "name": "python3"
  },
  "language_info": {
   "codemirror_mode": {
    "name": "ipython",
    "version": 3
   },
   "file_extension": ".py",
   "mimetype": "text/x-python",
   "name": "python",
   "nbconvert_exporter": "python",
   "pygments_lexer": "ipython3",
   "version": "3.11.4"
  }
 },
 "nbformat": 4,
 "nbformat_minor": 4
}
